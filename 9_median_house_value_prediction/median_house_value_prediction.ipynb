{
 "cells": [
  {
   "cell_type": "markdown",
   "id": "5673380a",
   "metadata": {
    "id": "GEqQaHzsZ_bA"
   },
   "source": [
    "# Предсказание стоимости жилья\n",
    "\n",
    "В этом проекте мы обучим модель линейной регрессии на данных о жилье в Калифорнии в 1990 году используя средства pyspark. На основе данных нужно предсказать медианную стоимость дома в жилом массиве. Для оценки качества модели используем метрики RMSE, MAE и R2."
   ]
  },
  {
   "cell_type": "markdown",
   "id": "d40eae83",
   "metadata": {
    "toc": true
   },
   "source": [
    "<h1>Table of Contents<span class=\"tocSkip\"></span></h1>\n",
    "<div class=\"toc\"><ul class=\"toc-item\"><li><span><a href=\"#Обзор-данных\" data-toc-modified-id=\"Обзор-данных-1\"><span class=\"toc-item-num\">1&nbsp;&nbsp;</span>Обзор данных</a></span></li><li><span><a href=\"#Подготовка-данных\" data-toc-modified-id=\"Подготовка-данных-2\"><span class=\"toc-item-num\">2&nbsp;&nbsp;</span>Подготовка данных</a></span><ul class=\"toc-item\"><li><span><a href=\"#Дубликаты,-пропуски,-выбросы\" data-toc-modified-id=\"Дубликаты,-пропуски,-выбросы-2.1\"><span class=\"toc-item-num\">2.1&nbsp;&nbsp;</span>Дубликаты, пропуски, выбросы</a></span></li><li><span><a href=\"#Ohe\" data-toc-modified-id=\"Ohe-2.2\"><span class=\"toc-item-num\">2.2&nbsp;&nbsp;</span>Ohe</a></span></li><li><span><a href=\"#Scaler\" data-toc-modified-id=\"Scaler-2.3\"><span class=\"toc-item-num\">2.3&nbsp;&nbsp;</span>Scaler</a></span></li></ul></li><li><span><a href=\"#Обучение-моделей\" data-toc-modified-id=\"Обучение-моделей-3\"><span class=\"toc-item-num\">3&nbsp;&nbsp;</span>Обучение моделей</a></span><ul class=\"toc-item\"><li><span><a href=\"#LinearRegression-на-всех-данных\" data-toc-modified-id=\"LinearRegression-на-всех-данных-3.1\"><span class=\"toc-item-num\">3.1&nbsp;&nbsp;</span>LinearRegression на всех данных</a></span></li><li><span><a href=\"#LinearRegression-на-числовых-признаках\" data-toc-modified-id=\"LinearRegression-на-числовых-признаках-3.2\"><span class=\"toc-item-num\">3.2&nbsp;&nbsp;</span>LinearRegression на числовых признаках</a></span></li></ul></li><li><span><a href=\"#Анализ-результатов\" data-toc-modified-id=\"Анализ-результатов-4\"><span class=\"toc-item-num\">4&nbsp;&nbsp;</span>Анализ результатов</a></span><ul class=\"toc-item\"><li><span><a href=\"#LinearRegression-на-всех-данных\" data-toc-modified-id=\"LinearRegression-на-всех-данных-4.1\"><span class=\"toc-item-num\">4.1&nbsp;&nbsp;</span>LinearRegression на всех данных</a></span></li><li><span><a href=\"#LinearRegression-на-числовых-признаках\" data-toc-modified-id=\"LinearRegression-на-числовых-признаках-4.2\"><span class=\"toc-item-num\">4.2&nbsp;&nbsp;</span>LinearRegression на числовых признаках</a></span></li></ul></li><li><span><a href=\"#Выводы:\" data-toc-modified-id=\"Выводы:-5\"><span class=\"toc-item-num\">5&nbsp;&nbsp;</span>Выводы:</a></span></li></ul></div>"
   ]
  },
  {
   "cell_type": "markdown",
   "id": "70951800",
   "metadata": {},
   "source": [
    "## Обзор данных"
   ]
  },
  {
   "cell_type": "markdown",
   "id": "0f2ca465",
   "metadata": {},
   "source": [
    "Ипортируем библиотеки:"
   ]
  },
  {
   "cell_type": "code",
   "execution_count": 1,
   "id": "db33a2f2",
   "metadata": {
    "id": "df92e3ec"
   },
   "outputs": [],
   "source": [
    "import pandas as pd\n",
    "import matplotlib.pyplot as plt\n",
    "import seaborn as sns\n",
    "import numpy as np\n",
    "\n",
    "import pyspark\n",
    "from pyspark.sql import SparkSession, Window\n",
    "from pyspark.sql.types import *\n",
    "import pyspark.sql.functions as F\n",
    "\n",
    "from pyspark.ml.feature import StringIndexer, VectorAssembler, StandardScaler\n",
    "from pyspark.ml.regression import LinearRegression\n",
    "from pyspark.mllib.evaluation import RegressionMetrics\n",
    "from pyspark.ml.evaluation import RegressionEvaluator\n",
    "from pyspark.ml.tuning import ParamGridBuilder, CrossValidator\n",
    "\n",
    "pyspark_version = pyspark.__version__\n",
    "if int(pyspark_version[:1]) == 3:\n",
    "    from pyspark.ml.feature import OneHotEncoder    \n",
    "elif int(pyspark_version[:1]) == 2:\n",
    "    from pyspark.ml.feature import OneHotEncoderEstimator as OneHotEncoder"
   ]
  },
  {
   "cell_type": "markdown",
   "id": "466f0957",
   "metadata": {},
   "source": [
    "Инициализируем локальную Spark-сессию и прочитаем содержимое файла /datasets/housing.csv:"
   ]
  },
  {
   "cell_type": "code",
   "execution_count": 2,
   "id": "d1c00342",
   "metadata": {},
   "outputs": [
    {
     "name": "stderr",
     "output_type": "stream",
     "text": [
      "22/11/01 16:55:43 WARN Utils: Your hostname, iMac-Tana.local resolves to a loopback address: 127.0.0.1; using 192.168.0.107 instead (on interface en1)\n",
      "22/11/01 16:55:43 WARN Utils: Set SPARK_LOCAL_IP if you need to bind to another address\n",
      "22/11/01 16:55:43 WARN NativeCodeLoader: Unable to load native-hadoop library for your platform... using builtin-java classes where applicable\n",
      "Using Spark's default log4j profile: org/apache/spark/log4j-defaults.properties\n",
      "Setting default log level to \"WARN\".\n",
      "To adjust logging level use sc.setLogLevel(newLevel). For SparkR, use setLogLevel(newLevel).\n"
     ]
    }
   ],
   "source": [
    "spark = SparkSession \\\n",
    "        .builder \\\n",
    "        .master(\"local\")\\\n",
    "        .appName(\"Median_house_value_prediction\") \\\n",
    "        .getOrCreate() "
   ]
  },
  {
   "cell_type": "code",
   "execution_count": 3,
   "id": "7bd49d96",
   "metadata": {},
   "outputs": [
    {
     "name": "stderr",
     "output_type": "stream",
     "text": [
      "                                                                                \r"
     ]
    }
   ],
   "source": [
    "df = spark.read.load('housing.csv', format=\"csv\", sep=\",\", inferSchema=True, header=\"true\")"
   ]
  },
  {
   "cell_type": "markdown",
   "id": "74dfd48a",
   "metadata": {},
   "source": [
    "Выведем типы данных колонок, первые 10 строк, общую статистику датасета и проверим пропущенные значения:"
   ]
  },
  {
   "cell_type": "code",
   "execution_count": 4,
   "id": "f3a1f5ce",
   "metadata": {},
   "outputs": [
    {
     "name": "stdout",
     "output_type": "stream",
     "text": [
      "root\n",
      " |-- longitude: double (nullable = true)\n",
      " |-- latitude: double (nullable = true)\n",
      " |-- housing_median_age: double (nullable = true)\n",
      " |-- total_rooms: double (nullable = true)\n",
      " |-- total_bedrooms: double (nullable = true)\n",
      " |-- population: double (nullable = true)\n",
      " |-- households: double (nullable = true)\n",
      " |-- median_income: double (nullable = true)\n",
      " |-- median_house_value: double (nullable = true)\n",
      " |-- ocean_proximity: string (nullable = true)\n",
      "\n"
     ]
    }
   ],
   "source": [
    "df.printSchema() "
   ]
  },
  {
   "cell_type": "code",
   "execution_count": 5,
   "id": "5d15233e",
   "metadata": {},
   "outputs": [
    {
     "data": {
      "text/html": [
       "<div>\n",
       "<style scoped>\n",
       "    .dataframe tbody tr th:only-of-type {\n",
       "        vertical-align: middle;\n",
       "    }\n",
       "\n",
       "    .dataframe tbody tr th {\n",
       "        vertical-align: top;\n",
       "    }\n",
       "\n",
       "    .dataframe thead th {\n",
       "        text-align: right;\n",
       "    }\n",
       "</style>\n",
       "<table border=\"1\" class=\"dataframe\">\n",
       "  <thead>\n",
       "    <tr style=\"text-align: right;\">\n",
       "      <th></th>\n",
       "      <th>longitude</th>\n",
       "      <th>latitude</th>\n",
       "      <th>housing_median_age</th>\n",
       "      <th>total_rooms</th>\n",
       "      <th>total_bedrooms</th>\n",
       "      <th>population</th>\n",
       "      <th>households</th>\n",
       "      <th>median_income</th>\n",
       "      <th>median_house_value</th>\n",
       "      <th>ocean_proximity</th>\n",
       "    </tr>\n",
       "  </thead>\n",
       "  <tbody>\n",
       "    <tr>\n",
       "      <th>0</th>\n",
       "      <td>-122.23</td>\n",
       "      <td>37.88</td>\n",
       "      <td>41.0</td>\n",
       "      <td>880.0</td>\n",
       "      <td>129.0</td>\n",
       "      <td>322.0</td>\n",
       "      <td>126.0</td>\n",
       "      <td>8.3252</td>\n",
       "      <td>452600.0</td>\n",
       "      <td>NEAR BAY</td>\n",
       "    </tr>\n",
       "    <tr>\n",
       "      <th>1</th>\n",
       "      <td>-122.22</td>\n",
       "      <td>37.86</td>\n",
       "      <td>21.0</td>\n",
       "      <td>7099.0</td>\n",
       "      <td>1106.0</td>\n",
       "      <td>2401.0</td>\n",
       "      <td>1138.0</td>\n",
       "      <td>8.3014</td>\n",
       "      <td>358500.0</td>\n",
       "      <td>NEAR BAY</td>\n",
       "    </tr>\n",
       "    <tr>\n",
       "      <th>2</th>\n",
       "      <td>-122.24</td>\n",
       "      <td>37.85</td>\n",
       "      <td>52.0</td>\n",
       "      <td>1467.0</td>\n",
       "      <td>190.0</td>\n",
       "      <td>496.0</td>\n",
       "      <td>177.0</td>\n",
       "      <td>7.2574</td>\n",
       "      <td>352100.0</td>\n",
       "      <td>NEAR BAY</td>\n",
       "    </tr>\n",
       "    <tr>\n",
       "      <th>3</th>\n",
       "      <td>-122.25</td>\n",
       "      <td>37.85</td>\n",
       "      <td>52.0</td>\n",
       "      <td>1274.0</td>\n",
       "      <td>235.0</td>\n",
       "      <td>558.0</td>\n",
       "      <td>219.0</td>\n",
       "      <td>5.6431</td>\n",
       "      <td>341300.0</td>\n",
       "      <td>NEAR BAY</td>\n",
       "    </tr>\n",
       "    <tr>\n",
       "      <th>4</th>\n",
       "      <td>-122.25</td>\n",
       "      <td>37.85</td>\n",
       "      <td>52.0</td>\n",
       "      <td>1627.0</td>\n",
       "      <td>280.0</td>\n",
       "      <td>565.0</td>\n",
       "      <td>259.0</td>\n",
       "      <td>3.8462</td>\n",
       "      <td>342200.0</td>\n",
       "      <td>NEAR BAY</td>\n",
       "    </tr>\n",
       "    <tr>\n",
       "      <th>5</th>\n",
       "      <td>-122.25</td>\n",
       "      <td>37.85</td>\n",
       "      <td>52.0</td>\n",
       "      <td>919.0</td>\n",
       "      <td>213.0</td>\n",
       "      <td>413.0</td>\n",
       "      <td>193.0</td>\n",
       "      <td>4.0368</td>\n",
       "      <td>269700.0</td>\n",
       "      <td>NEAR BAY</td>\n",
       "    </tr>\n",
       "    <tr>\n",
       "      <th>6</th>\n",
       "      <td>-122.25</td>\n",
       "      <td>37.84</td>\n",
       "      <td>52.0</td>\n",
       "      <td>2535.0</td>\n",
       "      <td>489.0</td>\n",
       "      <td>1094.0</td>\n",
       "      <td>514.0</td>\n",
       "      <td>3.6591</td>\n",
       "      <td>299200.0</td>\n",
       "      <td>NEAR BAY</td>\n",
       "    </tr>\n",
       "    <tr>\n",
       "      <th>7</th>\n",
       "      <td>-122.25</td>\n",
       "      <td>37.84</td>\n",
       "      <td>52.0</td>\n",
       "      <td>3104.0</td>\n",
       "      <td>687.0</td>\n",
       "      <td>1157.0</td>\n",
       "      <td>647.0</td>\n",
       "      <td>3.1200</td>\n",
       "      <td>241400.0</td>\n",
       "      <td>NEAR BAY</td>\n",
       "    </tr>\n",
       "    <tr>\n",
       "      <th>8</th>\n",
       "      <td>-122.26</td>\n",
       "      <td>37.84</td>\n",
       "      <td>42.0</td>\n",
       "      <td>2555.0</td>\n",
       "      <td>665.0</td>\n",
       "      <td>1206.0</td>\n",
       "      <td>595.0</td>\n",
       "      <td>2.0804</td>\n",
       "      <td>226700.0</td>\n",
       "      <td>NEAR BAY</td>\n",
       "    </tr>\n",
       "    <tr>\n",
       "      <th>9</th>\n",
       "      <td>-122.25</td>\n",
       "      <td>37.84</td>\n",
       "      <td>52.0</td>\n",
       "      <td>3549.0</td>\n",
       "      <td>707.0</td>\n",
       "      <td>1551.0</td>\n",
       "      <td>714.0</td>\n",
       "      <td>3.6912</td>\n",
       "      <td>261100.0</td>\n",
       "      <td>NEAR BAY</td>\n",
       "    </tr>\n",
       "  </tbody>\n",
       "</table>\n",
       "</div>"
      ],
      "text/plain": [
       "   longitude  latitude  housing_median_age  total_rooms  total_bedrooms  \\\n",
       "0    -122.23     37.88                41.0        880.0           129.0   \n",
       "1    -122.22     37.86                21.0       7099.0          1106.0   \n",
       "2    -122.24     37.85                52.0       1467.0           190.0   \n",
       "3    -122.25     37.85                52.0       1274.0           235.0   \n",
       "4    -122.25     37.85                52.0       1627.0           280.0   \n",
       "5    -122.25     37.85                52.0        919.0           213.0   \n",
       "6    -122.25     37.84                52.0       2535.0           489.0   \n",
       "7    -122.25     37.84                52.0       3104.0           687.0   \n",
       "8    -122.26     37.84                42.0       2555.0           665.0   \n",
       "9    -122.25     37.84                52.0       3549.0           707.0   \n",
       "\n",
       "   population  households  median_income  median_house_value ocean_proximity  \n",
       "0       322.0       126.0         8.3252            452600.0        NEAR BAY  \n",
       "1      2401.0      1138.0         8.3014            358500.0        NEAR BAY  \n",
       "2       496.0       177.0         7.2574            352100.0        NEAR BAY  \n",
       "3       558.0       219.0         5.6431            341300.0        NEAR BAY  \n",
       "4       565.0       259.0         3.8462            342200.0        NEAR BAY  \n",
       "5       413.0       193.0         4.0368            269700.0        NEAR BAY  \n",
       "6      1094.0       514.0         3.6591            299200.0        NEAR BAY  \n",
       "7      1157.0       647.0         3.1200            241400.0        NEAR BAY  \n",
       "8      1206.0       595.0         2.0804            226700.0        NEAR BAY  \n",
       "9      1551.0       714.0         3.6912            261100.0        NEAR BAY  "
      ]
     },
     "execution_count": 5,
     "metadata": {},
     "output_type": "execute_result"
    }
   ],
   "source": [
    "df.limit(10).toPandas()"
   ]
  },
  {
   "cell_type": "code",
   "execution_count": 6,
   "id": "3b2d7a96",
   "metadata": {},
   "outputs": [
    {
     "name": "stderr",
     "output_type": "stream",
     "text": [
      "                                                                                \r"
     ]
    },
    {
     "data": {
      "text/html": [
       "<div>\n",
       "<style scoped>\n",
       "    .dataframe tbody tr th:only-of-type {\n",
       "        vertical-align: middle;\n",
       "    }\n",
       "\n",
       "    .dataframe tbody tr th {\n",
       "        vertical-align: top;\n",
       "    }\n",
       "\n",
       "    .dataframe thead th {\n",
       "        text-align: right;\n",
       "    }\n",
       "</style>\n",
       "<table border=\"1\" class=\"dataframe\">\n",
       "  <thead>\n",
       "    <tr style=\"text-align: right;\">\n",
       "      <th>summary</th>\n",
       "      <th>count</th>\n",
       "      <th>mean</th>\n",
       "      <th>stddev</th>\n",
       "      <th>min</th>\n",
       "      <th>max</th>\n",
       "    </tr>\n",
       "  </thead>\n",
       "  <tbody>\n",
       "    <tr>\n",
       "      <th>longitude</th>\n",
       "      <td>20640</td>\n",
       "      <td>-119.56970445736148</td>\n",
       "      <td>2.003531723502584</td>\n",
       "      <td>-124.35</td>\n",
       "      <td>-114.31</td>\n",
       "    </tr>\n",
       "    <tr>\n",
       "      <th>latitude</th>\n",
       "      <td>20640</td>\n",
       "      <td>35.6318614341087</td>\n",
       "      <td>2.135952397457101</td>\n",
       "      <td>32.54</td>\n",
       "      <td>41.95</td>\n",
       "    </tr>\n",
       "    <tr>\n",
       "      <th>housing_median_age</th>\n",
       "      <td>20640</td>\n",
       "      <td>28.639486434108527</td>\n",
       "      <td>12.58555761211163</td>\n",
       "      <td>1.0</td>\n",
       "      <td>52.0</td>\n",
       "    </tr>\n",
       "    <tr>\n",
       "      <th>total_rooms</th>\n",
       "      <td>20640</td>\n",
       "      <td>2635.7630813953488</td>\n",
       "      <td>2181.6152515827944</td>\n",
       "      <td>2.0</td>\n",
       "      <td>39320.0</td>\n",
       "    </tr>\n",
       "    <tr>\n",
       "      <th>total_bedrooms</th>\n",
       "      <td>20433</td>\n",
       "      <td>537.8705525375618</td>\n",
       "      <td>421.38507007403115</td>\n",
       "      <td>1.0</td>\n",
       "      <td>6445.0</td>\n",
       "    </tr>\n",
       "    <tr>\n",
       "      <th>population</th>\n",
       "      <td>20640</td>\n",
       "      <td>1425.4767441860465</td>\n",
       "      <td>1132.46212176534</td>\n",
       "      <td>3.0</td>\n",
       "      <td>35682.0</td>\n",
       "    </tr>\n",
       "    <tr>\n",
       "      <th>households</th>\n",
       "      <td>20640</td>\n",
       "      <td>499.5396802325581</td>\n",
       "      <td>382.3297528316098</td>\n",
       "      <td>1.0</td>\n",
       "      <td>6082.0</td>\n",
       "    </tr>\n",
       "    <tr>\n",
       "      <th>median_income</th>\n",
       "      <td>20640</td>\n",
       "      <td>3.8706710029070246</td>\n",
       "      <td>1.899821717945263</td>\n",
       "      <td>0.4999</td>\n",
       "      <td>15.0001</td>\n",
       "    </tr>\n",
       "    <tr>\n",
       "      <th>median_house_value</th>\n",
       "      <td>20640</td>\n",
       "      <td>206855.81690891474</td>\n",
       "      <td>115395.61587441359</td>\n",
       "      <td>14999.0</td>\n",
       "      <td>500001.0</td>\n",
       "    </tr>\n",
       "    <tr>\n",
       "      <th>ocean_proximity</th>\n",
       "      <td>20640</td>\n",
       "      <td>None</td>\n",
       "      <td>None</td>\n",
       "      <td>&lt;1H OCEAN</td>\n",
       "      <td>NEAR OCEAN</td>\n",
       "    </tr>\n",
       "  </tbody>\n",
       "</table>\n",
       "</div>"
      ],
      "text/plain": [
       "summary             count                 mean              stddev        min  \\\n",
       "longitude           20640  -119.56970445736148   2.003531723502584    -124.35   \n",
       "latitude            20640     35.6318614341087   2.135952397457101      32.54   \n",
       "housing_median_age  20640   28.639486434108527   12.58555761211163        1.0   \n",
       "total_rooms         20640   2635.7630813953488  2181.6152515827944        2.0   \n",
       "total_bedrooms      20433    537.8705525375618  421.38507007403115        1.0   \n",
       "population          20640   1425.4767441860465    1132.46212176534        3.0   \n",
       "households          20640    499.5396802325581   382.3297528316098        1.0   \n",
       "median_income       20640   3.8706710029070246   1.899821717945263     0.4999   \n",
       "median_house_value  20640   206855.81690891474  115395.61587441359    14999.0   \n",
       "ocean_proximity     20640                 None                None  <1H OCEAN   \n",
       "\n",
       "summary                    max  \n",
       "longitude              -114.31  \n",
       "latitude                 41.95  \n",
       "housing_median_age        52.0  \n",
       "total_rooms            39320.0  \n",
       "total_bedrooms          6445.0  \n",
       "population             35682.0  \n",
       "households              6082.0  \n",
       "median_income          15.0001  \n",
       "median_house_value    500001.0  \n",
       "ocean_proximity     NEAR OCEAN  "
      ]
     },
     "execution_count": 6,
     "metadata": {},
     "output_type": "execute_result"
    }
   ],
   "source": [
    "df.describe().toPandas().set_index('summary').T"
   ]
  },
  {
   "cell_type": "code",
   "execution_count": 7,
   "id": "9fb342f5",
   "metadata": {},
   "outputs": [
    {
     "data": {
      "text/html": [
       "<div>\n",
       "<style scoped>\n",
       "    .dataframe tbody tr th:only-of-type {\n",
       "        vertical-align: middle;\n",
       "    }\n",
       "\n",
       "    .dataframe tbody tr th {\n",
       "        vertical-align: top;\n",
       "    }\n",
       "\n",
       "    .dataframe thead th {\n",
       "        text-align: right;\n",
       "    }\n",
       "</style>\n",
       "<table border=\"1\" class=\"dataframe\">\n",
       "  <thead>\n",
       "    <tr style=\"text-align: right;\">\n",
       "      <th></th>\n",
       "      <th>missing_values</th>\n",
       "    </tr>\n",
       "  </thead>\n",
       "  <tbody>\n",
       "    <tr>\n",
       "      <th>longitude</th>\n",
       "      <td>0</td>\n",
       "    </tr>\n",
       "    <tr>\n",
       "      <th>latitude</th>\n",
       "      <td>0</td>\n",
       "    </tr>\n",
       "    <tr>\n",
       "      <th>housing_median_age</th>\n",
       "      <td>0</td>\n",
       "    </tr>\n",
       "    <tr>\n",
       "      <th>total_rooms</th>\n",
       "      <td>0</td>\n",
       "    </tr>\n",
       "    <tr>\n",
       "      <th>total_bedrooms</th>\n",
       "      <td>207</td>\n",
       "    </tr>\n",
       "    <tr>\n",
       "      <th>population</th>\n",
       "      <td>0</td>\n",
       "    </tr>\n",
       "    <tr>\n",
       "      <th>households</th>\n",
       "      <td>0</td>\n",
       "    </tr>\n",
       "    <tr>\n",
       "      <th>median_income</th>\n",
       "      <td>0</td>\n",
       "    </tr>\n",
       "    <tr>\n",
       "      <th>median_house_value</th>\n",
       "      <td>0</td>\n",
       "    </tr>\n",
       "    <tr>\n",
       "      <th>ocean_proximity</th>\n",
       "      <td>0</td>\n",
       "    </tr>\n",
       "  </tbody>\n",
       "</table>\n",
       "</div>"
      ],
      "text/plain": [
       "                    missing_values\n",
       "longitude                        0\n",
       "latitude                         0\n",
       "housing_median_age               0\n",
       "total_rooms                      0\n",
       "total_bedrooms                 207\n",
       "population                       0\n",
       "households                       0\n",
       "median_income                    0\n",
       "median_house_value               0\n",
       "ocean_proximity                  0"
      ]
     },
     "metadata": {},
     "output_type": "display_data"
    },
    {
     "name": "stdout",
     "output_type": "stream",
     "text": [
      "Количество колонок: 10\n",
      "Количество записей: 20640\n"
     ]
    }
   ],
   "source": [
    "display(pd.DataFrame(index=df.columns,\n",
    "                     data=[df.filter(F.col(column).isNull()).count() for column in df.columns],\n",
    "                     columns=['missing_values']))\n",
    "print(f'Количество колонок: {len(df.columns)}',\n",
    "      f'Количество записей: {df.count()}',\n",
    "      sep='\\n')"
   ]
  },
  {
   "cell_type": "markdown",
   "id": "23355ea4",
   "metadata": {},
   "source": [
    "**Выводы:**"
   ]
  },
  {
   "cell_type": "markdown",
   "id": "02e00e5b",
   "metadata": {},
   "source": [
    "В датасете 20640 записей и 10 колонок. Типы данных в колонках `double` и `string`  соответстввуют содержащимся в них типам данных.\n",
    "\n",
    "В каждой строке датасета содержится информация о жилом массиве Калифорнии 1990 года.\n",
    "\n",
    "Согласно документации к данным, к признаками относятся следующие колонки:\n",
    "* `longitude` — широта;\n",
    "* `latitude` — долгота;\n",
    "* `housing_median_age` — медианный возраст жителей жилого массива;\n",
    "* `total_rooms` — общее количество комнат в домах жилого массива;\n",
    "* `total_bedrooms` — общее количество спален в домах жилого массива;\n",
    "* `population` — количество человек, которые проживают в жилом массиве;\n",
    "* `households` — количество домовладений в жилом массиве;\n",
    "* `median_income` — медианный доход жителей жилого массива;\n",
    "* `ocean_proximity` — близость к океану.\n",
    "\n",
    "Целевой признак:\n",
    "* `median_house_value` — медианная стоимость дома в жилом массиве.\n",
    "\n",
    "В данных присутствуют следующие аномалии:\n",
    "- в колонке `total_bedrooms` 207 пропущенных значений (примерно 1% от всех данных);\n",
    "- минимальные значения в колонках `housing_median_age`, `total_rooms`, `total_bedrooms`, `population` и `households` выглядят неправдоподобно;\n",
    "- медианный доход жителей жилого массива в `median_income`, похоже, указан в тыс. долларов США, либо к данным было применено степенное преобразование."
   ]
  },
  {
   "cell_type": "markdown",
   "id": "9b9cc960",
   "metadata": {
    "id": "53871372"
   },
   "source": [
    "## Подготовка данных"
   ]
  },
  {
   "cell_type": "markdown",
   "id": "d8227b74",
   "metadata": {},
   "source": [
    "### Дубликаты, пропуски, выбросы"
   ]
  },
  {
   "cell_type": "markdown",
   "id": "14ba7a94",
   "metadata": {},
   "source": [
    "Проверим данные на дубликаты:"
   ]
  },
  {
   "cell_type": "code",
   "execution_count": 8,
   "id": "3ed2ae1b",
   "metadata": {},
   "outputs": [
    {
     "name": "stderr",
     "output_type": "stream",
     "text": [
      "                                                                                \r"
     ]
    },
    {
     "data": {
      "text/plain": [
       "20640"
      ]
     },
     "execution_count": 8,
     "metadata": {},
     "output_type": "execute_result"
    }
   ],
   "source": [
    "df.dropDuplicates().count()"
   ]
  },
  {
   "cell_type": "markdown",
   "id": "208d5664",
   "metadata": {},
   "source": [
    "В возвращенном датасете столько же записей, сколько в оргинальном, значит дубликаты осутствуют.\n",
    "\n",
    "Посмотрим на выбросы:"
   ]
  },
  {
   "cell_type": "code",
   "execution_count": 9,
   "id": "dbc51d69",
   "metadata": {},
   "outputs": [
    {
     "data": {
      "image/png": "[encoded data removed]",
      "text/plain": [
       "<Figure size 1080x1440 with 9 Axes>"
      ]
     },
     "metadata": {
      "needs_background": "light"
     },
     "output_type": "display_data"
    }
   ],
   "source": [
    " column_list = ['longitude', 'latitude', 'housing_median_age', 'total_rooms', 'total_bedrooms',\n",
    "                    'population', 'households', 'median_income', 'median_house_value']\n",
    "\n",
    "cnt = 1\n",
    "plt.figure(figsize=(15, 20))\n",
    "for column in column_list:\n",
    "    plt.subplot(5, 2, cnt)\n",
    "    df.select(F.col(column)).toPandas().boxplot()\n",
    "    plt.ylabel('#')\n",
    "    if cnt == 1:\n",
    "        plt.title('Широта')\n",
    "    if cnt == 2:\n",
    "        plt.title('Долгота')\n",
    "    if cnt == 3:\n",
    "        plt.title('Медианный возраст жителей жилого массива')\n",
    "    if cnt == 4:\n",
    "        plt.title('Общее количество комнат в домах жилого массива')\n",
    "    if cnt == 5:\n",
    "        plt.title('Общее количество спален в домах жилого массива;')\n",
    "    if cnt == 6:\n",
    "        plt.title('Количество человек, которые проживают в жилом массиве')\n",
    "    if cnt == 7:\n",
    "        plt.title('Количество домовладений в жилом массиве')\n",
    "    if cnt == 8:\n",
    "        plt.title('Медианный доход жителей жилого массива')\n",
    "    if cnt == 9:\n",
    "        plt.title('Медианная стоимость дома в жилом массиве')\n",
    "    cnt += 1"
   ]
  },
  {
   "cell_type": "markdown",
   "id": "250eca4a",
   "metadata": {},
   "source": [
    "Во всех колонках, кроме `longitude`, `latitude` и `housing_median_age` есть выбросы. Удалим часть выбросов из обучающей выборки (после разделения датасета на тренировочную и тестовую выборки), при этом этом также ограничим медианный возраст 5 годами, а медианные стоимость дома и доход жителей жилого массива оставим без изменения."
   ]
  },
  {
   "cell_type": "markdown",
   "id": "2ab58938",
   "metadata": {},
   "source": [
    "Посмотрим на корреляцию между `total_bedrooms` и другими признаками:"
   ]
  },
  {
   "cell_type": "code",
   "execution_count": 10,
   "id": "4a59fb22",
   "metadata": {},
   "outputs": [
    {
     "data": {
      "text/html": [
       "<div>\n",
       "<style scoped>\n",
       "    .dataframe tbody tr th:only-of-type {\n",
       "        vertical-align: middle;\n",
       "    }\n",
       "\n",
       "    .dataframe tbody tr th {\n",
       "        vertical-align: top;\n",
       "    }\n",
       "\n",
       "    .dataframe thead th {\n",
       "        text-align: right;\n",
       "    }\n",
       "</style>\n",
       "<table border=\"1\" class=\"dataframe\">\n",
       "  <thead>\n",
       "    <tr style=\"text-align: right;\">\n",
       "      <th></th>\n",
       "      <th>corr</th>\n",
       "    </tr>\n",
       "  </thead>\n",
       "  <tbody>\n",
       "    <tr>\n",
       "      <th>total_bedrooms</th>\n",
       "      <td>1.000000</td>\n",
       "    </tr>\n",
       "    <tr>\n",
       "      <th>households</th>\n",
       "      <td>0.966507</td>\n",
       "    </tr>\n",
       "    <tr>\n",
       "      <th>total_rooms</th>\n",
       "      <td>0.920196</td>\n",
       "    </tr>\n",
       "    <tr>\n",
       "      <th>population</th>\n",
       "      <td>0.866266</td>\n",
       "    </tr>\n",
       "    <tr>\n",
       "      <th>longitude</th>\n",
       "      <td>0.068082</td>\n",
       "    </tr>\n",
       "    <tr>\n",
       "      <th>median_house_value</th>\n",
       "      <td>0.049148</td>\n",
       "    </tr>\n",
       "    <tr>\n",
       "      <th>median_income</th>\n",
       "      <td>-0.007295</td>\n",
       "    </tr>\n",
       "    <tr>\n",
       "      <th>latitude</th>\n",
       "      <td>-0.065318</td>\n",
       "    </tr>\n",
       "    <tr>\n",
       "      <th>housing_median_age</th>\n",
       "      <td>-0.317063</td>\n",
       "    </tr>\n",
       "  </tbody>\n",
       "</table>\n",
       "</div>"
      ],
      "text/plain": [
       "                        corr\n",
       "total_bedrooms      1.000000\n",
       "households          0.966507\n",
       "total_rooms         0.920196\n",
       "population          0.866266\n",
       "longitude           0.068082\n",
       "median_house_value  0.049148\n",
       "median_income      -0.007295\n",
       "latitude           -0.065318\n",
       "housing_median_age -0.317063"
      ]
     },
     "execution_count": 10,
     "metadata": {},
     "output_type": "execute_result"
    }
   ],
   "source": [
    "total_bedrooms_correlation = []\n",
    "for col in column_list:\n",
    "    total_bedrooms_correlation.append(df.corr('total_bedrooms', col))\n",
    "\n",
    "pd.DataFrame(index=column_list, data=total_bedrooms_correlation, columns=['corr']).sort_values('corr', ascending=False)"
   ]
  },
  {
   "cell_type": "markdown",
   "id": "d6940467",
   "metadata": {},
   "source": [
    "Самая сильная корреляция `total_bedrooms` наблюдается с `households`, `total_rooms` и `population`. Рассчитаем отношение `total_bedrooms` и `households`, заполним пропуски в `total_bedrooms` с учетом этого соотношения:"
   ]
  },
  {
   "cell_type": "code",
   "execution_count": 11,
   "id": "8bdc3e46",
   "metadata": {},
   "outputs": [
    {
     "data": {
      "text/plain": [
       "Row(summary='mean', rate='1.0970623858069932')"
      ]
     },
     "execution_count": 11,
     "metadata": {},
     "output_type": "execute_result"
    }
   ],
   "source": [
    "df.withColumn('rate', F.col('total_bedrooms') / F.col('households')).select(F.col('rate')).describe().collect()[1]"
   ]
  },
  {
   "cell_type": "code",
   "execution_count": 12,
   "id": "4ce1c65b",
   "metadata": {},
   "outputs": [
    {
     "data": {
      "text/plain": [
       "0"
      ]
     },
     "execution_count": 12,
     "metadata": {},
     "output_type": "execute_result"
    }
   ],
   "source": [
    "df = df.withColumn('tmp', F.col('households') * 1.097) \\\n",
    "       .withColumn('total_bedrooms',\n",
    "                   F.when(F.col('total_bedrooms').isNull(), F.col('tmp')).otherwise(F.col('total_bedrooms'))) \\\n",
    "       .drop('tmp')\n",
    "\n",
    "df.filter(F.col('total_bedrooms').isNull()).count()"
   ]
  },
  {
   "cell_type": "markdown",
   "id": "a1cb17ad",
   "metadata": {},
   "source": [
    "### Ohe"
   ]
  },
  {
   "cell_type": "markdown",
   "id": "ab60d1c9",
   "metadata": {},
   "source": [
    "Трансформируем `ocean_proximity` с помощью `StringIndexer`:"
   ]
  },
  {
   "cell_type": "code",
   "execution_count": 13,
   "id": "ed0b6dc7",
   "metadata": {},
   "outputs": [
    {
     "name": "stderr",
     "output_type": "stream",
     "text": [
      "                                                                                \r"
     ]
    },
    {
     "data": {
      "text/html": [
       "<div>\n",
       "<style scoped>\n",
       "    .dataframe tbody tr th:only-of-type {\n",
       "        vertical-align: middle;\n",
       "    }\n",
       "\n",
       "    .dataframe tbody tr th {\n",
       "        vertical-align: top;\n",
       "    }\n",
       "\n",
       "    .dataframe thead th {\n",
       "        text-align: right;\n",
       "    }\n",
       "</style>\n",
       "<table border=\"1\" class=\"dataframe\">\n",
       "  <thead>\n",
       "    <tr style=\"text-align: right;\">\n",
       "      <th></th>\n",
       "      <th>longitude</th>\n",
       "      <th>latitude</th>\n",
       "      <th>housing_median_age</th>\n",
       "      <th>total_rooms</th>\n",
       "      <th>total_bedrooms</th>\n",
       "      <th>population</th>\n",
       "      <th>households</th>\n",
       "      <th>median_income</th>\n",
       "      <th>median_house_value</th>\n",
       "      <th>ocean_proximity</th>\n",
       "      <th>ocean_proximity_idx</th>\n",
       "    </tr>\n",
       "  </thead>\n",
       "  <tbody>\n",
       "    <tr>\n",
       "      <th>0</th>\n",
       "      <td>-122.23</td>\n",
       "      <td>37.88</td>\n",
       "      <td>41.0</td>\n",
       "      <td>880.0</td>\n",
       "      <td>129.0</td>\n",
       "      <td>322.0</td>\n",
       "      <td>126.0</td>\n",
       "      <td>8.3252</td>\n",
       "      <td>452600.0</td>\n",
       "      <td>NEAR BAY</td>\n",
       "      <td>3.0</td>\n",
       "    </tr>\n",
       "    <tr>\n",
       "      <th>1</th>\n",
       "      <td>-122.22</td>\n",
       "      <td>37.86</td>\n",
       "      <td>21.0</td>\n",
       "      <td>7099.0</td>\n",
       "      <td>1106.0</td>\n",
       "      <td>2401.0</td>\n",
       "      <td>1138.0</td>\n",
       "      <td>8.3014</td>\n",
       "      <td>358500.0</td>\n",
       "      <td>NEAR BAY</td>\n",
       "      <td>3.0</td>\n",
       "    </tr>\n",
       "    <tr>\n",
       "      <th>2</th>\n",
       "      <td>-122.24</td>\n",
       "      <td>37.85</td>\n",
       "      <td>52.0</td>\n",
       "      <td>1467.0</td>\n",
       "      <td>190.0</td>\n",
       "      <td>496.0</td>\n",
       "      <td>177.0</td>\n",
       "      <td>7.2574</td>\n",
       "      <td>352100.0</td>\n",
       "      <td>NEAR BAY</td>\n",
       "      <td>3.0</td>\n",
       "    </tr>\n",
       "    <tr>\n",
       "      <th>3</th>\n",
       "      <td>-122.25</td>\n",
       "      <td>37.85</td>\n",
       "      <td>52.0</td>\n",
       "      <td>1274.0</td>\n",
       "      <td>235.0</td>\n",
       "      <td>558.0</td>\n",
       "      <td>219.0</td>\n",
       "      <td>5.6431</td>\n",
       "      <td>341300.0</td>\n",
       "      <td>NEAR BAY</td>\n",
       "      <td>3.0</td>\n",
       "    </tr>\n",
       "    <tr>\n",
       "      <th>4</th>\n",
       "      <td>-122.25</td>\n",
       "      <td>37.85</td>\n",
       "      <td>52.0</td>\n",
       "      <td>1627.0</td>\n",
       "      <td>280.0</td>\n",
       "      <td>565.0</td>\n",
       "      <td>259.0</td>\n",
       "      <td>3.8462</td>\n",
       "      <td>342200.0</td>\n",
       "      <td>NEAR BAY</td>\n",
       "      <td>3.0</td>\n",
       "    </tr>\n",
       "  </tbody>\n",
       "</table>\n",
       "</div>"
      ],
      "text/plain": [
       "   longitude  latitude  housing_median_age  total_rooms  total_bedrooms  \\\n",
       "0    -122.23     37.88                41.0        880.0           129.0   \n",
       "1    -122.22     37.86                21.0       7099.0          1106.0   \n",
       "2    -122.24     37.85                52.0       1467.0           190.0   \n",
       "3    -122.25     37.85                52.0       1274.0           235.0   \n",
       "4    -122.25     37.85                52.0       1627.0           280.0   \n",
       "\n",
       "   population  households  median_income  median_house_value ocean_proximity  \\\n",
       "0       322.0       126.0         8.3252            452600.0        NEAR BAY   \n",
       "1      2401.0      1138.0         8.3014            358500.0        NEAR BAY   \n",
       "2       496.0       177.0         7.2574            352100.0        NEAR BAY   \n",
       "3       558.0       219.0         5.6431            341300.0        NEAR BAY   \n",
       "4       565.0       259.0         3.8462            342200.0        NEAR BAY   \n",
       "\n",
       "   ocean_proximity_idx  \n",
       "0                  3.0  \n",
       "1                  3.0  \n",
       "2                  3.0  \n",
       "3                  3.0  \n",
       "4                  3.0  "
      ]
     },
     "execution_count": 13,
     "metadata": {},
     "output_type": "execute_result"
    }
   ],
   "source": [
    "indexer = StringIndexer(inputCols=['ocean_proximity'], \n",
    "                        outputCols=['ocean_proximity_idx']) \n",
    "df = indexer.fit(df).transform(df)\n",
    "df.limit(5).toPandas() "
   ]
  },
  {
   "cell_type": "markdown",
   "id": "b40c3e0d",
   "metadata": {},
   "source": [
    "Трансформируем `ocean_proximity_idx` с помощью `OneHotEncoder`:"
   ]
  },
  {
   "cell_type": "code",
   "execution_count": 14,
   "id": "67a4bf71",
   "metadata": {},
   "outputs": [
    {
     "data": {
      "text/html": [
       "<div>\n",
       "<style scoped>\n",
       "    .dataframe tbody tr th:only-of-type {\n",
       "        vertical-align: middle;\n",
       "    }\n",
       "\n",
       "    .dataframe tbody tr th {\n",
       "        vertical-align: top;\n",
       "    }\n",
       "\n",
       "    .dataframe thead th {\n",
       "        text-align: right;\n",
       "    }\n",
       "</style>\n",
       "<table border=\"1\" class=\"dataframe\">\n",
       "  <thead>\n",
       "    <tr style=\"text-align: right;\">\n",
       "      <th></th>\n",
       "      <th>longitude</th>\n",
       "      <th>latitude</th>\n",
       "      <th>housing_median_age</th>\n",
       "      <th>total_rooms</th>\n",
       "      <th>total_bedrooms</th>\n",
       "      <th>population</th>\n",
       "      <th>households</th>\n",
       "      <th>median_income</th>\n",
       "      <th>median_house_value</th>\n",
       "      <th>ocean_proximity</th>\n",
       "      <th>ocean_proximity_idx</th>\n",
       "      <th>ocean_proximity_ohe</th>\n",
       "    </tr>\n",
       "  </thead>\n",
       "  <tbody>\n",
       "    <tr>\n",
       "      <th>0</th>\n",
       "      <td>-122.23</td>\n",
       "      <td>37.88</td>\n",
       "      <td>41.0</td>\n",
       "      <td>880.0</td>\n",
       "      <td>129.0</td>\n",
       "      <td>322.0</td>\n",
       "      <td>126.0</td>\n",
       "      <td>8.3252</td>\n",
       "      <td>452600.0</td>\n",
       "      <td>NEAR BAY</td>\n",
       "      <td>3.0</td>\n",
       "      <td>(0.0, 0.0, 0.0, 1.0)</td>\n",
       "    </tr>\n",
       "    <tr>\n",
       "      <th>1</th>\n",
       "      <td>-122.22</td>\n",
       "      <td>37.86</td>\n",
       "      <td>21.0</td>\n",
       "      <td>7099.0</td>\n",
       "      <td>1106.0</td>\n",
       "      <td>2401.0</td>\n",
       "      <td>1138.0</td>\n",
       "      <td>8.3014</td>\n",
       "      <td>358500.0</td>\n",
       "      <td>NEAR BAY</td>\n",
       "      <td>3.0</td>\n",
       "      <td>(0.0, 0.0, 0.0, 1.0)</td>\n",
       "    </tr>\n",
       "    <tr>\n",
       "      <th>2</th>\n",
       "      <td>-122.24</td>\n",
       "      <td>37.85</td>\n",
       "      <td>52.0</td>\n",
       "      <td>1467.0</td>\n",
       "      <td>190.0</td>\n",
       "      <td>496.0</td>\n",
       "      <td>177.0</td>\n",
       "      <td>7.2574</td>\n",
       "      <td>352100.0</td>\n",
       "      <td>NEAR BAY</td>\n",
       "      <td>3.0</td>\n",
       "      <td>(0.0, 0.0, 0.0, 1.0)</td>\n",
       "    </tr>\n",
       "    <tr>\n",
       "      <th>3</th>\n",
       "      <td>-122.25</td>\n",
       "      <td>37.85</td>\n",
       "      <td>52.0</td>\n",
       "      <td>1274.0</td>\n",
       "      <td>235.0</td>\n",
       "      <td>558.0</td>\n",
       "      <td>219.0</td>\n",
       "      <td>5.6431</td>\n",
       "      <td>341300.0</td>\n",
       "      <td>NEAR BAY</td>\n",
       "      <td>3.0</td>\n",
       "      <td>(0.0, 0.0, 0.0, 1.0)</td>\n",
       "    </tr>\n",
       "    <tr>\n",
       "      <th>4</th>\n",
       "      <td>-122.25</td>\n",
       "      <td>37.85</td>\n",
       "      <td>52.0</td>\n",
       "      <td>1627.0</td>\n",
       "      <td>280.0</td>\n",
       "      <td>565.0</td>\n",
       "      <td>259.0</td>\n",
       "      <td>3.8462</td>\n",
       "      <td>342200.0</td>\n",
       "      <td>NEAR BAY</td>\n",
       "      <td>3.0</td>\n",
       "      <td>(0.0, 0.0, 0.0, 1.0)</td>\n",
       "    </tr>\n",
       "  </tbody>\n",
       "</table>\n",
       "</div>"
      ],
      "text/plain": [
       "   longitude  latitude  housing_median_age  total_rooms  total_bedrooms  \\\n",
       "0    -122.23     37.88                41.0        880.0           129.0   \n",
       "1    -122.22     37.86                21.0       7099.0          1106.0   \n",
       "2    -122.24     37.85                52.0       1467.0           190.0   \n",
       "3    -122.25     37.85                52.0       1274.0           235.0   \n",
       "4    -122.25     37.85                52.0       1627.0           280.0   \n",
       "\n",
       "   population  households  median_income  median_house_value ocean_proximity  \\\n",
       "0       322.0       126.0         8.3252            452600.0        NEAR BAY   \n",
       "1      2401.0      1138.0         8.3014            358500.0        NEAR BAY   \n",
       "2       496.0       177.0         7.2574            352100.0        NEAR BAY   \n",
       "3       558.0       219.0         5.6431            341300.0        NEAR BAY   \n",
       "4       565.0       259.0         3.8462            342200.0        NEAR BAY   \n",
       "\n",
       "   ocean_proximity_idx   ocean_proximity_ohe  \n",
       "0                  3.0  (0.0, 0.0, 0.0, 1.0)  \n",
       "1                  3.0  (0.0, 0.0, 0.0, 1.0)  \n",
       "2                  3.0  (0.0, 0.0, 0.0, 1.0)  \n",
       "3                  3.0  (0.0, 0.0, 0.0, 1.0)  \n",
       "4                  3.0  (0.0, 0.0, 0.0, 1.0)  "
      ]
     },
     "execution_count": 14,
     "metadata": {},
     "output_type": "execute_result"
    }
   ],
   "source": [
    "encoder = OneHotEncoder(inputCols=['ocean_proximity_idx'],\n",
    "                        outputCols=['ocean_proximity_ohe'])\n",
    "df = encoder.fit(df).transform(df)\n",
    "df.limit(5).toPandas()"
   ]
  },
  {
   "cell_type": "markdown",
   "id": "7de77798",
   "metadata": {},
   "source": [
    "Векторизуем `ocean_proximity_ohe`:"
   ]
  },
  {
   "cell_type": "code",
   "execution_count": 15,
   "id": "4376810b",
   "metadata": {},
   "outputs": [],
   "source": [
    "categorical_assembler = VectorAssembler(inputCols=['ocean_proximity_ohe'],\n",
    "                                        outputCol='categorical_features')\n",
    "df = categorical_assembler.transform(df)"
   ]
  },
  {
   "cell_type": "markdown",
   "id": "53293408",
   "metadata": {},
   "source": [
    "### Scaler"
   ]
  },
  {
   "cell_type": "markdown",
   "id": "7cbffe0e",
   "metadata": {},
   "source": [
    "Векторизуем числовые признаки:"
   ]
  },
  {
   "cell_type": "code",
   "execution_count": 16,
   "id": "697de751",
   "metadata": {},
   "outputs": [],
   "source": [
    "numerical_cols = ['longitude', 'latitude', 'housing_median_age', 'total_rooms', 'total_bedrooms',\n",
    "                  'population', 'households', 'median_income']\n",
    "target = 'median_house_value'"
   ]
  },
  {
   "cell_type": "code",
   "execution_count": 17,
   "id": "c7ca8cf6",
   "metadata": {},
   "outputs": [],
   "source": [
    "numerical_assembler = VectorAssembler(inputCols=numerical_cols, outputCol='numerical_features')\n",
    "df = numerical_assembler.transform(df) "
   ]
  },
  {
   "cell_type": "markdown",
   "id": "c111bb7c",
   "metadata": {},
   "source": [
    "Разделим датасет на обучающую и тестовую части:"
   ]
  },
  {
   "cell_type": "code",
   "execution_count": 18,
   "id": "23b759a7",
   "metadata": {},
   "outputs": [
    {
     "name": "stderr",
     "output_type": "stream",
     "text": [
      "                                                                                \r"
     ]
    },
    {
     "name": "stdout",
     "output_type": "stream",
     "text": [
      "17460 3180\n"
     ]
    }
   ],
   "source": [
    "train_data, test_data = df.randomSplit([.85,.15], seed=12345)\n",
    "print(train_data.count(), test_data.count()) "
   ]
  },
  {
   "cell_type": "markdown",
   "id": "6a28a52e",
   "metadata": {},
   "source": [
    "Удалим часть выбросов из тренировочной выборки:"
   ]
  },
  {
   "cell_type": "code",
   "execution_count": 19,
   "id": "2a8a433b",
   "metadata": {},
   "outputs": [],
   "source": [
    "train_data = train_data.filter((F.col('housing_median_age') > sum(df.approxQuantile('housing_median_age', [0.1], 0.2)))\n",
    "                               & (F.col('total_rooms') < sum(df.approxQuantile('total_rooms', [0.95], 0.2)))\n",
    "                               & (F.col('total_rooms') > sum(df.approxQuantile('total_rooms', [0.05], 0.2)))\n",
    "                               & (F.col('total_bedrooms') < sum(df.approxQuantile('total_bedrooms', [0.95], 0.2)))\n",
    "                               & (F.col('total_bedrooms') > sum(df.approxQuantile('total_bedrooms', [0.05], 0.2)))\n",
    "                               & (F.col('population') < sum(df.approxQuantile('population', [0.95], 0.2)))\n",
    "                               & (F.col('population') > sum(df.approxQuantile('population', [0.05], 0.2)))\n",
    "                               & (F.col('households') < sum(df.approxQuantile('households', [0.95], 0.2)))\n",
    "                               & (F.col('households') > sum(df.approxQuantile('households', [0.05], 0.2)))\n",
    "                              )"
   ]
  },
  {
   "cell_type": "code",
   "execution_count": 20,
   "id": "3ae75e6d",
   "metadata": {},
   "outputs": [
    {
     "name": "stdout",
     "output_type": "stream",
     "text": [
      "17450 3180\n"
     ]
    }
   ],
   "source": [
    "print(train_data.count(), test_data.count()) "
   ]
  },
  {
   "cell_type": "markdown",
   "id": "7026dcf3",
   "metadata": {},
   "source": [
    "Трансформируем тренировочную и тестовую выборки с помощью `StandardScaler`:"
   ]
  },
  {
   "cell_type": "code",
   "execution_count": 21,
   "id": "34e85db4",
   "metadata": {},
   "outputs": [],
   "source": [
    "standardScaler = StandardScaler(inputCol='numerical_features',\n",
    "                                outputCol='numerical_features_scaled')\n",
    "scaler = standardScaler.fit(train_data)\n",
    "train_data = scaler.transform(train_data) \n",
    "test_data = scaler.transform(test_data) "
   ]
  },
  {
   "cell_type": "markdown",
   "id": "bebf00d5",
   "metadata": {},
   "source": [
    "Соберем трансформированные категорийные и числовые признаки с помощью `VectorAssembler`:"
   ]
  },
  {
   "cell_type": "code",
   "execution_count": 22,
   "id": "3374d656",
   "metadata": {},
   "outputs": [],
   "source": [
    "all_features = ['categorical_features','numerical_features_scaled']\n",
    "\n",
    "final_assembler = VectorAssembler(inputCols=all_features, \n",
    "                                  outputCol='features') \n",
    "train_data = final_assembler.transform(train_data)\n",
    "test_data = final_assembler.transform(test_data)"
   ]
  },
  {
   "cell_type": "code",
   "execution_count": 23,
   "id": "ee6a25ab",
   "metadata": {},
   "outputs": [
    {
     "data": {
      "text/html": [
       "<div>\n",
       "<style scoped>\n",
       "    .dataframe tbody tr th:only-of-type {\n",
       "        vertical-align: middle;\n",
       "    }\n",
       "\n",
       "    .dataframe tbody tr th {\n",
       "        vertical-align: top;\n",
       "    }\n",
       "\n",
       "    .dataframe thead th {\n",
       "        text-align: right;\n",
       "    }\n",
       "</style>\n",
       "<table border=\"1\" class=\"dataframe\">\n",
       "  <thead>\n",
       "    <tr style=\"text-align: right;\">\n",
       "      <th></th>\n",
       "      <th>longitude</th>\n",
       "      <th>latitude</th>\n",
       "      <th>housing_median_age</th>\n",
       "      <th>total_rooms</th>\n",
       "      <th>total_bedrooms</th>\n",
       "      <th>population</th>\n",
       "      <th>households</th>\n",
       "      <th>median_income</th>\n",
       "      <th>median_house_value</th>\n",
       "      <th>ocean_proximity</th>\n",
       "      <th>ocean_proximity_idx</th>\n",
       "      <th>ocean_proximity_ohe</th>\n",
       "      <th>categorical_features</th>\n",
       "      <th>numerical_features</th>\n",
       "      <th>numerical_features_scaled</th>\n",
       "      <th>features</th>\n",
       "    </tr>\n",
       "  </thead>\n",
       "  <tbody>\n",
       "    <tr>\n",
       "      <th>0</th>\n",
       "      <td>-124.35</td>\n",
       "      <td>40.54</td>\n",
       "      <td>52.0</td>\n",
       "      <td>1820.0</td>\n",
       "      <td>300.0</td>\n",
       "      <td>806.0</td>\n",
       "      <td>270.0</td>\n",
       "      <td>3.0147</td>\n",
       "      <td>94600.0</td>\n",
       "      <td>NEAR OCEAN</td>\n",
       "      <td>2.0</td>\n",
       "      <td>(0.0, 0.0, 1.0, 0.0)</td>\n",
       "      <td>(0.0, 0.0, 1.0, 0.0)</td>\n",
       "      <td>[-124.35, 40.54, 52.0, 1820.0, 300.0, 806.0, 2...</td>\n",
       "      <td>[-62.00461326332602, 18.948781954776152, 4.132...</td>\n",
       "      <td>[0.0, 0.0, 1.0, 0.0, -62.00461326332602, 18.94...</td>\n",
       "    </tr>\n",
       "    <tr>\n",
       "      <th>1</th>\n",
       "      <td>-124.30</td>\n",
       "      <td>41.80</td>\n",
       "      <td>19.0</td>\n",
       "      <td>2672.0</td>\n",
       "      <td>552.0</td>\n",
       "      <td>1298.0</td>\n",
       "      <td>478.0</td>\n",
       "      <td>1.9797</td>\n",
       "      <td>85800.0</td>\n",
       "      <td>NEAR OCEAN</td>\n",
       "      <td>2.0</td>\n",
       "      <td>(0.0, 0.0, 1.0, 0.0)</td>\n",
       "      <td>(0.0, 0.0, 1.0, 0.0)</td>\n",
       "      <td>[-124.3, 41.8, 19.0, 2672.0, 552.0, 1298.0, 47...</td>\n",
       "      <td>[-61.979681774277644, 19.537717950410535, 1.51...</td>\n",
       "      <td>[0.0, 0.0, 1.0, 0.0, -61.979681774277644, 19.5...</td>\n",
       "    </tr>\n",
       "    <tr>\n",
       "      <th>2</th>\n",
       "      <td>-124.30</td>\n",
       "      <td>41.84</td>\n",
       "      <td>17.0</td>\n",
       "      <td>2677.0</td>\n",
       "      <td>531.0</td>\n",
       "      <td>1244.0</td>\n",
       "      <td>456.0</td>\n",
       "      <td>3.0313</td>\n",
       "      <td>103600.0</td>\n",
       "      <td>NEAR OCEAN</td>\n",
       "      <td>2.0</td>\n",
       "      <td>(0.0, 0.0, 1.0, 0.0)</td>\n",
       "      <td>(0.0, 0.0, 1.0, 0.0)</td>\n",
       "      <td>[-124.3, 41.84, 17.0, 2677.0, 531.0, 1244.0, 4...</td>\n",
       "      <td>[-61.979681774277644, 19.556414331224328, 1.35...</td>\n",
       "      <td>[0.0, 0.0, 1.0, 0.0, -61.979681774277644, 19.5...</td>\n",
       "    </tr>\n",
       "    <tr>\n",
       "      <th>3</th>\n",
       "      <td>-124.27</td>\n",
       "      <td>40.69</td>\n",
       "      <td>36.0</td>\n",
       "      <td>2349.0</td>\n",
       "      <td>528.0</td>\n",
       "      <td>1194.0</td>\n",
       "      <td>465.0</td>\n",
       "      <td>2.5179</td>\n",
       "      <td>79000.0</td>\n",
       "      <td>NEAR OCEAN</td>\n",
       "      <td>2.0</td>\n",
       "      <td>(0.0, 0.0, 1.0, 0.0)</td>\n",
       "      <td>(0.0, 0.0, 1.0, 0.0)</td>\n",
       "      <td>[-124.27, 40.69, 36.0, 2349.0, 528.0, 1194.0, ...</td>\n",
       "      <td>[-61.96472288084861, 19.018893382827866, 2.861...</td>\n",
       "      <td>[0.0, 0.0, 1.0, 0.0, -61.96472288084861, 19.01...</td>\n",
       "    </tr>\n",
       "    <tr>\n",
       "      <th>4</th>\n",
       "      <td>-124.26</td>\n",
       "      <td>40.58</td>\n",
       "      <td>52.0</td>\n",
       "      <td>2217.0</td>\n",
       "      <td>394.0</td>\n",
       "      <td>907.0</td>\n",
       "      <td>369.0</td>\n",
       "      <td>2.3571</td>\n",
       "      <td>111400.0</td>\n",
       "      <td>NEAR OCEAN</td>\n",
       "      <td>2.0</td>\n",
       "      <td>(0.0, 0.0, 1.0, 0.0)</td>\n",
       "      <td>(0.0, 0.0, 1.0, 0.0)</td>\n",
       "      <td>[-124.26, 40.58, 52.0, 2217.0, 394.0, 907.0, 3...</td>\n",
       "      <td>[-61.95973658303894, 18.96747833558994, 4.1326...</td>\n",
       "      <td>[0.0, 0.0, 1.0, 0.0, -61.95973658303894, 18.96...</td>\n",
       "    </tr>\n",
       "    <tr>\n",
       "      <th>5</th>\n",
       "      <td>-124.25</td>\n",
       "      <td>40.28</td>\n",
       "      <td>32.0</td>\n",
       "      <td>1430.0</td>\n",
       "      <td>419.0</td>\n",
       "      <td>434.0</td>\n",
       "      <td>187.0</td>\n",
       "      <td>1.9417</td>\n",
       "      <td>76100.0</td>\n",
       "      <td>NEAR OCEAN</td>\n",
       "      <td>2.0</td>\n",
       "      <td>(0.0, 0.0, 1.0, 0.0)</td>\n",
       "      <td>(0.0, 0.0, 1.0, 0.0)</td>\n",
       "      <td>[-124.25, 40.28, 32.0, 1430.0, 419.0, 434.0, 1...</td>\n",
       "      <td>[-61.95475028522926, 18.827255479486517, 2.543...</td>\n",
       "      <td>[0.0, 0.0, 1.0, 0.0, -61.95475028522926, 18.82...</td>\n",
       "    </tr>\n",
       "    <tr>\n",
       "      <th>6</th>\n",
       "      <td>-124.23</td>\n",
       "      <td>40.81</td>\n",
       "      <td>52.0</td>\n",
       "      <td>1112.0</td>\n",
       "      <td>209.0</td>\n",
       "      <td>544.0</td>\n",
       "      <td>172.0</td>\n",
       "      <td>3.3462</td>\n",
       "      <td>50800.0</td>\n",
       "      <td>NEAR OCEAN</td>\n",
       "      <td>2.0</td>\n",
       "      <td>(0.0, 0.0, 1.0, 0.0)</td>\n",
       "      <td>(0.0, 0.0, 1.0, 0.0)</td>\n",
       "      <td>[-124.23, 40.81, 52.0, 1112.0, 209.0, 544.0, 1...</td>\n",
       "      <td>[-61.944777689609914, 19.074982525269235, 4.13...</td>\n",
       "      <td>[0.0, 0.0, 1.0, 0.0, -61.944777689609914, 19.0...</td>\n",
       "    </tr>\n",
       "    <tr>\n",
       "      <th>7</th>\n",
       "      <td>-124.23</td>\n",
       "      <td>41.75</td>\n",
       "      <td>11.0</td>\n",
       "      <td>3159.0</td>\n",
       "      <td>616.0</td>\n",
       "      <td>1343.0</td>\n",
       "      <td>479.0</td>\n",
       "      <td>2.4805</td>\n",
       "      <td>73200.0</td>\n",
       "      <td>NEAR OCEAN</td>\n",
       "      <td>2.0</td>\n",
       "      <td>(0.0, 0.0, 1.0, 0.0)</td>\n",
       "      <td>(0.0, 0.0, 1.0, 0.0)</td>\n",
       "      <td>[-124.23, 41.75, 11.0, 3159.0, 616.0, 1343.0, ...</td>\n",
       "      <td>[-61.944777689609914, 19.5143474743933, 0.8742...</td>\n",
       "      <td>[0.0, 0.0, 1.0, 0.0, -61.944777689609914, 19.5...</td>\n",
       "    </tr>\n",
       "    <tr>\n",
       "      <th>8</th>\n",
       "      <td>-124.22</td>\n",
       "      <td>41.73</td>\n",
       "      <td>28.0</td>\n",
       "      <td>3003.0</td>\n",
       "      <td>699.0</td>\n",
       "      <td>1530.0</td>\n",
       "      <td>653.0</td>\n",
       "      <td>1.7038</td>\n",
       "      <td>78300.0</td>\n",
       "      <td>NEAR OCEAN</td>\n",
       "      <td>2.0</td>\n",
       "      <td>(0.0, 0.0, 1.0, 0.0)</td>\n",
       "      <td>(0.0, 0.0, 1.0, 0.0)</td>\n",
       "      <td>[-124.22, 41.73, 28.0, 3003.0, 699.0, 1530.0, ...</td>\n",
       "      <td>[-61.939791391800235, 19.504999283986404, 2.22...</td>\n",
       "      <td>[0.0, 0.0, 1.0, 0.0, -61.939791391800235, 19.5...</td>\n",
       "    </tr>\n",
       "    <tr>\n",
       "      <th>9</th>\n",
       "      <td>-124.21</td>\n",
       "      <td>40.75</td>\n",
       "      <td>32.0</td>\n",
       "      <td>1218.0</td>\n",
       "      <td>331.0</td>\n",
       "      <td>620.0</td>\n",
       "      <td>268.0</td>\n",
       "      <td>1.6528</td>\n",
       "      <td>58100.0</td>\n",
       "      <td>NEAR OCEAN</td>\n",
       "      <td>2.0</td>\n",
       "      <td>(0.0, 0.0, 1.0, 0.0)</td>\n",
       "      <td>(0.0, 0.0, 1.0, 0.0)</td>\n",
       "      <td>[-124.21, 40.75, 32.0, 1218.0, 331.0, 620.0, 2...</td>\n",
       "      <td>[-61.934805093990555, 19.04693795404855, 2.543...</td>\n",
       "      <td>[0.0, 0.0, 1.0, 0.0, -61.934805093990555, 19.0...</td>\n",
       "    </tr>\n",
       "  </tbody>\n",
       "</table>\n",
       "</div>"
      ],
      "text/plain": [
       "   longitude  latitude  housing_median_age  total_rooms  total_bedrooms  \\\n",
       "0    -124.35     40.54                52.0       1820.0           300.0   \n",
       "1    -124.30     41.80                19.0       2672.0           552.0   \n",
       "2    -124.30     41.84                17.0       2677.0           531.0   \n",
       "3    -124.27     40.69                36.0       2349.0           528.0   \n",
       "4    -124.26     40.58                52.0       2217.0           394.0   \n",
       "5    -124.25     40.28                32.0       1430.0           419.0   \n",
       "6    -124.23     40.81                52.0       1112.0           209.0   \n",
       "7    -124.23     41.75                11.0       3159.0           616.0   \n",
       "8    -124.22     41.73                28.0       3003.0           699.0   \n",
       "9    -124.21     40.75                32.0       1218.0           331.0   \n",
       "\n",
       "   population  households  median_income  median_house_value ocean_proximity  \\\n",
       "0       806.0       270.0         3.0147             94600.0      NEAR OCEAN   \n",
       "1      1298.0       478.0         1.9797             85800.0      NEAR OCEAN   \n",
       "2      1244.0       456.0         3.0313            103600.0      NEAR OCEAN   \n",
       "3      1194.0       465.0         2.5179             79000.0      NEAR OCEAN   \n",
       "4       907.0       369.0         2.3571            111400.0      NEAR OCEAN   \n",
       "5       434.0       187.0         1.9417             76100.0      NEAR OCEAN   \n",
       "6       544.0       172.0         3.3462             50800.0      NEAR OCEAN   \n",
       "7      1343.0       479.0         2.4805             73200.0      NEAR OCEAN   \n",
       "8      1530.0       653.0         1.7038             78300.0      NEAR OCEAN   \n",
       "9       620.0       268.0         1.6528             58100.0      NEAR OCEAN   \n",
       "\n",
       "   ocean_proximity_idx   ocean_proximity_ohe  categorical_features  \\\n",
       "0                  2.0  (0.0, 0.0, 1.0, 0.0)  (0.0, 0.0, 1.0, 0.0)   \n",
       "1                  2.0  (0.0, 0.0, 1.0, 0.0)  (0.0, 0.0, 1.0, 0.0)   \n",
       "2                  2.0  (0.0, 0.0, 1.0, 0.0)  (0.0, 0.0, 1.0, 0.0)   \n",
       "3                  2.0  (0.0, 0.0, 1.0, 0.0)  (0.0, 0.0, 1.0, 0.0)   \n",
       "4                  2.0  (0.0, 0.0, 1.0, 0.0)  (0.0, 0.0, 1.0, 0.0)   \n",
       "5                  2.0  (0.0, 0.0, 1.0, 0.0)  (0.0, 0.0, 1.0, 0.0)   \n",
       "6                  2.0  (0.0, 0.0, 1.0, 0.0)  (0.0, 0.0, 1.0, 0.0)   \n",
       "7                  2.0  (0.0, 0.0, 1.0, 0.0)  (0.0, 0.0, 1.0, 0.0)   \n",
       "8                  2.0  (0.0, 0.0, 1.0, 0.0)  (0.0, 0.0, 1.0, 0.0)   \n",
       "9                  2.0  (0.0, 0.0, 1.0, 0.0)  (0.0, 0.0, 1.0, 0.0)   \n",
       "\n",
       "                                  numerical_features  \\\n",
       "0  [-124.35, 40.54, 52.0, 1820.0, 300.0, 806.0, 2...   \n",
       "1  [-124.3, 41.8, 19.0, 2672.0, 552.0, 1298.0, 47...   \n",
       "2  [-124.3, 41.84, 17.0, 2677.0, 531.0, 1244.0, 4...   \n",
       "3  [-124.27, 40.69, 36.0, 2349.0, 528.0, 1194.0, ...   \n",
       "4  [-124.26, 40.58, 52.0, 2217.0, 394.0, 907.0, 3...   \n",
       "5  [-124.25, 40.28, 32.0, 1430.0, 419.0, 434.0, 1...   \n",
       "6  [-124.23, 40.81, 52.0, 1112.0, 209.0, 544.0, 1...   \n",
       "7  [-124.23, 41.75, 11.0, 3159.0, 616.0, 1343.0, ...   \n",
       "8  [-124.22, 41.73, 28.0, 3003.0, 699.0, 1530.0, ...   \n",
       "9  [-124.21, 40.75, 32.0, 1218.0, 331.0, 620.0, 2...   \n",
       "\n",
       "                           numerical_features_scaled  \\\n",
       "0  [-62.00461326332602, 18.948781954776152, 4.132...   \n",
       "1  [-61.979681774277644, 19.537717950410535, 1.51...   \n",
       "2  [-61.979681774277644, 19.556414331224328, 1.35...   \n",
       "3  [-61.96472288084861, 19.018893382827866, 2.861...   \n",
       "4  [-61.95973658303894, 18.96747833558994, 4.1326...   \n",
       "5  [-61.95475028522926, 18.827255479486517, 2.543...   \n",
       "6  [-61.944777689609914, 19.074982525269235, 4.13...   \n",
       "7  [-61.944777689609914, 19.5143474743933, 0.8742...   \n",
       "8  [-61.939791391800235, 19.504999283986404, 2.22...   \n",
       "9  [-61.934805093990555, 19.04693795404855, 2.543...   \n",
       "\n",
       "                                            features  \n",
       "0  [0.0, 0.0, 1.0, 0.0, -62.00461326332602, 18.94...  \n",
       "1  [0.0, 0.0, 1.0, 0.0, -61.979681774277644, 19.5...  \n",
       "2  [0.0, 0.0, 1.0, 0.0, -61.979681774277644, 19.5...  \n",
       "3  [0.0, 0.0, 1.0, 0.0, -61.96472288084861, 19.01...  \n",
       "4  [0.0, 0.0, 1.0, 0.0, -61.95973658303894, 18.96...  \n",
       "5  [0.0, 0.0, 1.0, 0.0, -61.95475028522926, 18.82...  \n",
       "6  [0.0, 0.0, 1.0, 0.0, -61.944777689609914, 19.0...  \n",
       "7  [0.0, 0.0, 1.0, 0.0, -61.944777689609914, 19.5...  \n",
       "8  [0.0, 0.0, 1.0, 0.0, -61.939791391800235, 19.5...  \n",
       "9  [0.0, 0.0, 1.0, 0.0, -61.934805093990555, 19.0...  "
      ]
     },
     "execution_count": 23,
     "metadata": {},
     "output_type": "execute_result"
    }
   ],
   "source": [
    "train_data.limit(10).toPandas()"
   ]
  },
  {
   "cell_type": "markdown",
   "id": "734414e6",
   "metadata": {
    "id": "9f0a82f3"
   },
   "source": [
    "## Обучение моделей"
   ]
  },
  {
   "cell_type": "markdown",
   "id": "f7144fc5",
   "metadata": {},
   "source": [
    "### LinearRegression на всех данных"
   ]
  },
  {
   "cell_type": "markdown",
   "id": "4a18ff2a",
   "metadata": {},
   "source": [
    "Создадим и обучим модель линейной регрессии используя числовые и категорийные данные:"
   ]
  },
  {
   "cell_type": "code",
   "execution_count": 24,
   "id": "ad28a4bf",
   "metadata": {
    "id": "bddb08c4"
   },
   "outputs": [
    {
     "name": "stderr",
     "output_type": "stream",
     "text": [
      "22/11/01 16:56:16 WARN Instrumentation: [e0f07123] regParam is zero, which might cause numerical instability and overfitting.\n",
      "22/11/01 16:56:17 WARN BLAS: Failed to load implementation from: com.github.fommil.netlib.NativeSystemBLAS\n",
      "22/11/01 16:56:17 WARN BLAS: Failed to load implementation from: com.github.fommil.netlib.NativeRefBLAS\n",
      "22/11/01 16:56:17 WARN LAPACK: Failed to load implementation from: com.github.fommil.netlib.NativeSystemLAPACK\n",
      "22/11/01 16:56:17 WARN LAPACK: Failed to load implementation from: com.github.fommil.netlib.NativeRefLAPACK\n",
      "22/11/01 16:56:18 WARN Instrumentation: [8226b55f] regParam is zero, which might cause numerical instability and overfitting.\n",
      "22/11/01 16:56:19 WARN Instrumentation: [64e47632] regParam is zero, which might cause numerical instability and overfitting.\n",
      "22/11/01 16:56:20 WARN Instrumentation: [35fd97b4] regParam is zero, which might cause numerical instability and overfitting.\n",
      "22/11/01 16:56:20 WARN Instrumentation: [418f6cd7] regParam is zero, which might cause numerical instability and overfitting.\n",
      "22/11/01 16:56:21 WARN Instrumentation: [f34d9006] regParam is zero, which might cause numerical instability and overfitting.\n",
      "22/11/01 16:56:34 WARN Instrumentation: [d605be99] regParam is zero, which might cause numerical instability and overfitting.\n",
      "22/11/01 16:56:35 WARN Instrumentation: [6d51c97b] regParam is zero, which might cause numerical instability and overfitting.\n",
      "22/11/01 16:56:35 WARN Instrumentation: [098ff71b] regParam is zero, which might cause numerical instability and overfitting.\n",
      "22/11/01 16:56:35 WARN Instrumentation: [b3f29d70] regParam is zero, which might cause numerical instability and overfitting.\n",
      "22/11/01 16:56:35 WARN Instrumentation: [94abd8b5] regParam is zero, which might cause numerical instability and overfitting.\n",
      "22/11/01 16:56:36 WARN Instrumentation: [0ee4ba10] regParam is zero, which might cause numerical instability and overfitting.\n",
      "22/11/01 16:56:44 WARN Instrumentation: [b5f3aa06] regParam is zero, which might cause numerical instability and overfitting.\n",
      "22/11/01 16:56:45 WARN Instrumentation: [bc93c8c1] regParam is zero, which might cause numerical instability and overfitting.\n",
      "22/11/01 16:56:45 WARN Instrumentation: [5ee7b49c] regParam is zero, which might cause numerical instability and overfitting.\n",
      "22/11/01 16:56:45 WARN Instrumentation: [29019d1f] regParam is zero, which might cause numerical instability and overfitting.\n",
      "22/11/01 16:56:46 WARN Instrumentation: [ee13cfe8] regParam is zero, which might cause numerical instability and overfitting.\n",
      "22/11/01 16:56:46 WARN Instrumentation: [57f72834] regParam is zero, which might cause numerical instability and overfitting.\n",
      "22/11/01 16:56:53 WARN Instrumentation: [5af79f20] regParam is zero, which might cause numerical instability and overfitting.\n",
      "22/11/01 16:56:54 WARN Instrumentation: [5ec15c6c] regParam is zero, which might cause numerical instability and overfitting.\n",
      "22/11/01 16:56:54 WARN Instrumentation: [f53ce25b] regParam is zero, which might cause numerical instability and overfitting.\n",
      "22/11/01 16:56:54 WARN Instrumentation: [f6633948] regParam is zero, which might cause numerical instability and overfitting.\n",
      "22/11/01 16:56:54 WARN Instrumentation: [b16ef509] regParam is zero, which might cause numerical instability and overfitting.\n",
      "22/11/01 16:56:55 WARN Instrumentation: [4c19f986] regParam is zero, which might cause numerical instability and overfitting.\n",
      "22/11/01 16:57:02 WARN Instrumentation: [291ad1d6] regParam is zero, which might cause numerical instability and overfitting.\n",
      "22/11/01 16:57:03 WARN Instrumentation: [dc16d9c9] regParam is zero, which might cause numerical instability and overfitting.\n",
      "22/11/01 16:57:03 WARN Instrumentation: [71709029] regParam is zero, which might cause numerical instability and overfitting.\n",
      "22/11/01 16:57:03 WARN Instrumentation: [eb102d2f] regParam is zero, which might cause numerical instability and overfitting.\n",
      "22/11/01 16:57:03 WARN Instrumentation: [1913544e] regParam is zero, which might cause numerical instability and overfitting.\n",
      "22/11/01 16:57:04 WARN Instrumentation: [f3b0fd5b] regParam is zero, which might cause numerical instability and overfitting.\n"
     ]
    },
    {
     "name": "stdout",
     "output_type": "stream",
     "text": [
      "Best regParam: 1.0\n",
      "Best elasticNetParam: 1.0\n",
      "RMSE: 68315\n"
     ]
    }
   ],
   "source": [
    "lr = LinearRegression(featuresCol='features', labelCol=target)\n",
    "\n",
    "grid_search = ParamGridBuilder() \\\n",
    "              .addGrid(lr.regParam, [0.0, 0.2, 0.4, 0.6, 0.8, 1.0]) \\\n",
    "              .addGrid(lr.elasticNetParam, [0.0, 0.2, 0.4, 0.6, 0.8, 1.0]) \\\n",
    "              .build()\n",
    "\n",
    "evaluator = RegressionEvaluator(predictionCol='prediction',\n",
    "                                labelCol=target,\n",
    "                                metricName='rmse')\n",
    "\n",
    "cv = CrossValidator(estimator=lr,\n",
    "                    estimatorParamMaps=grid_search,\n",
    "                    evaluator=evaluator,\n",
    "                    numFolds=5,\n",
    "                    seed=12345)\n",
    "\n",
    "cv_model = cv.fit(train_data)\n",
    "\n",
    "best_model_all = cv_model.bestModel\n",
    "\n",
    "print(f'Best regParam: {best_model_all._java_obj.getRegParam()}',\n",
    "      f'Best elasticNetParam: {best_model_all._java_obj.getElasticNetParam()}',\n",
    "      f'RMSE: {round(np.array(cv_model.avgMetrics).min())}',\n",
    "      sep='\\n')"
   ]
  },
  {
   "cell_type": "markdown",
   "id": "567bb424",
   "metadata": {},
   "source": [
    "Лучшая модель использует Elastic Net регуляризацию (гиперпараметры regParam=1 и elasticNetParam=1). RMSE лучшей модели составляет 68315 у.е."
   ]
  },
  {
   "cell_type": "markdown",
   "id": "cd293abe",
   "metadata": {},
   "source": [
    "### LinearRegression на числовых признаках"
   ]
  },
  {
   "cell_type": "markdown",
   "id": "d69a872e",
   "metadata": {},
   "source": [
    "Создадим и обучим модель линейной регрессии используя только числовые данные:"
   ]
  },
  {
   "cell_type": "code",
   "execution_count": 25,
   "id": "5b423a90",
   "metadata": {},
   "outputs": [
    {
     "name": "stderr",
     "output_type": "stream",
     "text": [
      "22/11/01 16:57:11 WARN Instrumentation: [f96c549a] regParam is zero, which might cause numerical instability and overfitting.\n",
      "22/11/01 16:57:12 WARN Instrumentation: [85ade0d6] regParam is zero, which might cause numerical instability and overfitting.\n",
      "22/11/01 16:57:12 WARN Instrumentation: [734b26c1] regParam is zero, which might cause numerical instability and overfitting.\n",
      "22/11/01 16:57:12 WARN Instrumentation: [761bbf1b] regParam is zero, which might cause numerical instability and overfitting.\n",
      "22/11/01 16:57:13 WARN Instrumentation: [5d86d68f] regParam is zero, which might cause numerical instability and overfitting.\n",
      "22/11/01 16:57:13 WARN Instrumentation: [629acdbc] regParam is zero, which might cause numerical instability and overfitting.\n",
      "22/11/01 16:57:18 WARN Instrumentation: [cb44e3bd] regParam is zero, which might cause numerical instability and overfitting.\n",
      "22/11/01 16:57:19 WARN Instrumentation: [8810de93] regParam is zero, which might cause numerical instability and overfitting.\n",
      "22/11/01 16:57:19 WARN Instrumentation: [d287264e] regParam is zero, which might cause numerical instability and overfitting.\n",
      "22/11/01 16:57:20 WARN Instrumentation: [495bad2f] regParam is zero, which might cause numerical instability and overfitting.\n",
      "22/11/01 16:57:20 WARN Instrumentation: [9cb26fc6] regParam is zero, which might cause numerical instability and overfitting.\n",
      "22/11/01 16:57:20 WARN Instrumentation: [ba911612] regParam is zero, which might cause numerical instability and overfitting.\n",
      "22/11/01 16:57:26 WARN Instrumentation: [0544118f] regParam is zero, which might cause numerical instability and overfitting.\n",
      "22/11/01 16:57:26 WARN Instrumentation: [9376f863] regParam is zero, which might cause numerical instability and overfitting.\n",
      "22/11/01 16:57:27 WARN Instrumentation: [4c78d0fb] regParam is zero, which might cause numerical instability and overfitting.\n",
      "22/11/01 16:57:27 WARN Instrumentation: [0508b12d] regParam is zero, which might cause numerical instability and overfitting.\n",
      "22/11/01 16:57:27 WARN Instrumentation: [3c9aaa34] regParam is zero, which might cause numerical instability and overfitting.\n",
      "22/11/01 16:57:27 WARN Instrumentation: [b262ba88] regParam is zero, which might cause numerical instability and overfitting.\n",
      "22/11/01 16:57:33 WARN Instrumentation: [733e46fb] regParam is zero, which might cause numerical instability and overfitting.\n",
      "22/11/01 16:57:34 WARN Instrumentation: [f2491255] regParam is zero, which might cause numerical instability and overfitting.\n",
      "22/11/01 16:57:34 WARN Instrumentation: [f3c228e8] regParam is zero, which might cause numerical instability and overfitting.\n",
      "22/11/01 16:57:34 WARN Instrumentation: [4e05b09f] regParam is zero, which might cause numerical instability and overfitting.\n",
      "22/11/01 16:57:34 WARN Instrumentation: [20c05794] regParam is zero, which might cause numerical instability and overfitting.\n",
      "22/11/01 16:57:34 WARN Instrumentation: [dfbe6670] regParam is zero, which might cause numerical instability and overfitting.\n",
      "22/11/01 16:57:40 WARN Instrumentation: [26705b31] regParam is zero, which might cause numerical instability and overfitting.\n",
      "22/11/01 16:57:41 WARN Instrumentation: [31de794b] regParam is zero, which might cause numerical instability and overfitting.\n",
      "22/11/01 16:57:41 WARN Instrumentation: [9bf22d7f] regParam is zero, which might cause numerical instability and overfitting.\n",
      "22/11/01 16:57:41 WARN Instrumentation: [08aaee37] regParam is zero, which might cause numerical instability and overfitting.\n",
      "22/11/01 16:57:41 WARN Instrumentation: [26adcf39] regParam is zero, which might cause numerical instability and overfitting.\n",
      "22/11/01 16:57:42 WARN Instrumentation: [c9e052da] regParam is zero, which might cause numerical instability and overfitting.\n"
     ]
    },
    {
     "name": "stdout",
     "output_type": "stream",
     "text": [
      "Best regParam: 0.2\n",
      "Best elasticNetParam: 0.2\n",
      "RMSE: 69157\n"
     ]
    }
   ],
   "source": [
    "lr = LinearRegression(featuresCol='numerical_features_scaled', labelCol=target)\n",
    "\n",
    "grid_search = ParamGridBuilder() \\\n",
    "              .addGrid(lr.regParam, [0.0, 0.2, 0.4, 0.6, 0.8, 1.0]) \\\n",
    "              .addGrid(lr.elasticNetParam, [0.0, 0.2, 0.4, 0.6, 0.8, 1.0]) \\\n",
    "              .build()\n",
    "\n",
    "evaluator = RegressionEvaluator(predictionCol='prediction',\n",
    "                                labelCol=target,\n",
    "                                metricName='rmse')\n",
    "\n",
    "cv = CrossValidator(estimator=lr,\n",
    "                    estimatorParamMaps=grid_search,\n",
    "                    evaluator=evaluator,\n",
    "                    numFolds=5,\n",
    "                    seed=12345)\n",
    "\n",
    "cv_model = cv.fit(train_data)\n",
    "\n",
    "best_model_num = cv_model.bestModel\n",
    "\n",
    "print(f'Best regParam: {best_model_num._java_obj.getRegParam()}',\n",
    "      f'Best elasticNetParam: {best_model_num._java_obj.getElasticNetParam()}',\n",
    "      f'RMSE: {round(np.array(cv_model.avgMetrics).min())}',\n",
    "      sep='\\n')"
   ]
  },
  {
   "cell_type": "markdown",
   "id": "d229a7f0",
   "metadata": {},
   "source": [
    "Лучшая модель использует Elastic Net регуляризацию (гиперпараметры regParam=0.2 и elasticNetParam=0.2). RMSE лучшей модели составляет 69157 у.е., что хуже, чем у модели, построенной на всех признаках."
   ]
  },
  {
   "cell_type": "markdown",
   "id": "c82e0067",
   "metadata": {
    "id": "757fd103"
   },
   "source": [
    "## Анализ результатов"
   ]
  },
  {
   "cell_type": "markdown",
   "id": "56c95f31",
   "metadata": {},
   "source": [
    "Сравним результаты работы моделей по метрикам RMSE, MAE и R2."
   ]
  },
  {
   "cell_type": "markdown",
   "id": "8c979f45",
   "metadata": {},
   "source": [
    "### LinearRegression на всех данных"
   ]
  },
  {
   "cell_type": "code",
   "execution_count": 26,
   "id": "214274e7",
   "metadata": {},
   "outputs": [
    {
     "name": "stdout",
     "output_type": "stream",
     "text": [
      "MAE: 49381\n",
      "RMSE: 68604\n",
      "R2: 0.656\n"
     ]
    }
   ],
   "source": [
    "predictions_all = best_model_all.transform(test_data)\n",
    "\n",
    "evaluator = RegressionEvaluator(predictionCol='prediction', labelCol='median_house_value')\n",
    "\n",
    "print(f'MAE: {round(evaluator.evaluate(predictions_all, {evaluator.metricName: \"mae\"}))}',\n",
    "      f'RMSE: {round(evaluator.evaluate(predictions_all, {evaluator.metricName: \"rmse\"}))}',\n",
    "      f'R2: {round(evaluator.evaluate(predictions_all, {evaluator.metricName: \"r2\"}), 3)}',\n",
    "      sep='\\n')"
   ]
  },
  {
   "cell_type": "markdown",
   "id": "51a8ee2f",
   "metadata": {},
   "source": [
    "### LinearRegression на числовых признаках"
   ]
  },
  {
   "cell_type": "code",
   "execution_count": 27,
   "id": "81036c04",
   "metadata": {},
   "outputs": [
    {
     "name": "stdout",
     "output_type": "stream",
     "text": [
      "MAE: 50465\n",
      "RMSE: 69554\n",
      "R2: 0.646\n"
     ]
    }
   ],
   "source": [
    "predictions_num = best_model_num.transform(test_data)\n",
    "\n",
    "print(f'MAE: {round(evaluator.evaluate(predictions_num, {evaluator.metricName: \"mae\"}))}',\n",
    "      f'RMSE: {round(evaluator.evaluate(predictions_num, {evaluator.metricName: \"rmse\"}))}',\n",
    "      f'R2: {round(evaluator.evaluate(predictions_num, {evaluator.metricName: \"r2\"}), 3)}',\n",
    "      sep='\\n')"
   ]
  },
  {
   "cell_type": "code",
   "execution_count": 28,
   "id": "e74e4640",
   "metadata": {},
   "outputs": [
    {
     "data": {
      "text/plain": [
       "[Row(avg(median_house_value)=206855.81690891474)]"
      ]
     },
     "execution_count": 28,
     "metadata": {},
     "output_type": "execute_result"
    }
   ],
   "source": [
    "df.select(F.avg('median_house_value')).collect()"
   ]
  },
  {
   "cell_type": "markdown",
   "id": "e5376d1c",
   "metadata": {},
   "source": [
    "## Выводы:\n",
    "При кросс валидации лучше себя показала модель, построенная на всех признаках, RMSE составляет 68315 у.е. У модели, построенной только на числовых признаках, RMSE составляет 69157 у.е.\n",
    "\n",
    "На тестовой выборке:\n",
    "* модель линейной регрессии, построенная на полном наборе данных с гиперпараметрами regParam=1 и elasticNetParam=1, в среднем ошибается на 49381 у.е. или на 23.9%, RMSE составляет 68604 у.е., R2 0.656 - 65,6% дисперсии целевой переменной объясняется моделью;\n",
    "* модель, построенная только на числовых признаках с гиперпараметрами regParam=0.2 и elasticNetParam=0.2, показала себя немного хуже:\n",
    "  - MAE: 50465 у.е. (в среднем ошибка на 24.4%)\n",
    "  - RMSE: 69554 у.е.\n",
    "  - R2: 0.646"
   ]
  }
 ],
 "metadata": {
  "ExecuteTimeLog": [
   {
    "duration": 25,
    "start_time": "2022-06-25T10:54:32.420Z"
   },
   {
    "duration": 47,
    "start_time": "2022-06-25T10:54:32.709Z"
   },
   {
    "duration": 52,
    "start_time": "2022-06-25T10:54:44.825Z"
   },
   {
    "duration": 82,
    "start_time": "2022-06-25T10:54:52.296Z"
   },
   {
    "duration": 15746,
    "start_time": "2022-06-25T10:55:06.452Z"
   },
   {
    "duration": 7478,
    "start_time": "2022-06-25T10:57:30.994Z"
   },
   {
    "duration": 510,
    "start_time": "2022-06-25T10:57:48.982Z"
   },
   {
    "duration": 1712,
    "start_time": "2022-06-25T10:58:15.376Z"
   },
   {
    "duration": 5,
    "start_time": "2022-06-25T10:59:27.553Z"
   },
   {
    "duration": 222,
    "start_time": "2022-06-25T11:01:03.166Z"
   },
   {
    "duration": 1340,
    "start_time": "2022-06-25T11:01:36.928Z"
   },
   {
    "duration": 5,
    "start_time": "2022-06-25T11:01:45.054Z"
   },
   {
    "duration": 232,
    "start_time": "2022-06-27T06:16:23.159Z"
   },
   {
    "duration": 23662,
    "start_time": "2022-06-27T06:16:26.411Z"
   },
   {
    "duration": 65,
    "start_time": "2022-06-27T06:16:50.075Z"
   },
   {
    "duration": 60,
    "start_time": "2022-06-27T06:18:44.629Z"
   },
   {
    "duration": 46,
    "start_time": "2022-06-27T06:18:52.527Z"
   },
   {
    "duration": 1912,
    "start_time": "2022-06-27T06:19:01.130Z"
   },
   {
    "duration": 728,
    "start_time": "2022-06-27T06:28:37.818Z"
   },
   {
    "duration": 3,
    "start_time": "2022-06-27T06:28:40.694Z"
   },
   {
    "duration": 392,
    "start_time": "2022-06-27T06:30:06.539Z"
   },
   {
    "duration": 266,
    "start_time": "2022-06-27T06:30:15.014Z"
   },
   {
    "duration": 257,
    "start_time": "2022-06-27T06:30:24.016Z"
   },
   {
    "duration": 254,
    "start_time": "2022-06-27T06:30:32.707Z"
   },
   {
    "duration": 275,
    "start_time": "2022-06-27T06:30:38.764Z"
   },
   {
    "duration": 13,
    "start_time": "2022-06-27T06:32:09.228Z"
   },
   {
    "duration": 13,
    "start_time": "2022-06-27T06:32:15.651Z"
   },
   {
    "duration": 11,
    "start_time": "2022-06-27T06:32:22.896Z"
   },
   {
    "duration": 545,
    "start_time": "2022-06-27T06:32:33.029Z"
   },
   {
    "duration": 173,
    "start_time": "2022-06-27T06:32:37.856Z"
   },
   {
    "duration": 24,
    "start_time": "2022-06-27T06:32:51.940Z"
   },
   {
    "duration": 153,
    "start_time": "2022-06-27T06:32:56.096Z"
   },
   {
    "duration": 3081,
    "start_time": "2022-06-27T06:35:03.477Z"
   },
   {
    "duration": 1929,
    "start_time": "2022-06-27T06:35:11.917Z"
   },
   {
    "duration": 1311,
    "start_time": "2022-06-27T06:35:33.849Z"
   },
   {
    "duration": 1507,
    "start_time": "2022-06-27T06:35:39.962Z"
   },
   {
    "duration": 1017,
    "start_time": "2022-06-27T06:36:00.341Z"
   },
   {
    "duration": 52,
    "start_time": "2022-06-27T06:38:43.239Z"
   },
   {
    "duration": 9,
    "start_time": "2022-06-27T06:38:57.150Z"
   },
   {
    "duration": 3540,
    "start_time": "2022-06-27T06:39:05.887Z"
   },
   {
    "duration": 109,
    "start_time": "2022-06-27T06:39:16.969Z"
   },
   {
    "duration": 71,
    "start_time": "2022-06-27T06:39:36.600Z"
   },
   {
    "duration": 5,
    "start_time": "2022-06-27T06:39:43.239Z"
   },
   {
    "duration": 86,
    "start_time": "2022-06-27T06:40:03.971Z"
   },
   {
    "duration": 43,
    "start_time": "2022-06-27T06:40:45.873Z"
   },
   {
    "duration": 2490,
    "start_time": "2022-06-27T06:41:04.262Z"
   },
   {
    "duration": 1921,
    "start_time": "2022-06-27T06:41:27.530Z"
   },
   {
    "duration": 7,
    "start_time": "2022-06-27T06:44:25.347Z"
   },
   {
    "duration": 3,
    "start_time": "2022-06-27T06:44:36.166Z"
   },
   {
    "duration": 2180,
    "start_time": "2022-06-27T06:44:43.047Z"
   },
   {
    "duration": 46,
    "start_time": "2022-06-27T06:45:06.958Z"
   },
   {
    "duration": 1760,
    "start_time": "2022-06-27T06:45:16.886Z"
   },
   {
    "duration": 1593,
    "start_time": "2022-06-27T06:45:32.111Z"
   },
   {
    "duration": 1499,
    "start_time": "2022-06-27T06:45:40.998Z"
   },
   {
    "duration": 1475,
    "start_time": "2022-06-27T06:46:42.288Z"
   },
   {
    "duration": 55,
    "start_time": "2022-06-27T06:47:34.091Z"
   },
   {
    "duration": 47,
    "start_time": "2022-06-27T06:47:45.571Z"
   },
   {
    "duration": 1351,
    "start_time": "2022-06-27T06:48:17.024Z"
   },
   {
    "duration": 1246,
    "start_time": "2022-06-27T06:48:34.723Z"
   },
   {
    "duration": 446,
    "start_time": "2022-06-27T06:48:45.106Z"
   },
   {
    "duration": 25704,
    "start_time": "2022-06-27T06:48:45.554Z"
   },
   {
    "duration": 85,
    "start_time": "2022-06-27T06:49:11.260Z"
   },
   {
    "duration": 609,
    "start_time": "2022-06-27T06:49:11.347Z"
   },
   {
    "duration": 5177,
    "start_time": "2022-06-27T06:49:11.958Z"
   },
   {
    "duration": 4624,
    "start_time": "2022-06-27T06:49:17.141Z"
   },
   {
    "duration": 2902,
    "start_time": "2022-06-27T06:49:23.750Z"
   },
   {
    "duration": 2577,
    "start_time": "2022-06-27T06:55:03.389Z"
   },
   {
    "duration": 2156,
    "start_time": "2022-06-27T06:55:13.183Z"
   },
   {
    "duration": 2361,
    "start_time": "2022-06-27T06:56:30.611Z"
   },
   {
    "duration": 1751,
    "start_time": "2022-06-27T06:56:45.398Z"
   },
   {
    "duration": 1715,
    "start_time": "2022-06-27T06:57:24.267Z"
   },
   {
    "duration": 6,
    "start_time": "2022-06-27T07:06:14.678Z"
   },
   {
    "duration": 4,
    "start_time": "2022-06-27T07:06:19.203Z"
   },
   {
    "duration": 18,
    "start_time": "2022-06-27T07:32:18.402Z"
   },
   {
    "duration": 3,
    "start_time": "2022-06-27T07:32:24.064Z"
   },
   {
    "duration": 689,
    "start_time": "2022-06-27T07:39:06.181Z"
   },
   {
    "duration": 335,
    "start_time": "2022-06-27T07:39:11.477Z"
   },
   {
    "duration": 48,
    "start_time": "2022-06-27T07:42:59.586Z"
   },
   {
    "duration": 473,
    "start_time": "2022-06-27T07:43:04.861Z"
   },
   {
    "duration": 366,
    "start_time": "2022-06-27T07:43:24.099Z"
   },
   {
    "duration": 335,
    "start_time": "2022-06-27T07:43:31.911Z"
   },
   {
    "duration": 8,
    "start_time": "2022-06-27T07:46:03.726Z"
   },
   {
    "duration": 92,
    "start_time": "2022-06-27T07:46:26.143Z"
   },
   {
    "duration": 681,
    "start_time": "2022-06-27T07:46:44.784Z"
   },
   {
    "duration": 25,
    "start_time": "2022-06-27T07:46:54.900Z"
   },
   {
    "duration": 288,
    "start_time": "2022-06-27T07:46:59.359Z"
   },
   {
    "duration": 280,
    "start_time": "2022-06-27T07:47:07.891Z"
   },
   {
    "duration": 237,
    "start_time": "2022-06-27T07:48:12.752Z"
   },
   {
    "duration": 12,
    "start_time": "2022-06-27T07:52:56.211Z"
   },
   {
    "duration": 5,
    "start_time": "2022-06-27T07:53:06.875Z"
   },
   {
    "duration": 3,
    "start_time": "2022-06-27T07:54:50.274Z"
   },
   {
    "duration": 10,
    "start_time": "2022-06-27T07:57:08.831Z"
   },
   {
    "duration": 3,
    "start_time": "2022-06-27T07:57:27.775Z"
   },
   {
    "duration": 2821,
    "start_time": "2022-06-27T07:57:32.260Z"
   },
   {
    "duration": 233,
    "start_time": "2022-06-27T08:01:43.223Z"
   },
   {
    "duration": 2282,
    "start_time": "2022-06-27T08:02:39.809Z"
   },
   {
    "duration": 2195,
    "start_time": "2022-06-27T08:03:18.412Z"
   },
   {
    "duration": 2106,
    "start_time": "2022-06-27T08:03:25.410Z"
   },
   {
    "duration": 2389,
    "start_time": "2022-06-27T08:03:32.328Z"
   },
   {
    "duration": 2288,
    "start_time": "2022-06-27T08:04:57.721Z"
   },
   {
    "duration": 2419,
    "start_time": "2022-06-27T08:06:23.258Z"
   },
   {
    "duration": 396,
    "start_time": "2022-06-27T08:11:23.052Z"
   },
   {
    "duration": 50,
    "start_time": "2022-06-27T08:11:45.557Z"
   },
   {
    "duration": 62,
    "start_time": "2022-06-27T08:11:51.632Z"
   },
   {
    "duration": 256,
    "start_time": "2022-06-27T08:11:55.410Z"
   },
   {
    "duration": 360,
    "start_time": "2022-06-27T08:12:07.917Z"
   },
   {
    "duration": 294,
    "start_time": "2022-06-27T08:12:52.288Z"
   },
   {
    "duration": 210,
    "start_time": "2022-06-27T08:13:12.385Z"
   },
   {
    "duration": 312,
    "start_time": "2022-06-27T08:13:23.137Z"
   },
   {
    "duration": 307,
    "start_time": "2022-06-27T08:13:30.457Z"
   },
   {
    "duration": 248,
    "start_time": "2022-06-27T08:13:37.120Z"
   },
   {
    "duration": 180,
    "start_time": "2022-06-27T08:13:41.453Z"
   },
   {
    "duration": 309,
    "start_time": "2022-06-27T08:13:52.548Z"
   },
   {
    "duration": 211,
    "start_time": "2022-06-27T08:13:57.273Z"
   },
   {
    "duration": 288,
    "start_time": "2022-06-27T08:14:15.405Z"
   },
   {
    "duration": 330,
    "start_time": "2022-06-27T08:14:27.205Z"
   },
   {
    "duration": 370,
    "start_time": "2022-06-27T08:14:48.886Z"
   },
   {
    "duration": 183,
    "start_time": "2022-06-27T08:14:55.660Z"
   },
   {
    "duration": 358,
    "start_time": "2022-06-27T08:16:46.405Z"
   },
   {
    "duration": 208,
    "start_time": "2022-06-27T08:17:14.883Z"
   },
   {
    "duration": 282,
    "start_time": "2022-06-27T08:17:31.886Z"
   },
   {
    "duration": 344,
    "start_time": "2022-06-27T08:17:41.653Z"
   },
   {
    "duration": 11,
    "start_time": "2022-06-27T08:25:56.769Z"
   },
   {
    "duration": 24,
    "start_time": "2022-06-27T08:26:28.011Z"
   },
   {
    "duration": 20,
    "start_time": "2022-06-27T08:26:54.695Z"
   },
   {
    "duration": 9,
    "start_time": "2022-06-27T08:27:02.491Z"
   },
   {
    "duration": 21,
    "start_time": "2022-06-27T08:27:13.724Z"
   },
   {
    "duration": 7,
    "start_time": "2022-06-27T08:29:13.117Z"
   },
   {
    "duration": 3,
    "start_time": "2022-06-27T08:40:03.960Z"
   },
   {
    "duration": 3,
    "start_time": "2022-06-27T08:40:19.925Z"
   },
   {
    "duration": 582,
    "start_time": "2022-06-27T08:45:19.175Z"
   },
   {
    "duration": 40,
    "start_time": "2022-06-27T08:48:29.472Z"
   },
   {
    "duration": 1022,
    "start_time": "2022-06-27T08:50:14.981Z"
   },
   {
    "duration": 966,
    "start_time": "2022-06-27T08:53:11.576Z"
   },
   {
    "duration": 6,
    "start_time": "2022-06-27T08:53:20.592Z"
   },
   {
    "duration": 16,
    "start_time": "2022-06-27T08:54:12.384Z"
   },
   {
    "duration": 6,
    "start_time": "2022-06-27T08:54:31.932Z"
   },
   {
    "duration": 8,
    "start_time": "2022-06-27T08:54:57.927Z"
   },
   {
    "duration": 12,
    "start_time": "2022-06-27T08:55:53.353Z"
   },
   {
    "duration": 10,
    "start_time": "2022-06-27T08:56:19.181Z"
   },
   {
    "duration": 8,
    "start_time": "2022-06-27T08:56:25.866Z"
   },
   {
    "duration": 9,
    "start_time": "2022-06-27T08:56:35.750Z"
   },
   {
    "duration": 1170,
    "start_time": "2022-06-27T08:57:25.965Z"
   },
   {
    "duration": 2117,
    "start_time": "2022-06-27T09:17:52.430Z"
   },
   {
    "duration": 1299,
    "start_time": "2022-06-27T09:18:05.138Z"
   },
   {
    "duration": 20,
    "start_time": "2022-06-27T09:19:02.265Z"
   },
   {
    "duration": 364,
    "start_time": "2022-06-27T09:19:12.675Z"
   },
   {
    "duration": 176,
    "start_time": "2022-06-27T09:19:18.784Z"
   },
   {
    "duration": 22,
    "start_time": "2022-06-27T09:21:50.592Z"
   },
   {
    "duration": 14,
    "start_time": "2022-06-27T09:25:51.176Z"
   },
   {
    "duration": 12,
    "start_time": "2022-06-27T09:29:09.260Z"
   },
   {
    "duration": 12,
    "start_time": "2022-06-27T09:35:11.513Z"
   },
   {
    "duration": 4,
    "start_time": "2022-06-27T09:44:43.085Z"
   },
   {
    "duration": 8,
    "start_time": "2022-06-27T09:44:49.463Z"
   },
   {
    "duration": 8,
    "start_time": "2022-06-27T09:44:54.367Z"
   },
   {
    "duration": 8,
    "start_time": "2022-06-27T09:44:59.477Z"
   },
   {
    "duration": 9,
    "start_time": "2022-06-27T09:45:09.118Z"
   },
   {
    "duration": 3,
    "start_time": "2022-06-27T09:45:13.012Z"
   },
   {
    "duration": 9,
    "start_time": "2022-06-27T09:46:03.473Z"
   },
   {
    "duration": 13,
    "start_time": "2022-06-27T09:46:38.592Z"
   },
   {
    "duration": 164,
    "start_time": "2022-06-27T09:46:44.269Z"
   },
   {
    "duration": 47,
    "start_time": "2022-06-27T09:47:35.096Z"
   },
   {
    "duration": 3,
    "start_time": "2022-06-27T09:52:18.794Z"
   },
   {
    "duration": 20,
    "start_time": "2022-06-27T09:54:19.773Z"
   },
   {
    "duration": 126,
    "start_time": "2022-06-27T09:54:46.672Z"
   },
   {
    "duration": 23,
    "start_time": "2022-06-27T09:58:54.266Z"
   },
   {
    "duration": 132,
    "start_time": "2022-06-27T09:59:50.711Z"
   },
   {
    "duration": 12,
    "start_time": "2022-06-27T10:00:50.134Z"
   },
   {
    "duration": 12,
    "start_time": "2022-06-27T10:05:45.760Z"
   },
   {
    "duration": 192,
    "start_time": "2022-06-27T10:05:52.335Z"
   },
   {
    "duration": 477,
    "start_time": "2022-06-27T10:06:04.977Z"
   },
   {
    "duration": 46,
    "start_time": "2022-06-27T10:11:14.962Z"
   },
   {
    "duration": 46,
    "start_time": "2022-06-27T10:11:36.783Z"
   },
   {
    "duration": 19,
    "start_time": "2022-06-27T10:12:01.755Z"
   },
   {
    "duration": 426,
    "start_time": "2022-06-27T10:12:09.395Z"
   },
   {
    "duration": 1218,
    "start_time": "2022-06-27T10:12:56.914Z"
   },
   {
    "duration": 23706,
    "start_time": "2022-06-27T10:12:58.134Z"
   },
   {
    "duration": 16,
    "start_time": "2022-06-27T10:13:21.842Z"
   },
   {
    "duration": 611,
    "start_time": "2022-06-27T10:13:21.860Z"
   },
   {
    "duration": 4377,
    "start_time": "2022-06-27T10:13:22.473Z"
   },
   {
    "duration": 822,
    "start_time": "2022-06-27T10:13:26.852Z"
   },
   {
    "duration": 4225,
    "start_time": "2022-06-27T10:13:27.728Z"
   },
   {
    "duration": 4072,
    "start_time": "2022-06-27T10:13:31.955Z"
   },
   {
    "duration": 3,
    "start_time": "2022-06-27T10:13:36.029Z"
   },
   {
    "duration": 7,
    "start_time": "2022-06-27T10:13:36.034Z"
   },
   {
    "duration": 1811,
    "start_time": "2022-06-27T10:13:36.042Z"
   },
   {
    "duration": 3,
    "start_time": "2022-06-27T10:13:37.854Z"
   },
   {
    "duration": 497,
    "start_time": "2022-06-27T10:13:37.859Z"
   },
   {
    "duration": 340,
    "start_time": "2022-06-27T10:13:38.358Z"
   },
   {
    "duration": 59,
    "start_time": "2022-06-27T10:13:38.700Z"
   },
   {
    "duration": 586,
    "start_time": "2022-06-27T10:13:38.761Z"
   },
   {
    "duration": 212,
    "start_time": "2022-06-27T10:14:48.760Z"
   },
   {
    "duration": 1168,
    "start_time": "2022-06-27T10:14:58.444Z"
   },
   {
    "duration": 25838,
    "start_time": "2022-06-27T10:14:59.613Z"
   },
   {
    "duration": 82,
    "start_time": "2022-06-27T10:15:25.457Z"
   },
   {
    "duration": 593,
    "start_time": "2022-06-27T10:15:25.543Z"
   },
   {
    "duration": 5396,
    "start_time": "2022-06-27T10:15:26.139Z"
   },
   {
    "duration": 950,
    "start_time": "2022-06-27T10:15:31.538Z"
   },
   {
    "duration": 4582,
    "start_time": "2022-06-27T10:15:32.491Z"
   },
   {
    "duration": 4456,
    "start_time": "2022-06-27T10:15:37.127Z"
   },
   {
    "duration": 3,
    "start_time": "2022-06-27T10:15:41.587Z"
   },
   {
    "duration": 9,
    "start_time": "2022-06-27T10:15:41.591Z"
   },
   {
    "duration": 1851,
    "start_time": "2022-06-27T10:15:41.602Z"
   },
   {
    "duration": 2,
    "start_time": "2022-06-27T10:15:43.455Z"
   },
   {
    "duration": 604,
    "start_time": "2022-06-27T10:15:43.459Z"
   },
   {
    "duration": 382,
    "start_time": "2022-06-27T10:15:44.065Z"
   },
   {
    "duration": 96,
    "start_time": "2022-06-27T10:15:44.449Z"
   },
   {
    "duration": 806,
    "start_time": "2022-06-27T10:15:44.547Z"
   },
   {
    "duration": 240,
    "start_time": "2022-06-27T10:16:38.936Z"
   },
   {
    "duration": 408,
    "start_time": "2022-06-27T10:17:23.575Z"
   },
   {
    "duration": 41,
    "start_time": "2022-06-27T10:18:26.036Z"
   },
   {
    "duration": 563,
    "start_time": "2022-06-27T10:18:27.180Z"
   },
   {
    "duration": 108,
    "start_time": "2022-06-27T10:18:49.100Z"
   },
   {
    "duration": 8,
    "start_time": "2022-06-27T10:18:53.025Z"
   },
   {
    "duration": 12,
    "start_time": "2022-06-27T10:19:09.406Z"
   },
   {
    "duration": 9,
    "start_time": "2022-06-27T10:19:17.326Z"
   },
   {
    "duration": 280,
    "start_time": "2022-06-27T10:20:06.452Z"
   },
   {
    "duration": 294,
    "start_time": "2022-06-27T10:21:06.643Z"
   },
   {
    "duration": 372,
    "start_time": "2022-06-27T10:22:12.357Z"
   },
   {
    "duration": 315,
    "start_time": "2022-06-27T10:22:18.323Z"
   },
   {
    "duration": 5523,
    "start_time": "2022-06-27T10:25:38.515Z"
   },
   {
    "duration": 1204,
    "start_time": "2022-06-27T10:26:51.625Z"
   },
   {
    "duration": 24911,
    "start_time": "2022-06-27T10:26:52.831Z"
   },
   {
    "duration": 84,
    "start_time": "2022-06-27T10:27:17.744Z"
   },
   {
    "duration": 608,
    "start_time": "2022-06-27T10:27:17.832Z"
   },
   {
    "duration": 4121,
    "start_time": "2022-06-27T10:27:18.442Z"
   },
   {
    "duration": 1005,
    "start_time": "2022-06-27T10:27:22.565Z"
   },
   {
    "duration": 3860,
    "start_time": "2022-06-27T10:27:23.571Z"
   },
   {
    "duration": 6199,
    "start_time": "2022-06-27T10:27:27.433Z"
   },
   {
    "duration": 3821,
    "start_time": "2022-06-27T10:27:33.634Z"
   },
   {
    "duration": 2,
    "start_time": "2022-06-27T10:27:37.458Z"
   },
   {
    "duration": 8,
    "start_time": "2022-06-27T10:27:37.462Z"
   },
   {
    "duration": 1455,
    "start_time": "2022-06-27T10:27:37.471Z"
   },
   {
    "duration": 434,
    "start_time": "2022-06-27T10:27:38.928Z"
   },
   {
    "duration": 388,
    "start_time": "2022-06-27T10:27:39.363Z"
   },
   {
    "duration": 4,
    "start_time": "2022-06-27T10:31:04.557Z"
   },
   {
    "duration": 41,
    "start_time": "2022-06-27T10:31:46.636Z"
   },
   {
    "duration": 4,
    "start_time": "2022-06-27T10:34:56.115Z"
   },
   {
    "duration": 4,
    "start_time": "2022-06-27T10:35:01.671Z"
   },
   {
    "duration": 4,
    "start_time": "2022-06-27T10:35:05.716Z"
   },
   {
    "duration": 2,
    "start_time": "2022-06-27T10:35:12.944Z"
   },
   {
    "duration": 3,
    "start_time": "2022-06-27T10:35:20.706Z"
   },
   {
    "duration": 128,
    "start_time": "2022-06-27T10:39:44.612Z"
   },
   {
    "duration": 110,
    "start_time": "2022-06-27T10:40:03.371Z"
   },
   {
    "duration": 5,
    "start_time": "2022-06-27T10:40:36.774Z"
   },
   {
    "duration": 1673,
    "start_time": "2022-06-27T10:41:43.755Z"
   },
   {
    "duration": 109,
    "start_time": "2022-06-27T10:42:03.851Z"
   },
   {
    "duration": 1206,
    "start_time": "2022-06-27T10:42:20.594Z"
   },
   {
    "duration": 23347,
    "start_time": "2022-06-27T10:42:21.802Z"
   },
   {
    "duration": 76,
    "start_time": "2022-06-27T10:42:45.151Z"
   },
   {
    "duration": 430,
    "start_time": "2022-06-27T10:42:45.229Z"
   },
   {
    "duration": 4486,
    "start_time": "2022-06-27T10:42:45.661Z"
   },
   {
    "duration": 822,
    "start_time": "2022-06-27T10:42:50.149Z"
   },
   {
    "duration": 4611,
    "start_time": "2022-06-27T10:42:51.027Z"
   },
   {
    "duration": 5989,
    "start_time": "2022-06-27T10:42:55.640Z"
   },
   {
    "duration": 3820,
    "start_time": "2022-06-27T10:43:01.631Z"
   },
   {
    "duration": 2,
    "start_time": "2022-06-27T10:43:05.454Z"
   },
   {
    "duration": 11,
    "start_time": "2022-06-27T10:43:05.458Z"
   },
   {
    "duration": 1618,
    "start_time": "2022-06-27T10:43:05.471Z"
   },
   {
    "duration": 409,
    "start_time": "2022-06-27T10:43:07.128Z"
   },
   {
    "duration": 405,
    "start_time": "2022-06-27T10:43:07.539Z"
   },
   {
    "duration": 1446,
    "start_time": "2022-06-27T10:43:07.946Z"
   },
   {
    "duration": 0,
    "start_time": "2022-06-27T10:43:09.394Z"
   },
   {
    "duration": 93,
    "start_time": "2022-06-27T10:43:43.145Z"
   },
   {
    "duration": 1110,
    "start_time": "2022-06-27T10:43:58.282Z"
   },
   {
    "duration": 14363,
    "start_time": "2022-06-27T10:43:59.394Z"
   },
   {
    "duration": 0,
    "start_time": "2022-06-27T10:44:13.832Z"
   },
   {
    "duration": 0,
    "start_time": "2022-06-27T10:44:13.834Z"
   },
   {
    "duration": 0,
    "start_time": "2022-06-27T10:44:13.835Z"
   },
   {
    "duration": 0,
    "start_time": "2022-06-27T10:44:13.836Z"
   },
   {
    "duration": 0,
    "start_time": "2022-06-27T10:44:13.838Z"
   },
   {
    "duration": 0,
    "start_time": "2022-06-27T10:44:13.839Z"
   },
   {
    "duration": 0,
    "start_time": "2022-06-27T10:44:13.841Z"
   },
   {
    "duration": 0,
    "start_time": "2022-06-27T10:44:13.842Z"
   },
   {
    "duration": 0,
    "start_time": "2022-06-27T10:44:13.843Z"
   },
   {
    "duration": 0,
    "start_time": "2022-06-27T10:44:13.844Z"
   },
   {
    "duration": 0,
    "start_time": "2022-06-27T10:44:13.846Z"
   },
   {
    "duration": 0,
    "start_time": "2022-06-27T10:44:13.847Z"
   },
   {
    "duration": 0,
    "start_time": "2022-06-27T10:44:13.927Z"
   },
   {
    "duration": 0,
    "start_time": "2022-06-27T10:44:13.929Z"
   },
   {
    "duration": 1160,
    "start_time": "2022-06-27T10:44:17.332Z"
   },
   {
    "duration": 14837,
    "start_time": "2022-06-27T10:44:18.495Z"
   },
   {
    "duration": 8507,
    "start_time": "2022-06-27T10:44:33.335Z"
   },
   {
    "duration": 17,
    "start_time": "2022-06-27T10:44:41.845Z"
   },
   {
    "duration": 506,
    "start_time": "2022-06-27T10:44:41.928Z"
   },
   {
    "duration": 4517,
    "start_time": "2022-06-27T10:44:42.436Z"
   },
   {
    "duration": 919,
    "start_time": "2022-06-27T10:44:46.954Z"
   },
   {
    "duration": 3971,
    "start_time": "2022-06-27T10:44:47.874Z"
   },
   {
    "duration": 5592,
    "start_time": "2022-06-27T10:44:51.846Z"
   },
   {
    "duration": 3661,
    "start_time": "2022-06-27T10:44:57.442Z"
   },
   {
    "duration": 3,
    "start_time": "2022-06-27T10:45:01.105Z"
   },
   {
    "duration": 17,
    "start_time": "2022-06-27T10:45:01.110Z"
   },
   {
    "duration": 1545,
    "start_time": "2022-06-27T10:45:01.129Z"
   },
   {
    "duration": 492,
    "start_time": "2022-06-27T10:45:02.676Z"
   },
   {
    "duration": 394,
    "start_time": "2022-06-27T10:45:03.170Z"
   },
   {
    "duration": 2169,
    "start_time": "2022-06-27T10:45:03.566Z"
   },
   {
    "duration": 308,
    "start_time": "2022-06-27T10:45:05.737Z"
   },
   {
    "duration": 106,
    "start_time": "2022-06-27T10:45:23.176Z"
   },
   {
    "duration": 4,
    "start_time": "2022-06-27T10:45:50.724Z"
   },
   {
    "duration": 498,
    "start_time": "2022-06-27T10:45:50.730Z"
   },
   {
    "duration": 4,
    "start_time": "2022-06-27T10:45:51.230Z"
   },
   {
    "duration": 146,
    "start_time": "2022-06-27T10:45:51.235Z"
   },
   {
    "duration": 1168,
    "start_time": "2022-06-27T10:45:51.383Z"
   },
   {
    "duration": 489,
    "start_time": "2022-06-27T10:45:52.552Z"
   },
   {
    "duration": 1893,
    "start_time": "2022-06-27T10:45:53.042Z"
   },
   {
    "duration": 3220,
    "start_time": "2022-06-27T10:45:54.937Z"
   },
   {
    "duration": 69,
    "start_time": "2022-06-27T10:45:58.159Z"
   },
   {
    "duration": 9,
    "start_time": "2022-06-27T10:45:58.230Z"
   },
   {
    "duration": 7,
    "start_time": "2022-06-27T10:45:58.241Z"
   },
   {
    "duration": 1039,
    "start_time": "2022-06-27T10:45:58.249Z"
   },
   {
    "duration": 263,
    "start_time": "2022-06-27T10:45:59.290Z"
   },
   {
    "duration": 188,
    "start_time": "2022-06-27T10:45:59.556Z"
   },
   {
    "duration": 869,
    "start_time": "2022-06-27T10:45:59.746Z"
   },
   {
    "duration": 1356,
    "start_time": "2022-06-27T10:46:00.617Z"
   },
   {
    "duration": 37,
    "start_time": "2022-06-27T10:47:55.336Z"
   },
   {
    "duration": 7,
    "start_time": "2022-06-27T10:47:59.375Z"
   },
   {
    "duration": 4,
    "start_time": "2022-06-27T10:50:06.405Z"
   },
   {
    "duration": 1995,
    "start_time": "2022-06-27T11:08:46.132Z"
   },
   {
    "duration": 2,
    "start_time": "2022-06-27T11:09:49.996Z"
   },
   {
    "duration": 23,
    "start_time": "2022-06-27T11:11:25.184Z"
   },
   {
    "duration": 89,
    "start_time": "2022-06-27T11:12:03.769Z"
   },
   {
    "duration": 170,
    "start_time": "2022-06-27T11:12:11.741Z"
   },
   {
    "duration": 929,
    "start_time": "2022-06-27T11:13:44.731Z"
   },
   {
    "duration": 498,
    "start_time": "2022-06-27T11:16:11.369Z"
   },
   {
    "duration": 3,
    "start_time": "2022-06-27T11:16:15.443Z"
   },
   {
    "duration": 193,
    "start_time": "2022-06-27T11:16:15.448Z"
   },
   {
    "duration": 1091,
    "start_time": "2022-06-27T11:16:15.643Z"
   },
   {
    "duration": 506,
    "start_time": "2022-06-27T11:16:16.737Z"
   },
   {
    "duration": 1900,
    "start_time": "2022-06-27T11:16:17.245Z"
   },
   {
    "duration": 3480,
    "start_time": "2022-06-27T11:16:19.147Z"
   },
   {
    "duration": 3,
    "start_time": "2022-06-27T11:16:22.630Z"
   },
   {
    "duration": 15,
    "start_time": "2022-06-27T11:16:22.635Z"
   },
   {
    "duration": 6,
    "start_time": "2022-06-27T11:16:22.652Z"
   },
   {
    "duration": 1390,
    "start_time": "2022-06-27T11:16:22.661Z"
   },
   {
    "duration": 206,
    "start_time": "2022-06-27T11:16:24.053Z"
   },
   {
    "duration": 190,
    "start_time": "2022-06-27T11:16:24.261Z"
   },
   {
    "duration": 917,
    "start_time": "2022-06-27T11:16:24.453Z"
   },
   {
    "duration": 1000,
    "start_time": "2022-06-27T11:16:25.372Z"
   },
   {
    "duration": 24,
    "start_time": "2022-06-27T11:16:26.374Z"
   },
   {
    "duration": 4,
    "start_time": "2022-06-27T11:16:26.428Z"
   },
   {
    "duration": 33,
    "start_time": "2022-06-27T11:16:26.434Z"
   },
   {
    "duration": 1665,
    "start_time": "2022-06-27T11:16:26.469Z"
   },
   {
    "duration": 824,
    "start_time": "2022-06-27T11:16:28.136Z"
   },
   {
    "duration": 71,
    "start_time": "2022-06-27T11:16:28.961Z"
   },
   {
    "duration": 0,
    "start_time": "2022-06-27T11:16:29.034Z"
   },
   {
    "duration": 97,
    "start_time": "2022-06-27T11:23:56.814Z"
   },
   {
    "duration": 1234,
    "start_time": "2022-06-27T11:24:11.490Z"
   },
   {
    "duration": 15019,
    "start_time": "2022-06-27T11:24:12.727Z"
   },
   {
    "duration": 8411,
    "start_time": "2022-06-27T11:24:27.748Z"
   },
   {
    "duration": 80,
    "start_time": "2022-06-27T11:24:36.162Z"
   },
   {
    "duration": 587,
    "start_time": "2022-06-27T11:24:36.244Z"
   },
   {
    "duration": 4414,
    "start_time": "2022-06-27T11:24:36.832Z"
   },
   {
    "duration": 1034,
    "start_time": "2022-06-27T11:24:41.248Z"
   },
   {
    "duration": 3678,
    "start_time": "2022-06-27T11:24:42.283Z"
   },
   {
    "duration": 5973,
    "start_time": "2022-06-27T11:24:45.963Z"
   },
   {
    "duration": 3,
    "start_time": "2022-06-27T11:24:51.939Z"
   },
   {
    "duration": 14,
    "start_time": "2022-06-27T11:24:51.944Z"
   },
   {
    "duration": 70,
    "start_time": "2022-06-27T11:24:51.960Z"
   },
   {
    "duration": 107,
    "start_time": "2022-06-27T11:24:52.031Z"
   },
   {
    "duration": 0,
    "start_time": "2022-06-27T11:24:52.139Z"
   },
   {
    "duration": 0,
    "start_time": "2022-06-27T11:24:52.141Z"
   },
   {
    "duration": 0,
    "start_time": "2022-06-27T11:24:52.141Z"
   },
   {
    "duration": 0,
    "start_time": "2022-06-27T11:24:52.145Z"
   },
   {
    "duration": 0,
    "start_time": "2022-06-27T11:24:52.146Z"
   },
   {
    "duration": 0,
    "start_time": "2022-06-27T11:24:52.147Z"
   },
   {
    "duration": 0,
    "start_time": "2022-06-27T11:24:52.149Z"
   },
   {
    "duration": 0,
    "start_time": "2022-06-27T11:24:52.150Z"
   },
   {
    "duration": 0,
    "start_time": "2022-06-27T11:24:52.152Z"
   },
   {
    "duration": 0,
    "start_time": "2022-06-27T11:24:52.153Z"
   },
   {
    "duration": 3,
    "start_time": "2022-06-27T11:25:22.945Z"
   },
   {
    "duration": 1819,
    "start_time": "2022-06-27T11:25:25.532Z"
   },
   {
    "duration": 402,
    "start_time": "2022-06-27T11:25:30.057Z"
   },
   {
    "duration": 317,
    "start_time": "2022-06-27T11:25:30.460Z"
   },
   {
    "duration": 2003,
    "start_time": "2022-06-27T11:25:33.126Z"
   },
   {
    "duration": 1838,
    "start_time": "2022-06-27T11:25:36.598Z"
   },
   {
    "duration": 42,
    "start_time": "2022-06-27T11:25:42.705Z"
   },
   {
    "duration": 3,
    "start_time": "2022-06-27T11:25:49.388Z"
   },
   {
    "duration": 25,
    "start_time": "2022-06-27T11:25:55.423Z"
   },
   {
    "duration": 2388,
    "start_time": "2022-06-27T11:25:58.554Z"
   },
   {
    "duration": 1339,
    "start_time": "2022-06-27T11:26:03.896Z"
   },
   {
    "duration": 1448,
    "start_time": "2022-06-27T11:26:22.820Z"
   },
   {
    "duration": 3284,
    "start_time": "2022-06-27T11:26:49.498Z"
   },
   {
    "duration": 1416,
    "start_time": "2022-06-27T11:27:16.828Z"
   },
   {
    "duration": 44,
    "start_time": "2022-06-27T11:31:13.185Z"
   },
   {
    "duration": 679,
    "start_time": "2022-06-27T11:31:14.777Z"
   },
   {
    "duration": 49,
    "start_time": "2022-06-27T11:31:33.535Z"
   },
   {
    "duration": 686,
    "start_time": "2022-06-27T11:31:44.989Z"
   },
   {
    "duration": 38,
    "start_time": "2022-06-27T11:35:55.191Z"
   },
   {
    "duration": 3112,
    "start_time": "2022-06-27T11:36:29.051Z"
   },
   {
    "duration": 21,
    "start_time": "2022-06-27T11:39:37.818Z"
   },
   {
    "duration": 6,
    "start_time": "2022-06-27T11:39:42.710Z"
   },
   {
    "duration": 661,
    "start_time": "2022-06-27T11:40:14.610Z"
   },
   {
    "duration": 444,
    "start_time": "2022-06-27T12:12:38.406Z"
   },
   {
    "duration": 20,
    "start_time": "2022-06-27T12:13:43.695Z"
   },
   {
    "duration": 1943,
    "start_time": "2022-06-27T12:14:40.294Z"
   },
   {
    "duration": 1024,
    "start_time": "2022-06-27T12:15:49.807Z"
   },
   {
    "duration": 802,
    "start_time": "2022-06-27T12:15:58.725Z"
   },
   {
    "duration": 4,
    "start_time": "2022-06-27T12:16:40.696Z"
   },
   {
    "duration": 640,
    "start_time": "2022-06-27T12:17:29.220Z"
   },
   {
    "duration": 695,
    "start_time": "2022-06-27T12:17:47.638Z"
   },
   {
    "duration": 632,
    "start_time": "2022-06-27T12:17:55.903Z"
   },
   {
    "duration": 423,
    "start_time": "2022-06-27T12:18:08.909Z"
   },
   {
    "duration": 461,
    "start_time": "2022-06-27T12:18:23.105Z"
   },
   {
    "duration": 657,
    "start_time": "2022-06-27T12:18:35.377Z"
   },
   {
    "duration": 440,
    "start_time": "2022-06-27T12:18:39.893Z"
   },
   {
    "duration": 601,
    "start_time": "2022-06-27T12:18:44.326Z"
   },
   {
    "duration": 429,
    "start_time": "2022-06-27T12:18:51.100Z"
   },
   {
    "duration": 5,
    "start_time": "2022-06-27T12:19:50.987Z"
   },
   {
    "duration": 8,
    "start_time": "2022-06-27T12:21:01.224Z"
   },
   {
    "duration": 1669,
    "start_time": "2022-06-27T12:21:01.563Z"
   },
   {
    "duration": 30,
    "start_time": "2022-06-27T12:21:03.234Z"
   },
   {
    "duration": 11,
    "start_time": "2022-06-27T12:21:05.239Z"
   },
   {
    "duration": 509,
    "start_time": "2022-06-27T12:21:07.026Z"
   },
   {
    "duration": 1179,
    "start_time": "2022-06-27T12:21:54.830Z"
   },
   {
    "duration": 14721,
    "start_time": "2022-06-27T12:21:56.011Z"
   },
   {
    "duration": 8804,
    "start_time": "2022-06-27T12:22:10.734Z"
   },
   {
    "duration": 16,
    "start_time": "2022-06-27T12:22:19.541Z"
   },
   {
    "duration": 574,
    "start_time": "2022-06-27T12:22:19.558Z"
   },
   {
    "duration": 3913,
    "start_time": "2022-06-27T12:22:20.134Z"
   },
   {
    "duration": 915,
    "start_time": "2022-06-27T12:22:24.049Z"
   },
   {
    "duration": 4483,
    "start_time": "2022-06-27T12:22:24.966Z"
   },
   {
    "duration": 6099,
    "start_time": "2022-06-27T12:22:29.456Z"
   },
   {
    "duration": 70,
    "start_time": "2022-06-27T12:22:35.558Z"
   },
   {
    "duration": 9,
    "start_time": "2022-06-27T12:22:35.630Z"
   },
   {
    "duration": 11,
    "start_time": "2022-06-27T12:22:35.640Z"
   },
   {
    "duration": 1816,
    "start_time": "2022-06-27T12:22:35.652Z"
   },
   {
    "duration": 468,
    "start_time": "2022-06-27T12:22:37.470Z"
   },
   {
    "duration": 406,
    "start_time": "2022-06-27T12:22:37.940Z"
   },
   {
    "duration": 2055,
    "start_time": "2022-06-27T12:22:38.348Z"
   },
   {
    "duration": 1832,
    "start_time": "2022-06-27T12:22:40.404Z"
   },
   {
    "duration": 46,
    "start_time": "2022-06-27T12:22:42.238Z"
   },
   {
    "duration": 2,
    "start_time": "2022-06-27T12:22:42.328Z"
   },
   {
    "duration": 49,
    "start_time": "2022-06-27T12:22:42.332Z"
   },
   {
    "duration": 2077,
    "start_time": "2022-06-27T12:22:42.383Z"
   },
   {
    "duration": 1266,
    "start_time": "2022-06-27T12:22:44.462Z"
   },
   {
    "duration": 97,
    "start_time": "2022-06-27T12:22:45.730Z"
   },
   {
    "duration": 38,
    "start_time": "2022-06-27T12:22:45.829Z"
   },
   {
    "duration": 3314,
    "start_time": "2022-06-27T12:22:45.868Z"
   },
   {
    "duration": 57,
    "start_time": "2022-06-27T12:22:49.184Z"
   },
   {
    "duration": 17,
    "start_time": "2022-06-27T12:22:49.243Z"
   },
   {
    "duration": 2115,
    "start_time": "2022-06-27T12:22:49.327Z"
   },
   {
    "duration": 7,
    "start_time": "2022-06-27T12:26:03.915Z"
   },
   {
    "duration": 4,
    "start_time": "2022-06-27T12:29:30.046Z"
   },
   {
    "duration": 8,
    "start_time": "2022-06-27T12:29:53.122Z"
   },
   {
    "duration": 2185,
    "start_time": "2022-06-27T12:30:09.647Z"
   },
   {
    "duration": 25,
    "start_time": "2022-06-27T12:31:23.415Z"
   },
   {
    "duration": 11,
    "start_time": "2022-06-27T12:31:31.896Z"
   },
   {
    "duration": 890,
    "start_time": "2022-06-27T12:32:02.640Z"
   },
   {
    "duration": 1671,
    "start_time": "2022-06-27T15:02:08.823Z"
   },
   {
    "duration": 20487,
    "start_time": "2022-06-27T15:02:10.496Z"
   },
   {
    "duration": 10457,
    "start_time": "2022-06-27T15:02:30.986Z"
   },
   {
    "duration": 16,
    "start_time": "2022-06-27T15:02:41.445Z"
   },
   {
    "duration": 608,
    "start_time": "2022-06-27T15:02:41.528Z"
   },
   {
    "duration": 4521,
    "start_time": "2022-06-27T15:02:42.138Z"
   },
   {
    "duration": 4578,
    "start_time": "2022-06-27T15:02:46.661Z"
   },
   {
    "duration": 6501,
    "start_time": "2022-06-27T15:02:51.241Z"
   },
   {
    "duration": 6,
    "start_time": "2022-06-27T15:02:57.744Z"
   },
   {
    "duration": 82,
    "start_time": "2022-06-27T15:02:57.751Z"
   },
   {
    "duration": 6,
    "start_time": "2022-06-27T15:02:57.835Z"
   },
   {
    "duration": 1887,
    "start_time": "2022-06-27T15:02:57.843Z"
   },
   {
    "duration": 516,
    "start_time": "2022-06-27T15:02:59.731Z"
   },
   {
    "duration": 401,
    "start_time": "2022-06-27T15:03:00.250Z"
   },
   {
    "duration": 2604,
    "start_time": "2022-06-27T15:03:00.653Z"
   },
   {
    "duration": 2032,
    "start_time": "2022-06-27T15:03:03.259Z"
   },
   {
    "duration": 65,
    "start_time": "2022-06-27T15:03:05.292Z"
   },
   {
    "duration": 3,
    "start_time": "2022-06-27T15:03:05.359Z"
   },
   {
    "duration": 87,
    "start_time": "2022-06-27T15:03:05.364Z"
   },
   {
    "duration": 2791,
    "start_time": "2022-06-27T15:03:05.453Z"
   },
   {
    "duration": 1315,
    "start_time": "2022-06-27T15:03:08.246Z"
   },
   {
    "duration": 93,
    "start_time": "2022-06-27T15:03:09.563Z"
   },
   {
    "duration": 159,
    "start_time": "2022-06-27T15:03:15.404Z"
   },
   {
    "duration": 104,
    "start_time": "2022-06-27T15:03:18.075Z"
   },
   {
    "duration": 5,
    "start_time": "2022-06-27T15:04:14.319Z"
   },
   {
    "duration": 4,
    "start_time": "2022-06-27T15:04:23.433Z"
   },
   {
    "duration": 10,
    "start_time": "2022-06-27T15:04:27.511Z"
   },
   {
    "duration": 11,
    "start_time": "2022-06-27T15:04:59.913Z"
   },
   {
    "duration": 6,
    "start_time": "2022-06-27T15:05:11.669Z"
   },
   {
    "duration": 10,
    "start_time": "2022-06-27T15:05:18.806Z"
   },
   {
    "duration": 9,
    "start_time": "2022-06-27T15:05:22.062Z"
   },
   {
    "duration": 5,
    "start_time": "2022-06-27T15:05:45.474Z"
   },
   {
    "duration": 3718,
    "start_time": "2022-06-27T15:05:55.326Z"
   },
   {
    "duration": 7,
    "start_time": "2022-06-27T15:06:29.437Z"
   },
   {
    "duration": 19972,
    "start_time": "2022-06-27T15:06:30.462Z"
   },
   {
    "duration": 3,
    "start_time": "2022-06-27T15:07:44.373Z"
   },
   {
    "duration": 4,
    "start_time": "2022-06-27T15:07:45.421Z"
   },
   {
    "duration": 4,
    "start_time": "2022-06-27T15:08:18.978Z"
   },
   {
    "duration": 8,
    "start_time": "2022-06-27T15:11:25.300Z"
   },
   {
    "duration": 1843,
    "start_time": "2022-06-27T15:12:39.096Z"
   },
   {
    "duration": 7,
    "start_time": "2022-06-27T15:14:40.725Z"
   },
   {
    "duration": 3,
    "start_time": "2022-06-27T15:14:42.768Z"
   },
   {
    "duration": 7,
    "start_time": "2022-06-27T15:14:44.864Z"
   },
   {
    "duration": 26953,
    "start_time": "2022-06-27T15:14:46.702Z"
   },
   {
    "duration": 3,
    "start_time": "2022-06-27T15:15:17.488Z"
   },
   {
    "duration": 3,
    "start_time": "2022-06-27T15:15:17.915Z"
   },
   {
    "duration": 4,
    "start_time": "2022-06-27T15:15:19.966Z"
   },
   {
    "duration": 639,
    "start_time": "2022-06-27T15:15:56.696Z"
   },
   {
    "duration": 7,
    "start_time": "2022-06-27T15:17:01.707Z"
   },
   {
    "duration": 4,
    "start_time": "2022-06-27T15:17:03.959Z"
   },
   {
    "duration": 15,
    "start_time": "2022-06-27T15:17:05.768Z"
   },
   {
    "duration": 46921,
    "start_time": "2022-06-27T15:17:06.107Z"
   },
   {
    "duration": 4,
    "start_time": "2022-06-27T15:18:04.227Z"
   },
   {
    "duration": 4,
    "start_time": "2022-06-27T15:18:07.769Z"
   },
   {
    "duration": 4,
    "start_time": "2022-06-27T15:18:08.690Z"
   },
   {
    "duration": 579,
    "start_time": "2022-06-27T15:18:33.650Z"
   },
   {
    "duration": 8,
    "start_time": "2022-06-27T15:21:56.115Z"
   },
   {
    "duration": 3,
    "start_time": "2022-06-27T15:21:58.657Z"
   },
   {
    "duration": 6,
    "start_time": "2022-06-27T15:21:59.159Z"
   },
   {
    "duration": 80672,
    "start_time": "2022-06-27T15:21:59.769Z"
   },
   {
    "duration": 3,
    "start_time": "2022-06-27T15:23:24.281Z"
   },
   {
    "duration": 4,
    "start_time": "2022-06-27T15:23:25.001Z"
   },
   {
    "duration": 4,
    "start_time": "2022-06-27T15:23:26.253Z"
   },
   {
    "duration": 566,
    "start_time": "2022-06-27T15:23:33.464Z"
   },
   {
    "duration": 15,
    "start_time": "2022-06-27T15:24:37.553Z"
   },
   {
    "duration": 8,
    "start_time": "2022-06-27T15:26:14.867Z"
   },
   {
    "duration": 2,
    "start_time": "2022-06-27T15:26:15.191Z"
   },
   {
    "duration": 4,
    "start_time": "2022-06-27T15:26:16.124Z"
   },
   {
    "duration": 8,
    "start_time": "2022-06-27T15:26:18.600Z"
   },
   {
    "duration": 150618,
    "start_time": "2022-06-27T15:26:19.421Z"
   },
   {
    "duration": 3,
    "start_time": "2022-06-27T15:29:04.698Z"
   },
   {
    "duration": 4,
    "start_time": "2022-06-27T15:29:05.067Z"
   },
   {
    "duration": 5,
    "start_time": "2022-06-27T15:29:05.352Z"
   },
   {
    "duration": 578,
    "start_time": "2022-06-27T15:29:12.573Z"
   },
   {
    "duration": 8,
    "start_time": "2022-06-27T15:30:56.347Z"
   },
   {
    "duration": 2,
    "start_time": "2022-06-27T15:30:56.723Z"
   },
   {
    "duration": 4,
    "start_time": "2022-06-27T15:30:57.138Z"
   },
   {
    "duration": 7,
    "start_time": "2022-06-27T15:30:57.544Z"
   },
   {
    "duration": 144499,
    "start_time": "2022-06-27T15:30:58.380Z"
   },
   {
    "duration": 3,
    "start_time": "2022-06-27T15:33:22.884Z"
   },
   {
    "duration": 4,
    "start_time": "2022-06-27T15:33:23.320Z"
   },
   {
    "duration": 4,
    "start_time": "2022-06-27T15:33:25.590Z"
   },
   {
    "duration": 431,
    "start_time": "2022-06-27T15:33:35.699Z"
   },
   {
    "duration": 7,
    "start_time": "2022-06-27T15:35:36.606Z"
   },
   {
    "duration": 4,
    "start_time": "2022-06-27T15:35:40.491Z"
   },
   {
    "duration": 7,
    "start_time": "2022-06-27T15:35:40.962Z"
   },
   {
    "duration": 67841,
    "start_time": "2022-06-27T15:35:41.451Z"
   },
   {
    "duration": 3,
    "start_time": "2022-06-27T15:36:49.295Z"
   },
   {
    "duration": 34,
    "start_time": "2022-06-27T15:36:49.300Z"
   },
   {
    "duration": 20,
    "start_time": "2022-06-27T15:36:49.336Z"
   },
   {
    "duration": 517,
    "start_time": "2022-06-27T15:36:49.358Z"
   },
   {
    "duration": 7,
    "start_time": "2022-06-27T15:37:54.069Z"
   },
   {
    "duration": 3,
    "start_time": "2022-06-27T15:37:54.434Z"
   },
   {
    "duration": 5,
    "start_time": "2022-06-27T15:37:54.955Z"
   },
   {
    "duration": 9,
    "start_time": "2022-06-27T15:37:55.021Z"
   },
   {
    "duration": 39358,
    "start_time": "2022-06-27T15:37:55.481Z"
   },
   {
    "duration": 3,
    "start_time": "2022-06-27T15:38:34.841Z"
   },
   {
    "duration": 7,
    "start_time": "2022-06-27T15:38:34.846Z"
   },
   {
    "duration": 9,
    "start_time": "2022-06-27T15:38:34.855Z"
   },
   {
    "duration": 403,
    "start_time": "2022-06-27T15:38:34.866Z"
   },
   {
    "duration": 8,
    "start_time": "2022-06-27T15:39:30.285Z"
   },
   {
    "duration": 4,
    "start_time": "2022-06-27T15:39:30.700Z"
   },
   {
    "duration": 8,
    "start_time": "2022-06-27T15:39:31.114Z"
   },
   {
    "duration": 26312,
    "start_time": "2022-06-27T15:39:31.475Z"
   },
   {
    "duration": 3,
    "start_time": "2022-06-27T15:40:06.454Z"
   },
   {
    "duration": 3,
    "start_time": "2022-06-27T15:40:06.719Z"
   },
   {
    "duration": 4,
    "start_time": "2022-06-27T15:40:07.025Z"
   },
   {
    "duration": 392,
    "start_time": "2022-06-27T15:40:07.935Z"
   },
   {
    "duration": 4,
    "start_time": "2022-06-27T15:41:49.586Z"
   },
   {
    "duration": 4,
    "start_time": "2022-06-27T15:41:57.445Z"
   },
   {
    "duration": 27259,
    "start_time": "2022-06-27T15:43:34.535Z"
   },
   {
    "duration": 527886,
    "start_time": "2022-06-27T15:46:07.945Z"
   },
   {
    "duration": 5,
    "start_time": "2022-06-27T15:55:02.777Z"
   },
   {
    "duration": 609,
    "start_time": "2022-06-27T15:55:09.717Z"
   },
   {
    "duration": 4,
    "start_time": "2022-06-27T15:55:32.079Z"
   },
   {
    "duration": 17,
    "start_time": "2022-06-27T15:55:39.695Z"
   },
   {
    "duration": 26763,
    "start_time": "2022-06-27T15:56:01.547Z"
   },
   {
    "duration": 25556,
    "start_time": "2022-06-27T15:59:28.620Z"
   },
   {
    "duration": 343,
    "start_time": "2022-06-27T15:59:56.934Z"
   },
   {
    "duration": 25754,
    "start_time": "2022-06-27T16:02:36.843Z"
   },
   {
    "duration": 26547,
    "start_time": "2022-06-27T16:07:54.049Z"
   },
   {
    "duration": 30438,
    "start_time": "2022-06-27T16:09:57.450Z"
   },
   {
    "duration": 663,
    "start_time": "2022-06-27T16:10:38.869Z"
   },
   {
    "duration": 98382,
    "start_time": "2022-06-27T16:12:58.194Z"
   },
   {
    "duration": 488,
    "start_time": "2022-06-27T16:14:36.578Z"
   },
   {
    "duration": 449,
    "start_time": "2022-06-27T16:14:57.680Z"
   },
   {
    "duration": 82394,
    "start_time": "2022-06-27T16:15:53.482Z"
   },
   {
    "duration": 493,
    "start_time": "2022-06-27T16:17:15.878Z"
   },
   {
    "duration": 2807,
    "start_time": "2022-06-27T16:31:31.961Z"
   },
   {
    "duration": 2591,
    "start_time": "2022-06-27T16:32:28.186Z"
   },
   {
    "duration": 1703,
    "start_time": "2022-06-27T16:33:20.872Z"
   },
   {
    "duration": 2099,
    "start_time": "2022-06-27T16:33:37.225Z"
   },
   {
    "duration": 10,
    "start_time": "2022-06-27T16:36:30.236Z"
   },
   {
    "duration": 11,
    "start_time": "2022-06-27T16:36:40.395Z"
   },
   {
    "duration": 15,
    "start_time": "2022-06-27T16:36:47.671Z"
   },
   {
    "duration": 14,
    "start_time": "2022-06-27T16:36:56.883Z"
   },
   {
    "duration": 15,
    "start_time": "2022-06-27T16:37:05.894Z"
   },
   {
    "duration": 256,
    "start_time": "2022-06-27T16:37:13.096Z"
   },
   {
    "duration": 14,
    "start_time": "2022-06-27T16:39:18.974Z"
   },
   {
    "duration": 15,
    "start_time": "2022-06-27T16:39:25.259Z"
   },
   {
    "duration": 112,
    "start_time": "2022-06-27T16:41:04.884Z"
   },
   {
    "duration": 104,
    "start_time": "2022-06-27T16:42:33.491Z"
   },
   {
    "duration": 100,
    "start_time": "2022-06-27T16:54:55.127Z"
   },
   {
    "duration": 1154,
    "start_time": "2022-06-27T16:55:01.860Z"
   },
   {
    "duration": 15312,
    "start_time": "2022-06-27T16:55:03.016Z"
   },
   {
    "duration": 8903,
    "start_time": "2022-06-27T16:55:18.331Z"
   },
   {
    "duration": 17,
    "start_time": "2022-06-27T16:55:27.236Z"
   },
   {
    "duration": 589,
    "start_time": "2022-06-27T16:55:27.254Z"
   },
   {
    "duration": 4202,
    "start_time": "2022-06-27T16:55:27.845Z"
   },
   {
    "duration": 4520,
    "start_time": "2022-06-27T16:55:32.049Z"
   },
   {
    "duration": 6384,
    "start_time": "2022-06-27T16:55:36.570Z"
   },
   {
    "duration": 73,
    "start_time": "2022-06-27T16:55:42.955Z"
   },
   {
    "duration": 16,
    "start_time": "2022-06-27T16:55:43.033Z"
   },
   {
    "duration": 5,
    "start_time": "2022-06-27T16:55:43.052Z"
   },
   {
    "duration": 1896,
    "start_time": "2022-06-27T16:55:43.058Z"
   },
   {
    "duration": 495,
    "start_time": "2022-06-27T16:55:44.956Z"
   },
   {
    "duration": 398,
    "start_time": "2022-06-27T16:55:45.453Z"
   },
   {
    "duration": 2017,
    "start_time": "2022-06-27T16:55:45.853Z"
   },
   {
    "duration": 2686,
    "start_time": "2022-06-27T16:55:47.872Z"
   },
   {
    "duration": 100,
    "start_time": "2022-06-27T16:55:50.560Z"
   },
   {
    "duration": 3,
    "start_time": "2022-06-27T16:55:50.662Z"
   },
   {
    "duration": 85,
    "start_time": "2022-06-27T16:55:50.667Z"
   },
   {
    "duration": 2204,
    "start_time": "2022-06-27T16:55:50.753Z"
   },
   {
    "duration": 1096,
    "start_time": "2022-06-27T16:55:52.959Z"
   },
   {
    "duration": 99,
    "start_time": "2022-06-27T16:55:54.057Z"
   },
   {
    "duration": 58185,
    "start_time": "2022-06-27T16:55:54.158Z"
   },
   {
    "duration": 45683,
    "start_time": "2022-06-27T16:56:52.344Z"
   },
   {
    "duration": 1927,
    "start_time": "2022-06-27T16:57:38.029Z"
   },
   {
    "duration": 1021,
    "start_time": "2022-06-27T16:57:40.026Z"
   },
   {
    "duration": 378,
    "start_time": "2022-06-27T16:57:41.049Z"
   },
   {
    "duration": 90,
    "start_time": "2022-06-27T17:12:54.889Z"
   },
   {
    "duration": 321,
    "start_time": "2022-06-27T17:12:59.091Z"
   },
   {
    "duration": 6,
    "start_time": "2022-06-27T17:13:40.534Z"
   },
   {
    "duration": 4,
    "start_time": "2022-06-27T17:16:18.322Z"
   },
   {
    "duration": 11,
    "start_time": "2022-06-27T17:16:18.328Z"
   },
   {
    "duration": 327,
    "start_time": "2022-06-27T17:16:18.341Z"
   },
   {
    "duration": 3,
    "start_time": "2022-06-27T17:16:18.670Z"
   },
   {
    "duration": 150,
    "start_time": "2022-06-27T17:16:18.676Z"
   },
   {
    "duration": 1310,
    "start_time": "2022-06-27T17:16:18.828Z"
   },
   {
    "duration": 1522,
    "start_time": "2022-06-27T17:16:20.140Z"
   },
   {
    "duration": 2664,
    "start_time": "2022-06-27T17:16:21.664Z"
   },
   {
    "duration": 4,
    "start_time": "2022-06-27T17:16:24.330Z"
   },
   {
    "duration": 13,
    "start_time": "2022-06-27T17:16:24.335Z"
   },
   {
    "duration": 8,
    "start_time": "2022-06-27T17:16:24.350Z"
   },
   {
    "duration": 1297,
    "start_time": "2022-06-27T17:16:24.359Z"
   },
   {
    "duration": 147,
    "start_time": "2022-06-27T17:16:25.658Z"
   },
   {
    "duration": 238,
    "start_time": "2022-06-27T17:16:25.825Z"
   },
   {
    "duration": 1193,
    "start_time": "2022-06-27T17:16:26.064Z"
   },
   {
    "duration": 1197,
    "start_time": "2022-06-27T17:16:27.258Z"
   },
   {
    "duration": 19,
    "start_time": "2022-06-27T17:16:28.456Z"
   },
   {
    "duration": 4,
    "start_time": "2022-06-27T17:16:28.476Z"
   },
   {
    "duration": 48,
    "start_time": "2022-06-27T17:16:28.481Z"
   },
   {
    "duration": 2,
    "start_time": "2022-06-27T17:16:28.531Z"
   },
   {
    "duration": 9,
    "start_time": "2022-06-27T17:16:28.534Z"
   },
   {
    "duration": 121,
    "start_time": "2022-06-27T17:16:34.348Z"
   },
   {
    "duration": 1183,
    "start_time": "2022-06-27T17:16:46.303Z"
   },
   {
    "duration": 15158,
    "start_time": "2022-06-27T17:16:47.488Z"
   },
   {
    "duration": 8583,
    "start_time": "2022-06-27T17:17:02.648Z"
   },
   {
    "duration": 16,
    "start_time": "2022-06-27T17:17:11.234Z"
   },
   {
    "duration": 518,
    "start_time": "2022-06-27T17:17:11.252Z"
   },
   {
    "duration": 4316,
    "start_time": "2022-06-27T17:17:11.827Z"
   },
   {
    "duration": 4319,
    "start_time": "2022-06-27T17:17:16.145Z"
   },
   {
    "duration": 6317,
    "start_time": "2022-06-27T17:17:20.527Z"
   },
   {
    "duration": 8,
    "start_time": "2022-06-27T17:17:26.846Z"
   },
   {
    "duration": 2,
    "start_time": "2022-06-27T17:17:26.855Z"
   },
   {
    "duration": 10,
    "start_time": "2022-06-27T17:17:26.928Z"
   },
   {
    "duration": 2097,
    "start_time": "2022-06-27T17:17:26.940Z"
   },
   {
    "duration": 590,
    "start_time": "2022-06-27T17:17:29.039Z"
   },
   {
    "duration": 404,
    "start_time": "2022-06-27T17:17:29.633Z"
   },
   {
    "duration": 2305,
    "start_time": "2022-06-27T17:17:30.039Z"
   },
   {
    "duration": 2026,
    "start_time": "2022-06-27T17:17:32.345Z"
   },
   {
    "duration": 77,
    "start_time": "2022-06-27T17:17:34.373Z"
   },
   {
    "duration": 4,
    "start_time": "2022-06-27T17:17:34.452Z"
   },
   {
    "duration": 106,
    "start_time": "2022-06-27T17:17:34.458Z"
   },
   {
    "duration": 3,
    "start_time": "2022-06-27T17:17:34.626Z"
   },
   {
    "duration": 19,
    "start_time": "2022-06-27T17:17:34.632Z"
   },
   {
    "duration": 470,
    "start_time": "2022-06-27T17:17:34.653Z"
   },
   {
    "duration": 23,
    "start_time": "2022-06-27T17:17:44.084Z"
   },
   {
    "duration": 3812,
    "start_time": "2022-06-27T17:17:56.616Z"
   },
   {
    "duration": 9,
    "start_time": "2022-06-27T17:18:16.608Z"
   },
   {
    "duration": 1218,
    "start_time": "2022-06-27T17:18:51.188Z"
   },
   {
    "duration": 15530,
    "start_time": "2022-06-27T17:18:52.408Z"
   },
   {
    "duration": 9016,
    "start_time": "2022-06-27T17:19:07.940Z"
   },
   {
    "duration": 79,
    "start_time": "2022-06-27T17:19:16.958Z"
   },
   {
    "duration": 503,
    "start_time": "2022-06-27T17:19:17.039Z"
   },
   {
    "duration": 4290,
    "start_time": "2022-06-27T17:19:17.544Z"
   },
   {
    "duration": 4315,
    "start_time": "2022-06-27T17:19:21.836Z"
   },
   {
    "duration": 6078,
    "start_time": "2022-06-27T17:19:26.153Z"
   },
   {
    "duration": 6,
    "start_time": "2022-06-27T17:19:32.233Z"
   },
   {
    "duration": 14,
    "start_time": "2022-06-27T17:19:32.240Z"
   },
   {
    "duration": 82,
    "start_time": "2022-06-27T17:19:32.255Z"
   },
   {
    "duration": 1693,
    "start_time": "2022-06-27T17:19:32.339Z"
   },
   {
    "duration": 526,
    "start_time": "2022-06-27T17:19:34.034Z"
   },
   {
    "duration": 412,
    "start_time": "2022-06-27T17:19:34.625Z"
   },
   {
    "duration": 2130,
    "start_time": "2022-06-27T17:19:35.039Z"
   },
   {
    "duration": 2305,
    "start_time": "2022-06-27T17:19:37.171Z"
   },
   {
    "duration": 64,
    "start_time": "2022-06-27T17:19:39.477Z"
   },
   {
    "duration": 3,
    "start_time": "2022-06-27T17:19:39.543Z"
   },
   {
    "duration": 32,
    "start_time": "2022-06-27T17:19:39.547Z"
   },
   {
    "duration": 3,
    "start_time": "2022-06-27T17:19:39.627Z"
   },
   {
    "duration": 6,
    "start_time": "2022-06-27T17:19:39.631Z"
   },
   {
    "duration": 42,
    "start_time": "2022-06-27T17:19:39.639Z"
   },
   {
    "duration": 2658,
    "start_time": "2022-06-27T17:19:39.683Z"
   },
   {
    "duration": 182,
    "start_time": "2022-06-27T17:19:42.344Z"
   },
   {
    "duration": 61947,
    "start_time": "2022-06-27T17:19:42.529Z"
   },
   {
    "duration": 50174,
    "start_time": "2022-06-27T17:20:44.480Z"
   },
   {
    "duration": 2191,
    "start_time": "2022-06-27T17:21:34.657Z"
   },
   {
    "duration": 1388,
    "start_time": "2022-06-27T17:21:36.851Z"
   },
   {
    "duration": 403,
    "start_time": "2022-06-27T17:21:38.241Z"
   },
   {
    "duration": 1336,
    "start_time": "2022-06-27T17:26:20.594Z"
   },
   {
    "duration": 17221,
    "start_time": "2022-06-27T17:26:21.933Z"
   },
   {
    "duration": 10787,
    "start_time": "2022-06-27T17:26:39.157Z"
   },
   {
    "duration": 83,
    "start_time": "2022-06-27T17:26:49.946Z"
   },
   {
    "duration": 530,
    "start_time": "2022-06-27T17:26:50.031Z"
   },
   {
    "duration": 5465,
    "start_time": "2022-06-27T17:26:50.563Z"
   },
   {
    "duration": 5215,
    "start_time": "2022-06-27T17:26:56.030Z"
   },
   {
    "duration": 7286,
    "start_time": "2022-06-27T17:27:01.247Z"
   },
   {
    "duration": 5,
    "start_time": "2022-06-27T17:27:08.535Z"
   },
   {
    "duration": 14,
    "start_time": "2022-06-27T17:27:08.545Z"
   },
   {
    "duration": 22,
    "start_time": "2022-06-27T17:27:08.562Z"
   },
   {
    "duration": 2299,
    "start_time": "2022-06-27T17:27:08.587Z"
   },
   {
    "duration": 457,
    "start_time": "2022-06-27T17:27:10.888Z"
   },
   {
    "duration": 488,
    "start_time": "2022-06-27T17:27:11.348Z"
   },
   {
    "duration": 2589,
    "start_time": "2022-06-27T17:27:11.838Z"
   },
   {
    "duration": 2213,
    "start_time": "2022-06-27T17:27:14.431Z"
   },
   {
    "duration": 85,
    "start_time": "2022-06-27T17:27:16.647Z"
   },
   {
    "duration": 4,
    "start_time": "2022-06-27T17:27:16.735Z"
   },
   {
    "duration": 33,
    "start_time": "2022-06-27T17:27:16.740Z"
   },
   {
    "duration": 2468,
    "start_time": "2022-06-27T17:27:16.774Z"
   },
   {
    "duration": 1187,
    "start_time": "2022-06-27T17:27:19.244Z"
   },
   {
    "duration": 110,
    "start_time": "2022-06-27T17:27:20.434Z"
   },
   {
    "duration": 64736,
    "start_time": "2022-06-27T17:27:20.547Z"
   },
   {
    "duration": 41684,
    "start_time": "2022-06-27T17:28:25.286Z"
   },
   {
    "duration": 1971,
    "start_time": "2022-06-27T17:29:06.971Z"
   },
   {
    "duration": 917,
    "start_time": "2022-06-27T17:29:08.945Z"
   },
   {
    "duration": 316,
    "start_time": "2022-06-27T17:29:09.926Z"
   },
   {
    "duration": 1131,
    "start_time": "2022-06-27T17:33:46.960Z"
   },
   {
    "duration": 15335,
    "start_time": "2022-06-27T17:33:48.093Z"
   },
   {
    "duration": 9028,
    "start_time": "2022-06-27T17:34:03.430Z"
   },
   {
    "duration": 83,
    "start_time": "2022-06-27T17:34:12.461Z"
   },
   {
    "duration": 717,
    "start_time": "2022-06-27T17:34:12.547Z"
   },
   {
    "duration": 5192,
    "start_time": "2022-06-27T17:34:13.266Z"
   },
   {
    "duration": 4105,
    "start_time": "2022-06-27T17:34:18.460Z"
   },
   {
    "duration": 6572,
    "start_time": "2022-06-27T17:34:22.567Z"
   },
   {
    "duration": 5,
    "start_time": "2022-06-27T17:34:29.142Z"
   },
   {
    "duration": 12,
    "start_time": "2022-06-27T17:34:29.152Z"
   },
   {
    "duration": 6,
    "start_time": "2022-06-27T17:34:29.227Z"
   },
   {
    "duration": 1952,
    "start_time": "2022-06-27T17:34:29.235Z"
   },
   {
    "duration": 564,
    "start_time": "2022-06-27T17:34:31.189Z"
   },
   {
    "duration": 480,
    "start_time": "2022-06-27T17:34:31.754Z"
   },
   {
    "duration": 2693,
    "start_time": "2022-06-27T17:34:32.236Z"
   },
   {
    "duration": 2669,
    "start_time": "2022-06-27T17:34:34.931Z"
   },
   {
    "duration": 59,
    "start_time": "2022-06-27T17:34:37.602Z"
   },
   {
    "duration": 3,
    "start_time": "2022-06-27T17:34:37.665Z"
   },
   {
    "duration": 86,
    "start_time": "2022-06-27T17:34:37.670Z"
   },
   {
    "duration": 3,
    "start_time": "2022-06-27T17:34:37.758Z"
   },
   {
    "duration": 9,
    "start_time": "2022-06-27T17:34:37.762Z"
   },
   {
    "duration": 108,
    "start_time": "2022-06-27T17:34:37.826Z"
   },
   {
    "duration": 3305,
    "start_time": "2022-06-27T17:34:37.937Z"
   },
   {
    "duration": 182,
    "start_time": "2022-06-27T17:34:41.244Z"
   },
   {
    "duration": 69867,
    "start_time": "2022-06-27T17:34:41.429Z"
   },
   {
    "duration": 55160,
    "start_time": "2022-06-27T17:35:51.298Z"
   },
   {
    "duration": 3403,
    "start_time": "2022-06-27T17:36:46.526Z"
   },
   {
    "duration": 2324,
    "start_time": "2022-06-27T17:36:49.934Z"
   },
   {
    "duration": 497,
    "start_time": "2022-06-27T17:36:52.330Z"
   },
   {
    "duration": 1304,
    "start_time": "2022-06-27T17:40:50.199Z"
   },
   {
    "duration": 16757,
    "start_time": "2022-06-27T17:40:51.506Z"
   },
   {
    "duration": 9672,
    "start_time": "2022-06-27T17:41:08.266Z"
   },
   {
    "duration": 16,
    "start_time": "2022-06-27T17:41:17.940Z"
   },
   {
    "duration": 669,
    "start_time": "2022-06-27T17:41:17.959Z"
   },
   {
    "duration": 5220,
    "start_time": "2022-06-27T17:41:18.630Z"
   },
   {
    "duration": 5015,
    "start_time": "2022-06-27T17:41:23.852Z"
   },
   {
    "duration": 7756,
    "start_time": "2022-06-27T17:41:28.870Z"
   },
   {
    "duration": 9,
    "start_time": "2022-06-27T17:41:36.629Z"
   },
   {
    "duration": 12,
    "start_time": "2022-06-27T17:41:36.640Z"
   },
   {
    "duration": 81,
    "start_time": "2022-06-27T17:41:36.654Z"
   },
   {
    "duration": 2059,
    "start_time": "2022-06-27T17:41:36.737Z"
   },
   {
    "duration": 586,
    "start_time": "2022-06-27T17:41:38.797Z"
   },
   {
    "duration": 547,
    "start_time": "2022-06-27T17:41:39.388Z"
   },
   {
    "duration": 2811,
    "start_time": "2022-06-27T17:41:39.938Z"
   },
   {
    "duration": 2700,
    "start_time": "2022-06-27T17:41:42.750Z"
   },
   {
    "duration": 44,
    "start_time": "2022-06-27T17:41:45.452Z"
   },
   {
    "duration": 4,
    "start_time": "2022-06-27T17:41:45.527Z"
   },
   {
    "duration": 93,
    "start_time": "2022-06-27T17:41:45.533Z"
   },
   {
    "duration": 3599,
    "start_time": "2022-06-27T17:41:45.629Z"
   },
   {
    "duration": 1524,
    "start_time": "2022-06-27T17:41:49.231Z"
   },
   {
    "duration": 170,
    "start_time": "2022-06-27T17:41:50.757Z"
   },
   {
    "duration": 71502,
    "start_time": "2022-06-27T17:41:50.929Z"
   },
   {
    "duration": 43923,
    "start_time": "2022-06-27T17:43:02.433Z"
   },
   {
    "duration": 1871,
    "start_time": "2022-06-27T17:43:46.359Z"
   },
   {
    "duration": 1002,
    "start_time": "2022-06-27T17:43:48.232Z"
   },
   {
    "duration": 398,
    "start_time": "2022-06-27T17:43:49.236Z"
   },
   {
    "duration": 562,
    "start_time": "2022-06-27T17:44:55.117Z"
   },
   {
    "duration": 3043,
    "start_time": "2022-06-27T17:45:22.690Z"
   },
   {
    "duration": 659,
    "start_time": "2022-06-27T17:47:05.599Z"
   },
   {
    "duration": 460,
    "start_time": "2022-06-27T17:47:22.594Z"
   },
   {
    "duration": 943,
    "start_time": "2022-06-27T17:49:33.026Z"
   },
   {
    "duration": 24,
    "start_time": "2022-06-27T17:51:35.232Z"
   },
   {
    "duration": 219,
    "start_time": "2022-06-27T17:51:46.312Z"
   },
   {
    "duration": 22,
    "start_time": "2022-06-27T17:52:00.484Z"
   },
   {
    "duration": 226,
    "start_time": "2022-06-27T17:52:00.805Z"
   },
   {
    "duration": 6,
    "start_time": "2022-06-27T17:52:22.639Z"
   },
   {
    "duration": 21,
    "start_time": "2022-06-27T17:52:22.647Z"
   },
   {
    "duration": 387,
    "start_time": "2022-06-27T17:52:22.670Z"
   },
   {
    "duration": 4,
    "start_time": "2022-06-27T17:52:23.060Z"
   },
   {
    "duration": 125,
    "start_time": "2022-06-27T17:52:23.126Z"
   },
   {
    "duration": 1198,
    "start_time": "2022-06-27T17:52:23.253Z"
   },
   {
    "duration": 2072,
    "start_time": "2022-06-27T17:52:24.454Z"
   },
   {
    "duration": 3404,
    "start_time": "2022-06-27T17:52:26.529Z"
   },
   {
    "duration": 2628,
    "start_time": "2022-06-27T17:52:29.935Z"
   },
   {
    "duration": 3,
    "start_time": "2022-06-27T17:52:32.566Z"
   },
   {
    "duration": 30,
    "start_time": "2022-06-27T17:52:32.571Z"
   },
   {
    "duration": 234,
    "start_time": "2022-06-27T17:52:32.602Z"
   },
   {
    "duration": 1204,
    "start_time": "2022-06-27T17:53:18.499Z"
   },
   {
    "duration": 15068,
    "start_time": "2022-06-27T17:53:19.705Z"
   },
   {
    "duration": 8628,
    "start_time": "2022-06-27T17:53:34.827Z"
   },
   {
    "duration": 78,
    "start_time": "2022-06-27T17:53:43.457Z"
   },
   {
    "duration": 504,
    "start_time": "2022-06-27T17:53:43.537Z"
   },
   {
    "duration": 4018,
    "start_time": "2022-06-27T17:53:44.043Z"
   },
   {
    "duration": 4169,
    "start_time": "2022-06-27T17:53:48.063Z"
   },
   {
    "duration": 6194,
    "start_time": "2022-06-27T17:53:52.234Z"
   },
   {
    "duration": 4081,
    "start_time": "2022-06-27T17:53:58.429Z"
   },
   {
    "duration": 3,
    "start_time": "2022-06-27T17:54:02.511Z"
   },
   {
    "duration": 51,
    "start_time": "2022-06-27T17:54:02.515Z"
   },
   {
    "duration": 425,
    "start_time": "2022-06-27T17:54:08.119Z"
   },
   {
    "duration": 46,
    "start_time": "2022-06-27T17:56:54.250Z"
   },
   {
    "duration": 399,
    "start_time": "2022-06-27T17:56:54.866Z"
   },
   {
    "duration": 257,
    "start_time": "2022-06-27T17:57:11.129Z"
   },
   {
    "duration": 2675,
    "start_time": "2022-06-27T17:57:11.388Z"
   },
   {
    "duration": 591,
    "start_time": "2022-06-27T17:57:14.065Z"
   },
   {
    "duration": 523,
    "start_time": "2022-06-27T17:57:14.660Z"
   },
   {
    "duration": 2478,
    "start_time": "2022-06-27T17:57:15.185Z"
   },
   {
    "duration": 1912,
    "start_time": "2022-06-27T17:57:17.664Z"
   },
   {
    "duration": 72,
    "start_time": "2022-06-27T17:57:19.578Z"
   },
   {
    "duration": 3,
    "start_time": "2022-06-27T17:57:19.651Z"
   },
   {
    "duration": 93,
    "start_time": "2022-06-27T17:57:19.656Z"
   },
   {
    "duration": 2482,
    "start_time": "2022-06-27T17:57:19.752Z"
   },
   {
    "duration": 1111,
    "start_time": "2022-06-27T17:57:22.236Z"
   },
   {
    "duration": 93,
    "start_time": "2022-06-27T17:57:23.349Z"
   },
   {
    "duration": 59509,
    "start_time": "2022-06-27T17:57:23.444Z"
   },
   {
    "duration": 42855,
    "start_time": "2022-06-27T17:58:22.954Z"
   },
   {
    "duration": 1742,
    "start_time": "2022-06-27T17:59:05.810Z"
   },
   {
    "duration": 1019,
    "start_time": "2022-06-27T17:59:07.554Z"
   },
   {
    "duration": 306,
    "start_time": "2022-06-27T17:59:08.575Z"
   },
   {
    "duration": 1211,
    "start_time": "2022-06-27T18:10:09.766Z"
   },
   {
    "duration": 15465,
    "start_time": "2022-06-27T18:10:10.979Z"
   },
   {
    "duration": 9013,
    "start_time": "2022-06-27T18:10:26.446Z"
   },
   {
    "duration": 79,
    "start_time": "2022-06-27T18:10:35.461Z"
   },
   {
    "duration": 614,
    "start_time": "2022-06-27T18:10:35.543Z"
   },
   {
    "duration": 4975,
    "start_time": "2022-06-27T18:10:36.158Z"
   },
   {
    "duration": 4903,
    "start_time": "2022-06-27T18:10:41.135Z"
   },
   {
    "duration": 6404,
    "start_time": "2022-06-27T18:10:46.040Z"
   },
   {
    "duration": 4743,
    "start_time": "2022-06-27T18:10:52.446Z"
   },
   {
    "duration": 196,
    "start_time": "2022-06-27T18:10:57.191Z"
   },
   {
    "duration": 1782,
    "start_time": "2022-06-27T18:10:57.388Z"
   },
   {
    "duration": 558,
    "start_time": "2022-06-27T18:10:59.171Z"
   },
   {
    "duration": 398,
    "start_time": "2022-06-27T18:10:59.730Z"
   },
   {
    "duration": 2150,
    "start_time": "2022-06-27T18:11:00.132Z"
   },
   {
    "duration": 1903,
    "start_time": "2022-06-27T18:11:02.284Z"
   },
   {
    "duration": 51,
    "start_time": "2022-06-27T18:11:04.188Z"
   },
   {
    "duration": 3,
    "start_time": "2022-06-27T18:11:04.240Z"
   },
   {
    "duration": 88,
    "start_time": "2022-06-27T18:11:04.245Z"
   },
   {
    "duration": 2518,
    "start_time": "2022-06-27T18:11:04.336Z"
   },
   {
    "duration": 97,
    "start_time": "2022-06-27T18:11:06.855Z"
   },
   {
    "duration": 1672,
    "start_time": "2022-06-27T18:11:06.954Z"
   },
   {
    "duration": 1321,
    "start_time": "2022-06-27T18:11:08.628Z"
   },
   {
    "duration": 105,
    "start_time": "2022-06-27T18:11:09.950Z"
   },
   {
    "duration": 58028,
    "start_time": "2022-06-27T18:11:10.057Z"
   },
   {
    "duration": 41973,
    "start_time": "2022-06-27T18:12:08.087Z"
   },
   {
    "duration": 1869,
    "start_time": "2022-06-27T18:12:50.062Z"
   },
   {
    "duration": 898,
    "start_time": "2022-06-27T18:12:51.932Z"
   },
   {
    "duration": 394,
    "start_time": "2022-06-27T18:12:52.832Z"
   },
   {
    "duration": 15,
    "start_time": "2022-06-27T18:24:44.044Z"
   },
   {
    "duration": 62,
    "start_time": "2022-06-27T18:24:49.946Z"
   },
   {
    "duration": 131,
    "start_time": "2022-06-27T18:24:56.503Z"
   },
   {
    "duration": 1243,
    "start_time": "2022-06-27T18:25:20.220Z"
   },
   {
    "duration": 15401,
    "start_time": "2022-06-27T18:25:21.465Z"
   },
   {
    "duration": 8770,
    "start_time": "2022-06-27T18:25:36.869Z"
   },
   {
    "duration": 85,
    "start_time": "2022-06-27T18:25:45.641Z"
   },
   {
    "duration": 506,
    "start_time": "2022-06-27T18:25:45.729Z"
   },
   {
    "duration": 4217,
    "start_time": "2022-06-27T18:25:46.237Z"
   },
   {
    "duration": 4489,
    "start_time": "2022-06-27T18:25:50.456Z"
   },
   {
    "duration": 6096,
    "start_time": "2022-06-27T18:25:54.947Z"
   },
   {
    "duration": 4332,
    "start_time": "2022-06-27T18:26:01.046Z"
   },
   {
    "duration": 1877,
    "start_time": "2022-06-27T18:26:05.380Z"
   },
   {
    "duration": 573,
    "start_time": "2022-06-27T18:26:07.259Z"
   },
   {
    "duration": 427,
    "start_time": "2022-06-27T18:26:07.834Z"
   },
   {
    "duration": 1930,
    "start_time": "2022-06-27T18:26:08.263Z"
   },
   {
    "duration": 2219,
    "start_time": "2022-06-27T18:26:10.195Z"
   },
   {
    "duration": 111,
    "start_time": "2022-06-27T18:26:12.415Z"
   },
   {
    "duration": 3,
    "start_time": "2022-06-27T18:26:12.528Z"
   },
   {
    "duration": 95,
    "start_time": "2022-06-27T18:26:12.532Z"
   },
   {
    "duration": 2323,
    "start_time": "2022-06-27T18:26:12.629Z"
   },
   {
    "duration": 109,
    "start_time": "2022-06-27T18:26:14.954Z"
   },
   {
    "duration": 1272,
    "start_time": "2022-06-27T18:26:15.064Z"
   },
   {
    "duration": 1120,
    "start_time": "2022-06-27T18:26:16.339Z"
   },
   {
    "duration": 103,
    "start_time": "2022-06-27T18:26:17.461Z"
   },
   {
    "duration": 57960,
    "start_time": "2022-06-27T18:26:17.566Z"
   },
   {
    "duration": 47059,
    "start_time": "2022-06-27T18:27:15.528Z"
   },
   {
    "duration": 1942,
    "start_time": "2022-06-27T18:28:02.589Z"
   },
   {
    "duration": 1195,
    "start_time": "2022-06-27T18:28:04.533Z"
   },
   {
    "duration": 298,
    "start_time": "2022-06-27T18:28:05.730Z"
   },
   {
    "duration": 47742,
    "start_time": "2022-06-27T18:30:46.596Z"
   },
   {
    "duration": 1279,
    "start_time": "2022-06-27T18:33:06.154Z"
   },
   {
    "duration": 15518,
    "start_time": "2022-06-27T18:33:07.434Z"
   },
   {
    "duration": 9311,
    "start_time": "2022-06-27T18:33:22.954Z"
   },
   {
    "duration": 20,
    "start_time": "2022-06-27T18:33:32.328Z"
   },
   {
    "duration": 607,
    "start_time": "2022-06-27T18:33:32.350Z"
   },
   {
    "duration": 4800,
    "start_time": "2022-06-27T18:33:32.959Z"
   },
   {
    "duration": 4704,
    "start_time": "2022-06-27T18:33:37.825Z"
   },
   {
    "duration": 6398,
    "start_time": "2022-06-27T18:33:42.531Z"
   },
   {
    "duration": 4984,
    "start_time": "2022-06-27T18:33:48.933Z"
   },
   {
    "duration": 2164,
    "start_time": "2022-06-27T18:33:53.925Z"
   },
   {
    "duration": 537,
    "start_time": "2022-06-27T18:33:56.091Z"
   },
   {
    "duration": 397,
    "start_time": "2022-06-27T18:33:56.632Z"
   },
   {
    "duration": 2051,
    "start_time": "2022-06-27T18:33:57.031Z"
   },
   {
    "duration": 1917,
    "start_time": "2022-06-27T18:33:59.083Z"
   },
   {
    "duration": 59,
    "start_time": "2022-06-27T18:34:01.002Z"
   },
   {
    "duration": 3,
    "start_time": "2022-06-27T18:34:01.063Z"
   },
   {
    "duration": 68,
    "start_time": "2022-06-27T18:34:01.067Z"
   },
   {
    "duration": 2590,
    "start_time": "2022-06-27T18:34:01.136Z"
   },
   {
    "duration": 101,
    "start_time": "2022-06-27T18:34:03.729Z"
   },
   {
    "duration": 1808,
    "start_time": "2022-06-27T18:34:03.832Z"
   },
   {
    "duration": 1283,
    "start_time": "2022-06-27T18:34:05.643Z"
   },
   {
    "duration": 114,
    "start_time": "2022-06-27T18:34:06.929Z"
   },
   {
    "duration": 65528,
    "start_time": "2022-06-27T18:34:07.045Z"
   },
   {
    "duration": 138401,
    "start_time": "2022-06-27T18:35:12.574Z"
   },
   {
    "duration": 2064,
    "start_time": "2022-06-27T18:37:30.977Z"
   },
   {
    "duration": 1101,
    "start_time": "2022-06-27T18:37:33.044Z"
   },
   {
    "duration": 394,
    "start_time": "2022-06-27T18:37:34.146Z"
   },
   {
    "duration": 1362,
    "start_time": "2022-06-27T18:40:21.899Z"
   },
   {
    "duration": 16897,
    "start_time": "2022-06-27T18:40:23.263Z"
   },
   {
    "duration": 9075,
    "start_time": "2022-06-27T18:40:40.162Z"
   },
   {
    "duration": 19,
    "start_time": "2022-06-27T18:40:49.240Z"
   },
   {
    "duration": 612,
    "start_time": "2022-06-27T18:40:49.327Z"
   },
   {
    "duration": 5296,
    "start_time": "2022-06-27T18:40:49.941Z"
   },
   {
    "duration": 4500,
    "start_time": "2022-06-27T18:40:55.239Z"
   },
   {
    "duration": 6395,
    "start_time": "2022-06-27T18:40:59.741Z"
   },
   {
    "duration": 4288,
    "start_time": "2022-06-27T18:41:06.139Z"
   },
   {
    "duration": 1997,
    "start_time": "2022-06-27T18:41:10.430Z"
   },
   {
    "duration": 403,
    "start_time": "2022-06-27T18:41:12.429Z"
   },
   {
    "duration": 302,
    "start_time": "2022-06-27T18:41:12.834Z"
   },
   {
    "duration": 2017,
    "start_time": "2022-06-27T18:41:13.138Z"
   },
   {
    "duration": 2184,
    "start_time": "2022-06-27T18:41:15.157Z"
   },
   {
    "duration": 90,
    "start_time": "2022-06-27T18:41:17.344Z"
   },
   {
    "duration": 4,
    "start_time": "2022-06-27T18:41:17.436Z"
   },
   {
    "duration": 88,
    "start_time": "2022-06-27T18:41:17.442Z"
   },
   {
    "duration": 2698,
    "start_time": "2022-06-27T18:41:17.532Z"
   },
   {
    "duration": 97,
    "start_time": "2022-06-27T18:41:20.232Z"
   },
   {
    "duration": 1652,
    "start_time": "2022-06-27T18:41:20.332Z"
   },
   {
    "duration": 1260,
    "start_time": "2022-06-27T18:41:21.986Z"
   },
   {
    "duration": 100,
    "start_time": "2022-06-27T18:41:23.249Z"
   },
   {
    "duration": 62977,
    "start_time": "2022-06-27T18:41:23.351Z"
   },
   {
    "duration": 0,
    "start_time": "2022-06-27T18:42:26.331Z"
   },
   {
    "duration": 0,
    "start_time": "2022-06-27T18:42:26.345Z"
   },
   {
    "duration": 0,
    "start_time": "2022-06-27T18:42:26.347Z"
   },
   {
    "duration": 0,
    "start_time": "2022-06-27T18:42:26.347Z"
   },
   {
    "duration": 1244,
    "start_time": "2022-06-27T18:43:11.316Z"
   },
   {
    "duration": 14867,
    "start_time": "2022-06-27T18:43:12.562Z"
   },
   {
    "duration": 8230,
    "start_time": "2022-06-27T18:43:27.432Z"
   },
   {
    "duration": 23,
    "start_time": "2022-06-27T18:43:35.727Z"
   },
   {
    "duration": 615,
    "start_time": "2022-06-27T18:43:35.752Z"
   },
   {
    "duration": 4435,
    "start_time": "2022-06-27T18:43:36.425Z"
   },
   {
    "duration": 4475,
    "start_time": "2022-06-27T18:43:40.862Z"
   },
   {
    "duration": 6293,
    "start_time": "2022-06-27T18:43:45.339Z"
   },
   {
    "duration": 4456,
    "start_time": "2022-06-27T18:43:51.635Z"
   },
   {
    "duration": 1590,
    "start_time": "2022-06-27T18:43:56.096Z"
   },
   {
    "duration": 449,
    "start_time": "2022-06-27T18:43:57.688Z"
   },
   {
    "duration": 407,
    "start_time": "2022-06-27T18:43:58.140Z"
   },
   {
    "duration": 2051,
    "start_time": "2022-06-27T18:43:58.549Z"
   },
   {
    "duration": 2226,
    "start_time": "2022-06-27T18:44:00.627Z"
   },
   {
    "duration": 74,
    "start_time": "2022-06-27T18:44:02.855Z"
   },
   {
    "duration": 4,
    "start_time": "2022-06-27T18:44:02.932Z"
   },
   {
    "duration": 38,
    "start_time": "2022-06-27T18:44:02.937Z"
   },
   {
    "duration": 2450,
    "start_time": "2022-06-27T18:44:02.977Z"
   },
   {
    "duration": 100,
    "start_time": "2022-06-27T18:44:05.429Z"
   },
   {
    "duration": 1409,
    "start_time": "2022-06-27T18:44:05.532Z"
   },
   {
    "duration": 1203,
    "start_time": "2022-06-27T18:44:06.943Z"
   },
   {
    "duration": 115,
    "start_time": "2022-06-27T18:44:08.148Z"
   },
   {
    "duration": 246038,
    "start_time": "2022-06-27T18:44:08.325Z"
   },
   {
    "duration": 172180,
    "start_time": "2022-06-27T18:48:14.365Z"
   },
   {
    "duration": 1796,
    "start_time": "2022-06-27T18:51:06.547Z"
   },
   {
    "duration": 887,
    "start_time": "2022-06-27T18:51:08.344Z"
   },
   {
    "duration": 409,
    "start_time": "2022-06-27T18:51:09.233Z"
   },
   {
    "duration": 1240,
    "start_time": "2022-06-27T18:52:09.882Z"
   },
   {
    "duration": 16036,
    "start_time": "2022-06-27T18:52:11.124Z"
   },
   {
    "duration": 9308,
    "start_time": "2022-06-27T18:52:27.162Z"
   },
   {
    "duration": 24,
    "start_time": "2022-06-27T18:52:36.528Z"
   },
   {
    "duration": 681,
    "start_time": "2022-06-27T18:52:36.555Z"
   },
   {
    "duration": 4707,
    "start_time": "2022-06-27T18:52:37.237Z"
   },
   {
    "duration": 4393,
    "start_time": "2022-06-27T18:52:41.946Z"
   },
   {
    "duration": 6203,
    "start_time": "2022-06-27T18:52:46.342Z"
   },
   {
    "duration": 3994,
    "start_time": "2022-06-27T18:52:52.546Z"
   },
   {
    "duration": 1617,
    "start_time": "2022-06-27T18:52:56.545Z"
   },
   {
    "duration": 477,
    "start_time": "2022-06-27T18:52:58.164Z"
   },
   {
    "duration": 417,
    "start_time": "2022-06-27T18:52:58.643Z"
   },
   {
    "duration": 1882,
    "start_time": "2022-06-27T18:52:59.062Z"
   },
   {
    "duration": 1952,
    "start_time": "2022-06-27T18:53:00.946Z"
   },
   {
    "duration": 54,
    "start_time": "2022-06-27T18:53:02.900Z"
   },
   {
    "duration": 3,
    "start_time": "2022-06-27T18:53:02.956Z"
   },
   {
    "duration": 83,
    "start_time": "2022-06-27T18:53:02.961Z"
   },
   {
    "duration": 2713,
    "start_time": "2022-06-27T18:53:03.046Z"
   },
   {
    "duration": 101,
    "start_time": "2022-06-27T18:53:05.826Z"
   },
   {
    "duration": 1827,
    "start_time": "2022-06-27T18:53:05.929Z"
   },
   {
    "duration": 1302,
    "start_time": "2022-06-27T18:53:07.758Z"
   },
   {
    "duration": 101,
    "start_time": "2022-06-27T18:53:09.127Z"
   },
   {
    "duration": 257654,
    "start_time": "2022-06-27T18:53:09.230Z"
   },
   {
    "duration": 174031,
    "start_time": "2022-06-27T18:57:26.886Z"
   },
   {
    "duration": 1607,
    "start_time": "2022-06-27T19:00:20.919Z"
   },
   {
    "duration": 1098,
    "start_time": "2022-06-27T19:00:22.528Z"
   },
   {
    "duration": 246,
    "start_time": "2022-06-27T19:00:23.629Z"
   },
   {
    "duration": 1244,
    "start_time": "2022-06-27T19:04:51.718Z"
   },
   {
    "duration": 15364,
    "start_time": "2022-06-27T19:04:52.964Z"
   },
   {
    "duration": 8715,
    "start_time": "2022-06-27T19:05:08.330Z"
   },
   {
    "duration": 21,
    "start_time": "2022-06-27T19:05:17.047Z"
   },
   {
    "duration": 550,
    "start_time": "2022-06-27T19:05:17.126Z"
   },
   {
    "duration": 3966,
    "start_time": "2022-06-27T19:05:17.678Z"
   },
   {
    "duration": 4904,
    "start_time": "2022-06-27T19:05:21.647Z"
   },
   {
    "duration": 5987,
    "start_time": "2022-06-27T19:05:26.554Z"
   },
   {
    "duration": 4188,
    "start_time": "2022-06-27T19:05:32.543Z"
   },
   {
    "duration": 1752,
    "start_time": "2022-06-27T19:05:36.733Z"
   },
   {
    "duration": 446,
    "start_time": "2022-06-27T19:05:38.486Z"
   },
   {
    "duration": 316,
    "start_time": "2022-06-27T19:05:38.934Z"
   },
   {
    "duration": 2016,
    "start_time": "2022-06-27T19:05:39.252Z"
   },
   {
    "duration": 1784,
    "start_time": "2022-06-27T19:05:41.270Z"
   },
   {
    "duration": 71,
    "start_time": "2022-06-27T19:05:43.056Z"
   },
   {
    "duration": 3,
    "start_time": "2022-06-27T19:05:43.129Z"
   },
   {
    "duration": 35,
    "start_time": "2022-06-27T19:05:43.133Z"
   },
   {
    "duration": 2191,
    "start_time": "2022-06-27T19:05:43.170Z"
   },
   {
    "duration": 92,
    "start_time": "2022-06-27T19:05:45.363Z"
   },
   {
    "duration": 1274,
    "start_time": "2022-06-27T19:05:45.457Z"
   },
   {
    "duration": 1219,
    "start_time": "2022-06-27T19:05:46.733Z"
   },
   {
    "duration": 106,
    "start_time": "2022-06-27T19:05:47.954Z"
   },
   {
    "duration": 92073,
    "start_time": "2022-06-27T19:05:48.062Z"
   },
   {
    "duration": 66496,
    "start_time": "2022-06-27T19:07:20.136Z"
   },
   {
    "duration": 1722,
    "start_time": "2022-06-27T19:08:26.634Z"
   },
   {
    "duration": 909,
    "start_time": "2022-06-27T19:08:28.425Z"
   },
   {
    "duration": 344,
    "start_time": "2022-06-27T19:08:29.336Z"
   },
   {
    "duration": 765,
    "start_time": "2022-06-27T19:14:10.568Z"
   },
   {
    "duration": 1233,
    "start_time": "2022-06-27T19:14:32.265Z"
   },
   {
    "duration": 15329,
    "start_time": "2022-06-27T19:14:33.500Z"
   },
   {
    "duration": 9046,
    "start_time": "2022-06-27T19:14:48.831Z"
   },
   {
    "duration": 23,
    "start_time": "2022-06-27T19:14:57.928Z"
   },
   {
    "duration": 515,
    "start_time": "2022-06-27T19:14:57.953Z"
   },
   {
    "duration": 4277,
    "start_time": "2022-06-27T19:14:58.469Z"
   },
   {
    "duration": 4114,
    "start_time": "2022-06-27T19:15:02.747Z"
   },
   {
    "duration": 5965,
    "start_time": "2022-06-27T19:15:06.863Z"
   },
   {
    "duration": 3986,
    "start_time": "2022-06-27T19:15:12.830Z"
   },
   {
    "duration": 1620,
    "start_time": "2022-06-27T19:15:16.819Z"
   },
   {
    "duration": 427,
    "start_time": "2022-06-27T19:15:18.441Z"
   },
   {
    "duration": 363,
    "start_time": "2022-06-27T19:15:18.869Z"
   },
   {
    "duration": 1859,
    "start_time": "2022-06-27T19:15:19.234Z"
   },
   {
    "duration": 1821,
    "start_time": "2022-06-27T19:15:21.125Z"
   },
   {
    "duration": 40,
    "start_time": "2022-06-27T19:15:22.947Z"
   },
   {
    "duration": 4,
    "start_time": "2022-06-27T19:15:23.025Z"
   },
   {
    "duration": 36,
    "start_time": "2022-06-27T19:15:23.030Z"
   },
   {
    "duration": 2472,
    "start_time": "2022-06-27T19:15:23.068Z"
   },
   {
    "duration": 108,
    "start_time": "2022-06-27T19:15:25.542Z"
   },
   {
    "duration": 1792,
    "start_time": "2022-06-27T19:15:25.652Z"
   },
   {
    "duration": 1395,
    "start_time": "2022-06-27T19:15:27.446Z"
   },
   {
    "duration": 99,
    "start_time": "2022-06-27T19:15:28.844Z"
   },
   {
    "duration": 104496,
    "start_time": "2022-06-27T19:15:28.945Z"
   },
   {
    "duration": 64922,
    "start_time": "2022-06-27T19:17:13.443Z"
   },
   {
    "duration": 1674,
    "start_time": "2022-06-27T19:18:18.366Z"
   },
   {
    "duration": 917,
    "start_time": "2022-06-27T19:18:20.042Z"
   },
   {
    "duration": 297,
    "start_time": "2022-06-27T19:18:20.961Z"
   },
   {
    "duration": 197,
    "start_time": "2022-06-28T08:17:15.367Z"
   },
   {
    "duration": 67,
    "start_time": "2022-06-28T08:22:17.869Z"
   },
   {
    "duration": 1483,
    "start_time": "2022-06-28T08:22:26.996Z"
   },
   {
    "duration": 16950,
    "start_time": "2022-06-28T08:22:28.481Z"
   },
   {
    "duration": 9833,
    "start_time": "2022-06-28T08:22:45.433Z"
   },
   {
    "duration": 68,
    "start_time": "2022-06-28T08:22:55.268Z"
   },
   {
    "duration": 709,
    "start_time": "2022-06-28T08:22:55.338Z"
   },
   {
    "duration": 5307,
    "start_time": "2022-06-28T08:22:56.052Z"
   },
   {
    "duration": 4916,
    "start_time": "2022-06-28T08:23:01.361Z"
   },
   {
    "duration": 7197,
    "start_time": "2022-06-28T08:23:06.331Z"
   },
   {
    "duration": 4426,
    "start_time": "2022-06-28T08:23:13.530Z"
   },
   {
    "duration": 1765,
    "start_time": "2022-06-28T08:23:17.964Z"
   },
   {
    "duration": 539,
    "start_time": "2022-06-28T08:23:19.730Z"
   },
   {
    "duration": 393,
    "start_time": "2022-06-28T08:23:20.270Z"
   },
   {
    "duration": 2234,
    "start_time": "2022-06-28T08:23:20.665Z"
   },
   {
    "duration": 2078,
    "start_time": "2022-06-28T08:23:22.901Z"
   },
   {
    "duration": 83,
    "start_time": "2022-06-28T08:23:24.981Z"
   },
   {
    "duration": 73,
    "start_time": "2022-06-28T08:23:25.068Z"
   },
   {
    "duration": 103,
    "start_time": "2022-06-28T08:23:25.142Z"
   },
   {
    "duration": 2918,
    "start_time": "2022-06-28T08:23:25.247Z"
   },
   {
    "duration": 175,
    "start_time": "2022-06-28T08:23:28.168Z"
   },
   {
    "duration": 1887,
    "start_time": "2022-06-28T08:23:28.344Z"
   },
   {
    "duration": 1328,
    "start_time": "2022-06-28T08:23:30.232Z"
   },
   {
    "duration": 171,
    "start_time": "2022-06-28T08:23:31.566Z"
   },
   {
    "duration": 119732,
    "start_time": "2022-06-28T08:23:31.738Z"
   },
   {
    "duration": 70195,
    "start_time": "2022-06-28T08:25:31.471Z"
   },
   {
    "duration": 2307,
    "start_time": "2022-06-28T08:26:41.668Z"
   },
   {
    "duration": 977,
    "start_time": "2022-06-28T08:26:43.976Z"
   },
   {
    "duration": 223,
    "start_time": "2022-06-28T08:26:44.956Z"
   },
   {
    "duration": 2424,
    "start_time": "2022-06-28T08:26:45.181Z"
   },
   {
    "duration": 3359,
    "start_time": "2022-06-28T08:26:54.101Z"
   },
   {
    "duration": 140,
    "start_time": "2022-06-28T08:33:03.660Z"
   },
   {
    "duration": 1273,
    "start_time": "2022-06-28T10:54:45.490Z"
   },
   {
    "duration": 14108,
    "start_time": "2022-06-28T10:54:46.765Z"
   },
   {
    "duration": 7675,
    "start_time": "2022-06-28T10:55:00.874Z"
   },
   {
    "duration": 77,
    "start_time": "2022-06-28T10:55:08.552Z"
   },
   {
    "duration": 361,
    "start_time": "2022-06-28T10:55:08.631Z"
   },
   {
    "duration": 3840,
    "start_time": "2022-06-28T10:55:08.993Z"
   },
   {
    "duration": 3724,
    "start_time": "2022-06-28T10:55:12.835Z"
   },
   {
    "duration": 5480,
    "start_time": "2022-06-28T10:55:16.561Z"
   },
   {
    "duration": 3568,
    "start_time": "2022-06-28T10:55:22.043Z"
   },
   {
    "duration": 1478,
    "start_time": "2022-06-28T10:55:25.613Z"
   },
   {
    "duration": 365,
    "start_time": "2022-06-28T10:55:27.092Z"
   },
   {
    "duration": 312,
    "start_time": "2022-06-28T10:55:27.458Z"
   },
   {
    "duration": 1866,
    "start_time": "2022-06-28T10:55:27.771Z"
   },
   {
    "duration": 78,
    "start_time": "2022-06-28T10:55:55.131Z"
   },
   {
    "duration": 377,
    "start_time": "2022-06-28T10:56:52.053Z"
   },
   {
    "duration": 206,
    "start_time": "2022-06-28T10:56:57.901Z"
   },
   {
    "duration": 107,
    "start_time": "2022-06-28T10:57:01.932Z"
   },
   {
    "duration": 97,
    "start_time": "2022-06-28T10:57:17.081Z"
   },
   {
    "duration": 249,
    "start_time": "2022-06-28T10:57:25.681Z"
   },
   {
    "duration": 8,
    "start_time": "2022-06-28T10:57:39.069Z"
   },
   {
    "duration": 157,
    "start_time": "2022-06-28T10:57:47.477Z"
   },
   {
    "duration": 131,
    "start_time": "2022-06-28T10:58:25.563Z"
   },
   {
    "duration": 1201,
    "start_time": "2022-06-28T10:59:00.648Z"
   },
   {
    "duration": 15320,
    "start_time": "2022-06-28T10:59:01.851Z"
   },
   {
    "duration": 9200,
    "start_time": "2022-06-28T10:59:17.173Z"
   },
   {
    "duration": 73,
    "start_time": "2022-06-28T10:59:26.375Z"
   },
   {
    "duration": 697,
    "start_time": "2022-06-28T10:59:26.449Z"
   },
   {
    "duration": 5282,
    "start_time": "2022-06-28T10:59:27.149Z"
   },
   {
    "duration": 4214,
    "start_time": "2022-06-28T10:59:32.432Z"
   },
   {
    "duration": 6686,
    "start_time": "2022-06-28T10:59:36.648Z"
   },
   {
    "duration": 3962,
    "start_time": "2022-06-28T10:59:43.336Z"
   },
   {
    "duration": 1572,
    "start_time": "2022-06-28T10:59:47.301Z"
   },
   {
    "duration": 477,
    "start_time": "2022-06-28T10:59:48.876Z"
   },
   {
    "duration": 418,
    "start_time": "2022-06-28T10:59:49.354Z"
   },
   {
    "duration": 1487,
    "start_time": "2022-06-28T10:59:49.775Z"
   },
   {
    "duration": 589,
    "start_time": "2022-06-28T10:59:51.264Z"
   },
   {
    "duration": 87,
    "start_time": "2022-06-28T10:59:51.855Z"
   },
   {
    "duration": 3,
    "start_time": "2022-06-28T10:59:51.944Z"
   },
   {
    "duration": 81,
    "start_time": "2022-06-28T10:59:51.949Z"
   },
   {
    "duration": 2599,
    "start_time": "2022-06-28T10:59:52.032Z"
   },
   {
    "duration": 96,
    "start_time": "2022-06-28T10:59:54.633Z"
   },
   {
    "duration": 1307,
    "start_time": "2022-06-28T10:59:54.731Z"
   },
   {
    "duration": 1191,
    "start_time": "2022-06-28T10:59:56.039Z"
   },
   {
    "duration": 43,
    "start_time": "2022-06-28T10:59:57.232Z"
   },
   {
    "duration": 95222,
    "start_time": "2022-06-28T10:59:57.276Z"
   },
   {
    "duration": 60842,
    "start_time": "2022-06-28T11:01:32.500Z"
   },
   {
    "duration": 1711,
    "start_time": "2022-06-28T11:02:33.343Z"
   },
   {
    "duration": 978,
    "start_time": "2022-06-28T11:02:35.055Z"
   },
   {
    "duration": 309,
    "start_time": "2022-06-28T11:02:36.034Z"
   },
   {
    "duration": 297,
    "start_time": "2022-06-28T11:03:42.445Z"
   },
   {
    "duration": 226,
    "start_time": "2022-06-28T11:04:49.941Z"
   },
   {
    "duration": 136,
    "start_time": "2022-06-28T11:04:55.374Z"
   },
   {
    "duration": 139,
    "start_time": "2022-06-28T11:04:59.989Z"
   },
   {
    "duration": 138,
    "start_time": "2022-06-28T11:05:04.414Z"
   },
   {
    "duration": 135,
    "start_time": "2022-06-28T11:05:06.997Z"
   },
   {
    "duration": 127,
    "start_time": "2022-06-28T11:05:12.703Z"
   },
   {
    "duration": 159,
    "start_time": "2022-06-28T11:05:17.300Z"
   },
   {
    "duration": 231,
    "start_time": "2022-06-28T11:05:21.104Z"
   },
   {
    "duration": 136,
    "start_time": "2022-06-28T11:06:59.751Z"
   },
   {
    "duration": 195,
    "start_time": "2022-06-28T11:08:31.625Z"
   },
   {
    "duration": 77,
    "start_time": "2022-06-28T11:10:32.754Z"
   },
   {
    "duration": 656,
    "start_time": "2022-06-28T11:10:52.260Z"
   },
   {
    "duration": 9,
    "start_time": "2022-06-28T11:10:58.958Z"
   },
   {
    "duration": 462,
    "start_time": "2022-06-28T11:11:03.585Z"
   },
   {
    "duration": 1110,
    "start_time": "2022-06-28T11:11:46.971Z"
   },
   {
    "duration": 15575,
    "start_time": "2022-06-28T11:11:48.083Z"
   },
   {
    "duration": 8615,
    "start_time": "2022-06-28T11:12:03.660Z"
   },
   {
    "duration": 68,
    "start_time": "2022-06-28T11:12:12.278Z"
   },
   {
    "duration": 684,
    "start_time": "2022-06-28T11:12:12.348Z"
   },
   {
    "duration": 5329,
    "start_time": "2022-06-28T11:12:13.034Z"
   },
   {
    "duration": 5100,
    "start_time": "2022-06-28T11:12:18.365Z"
   },
   {
    "duration": 7205,
    "start_time": "2022-06-28T11:12:23.531Z"
   },
   {
    "duration": 5167,
    "start_time": "2022-06-28T11:12:30.737Z"
   },
   {
    "duration": 1699,
    "start_time": "2022-06-28T11:12:35.906Z"
   },
   {
    "duration": 623,
    "start_time": "2022-06-28T11:12:37.607Z"
   },
   {
    "duration": 433,
    "start_time": "2022-06-28T11:12:38.232Z"
   },
   {
    "duration": 1862,
    "start_time": "2022-06-28T11:12:38.667Z"
   },
   {
    "duration": 694,
    "start_time": "2022-06-28T11:12:40.534Z"
   },
   {
    "duration": 38,
    "start_time": "2022-06-28T11:12:41.231Z"
   },
   {
    "duration": 3,
    "start_time": "2022-06-28T11:12:41.330Z"
   },
   {
    "duration": 33,
    "start_time": "2022-06-28T11:12:41.335Z"
   },
   {
    "duration": 2822,
    "start_time": "2022-06-28T11:12:41.430Z"
   },
   {
    "duration": 2,
    "start_time": "2022-06-28T11:12:44.254Z"
   },
   {
    "duration": 1589,
    "start_time": "2022-06-28T11:12:44.258Z"
   },
   {
    "duration": 1090,
    "start_time": "2022-06-28T11:12:45.849Z"
   },
   {
    "duration": 1303,
    "start_time": "2022-06-28T11:12:46.941Z"
   },
   {
    "duration": 1304,
    "start_time": "2022-06-28T11:12:48.245Z"
   },
   {
    "duration": 93,
    "start_time": "2022-06-28T11:12:49.551Z"
   },
   {
    "duration": 107432,
    "start_time": "2022-06-28T11:12:49.646Z"
   },
   {
    "duration": 68953,
    "start_time": "2022-06-28T11:14:37.128Z"
   },
   {
    "duration": 2053,
    "start_time": "2022-06-28T11:15:46.083Z"
   },
   {
    "duration": 932,
    "start_time": "2022-06-28T11:15:48.138Z"
   },
   {
    "duration": 299,
    "start_time": "2022-06-28T11:15:49.130Z"
   },
   {
    "duration": 108,
    "start_time": "2022-06-28T11:31:51.170Z"
   },
   {
    "duration": 6,
    "start_time": "2022-06-28T11:34:23.941Z"
   },
   {
    "duration": 8,
    "start_time": "2022-06-28T11:34:43.062Z"
   },
   {
    "duration": 8,
    "start_time": "2022-06-28T11:34:50.283Z"
   },
   {
    "duration": 9,
    "start_time": "2022-06-28T11:34:59.538Z"
   },
   {
    "duration": 5,
    "start_time": "2022-06-28T11:35:03.403Z"
   },
   {
    "duration": 9,
    "start_time": "2022-06-28T11:41:06.748Z"
   },
   {
    "duration": 11,
    "start_time": "2022-06-28T11:41:09.993Z"
   },
   {
    "duration": 4,
    "start_time": "2022-06-28T11:41:19.248Z"
   },
   {
    "duration": 4,
    "start_time": "2022-06-28T11:41:25.316Z"
   },
   {
    "duration": 9,
    "start_time": "2022-06-28T11:42:46.947Z"
   },
   {
    "duration": 10,
    "start_time": "2022-06-28T11:42:56.868Z"
   },
   {
    "duration": 4,
    "start_time": "2022-06-28T11:44:21.007Z"
   },
   {
    "duration": 6,
    "start_time": "2022-06-28T11:49:38.431Z"
   },
   {
    "duration": 17,
    "start_time": "2022-06-28T11:50:12.489Z"
   },
   {
    "duration": 1574,
    "start_time": "2022-06-28T11:50:30.675Z"
   },
   {
    "duration": 10,
    "start_time": "2022-06-28T11:53:28.826Z"
   },
   {
    "duration": 4,
    "start_time": "2022-06-28T11:53:36.341Z"
   },
   {
    "duration": 506,
    "start_time": "2022-06-28T11:55:06.578Z"
   },
   {
    "duration": 367,
    "start_time": "2022-06-28T11:55:10.879Z"
   },
   {
    "duration": 5,
    "start_time": "2022-06-28T11:56:15.638Z"
   },
   {
    "duration": 343,
    "start_time": "2022-06-28T11:57:07.757Z"
   },
   {
    "duration": 5,
    "start_time": "2022-06-28T11:57:29.051Z"
   },
   {
    "duration": 353,
    "start_time": "2022-06-28T11:57:37.614Z"
   },
   {
    "duration": 285,
    "start_time": "2022-06-28T11:57:40.994Z"
   },
   {
    "duration": 238,
    "start_time": "2022-06-28T11:58:00.443Z"
   },
   {
    "duration": 3,
    "start_time": "2022-06-28T11:58:32.915Z"
   },
   {
    "duration": 432,
    "start_time": "2022-06-28T11:58:42.439Z"
   },
   {
    "duration": 82,
    "start_time": "2022-06-28T11:58:57.687Z"
   },
   {
    "duration": 96,
    "start_time": "2022-06-28T11:59:07.318Z"
   },
   {
    "duration": 80,
    "start_time": "2022-06-28T11:59:19.235Z"
   },
   {
    "duration": 5,
    "start_time": "2022-06-28T12:02:56.389Z"
   },
   {
    "duration": 3,
    "start_time": "2022-06-28T12:03:09.265Z"
   },
   {
    "duration": 4,
    "start_time": "2022-06-28T12:03:44.573Z"
   },
   {
    "duration": 15,
    "start_time": "2022-06-28T12:03:58.922Z"
   },
   {
    "duration": 41,
    "start_time": "2022-06-28T12:04:07.148Z"
   },
   {
    "duration": 754,
    "start_time": "2022-06-28T12:14:02.328Z"
   },
   {
    "duration": 884,
    "start_time": "2022-06-28T12:16:24.908Z"
   },
   {
    "duration": 652,
    "start_time": "2022-06-28T12:16:47.430Z"
   },
   {
    "duration": 797,
    "start_time": "2022-06-28T12:16:55.376Z"
   },
   {
    "duration": 718,
    "start_time": "2022-06-28T12:17:08.027Z"
   },
   {
    "duration": 1390,
    "start_time": "2022-06-28T12:19:42.065Z"
   },
   {
    "duration": 15480,
    "start_time": "2022-06-28T12:19:43.457Z"
   },
   {
    "duration": 9393,
    "start_time": "2022-06-28T12:19:58.939Z"
   },
   {
    "duration": 19,
    "start_time": "2022-06-28T12:20:08.338Z"
   },
   {
    "duration": 606,
    "start_time": "2022-06-28T12:20:08.359Z"
   },
   {
    "duration": 4762,
    "start_time": "2022-06-28T12:20:08.968Z"
   },
   {
    "duration": 4622,
    "start_time": "2022-06-28T12:20:13.732Z"
   },
   {
    "duration": 6188,
    "start_time": "2022-06-28T12:20:18.356Z"
   },
   {
    "duration": 4135,
    "start_time": "2022-06-28T12:20:24.545Z"
   },
   {
    "duration": 1509,
    "start_time": "2022-06-28T12:20:28.682Z"
   },
   {
    "duration": 568,
    "start_time": "2022-06-28T12:20:30.192Z"
   },
   {
    "duration": 496,
    "start_time": "2022-06-28T12:20:30.762Z"
   },
   {
    "duration": 1594,
    "start_time": "2022-06-28T12:20:31.260Z"
   },
   {
    "duration": 610,
    "start_time": "2022-06-28T12:20:32.856Z"
   },
   {
    "duration": 165,
    "start_time": "2022-06-28T12:20:33.468Z"
   },
   {
    "duration": 4,
    "start_time": "2022-06-28T12:20:33.639Z"
   },
   {
    "duration": 97,
    "start_time": "2022-06-28T12:20:33.650Z"
   },
   {
    "duration": 2487,
    "start_time": "2022-06-28T12:20:33.749Z"
   },
   {
    "duration": 4,
    "start_time": "2022-06-28T12:20:36.237Z"
   },
   {
    "duration": 1704,
    "start_time": "2022-06-28T12:20:36.242Z"
   },
   {
    "duration": 1424,
    "start_time": "2022-06-28T12:20:37.950Z"
   },
   {
    "duration": 1373,
    "start_time": "2022-06-28T12:20:39.376Z"
   },
   {
    "duration": 95,
    "start_time": "2022-06-28T12:20:40.752Z"
   },
   {
    "duration": 103455,
    "start_time": "2022-06-28T12:20:40.848Z"
   },
   {
    "duration": 66928,
    "start_time": "2022-06-28T12:22:24.304Z"
   },
   {
    "duration": 1149,
    "start_time": "2022-06-28T12:23:31.234Z"
   },
   {
    "duration": 2,
    "start_time": "2022-06-28T12:23:32.385Z"
   },
   {
    "duration": 5,
    "start_time": "2022-06-28T12:23:32.389Z"
   },
   {
    "duration": 1382,
    "start_time": "2022-06-28T12:23:32.395Z"
   },
   {
    "duration": 253,
    "start_time": "2022-06-28T12:23:33.779Z"
   },
   {
    "duration": 97,
    "start_time": "2022-06-28T12:30:22.921Z"
   },
   {
    "duration": 4,
    "start_time": "2022-06-28T12:30:33.669Z"
   },
   {
    "duration": 9,
    "start_time": "2022-06-28T12:30:55.652Z"
   },
   {
    "duration": 5,
    "start_time": "2022-06-28T12:31:00.241Z"
   },
   {
    "duration": 9,
    "start_time": "2022-06-28T12:31:14.408Z"
   },
   {
    "duration": 4,
    "start_time": "2022-06-28T12:31:20.292Z"
   },
   {
    "duration": 7,
    "start_time": "2022-06-28T12:32:23.442Z"
   },
   {
    "duration": 5,
    "start_time": "2022-06-28T12:33:31.796Z"
   },
   {
    "duration": 4,
    "start_time": "2022-06-28T12:33:40.111Z"
   },
   {
    "duration": 4,
    "start_time": "2022-06-28T12:33:56.002Z"
   },
   {
    "duration": 123,
    "start_time": "2022-06-28T12:34:30.465Z"
   },
   {
    "duration": 76,
    "start_time": "2022-06-28T12:34:42.887Z"
   },
   {
    "duration": 4,
    "start_time": "2022-06-28T12:34:56.284Z"
   },
   {
    "duration": 3,
    "start_time": "2022-06-28T12:35:09.090Z"
   },
   {
    "duration": 3,
    "start_time": "2022-06-28T12:35:27.267Z"
   },
   {
    "duration": 1220,
    "start_time": "2022-06-28T12:36:33.545Z"
   },
   {
    "duration": 15804,
    "start_time": "2022-06-28T12:36:34.767Z"
   },
   {
    "duration": 9497,
    "start_time": "2022-06-28T12:36:50.573Z"
   },
   {
    "duration": 29,
    "start_time": "2022-06-28T12:37:00.129Z"
   },
   {
    "duration": 775,
    "start_time": "2022-06-28T12:37:00.161Z"
   },
   {
    "duration": 5296,
    "start_time": "2022-06-28T12:37:00.950Z"
   },
   {
    "duration": 5393,
    "start_time": "2022-06-28T12:37:06.256Z"
   },
   {
    "duration": 6397,
    "start_time": "2022-06-28T12:37:11.651Z"
   },
   {
    "duration": 3995,
    "start_time": "2022-06-28T12:37:18.050Z"
   },
   {
    "duration": 1737,
    "start_time": "2022-06-28T12:37:22.047Z"
   },
   {
    "duration": 468,
    "start_time": "2022-06-28T12:37:23.786Z"
   },
   {
    "duration": 314,
    "start_time": "2022-06-28T12:37:24.255Z"
   },
   {
    "duration": 1475,
    "start_time": "2022-06-28T12:37:24.571Z"
   },
   {
    "duration": 718,
    "start_time": "2022-06-28T12:37:26.049Z"
   },
   {
    "duration": 165,
    "start_time": "2022-06-28T12:37:26.769Z"
   },
   {
    "duration": 5,
    "start_time": "2022-06-28T12:37:26.935Z"
   },
   {
    "duration": 88,
    "start_time": "2022-06-28T12:37:26.944Z"
   },
   {
    "duration": 2412,
    "start_time": "2022-06-28T12:37:27.034Z"
   },
   {
    "duration": 3,
    "start_time": "2022-06-28T12:37:29.448Z"
   },
   {
    "duration": 1383,
    "start_time": "2022-06-28T12:37:29.454Z"
   },
   {
    "duration": 1295,
    "start_time": "2022-06-28T12:37:30.839Z"
   },
   {
    "duration": 1112,
    "start_time": "2022-06-28T12:37:32.136Z"
   },
   {
    "duration": 103,
    "start_time": "2022-06-28T12:37:33.250Z"
   },
   {
    "duration": 93962,
    "start_time": "2022-06-28T12:37:33.355Z"
   },
   {
    "duration": 66773,
    "start_time": "2022-06-28T12:39:07.331Z"
   },
   {
    "duration": 1644,
    "start_time": "2022-06-28T12:40:14.105Z"
   },
   {
    "duration": 1210,
    "start_time": "2022-06-28T12:40:15.751Z"
   },
   {
    "duration": 210,
    "start_time": "2022-06-28T12:40:16.963Z"
   },
   {
    "duration": 1158,
    "start_time": "2022-06-28T12:47:06.475Z"
   },
   {
    "duration": 931,
    "start_time": "2022-06-28T12:47:10.249Z"
   },
   {
    "duration": 1027,
    "start_time": "2022-06-28T12:47:19.940Z"
   },
   {
    "duration": 562,
    "start_time": "2022-06-28T12:47:24.116Z"
   },
   {
    "duration": 1233,
    "start_time": "2022-06-28T12:47:41.047Z"
   },
   {
    "duration": 15594,
    "start_time": "2022-06-28T12:47:42.282Z"
   },
   {
    "duration": 9939,
    "start_time": "2022-06-28T12:47:57.929Z"
   },
   {
    "duration": 86,
    "start_time": "2022-06-28T12:48:07.869Z"
   },
   {
    "duration": 592,
    "start_time": "2022-06-28T12:48:07.957Z"
   },
   {
    "duration": 5320,
    "start_time": "2022-06-28T12:48:08.557Z"
   },
   {
    "duration": 4982,
    "start_time": "2022-06-28T12:48:13.879Z"
   },
   {
    "duration": 6692,
    "start_time": "2022-06-28T12:48:18.862Z"
   },
   {
    "duration": 4184,
    "start_time": "2022-06-28T12:48:25.555Z"
   },
   {
    "duration": 1554,
    "start_time": "2022-06-28T12:48:29.741Z"
   },
   {
    "duration": 560,
    "start_time": "2022-06-28T12:48:31.297Z"
   },
   {
    "duration": 475,
    "start_time": "2022-06-28T12:48:31.860Z"
   },
   {
    "duration": 1713,
    "start_time": "2022-06-28T12:48:32.337Z"
   },
   {
    "duration": 616,
    "start_time": "2022-06-28T12:48:34.053Z"
   },
   {
    "duration": 182,
    "start_time": "2022-06-28T12:48:34.671Z"
   },
   {
    "duration": 4,
    "start_time": "2022-06-28T12:48:34.855Z"
   },
   {
    "duration": 168,
    "start_time": "2022-06-28T12:48:34.861Z"
   },
   {
    "duration": 2902,
    "start_time": "2022-06-28T12:48:35.031Z"
   },
   {
    "duration": 8,
    "start_time": "2022-06-28T12:48:37.945Z"
   },
   {
    "duration": 8,
    "start_time": "2022-06-28T12:48:37.956Z"
   },
   {
    "duration": 2832,
    "start_time": "2022-06-28T12:48:37.965Z"
   },
   {
    "duration": 2028,
    "start_time": "2022-06-28T12:48:40.830Z"
   },
   {
    "duration": 1671,
    "start_time": "2022-06-28T12:48:42.859Z"
   },
   {
    "duration": 102,
    "start_time": "2022-06-28T12:48:44.532Z"
   },
   {
    "duration": 56025,
    "start_time": "2022-06-28T12:48:44.636Z"
   },
   {
    "duration": 0,
    "start_time": "2022-06-28T12:49:40.663Z"
   },
   {
    "duration": 0,
    "start_time": "2022-06-28T12:49:40.664Z"
   },
   {
    "duration": 0,
    "start_time": "2022-06-28T12:49:40.665Z"
   },
   {
    "duration": 0,
    "start_time": "2022-06-28T12:49:40.666Z"
   },
   {
    "duration": 0,
    "start_time": "2022-06-28T12:49:40.668Z"
   },
   {
    "duration": 2680,
    "start_time": "2022-06-28T12:49:41.980Z"
   },
   {
    "duration": 1224,
    "start_time": "2022-06-28T12:49:47.745Z"
   },
   {
    "duration": 1189,
    "start_time": "2022-06-28T12:50:16.323Z"
   },
   {
    "duration": 692,
    "start_time": "2022-06-28T12:50:19.868Z"
   },
   {
    "duration": 1093,
    "start_time": "2022-06-28T12:50:25.295Z"
   },
   {
    "duration": 933,
    "start_time": "2022-06-28T12:50:27.915Z"
   },
   {
    "duration": 1193,
    "start_time": "2022-06-28T12:50:38.648Z"
   },
   {
    "duration": 843,
    "start_time": "2022-06-28T12:50:42.407Z"
   },
   {
    "duration": 5,
    "start_time": "2022-06-28T12:50:50.018Z"
   },
   {
    "duration": 10,
    "start_time": "2022-06-28T12:50:50.024Z"
   },
   {
    "duration": 405,
    "start_time": "2022-06-28T12:50:50.036Z"
   },
   {
    "duration": 4,
    "start_time": "2022-06-28T12:50:50.443Z"
   },
   {
    "duration": 120,
    "start_time": "2022-06-28T12:50:50.448Z"
   },
   {
    "duration": 896,
    "start_time": "2022-06-28T12:50:50.570Z"
   },
   {
    "duration": 1563,
    "start_time": "2022-06-28T12:50:51.467Z"
   },
   {
    "duration": 2729,
    "start_time": "2022-06-28T12:50:53.032Z"
   },
   {
    "duration": 4064,
    "start_time": "2022-06-28T12:50:55.762Z"
   },
   {
    "duration": 1234,
    "start_time": "2022-06-28T12:50:59.829Z"
   },
   {
    "duration": 213,
    "start_time": "2022-06-28T12:51:01.064Z"
   },
   {
    "duration": 281,
    "start_time": "2022-06-28T12:51:01.279Z"
   },
   {
    "duration": 566,
    "start_time": "2022-06-28T12:51:01.562Z"
   },
   {
    "duration": 160,
    "start_time": "2022-06-28T12:51:02.130Z"
   },
   {
    "duration": 18,
    "start_time": "2022-06-28T12:51:02.330Z"
   },
   {
    "duration": 3,
    "start_time": "2022-06-28T12:51:02.350Z"
   },
   {
    "duration": 24,
    "start_time": "2022-06-28T12:51:02.355Z"
   },
   {
    "duration": 696,
    "start_time": "2022-06-28T12:51:02.381Z"
   },
   {
    "duration": 2,
    "start_time": "2022-06-28T12:51:03.079Z"
   },
   {
    "duration": 46,
    "start_time": "2022-06-28T12:51:03.083Z"
   },
   {
    "duration": 1154,
    "start_time": "2022-06-28T12:51:03.131Z"
   },
   {
    "duration": 670,
    "start_time": "2022-06-28T12:51:45.513Z"
   },
   {
    "duration": 965,
    "start_time": "2022-06-28T12:52:15.145Z"
   },
   {
    "duration": 626,
    "start_time": "2022-06-28T12:52:18.237Z"
   },
   {
    "duration": 1186,
    "start_time": "2022-06-28T12:52:46.091Z"
   },
   {
    "duration": 15168,
    "start_time": "2022-06-28T12:52:47.280Z"
   },
   {
    "duration": 9112,
    "start_time": "2022-06-28T12:53:02.451Z"
   },
   {
    "duration": 72,
    "start_time": "2022-06-28T12:53:11.566Z"
   },
   {
    "duration": 597,
    "start_time": "2022-06-28T12:53:11.641Z"
   },
   {
    "duration": 4308,
    "start_time": "2022-06-28T12:53:12.240Z"
   },
   {
    "duration": 4190,
    "start_time": "2022-06-28T12:53:16.550Z"
   },
   {
    "duration": 5705,
    "start_time": "2022-06-28T12:53:20.742Z"
   },
   {
    "duration": 3661,
    "start_time": "2022-06-28T12:53:26.449Z"
   },
   {
    "duration": 1428,
    "start_time": "2022-06-28T12:53:30.112Z"
   },
   {
    "duration": 418,
    "start_time": "2022-06-28T12:53:31.542Z"
   },
   {
    "duration": 388,
    "start_time": "2022-06-28T12:53:31.962Z"
   },
   {
    "duration": 1496,
    "start_time": "2022-06-28T12:53:32.352Z"
   },
   {
    "duration": 709,
    "start_time": "2022-06-28T12:53:33.850Z"
   },
   {
    "duration": 72,
    "start_time": "2022-06-28T12:53:34.561Z"
   },
   {
    "duration": 4,
    "start_time": "2022-06-28T12:53:34.635Z"
   },
   {
    "duration": 95,
    "start_time": "2022-06-28T12:53:34.640Z"
   },
   {
    "duration": 2998,
    "start_time": "2022-06-28T12:53:34.738Z"
   },
   {
    "duration": 3,
    "start_time": "2022-06-28T12:53:37.737Z"
   },
   {
    "duration": 15,
    "start_time": "2022-06-28T12:53:37.741Z"
   },
   {
    "duration": 2532,
    "start_time": "2022-06-28T12:53:37.758Z"
   },
   {
    "duration": 1401,
    "start_time": "2022-06-28T12:53:40.329Z"
   },
   {
    "duration": 1229,
    "start_time": "2022-06-28T12:53:41.731Z"
   },
   {
    "duration": 91,
    "start_time": "2022-06-28T12:53:42.962Z"
   },
   {
    "duration": 98966,
    "start_time": "2022-06-28T12:53:43.055Z"
   },
   {
    "duration": 62008,
    "start_time": "2022-06-28T12:55:22.029Z"
   },
   {
    "duration": 1154,
    "start_time": "2022-06-28T12:56:24.039Z"
   },
   {
    "duration": 1077,
    "start_time": "2022-06-28T12:56:25.196Z"
   },
   {
    "duration": 172,
    "start_time": "2022-06-28T12:56:26.275Z"
   },
   {
    "duration": 113,
    "start_time": "2022-06-28T12:57:56.875Z"
   },
   {
    "duration": 14,
    "start_time": "2022-06-28T12:58:01.922Z"
   },
   {
    "duration": 148,
    "start_time": "2022-06-28T13:01:01.270Z"
   },
   {
    "duration": 12,
    "start_time": "2022-06-28T13:01:11.112Z"
   },
   {
    "duration": 78,
    "start_time": "2022-06-28T13:01:18.540Z"
   },
   {
    "duration": 10,
    "start_time": "2022-06-28T13:01:21.582Z"
   },
   {
    "duration": 114,
    "start_time": "2022-06-28T13:01:34.155Z"
   },
   {
    "duration": 1208,
    "start_time": "2022-06-28T13:12:18.802Z"
   },
   {
    "duration": 15957,
    "start_time": "2022-06-28T13:12:20.011Z"
   },
   {
    "duration": 9397,
    "start_time": "2022-06-28T13:12:35.970Z"
   },
   {
    "duration": 80,
    "start_time": "2022-06-28T13:12:45.369Z"
   },
   {
    "duration": 511,
    "start_time": "2022-06-28T13:12:45.451Z"
   },
   {
    "duration": 5095,
    "start_time": "2022-06-28T13:12:45.964Z"
   },
   {
    "duration": 4820,
    "start_time": "2022-06-28T13:12:51.060Z"
   },
   {
    "duration": 6456,
    "start_time": "2022-06-28T13:12:55.882Z"
   },
   {
    "duration": 4132,
    "start_time": "2022-06-28T13:13:02.340Z"
   },
   {
    "duration": 1832,
    "start_time": "2022-06-28T13:13:06.474Z"
   },
   {
    "duration": 573,
    "start_time": "2022-06-28T13:13:08.307Z"
   },
   {
    "duration": 340,
    "start_time": "2022-06-28T13:13:08.929Z"
   },
   {
    "duration": 1599,
    "start_time": "2022-06-28T13:13:09.271Z"
   },
   {
    "duration": 765,
    "start_time": "2022-06-28T13:13:10.872Z"
   },
   {
    "duration": 45,
    "start_time": "2022-06-28T13:13:11.642Z"
   },
   {
    "duration": 3,
    "start_time": "2022-06-28T13:13:11.689Z"
   },
   {
    "duration": 105,
    "start_time": "2022-06-28T13:13:11.730Z"
   },
   {
    "duration": 2600,
    "start_time": "2022-06-28T13:13:11.836Z"
   },
   {
    "duration": 2494,
    "start_time": "2022-06-28T13:13:14.437Z"
   },
   {
    "duration": 1304,
    "start_time": "2022-06-28T13:13:16.932Z"
   },
   {
    "duration": 1194,
    "start_time": "2022-06-28T13:13:18.242Z"
   },
   {
    "duration": 103,
    "start_time": "2022-06-28T13:13:19.437Z"
   },
   {
    "duration": 100808,
    "start_time": "2022-06-28T13:13:19.547Z"
   },
   {
    "duration": 65633,
    "start_time": "2022-06-28T13:15:00.359Z"
   },
   {
    "duration": 1197,
    "start_time": "2022-06-28T13:16:05.994Z"
   },
   {
    "duration": 1319,
    "start_time": "2022-06-28T13:16:07.192Z"
   },
   {
    "duration": 179,
    "start_time": "2022-06-28T13:16:08.531Z"
   },
   {
    "duration": 1258,
    "start_time": "2022-06-28T20:33:58.621Z"
   },
   {
    "duration": 19039,
    "start_time": "2022-06-28T20:33:59.880Z"
   },
   {
    "duration": 8459,
    "start_time": "2022-06-28T20:34:18.921Z"
   },
   {
    "duration": 78,
    "start_time": "2022-06-28T20:34:27.382Z"
   },
   {
    "duration": 454,
    "start_time": "2022-06-28T20:34:27.463Z"
   },
   {
    "duration": 3741,
    "start_time": "2022-06-28T20:34:27.919Z"
   },
   {
    "duration": 3918,
    "start_time": "2022-06-28T20:34:31.662Z"
   },
   {
    "duration": 5380,
    "start_time": "2022-06-28T20:34:35.582Z"
   },
   {
    "duration": 3496,
    "start_time": "2022-06-28T20:34:40.964Z"
   },
   {
    "duration": 1352,
    "start_time": "2022-06-28T20:34:44.461Z"
   },
   {
    "duration": 364,
    "start_time": "2022-06-28T20:34:45.814Z"
   },
   {
    "duration": 417,
    "start_time": "2022-06-28T20:34:46.180Z"
   },
   {
    "duration": 1614,
    "start_time": "2022-06-28T20:34:46.659Z"
   },
   {
    "duration": 506,
    "start_time": "2022-06-28T20:34:48.275Z"
   },
   {
    "duration": 93,
    "start_time": "2022-06-28T20:34:48.782Z"
   },
   {
    "duration": 3,
    "start_time": "2022-06-28T20:34:48.876Z"
   },
   {
    "duration": 99,
    "start_time": "2022-06-28T20:34:48.881Z"
   },
   {
    "duration": 2305,
    "start_time": "2022-06-28T20:34:48.982Z"
   },
   {
    "duration": 2690,
    "start_time": "2022-06-28T20:34:51.289Z"
   },
   {
    "duration": 1285,
    "start_time": "2022-06-28T20:34:53.981Z"
   },
   {
    "duration": 1305,
    "start_time": "2022-06-28T20:34:55.268Z"
   },
   {
    "duration": 84,
    "start_time": "2022-06-28T20:34:56.575Z"
   },
   {
    "duration": 94555,
    "start_time": "2022-06-28T20:34:56.662Z"
   },
   {
    "duration": 61476,
    "start_time": "2022-06-28T20:36:31.219Z"
   },
   {
    "duration": 1111,
    "start_time": "2022-06-28T20:37:32.696Z"
   },
   {
    "duration": 5,
    "start_time": "2022-06-28T20:39:06.282Z"
   }
  ],
  "colab": {
   "name": "PySparkSprint.ipynb",
   "provenance": []
  },
  "kernelspec": {
   "display_name": "Python 3 (ipykernel)",
   "language": "python",
   "name": "python3"
  },
  "language_info": {
   "codemirror_mode": {
    "name": "ipython",
    "version": 3
   },
   "file_extension": ".py",
   "mimetype": "text/x-python",
   "name": "python",
   "nbconvert_exporter": "python",
   "pygments_lexer": "ipython3",
   "version": "3.9.7"
  },
  "toc": {
   "base_numbering": 1,
   "nav_menu": {},
   "number_sections": true,
   "sideBar": true,
   "skip_h1_title": true,
   "title_cell": "Table of Contents",
   "title_sidebar": "Contents",
   "toc_cell": true,
   "toc_position": {},
   "toc_section_display": true,
   "toc_window_display": false
  }
 },
 "nbformat": 4,
 "nbformat_minor": 5
}
