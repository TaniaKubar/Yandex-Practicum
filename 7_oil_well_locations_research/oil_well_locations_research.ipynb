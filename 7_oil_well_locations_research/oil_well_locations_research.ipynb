{
 "cells": [
  {
   "cell_type": "markdown",
   "metadata": {},
   "source": [
    "# Выбор локации для скважины"
   ]
  },
  {
   "cell_type": "markdown",
   "metadata": {},
   "source": [
    "Нефтедобывающей компании нужно решить, где бурить новую скважину.\n",
    "Шаги для выбора локации обычно такие:\n",
    "- В избранном регионе собирают характеристики для скважин: качество нефти и объём её запасов;\n",
    "- Строят модель для предсказания объёма запасов в новых скважинах;\n",
    "- Выбирают скважины с самыми высокими оценками значений;\n",
    "- Определяют регион с максимальной суммарной прибылью отобранных скважин.\n",
    "\n",
    "В наличии датасеты с данными о пробах нефти в трёх регионах. Характеристики для каждой скважины в регионе уже известны. Задача - построить модель для определения региона, где добыча принесёт наибольшую прибыль. Возможную прибыль и риски нужно проанализировать техникой Bootstrap."
   ]
  },
  {
   "cell_type": "markdown",
   "metadata": {},
   "source": [
    "## Загрузка и подготовка данных"
   ]
  },
  {
   "cell_type": "markdown",
   "metadata": {},
   "source": [
    "### Обзор данных"
   ]
  },
  {
   "cell_type": "markdown",
   "metadata": {},
   "source": [
    "Импортируем библиотеки:"
   ]
  },
  {
   "cell_type": "code",
   "execution_count": 1,
   "metadata": {},
   "outputs": [],
   "source": [
    "import pandas as pd\n",
    "import numpy as np\n",
    "from scipy import stats as st\n",
    "\n",
    "from sklearn.model_selection import train_test_split\n",
    "from sklearn.linear_model import LinearRegression\n",
    "from sklearn.metrics import mean_squared_error"
   ]
  },
  {
   "cell_type": "markdown",
   "metadata": {},
   "source": [
    "Считаем датасеты и сохраним в переменные:"
   ]
  },
  {
   "cell_type": "code",
   "execution_count": 2,
   "metadata": {},
   "outputs": [],
   "source": [
    "try:\n",
    "    data_0 = pd.read_csv('/datasets/geo_data_0.csv')\n",
    "    data_1 = pd.read_csv('/datasets/geo_data_1.csv')\n",
    "    data_2 = pd.read_csv('/datasets/geo_data_2.csv')\n",
    "except:\n",
    "    data_0 = pd.read_csv('geo_data_0.csv')\n",
    "    data_1 = pd.read_csv('geo_data_1.csv')\n",
    "    data_2 = pd.read_csv('geo_data_2.csv')"
   ]
  },
  {
   "cell_type": "markdown",
   "metadata": {},
   "source": [
    "Выведем на экран первые, последние и случайные пять строк каждой таблицы, а также общую информацию. Создадим для этого собственную функцию и применим ее к списку датасетов:"
   ]
  },
  {
   "cell_type": "code",
   "execution_count": 3,
   "metadata": {},
   "outputs": [
    {
     "data": {
      "text/html": [
       "<style  type=\"text/css\" >\n",
       "</style><table id=\"T_39594df2_acd8_11ec_847b_5e64ef8ccfc9\" ><caption>data_0</caption><thead>    <tr>        <th class=\"blank level0\" ></th>        <th class=\"col_heading level0 col0\" >id</th>        <th class=\"col_heading level0 col1\" >f0</th>        <th class=\"col_heading level0 col2\" >f1</th>        <th class=\"col_heading level0 col3\" >f2</th>        <th class=\"col_heading level0 col4\" >product</th>    </tr></thead><tbody>\n",
       "                <tr>\n",
       "                        <th id=\"T_39594df2_acd8_11ec_847b_5e64ef8ccfc9level0_row0\" class=\"row_heading level0 row0\" >0</th>\n",
       "                        <td id=\"T_39594df2_acd8_11ec_847b_5e64ef8ccfc9row0_col0\" class=\"data row0 col0\" >txEyH</td>\n",
       "                        <td id=\"T_39594df2_acd8_11ec_847b_5e64ef8ccfc9row0_col1\" class=\"data row0 col1\" >0.705745</td>\n",
       "                        <td id=\"T_39594df2_acd8_11ec_847b_5e64ef8ccfc9row0_col2\" class=\"data row0 col2\" >-0.497823</td>\n",
       "                        <td id=\"T_39594df2_acd8_11ec_847b_5e64ef8ccfc9row0_col3\" class=\"data row0 col3\" >1.22117</td>\n",
       "                        <td id=\"T_39594df2_acd8_11ec_847b_5e64ef8ccfc9row0_col4\" class=\"data row0 col4\" >105.28</td>\n",
       "            </tr>\n",
       "            <tr>\n",
       "                        <th id=\"T_39594df2_acd8_11ec_847b_5e64ef8ccfc9level0_row1\" class=\"row_heading level0 row1\" >1</th>\n",
       "                        <td id=\"T_39594df2_acd8_11ec_847b_5e64ef8ccfc9row1_col0\" class=\"data row1 col0\" >2acmU</td>\n",
       "                        <td id=\"T_39594df2_acd8_11ec_847b_5e64ef8ccfc9row1_col1\" class=\"data row1 col1\" >1.33471</td>\n",
       "                        <td id=\"T_39594df2_acd8_11ec_847b_5e64ef8ccfc9row1_col2\" class=\"data row1 col2\" >-0.340164</td>\n",
       "                        <td id=\"T_39594df2_acd8_11ec_847b_5e64ef8ccfc9row1_col3\" class=\"data row1 col3\" >4.36508</td>\n",
       "                        <td id=\"T_39594df2_acd8_11ec_847b_5e64ef8ccfc9row1_col4\" class=\"data row1 col4\" >73.0378</td>\n",
       "            </tr>\n",
       "            <tr>\n",
       "                        <th id=\"T_39594df2_acd8_11ec_847b_5e64ef8ccfc9level0_row2\" class=\"row_heading level0 row2\" >2</th>\n",
       "                        <td id=\"T_39594df2_acd8_11ec_847b_5e64ef8ccfc9row2_col0\" class=\"data row2 col0\" >409Wp</td>\n",
       "                        <td id=\"T_39594df2_acd8_11ec_847b_5e64ef8ccfc9row2_col1\" class=\"data row2 col1\" >1.02273</td>\n",
       "                        <td id=\"T_39594df2_acd8_11ec_847b_5e64ef8ccfc9row2_col2\" class=\"data row2 col2\" >0.15199</td>\n",
       "                        <td id=\"T_39594df2_acd8_11ec_847b_5e64ef8ccfc9row2_col3\" class=\"data row2 col3\" >1.41993</td>\n",
       "                        <td id=\"T_39594df2_acd8_11ec_847b_5e64ef8ccfc9row2_col4\" class=\"data row2 col4\" >85.2656</td>\n",
       "            </tr>\n",
       "            <tr>\n",
       "                        <th id=\"T_39594df2_acd8_11ec_847b_5e64ef8ccfc9level0_row3\" class=\"row_heading level0 row3\" >3</th>\n",
       "                        <td id=\"T_39594df2_acd8_11ec_847b_5e64ef8ccfc9row3_col0\" class=\"data row3 col0\" >iJLyR</td>\n",
       "                        <td id=\"T_39594df2_acd8_11ec_847b_5e64ef8ccfc9row3_col1\" class=\"data row3 col1\" >-0.0321716</td>\n",
       "                        <td id=\"T_39594df2_acd8_11ec_847b_5e64ef8ccfc9row3_col2\" class=\"data row3 col2\" >0.139033</td>\n",
       "                        <td id=\"T_39594df2_acd8_11ec_847b_5e64ef8ccfc9row3_col3\" class=\"data row3 col3\" >2.97857</td>\n",
       "                        <td id=\"T_39594df2_acd8_11ec_847b_5e64ef8ccfc9row3_col4\" class=\"data row3 col4\" >168.621</td>\n",
       "            </tr>\n",
       "            <tr>\n",
       "                        <th id=\"T_39594df2_acd8_11ec_847b_5e64ef8ccfc9level0_row4\" class=\"row_heading level0 row4\" >4</th>\n",
       "                        <td id=\"T_39594df2_acd8_11ec_847b_5e64ef8ccfc9row4_col0\" class=\"data row4 col0\" >Xdl7t</td>\n",
       "                        <td id=\"T_39594df2_acd8_11ec_847b_5e64ef8ccfc9row4_col1\" class=\"data row4 col1\" >1.98843</td>\n",
       "                        <td id=\"T_39594df2_acd8_11ec_847b_5e64ef8ccfc9row4_col2\" class=\"data row4 col2\" >0.155413</td>\n",
       "                        <td id=\"T_39594df2_acd8_11ec_847b_5e64ef8ccfc9row4_col3\" class=\"data row4 col3\" >4.75177</td>\n",
       "                        <td id=\"T_39594df2_acd8_11ec_847b_5e64ef8ccfc9row4_col4\" class=\"data row4 col4\" >154.037</td>\n",
       "            </tr>\n",
       "            <tr>\n",
       "                        <th id=\"T_39594df2_acd8_11ec_847b_5e64ef8ccfc9level0_row5\" class=\"row_heading level0 row5\" >57059</th>\n",
       "                        <td id=\"T_39594df2_acd8_11ec_847b_5e64ef8ccfc9row5_col0\" class=\"data row5 col0\" >vmD51</td>\n",
       "                        <td id=\"T_39594df2_acd8_11ec_847b_5e64ef8ccfc9row5_col1\" class=\"data row5 col1\" >0.0791254</td>\n",
       "                        <td id=\"T_39594df2_acd8_11ec_847b_5e64ef8ccfc9row5_col2\" class=\"data row5 col2\" >0.0546937</td>\n",
       "                        <td id=\"T_39594df2_acd8_11ec_847b_5e64ef8ccfc9row5_col3\" class=\"data row5 col3\" >1.06314</td>\n",
       "                        <td id=\"T_39594df2_acd8_11ec_847b_5e64ef8ccfc9row5_col4\" class=\"data row5 col4\" >104.171</td>\n",
       "            </tr>\n",
       "            <tr>\n",
       "                        <th id=\"T_39594df2_acd8_11ec_847b_5e64ef8ccfc9level0_row6\" class=\"row_heading level0 row6\" >1587</th>\n",
       "                        <td id=\"T_39594df2_acd8_11ec_847b_5e64ef8ccfc9row6_col0\" class=\"data row6 col0\" >lQlTO</td>\n",
       "                        <td id=\"T_39594df2_acd8_11ec_847b_5e64ef8ccfc9row6_col1\" class=\"data row6 col1\" >-0.714391</td>\n",
       "                        <td id=\"T_39594df2_acd8_11ec_847b_5e64ef8ccfc9row6_col2\" class=\"data row6 col2\" >0.64966</td>\n",
       "                        <td id=\"T_39594df2_acd8_11ec_847b_5e64ef8ccfc9row6_col3\" class=\"data row6 col3\" >1.50585</td>\n",
       "                        <td id=\"T_39594df2_acd8_11ec_847b_5e64ef8ccfc9row6_col4\" class=\"data row6 col4\" >156.878</td>\n",
       "            </tr>\n",
       "            <tr>\n",
       "                        <th id=\"T_39594df2_acd8_11ec_847b_5e64ef8ccfc9level0_row7\" class=\"row_heading level0 row7\" >89360</th>\n",
       "                        <td id=\"T_39594df2_acd8_11ec_847b_5e64ef8ccfc9row7_col0\" class=\"data row7 col0\" >l0GE5</td>\n",
       "                        <td id=\"T_39594df2_acd8_11ec_847b_5e64ef8ccfc9row7_col1\" class=\"data row7 col1\" >0.292587</td>\n",
       "                        <td id=\"T_39594df2_acd8_11ec_847b_5e64ef8ccfc9row7_col2\" class=\"data row7 col2\" >0.886486</td>\n",
       "                        <td id=\"T_39594df2_acd8_11ec_847b_5e64ef8ccfc9row7_col3\" class=\"data row7 col3\" >6.26269</td>\n",
       "                        <td id=\"T_39594df2_acd8_11ec_847b_5e64ef8ccfc9row7_col4\" class=\"data row7 col4\" >129.963</td>\n",
       "            </tr>\n",
       "            <tr>\n",
       "                        <th id=\"T_39594df2_acd8_11ec_847b_5e64ef8ccfc9level0_row8\" class=\"row_heading level0 row8\" >58001</th>\n",
       "                        <td id=\"T_39594df2_acd8_11ec_847b_5e64ef8ccfc9row8_col0\" class=\"data row8 col0\" >rSU2Q</td>\n",
       "                        <td id=\"T_39594df2_acd8_11ec_847b_5e64ef8ccfc9row8_col1\" class=\"data row8 col1\" >-0.105456</td>\n",
       "                        <td id=\"T_39594df2_acd8_11ec_847b_5e64ef8ccfc9row8_col2\" class=\"data row8 col2\" >0.564055</td>\n",
       "                        <td id=\"T_39594df2_acd8_11ec_847b_5e64ef8ccfc9row8_col3\" class=\"data row8 col3\" >2.89191</td>\n",
       "                        <td id=\"T_39594df2_acd8_11ec_847b_5e64ef8ccfc9row8_col4\" class=\"data row8 col4\" >50.4604</td>\n",
       "            </tr>\n",
       "            <tr>\n",
       "                        <th id=\"T_39594df2_acd8_11ec_847b_5e64ef8ccfc9level0_row9\" class=\"row_heading level0 row9\" >57673</th>\n",
       "                        <td id=\"T_39594df2_acd8_11ec_847b_5e64ef8ccfc9row9_col0\" class=\"data row9 col0\" >3zgrs</td>\n",
       "                        <td id=\"T_39594df2_acd8_11ec_847b_5e64ef8ccfc9row9_col1\" class=\"data row9 col1\" >1.89821</td>\n",
       "                        <td id=\"T_39594df2_acd8_11ec_847b_5e64ef8ccfc9row9_col2\" class=\"data row9 col2\" >0.430488</td>\n",
       "                        <td id=\"T_39594df2_acd8_11ec_847b_5e64ef8ccfc9row9_col3\" class=\"data row9 col3\" >0.871471</td>\n",
       "                        <td id=\"T_39594df2_acd8_11ec_847b_5e64ef8ccfc9row9_col4\" class=\"data row9 col4\" >112.594</td>\n",
       "            </tr>\n",
       "            <tr>\n",
       "                        <th id=\"T_39594df2_acd8_11ec_847b_5e64ef8ccfc9level0_row10\" class=\"row_heading level0 row10\" >99995</th>\n",
       "                        <td id=\"T_39594df2_acd8_11ec_847b_5e64ef8ccfc9row10_col0\" class=\"data row10 col0\" >DLsed</td>\n",
       "                        <td id=\"T_39594df2_acd8_11ec_847b_5e64ef8ccfc9row10_col1\" class=\"data row10 col1\" >0.971957</td>\n",
       "                        <td id=\"T_39594df2_acd8_11ec_847b_5e64ef8ccfc9row10_col2\" class=\"data row10 col2\" >0.370953</td>\n",
       "                        <td id=\"T_39594df2_acd8_11ec_847b_5e64ef8ccfc9row10_col3\" class=\"data row10 col3\" >6.07535</td>\n",
       "                        <td id=\"T_39594df2_acd8_11ec_847b_5e64ef8ccfc9row10_col4\" class=\"data row10 col4\" >110.744</td>\n",
       "            </tr>\n",
       "            <tr>\n",
       "                        <th id=\"T_39594df2_acd8_11ec_847b_5e64ef8ccfc9level0_row11\" class=\"row_heading level0 row11\" >99996</th>\n",
       "                        <td id=\"T_39594df2_acd8_11ec_847b_5e64ef8ccfc9row11_col0\" class=\"data row11 col0\" >QKivN</td>\n",
       "                        <td id=\"T_39594df2_acd8_11ec_847b_5e64ef8ccfc9row11_col1\" class=\"data row11 col1\" >1.39243</td>\n",
       "                        <td id=\"T_39594df2_acd8_11ec_847b_5e64ef8ccfc9row11_col2\" class=\"data row11 col2\" >-0.382606</td>\n",
       "                        <td id=\"T_39594df2_acd8_11ec_847b_5e64ef8ccfc9row11_col3\" class=\"data row11 col3\" >1.27391</td>\n",
       "                        <td id=\"T_39594df2_acd8_11ec_847b_5e64ef8ccfc9row11_col4\" class=\"data row11 col4\" >122.347</td>\n",
       "            </tr>\n",
       "            <tr>\n",
       "                        <th id=\"T_39594df2_acd8_11ec_847b_5e64ef8ccfc9level0_row12\" class=\"row_heading level0 row12\" >99997</th>\n",
       "                        <td id=\"T_39594df2_acd8_11ec_847b_5e64ef8ccfc9row12_col0\" class=\"data row12 col0\" >3rnvd</td>\n",
       "                        <td id=\"T_39594df2_acd8_11ec_847b_5e64ef8ccfc9row12_col1\" class=\"data row12 col1\" >1.02958</td>\n",
       "                        <td id=\"T_39594df2_acd8_11ec_847b_5e64ef8ccfc9row12_col2\" class=\"data row12 col2\" >0.0187869</td>\n",
       "                        <td id=\"T_39594df2_acd8_11ec_847b_5e64ef8ccfc9row12_col3\" class=\"data row12 col3\" >-1.34831</td>\n",
       "                        <td id=\"T_39594df2_acd8_11ec_847b_5e64ef8ccfc9row12_col4\" class=\"data row12 col4\" >64.3754</td>\n",
       "            </tr>\n",
       "            <tr>\n",
       "                        <th id=\"T_39594df2_acd8_11ec_847b_5e64ef8ccfc9level0_row13\" class=\"row_heading level0 row13\" >99998</th>\n",
       "                        <td id=\"T_39594df2_acd8_11ec_847b_5e64ef8ccfc9row13_col0\" class=\"data row13 col0\" >7kl59</td>\n",
       "                        <td id=\"T_39594df2_acd8_11ec_847b_5e64ef8ccfc9row13_col1\" class=\"data row13 col1\" >0.998163</td>\n",
       "                        <td id=\"T_39594df2_acd8_11ec_847b_5e64ef8ccfc9row13_col2\" class=\"data row13 col2\" >-0.528582</td>\n",
       "                        <td id=\"T_39594df2_acd8_11ec_847b_5e64ef8ccfc9row13_col3\" class=\"data row13 col3\" >1.58387</td>\n",
       "                        <td id=\"T_39594df2_acd8_11ec_847b_5e64ef8ccfc9row13_col4\" class=\"data row13 col4\" >74.0408</td>\n",
       "            </tr>\n",
       "            <tr>\n",
       "                        <th id=\"T_39594df2_acd8_11ec_847b_5e64ef8ccfc9level0_row14\" class=\"row_heading level0 row14\" >99999</th>\n",
       "                        <td id=\"T_39594df2_acd8_11ec_847b_5e64ef8ccfc9row14_col0\" class=\"data row14 col0\" >1CWhH</td>\n",
       "                        <td id=\"T_39594df2_acd8_11ec_847b_5e64ef8ccfc9row14_col1\" class=\"data row14 col1\" >1.76475</td>\n",
       "                        <td id=\"T_39594df2_acd8_11ec_847b_5e64ef8ccfc9row14_col2\" class=\"data row14 col2\" >-0.266417</td>\n",
       "                        <td id=\"T_39594df2_acd8_11ec_847b_5e64ef8ccfc9row14_col3\" class=\"data row14 col3\" >5.72285</td>\n",
       "                        <td id=\"T_39594df2_acd8_11ec_847b_5e64ef8ccfc9row14_col4\" class=\"data row14 col4\" >149.633</td>\n",
       "            </tr>\n",
       "    </tbody></table>"
      ],
      "text/plain": [
       "<pandas.io.formats.style.Styler at 0x7ff439a4c810>"
      ]
     },
     "metadata": {},
     "output_type": "display_data"
    },
    {
     "data": {
      "text/html": [
       "<div>\n",
       "<style scoped>\n",
       "    .dataframe tbody tr th:only-of-type {\n",
       "        vertical-align: middle;\n",
       "    }\n",
       "\n",
       "    .dataframe tbody tr th {\n",
       "        vertical-align: top;\n",
       "    }\n",
       "\n",
       "    .dataframe thead th {\n",
       "        text-align: right;\n",
       "    }\n",
       "</style>\n",
       "<table border=\"1\" class=\"dataframe\">\n",
       "  <thead>\n",
       "    <tr style=\"text-align: right;\">\n",
       "      <th></th>\n",
       "      <th>f0</th>\n",
       "      <th>f1</th>\n",
       "      <th>f2</th>\n",
       "      <th>product</th>\n",
       "    </tr>\n",
       "  </thead>\n",
       "  <tbody>\n",
       "    <tr>\n",
       "      <td>count</td>\n",
       "      <td>100000.000000</td>\n",
       "      <td>100000.000000</td>\n",
       "      <td>100000.000000</td>\n",
       "      <td>100000.000000</td>\n",
       "    </tr>\n",
       "    <tr>\n",
       "      <td>mean</td>\n",
       "      <td>0.500419</td>\n",
       "      <td>0.250143</td>\n",
       "      <td>2.502647</td>\n",
       "      <td>92.500000</td>\n",
       "    </tr>\n",
       "    <tr>\n",
       "      <td>std</td>\n",
       "      <td>0.871832</td>\n",
       "      <td>0.504433</td>\n",
       "      <td>3.248248</td>\n",
       "      <td>44.288691</td>\n",
       "    </tr>\n",
       "    <tr>\n",
       "      <td>min</td>\n",
       "      <td>-1.408605</td>\n",
       "      <td>-0.848218</td>\n",
       "      <td>-12.088328</td>\n",
       "      <td>0.000000</td>\n",
       "    </tr>\n",
       "    <tr>\n",
       "      <td>25%</td>\n",
       "      <td>-0.072580</td>\n",
       "      <td>-0.200881</td>\n",
       "      <td>0.287748</td>\n",
       "      <td>56.497507</td>\n",
       "    </tr>\n",
       "    <tr>\n",
       "      <td>50%</td>\n",
       "      <td>0.502360</td>\n",
       "      <td>0.250252</td>\n",
       "      <td>2.515969</td>\n",
       "      <td>91.849972</td>\n",
       "    </tr>\n",
       "    <tr>\n",
       "      <td>75%</td>\n",
       "      <td>1.073581</td>\n",
       "      <td>0.700646</td>\n",
       "      <td>4.715088</td>\n",
       "      <td>128.564089</td>\n",
       "    </tr>\n",
       "    <tr>\n",
       "      <td>max</td>\n",
       "      <td>2.362331</td>\n",
       "      <td>1.343769</td>\n",
       "      <td>16.003790</td>\n",
       "      <td>185.364347</td>\n",
       "    </tr>\n",
       "  </tbody>\n",
       "</table>\n",
       "</div>"
      ],
      "text/plain": [
       "                  f0             f1             f2        product\n",
       "count  100000.000000  100000.000000  100000.000000  100000.000000\n",
       "mean        0.500419       0.250143       2.502647      92.500000\n",
       "std         0.871832       0.504433       3.248248      44.288691\n",
       "min        -1.408605      -0.848218     -12.088328       0.000000\n",
       "25%        -0.072580      -0.200881       0.287748      56.497507\n",
       "50%         0.502360       0.250252       2.515969      91.849972\n",
       "75%         1.073581       0.700646       4.715088     128.564089\n",
       "max         2.362331       1.343769      16.003790     185.364347"
      ]
     },
     "metadata": {},
     "output_type": "display_data"
    },
    {
     "name": "stdout",
     "output_type": "stream",
     "text": [
      "<class 'pandas.core.frame.DataFrame'>\n",
      "RangeIndex: 100000 entries, 0 to 99999\n",
      "Data columns (total 5 columns):\n",
      "id         100000 non-null object\n",
      "f0         100000 non-null float64\n",
      "f1         100000 non-null float64\n",
      "f2         100000 non-null float64\n",
      "product    100000 non-null float64\n",
      "dtypes: float64(4), object(1)\n",
      "memory usage: 3.8+ MB\n",
      "\n"
     ]
    },
    {
     "data": {
      "text/html": [
       "<style  type=\"text/css\" >\n",
       "</style><table id=\"T_395e9adc_acd8_11ec_847b_5e64ef8ccfc9\" ><caption>data_1</caption><thead>    <tr>        <th class=\"blank level0\" ></th>        <th class=\"col_heading level0 col0\" >id</th>        <th class=\"col_heading level0 col1\" >f0</th>        <th class=\"col_heading level0 col2\" >f1</th>        <th class=\"col_heading level0 col3\" >f2</th>        <th class=\"col_heading level0 col4\" >product</th>    </tr></thead><tbody>\n",
       "                <tr>\n",
       "                        <th id=\"T_395e9adc_acd8_11ec_847b_5e64ef8ccfc9level0_row0\" class=\"row_heading level0 row0\" >0</th>\n",
       "                        <td id=\"T_395e9adc_acd8_11ec_847b_5e64ef8ccfc9row0_col0\" class=\"data row0 col0\" >kBEdx</td>\n",
       "                        <td id=\"T_395e9adc_acd8_11ec_847b_5e64ef8ccfc9row0_col1\" class=\"data row0 col1\" >-15.0013</td>\n",
       "                        <td id=\"T_395e9adc_acd8_11ec_847b_5e64ef8ccfc9row0_col2\" class=\"data row0 col2\" >-8.276</td>\n",
       "                        <td id=\"T_395e9adc_acd8_11ec_847b_5e64ef8ccfc9row0_col3\" class=\"data row0 col3\" >-0.00587601</td>\n",
       "                        <td id=\"T_395e9adc_acd8_11ec_847b_5e64ef8ccfc9row0_col4\" class=\"data row0 col4\" >3.1791</td>\n",
       "            </tr>\n",
       "            <tr>\n",
       "                        <th id=\"T_395e9adc_acd8_11ec_847b_5e64ef8ccfc9level0_row1\" class=\"row_heading level0 row1\" >1</th>\n",
       "                        <td id=\"T_395e9adc_acd8_11ec_847b_5e64ef8ccfc9row1_col0\" class=\"data row1 col0\" >62mP7</td>\n",
       "                        <td id=\"T_395e9adc_acd8_11ec_847b_5e64ef8ccfc9row1_col1\" class=\"data row1 col1\" >14.2721</td>\n",
       "                        <td id=\"T_395e9adc_acd8_11ec_847b_5e64ef8ccfc9row1_col2\" class=\"data row1 col2\" >-3.47508</td>\n",
       "                        <td id=\"T_395e9adc_acd8_11ec_847b_5e64ef8ccfc9row1_col3\" class=\"data row1 col3\" >0.999183</td>\n",
       "                        <td id=\"T_395e9adc_acd8_11ec_847b_5e64ef8ccfc9row1_col4\" class=\"data row1 col4\" >26.9533</td>\n",
       "            </tr>\n",
       "            <tr>\n",
       "                        <th id=\"T_395e9adc_acd8_11ec_847b_5e64ef8ccfc9level0_row2\" class=\"row_heading level0 row2\" >2</th>\n",
       "                        <td id=\"T_395e9adc_acd8_11ec_847b_5e64ef8ccfc9row2_col0\" class=\"data row2 col0\" >vyE1P</td>\n",
       "                        <td id=\"T_395e9adc_acd8_11ec_847b_5e64ef8ccfc9row2_col1\" class=\"data row2 col1\" >6.26319</td>\n",
       "                        <td id=\"T_395e9adc_acd8_11ec_847b_5e64ef8ccfc9row2_col2\" class=\"data row2 col2\" >-5.94839</td>\n",
       "                        <td id=\"T_395e9adc_acd8_11ec_847b_5e64ef8ccfc9row2_col3\" class=\"data row2 col3\" >5.00116</td>\n",
       "                        <td id=\"T_395e9adc_acd8_11ec_847b_5e64ef8ccfc9row2_col4\" class=\"data row2 col4\" >134.766</td>\n",
       "            </tr>\n",
       "            <tr>\n",
       "                        <th id=\"T_395e9adc_acd8_11ec_847b_5e64ef8ccfc9level0_row3\" class=\"row_heading level0 row3\" >3</th>\n",
       "                        <td id=\"T_395e9adc_acd8_11ec_847b_5e64ef8ccfc9row3_col0\" class=\"data row3 col0\" >KcrkZ</td>\n",
       "                        <td id=\"T_395e9adc_acd8_11ec_847b_5e64ef8ccfc9row3_col1\" class=\"data row3 col1\" >-13.0812</td>\n",
       "                        <td id=\"T_395e9adc_acd8_11ec_847b_5e64ef8ccfc9row3_col2\" class=\"data row3 col2\" >-11.5061</td>\n",
       "                        <td id=\"T_395e9adc_acd8_11ec_847b_5e64ef8ccfc9row3_col3\" class=\"data row3 col3\" >4.99941</td>\n",
       "                        <td id=\"T_395e9adc_acd8_11ec_847b_5e64ef8ccfc9row3_col4\" class=\"data row3 col4\" >137.945</td>\n",
       "            </tr>\n",
       "            <tr>\n",
       "                        <th id=\"T_395e9adc_acd8_11ec_847b_5e64ef8ccfc9level0_row4\" class=\"row_heading level0 row4\" >4</th>\n",
       "                        <td id=\"T_395e9adc_acd8_11ec_847b_5e64ef8ccfc9row4_col0\" class=\"data row4 col0\" >AHL4O</td>\n",
       "                        <td id=\"T_395e9adc_acd8_11ec_847b_5e64ef8ccfc9row4_col1\" class=\"data row4 col1\" >12.7022</td>\n",
       "                        <td id=\"T_395e9adc_acd8_11ec_847b_5e64ef8ccfc9row4_col2\" class=\"data row4 col2\" >-8.14743</td>\n",
       "                        <td id=\"T_395e9adc_acd8_11ec_847b_5e64ef8ccfc9row4_col3\" class=\"data row4 col3\" >5.00436</td>\n",
       "                        <td id=\"T_395e9adc_acd8_11ec_847b_5e64ef8ccfc9row4_col4\" class=\"data row4 col4\" >134.766</td>\n",
       "            </tr>\n",
       "            <tr>\n",
       "                        <th id=\"T_395e9adc_acd8_11ec_847b_5e64ef8ccfc9level0_row5\" class=\"row_heading level0 row5\" >49411</th>\n",
       "                        <td id=\"T_395e9adc_acd8_11ec_847b_5e64ef8ccfc9row5_col0\" class=\"data row5 col0\" >k71zw</td>\n",
       "                        <td id=\"T_395e9adc_acd8_11ec_847b_5e64ef8ccfc9row5_col1\" class=\"data row5 col1\" >-4.78373</td>\n",
       "                        <td id=\"T_395e9adc_acd8_11ec_847b_5e64ef8ccfc9row5_col2\" class=\"data row5 col2\" >-0.816517</td>\n",
       "                        <td id=\"T_395e9adc_acd8_11ec_847b_5e64ef8ccfc9row5_col3\" class=\"data row5 col3\" >0.997379</td>\n",
       "                        <td id=\"T_395e9adc_acd8_11ec_847b_5e64ef8ccfc9row5_col4\" class=\"data row5 col4\" >30.1324</td>\n",
       "            </tr>\n",
       "            <tr>\n",
       "                        <th id=\"T_395e9adc_acd8_11ec_847b_5e64ef8ccfc9level0_row6\" class=\"row_heading level0 row6\" >11094</th>\n",
       "                        <td id=\"T_395e9adc_acd8_11ec_847b_5e64ef8ccfc9row6_col0\" class=\"data row6 col0\" >dFGj8</td>\n",
       "                        <td id=\"T_395e9adc_acd8_11ec_847b_5e64ef8ccfc9row6_col1\" class=\"data row6 col1\" >8.05844</td>\n",
       "                        <td id=\"T_395e9adc_acd8_11ec_847b_5e64ef8ccfc9row6_col2\" class=\"data row6 col2\" >-10.2607</td>\n",
       "                        <td id=\"T_395e9adc_acd8_11ec_847b_5e64ef8ccfc9row6_col3\" class=\"data row6 col3\" >2.00498</td>\n",
       "                        <td id=\"T_395e9adc_acd8_11ec_847b_5e64ef8ccfc9row6_col4\" class=\"data row6 col4\" >53.9065</td>\n",
       "            </tr>\n",
       "            <tr>\n",
       "                        <th id=\"T_395e9adc_acd8_11ec_847b_5e64ef8ccfc9level0_row7\" class=\"row_heading level0 row7\" >63220</th>\n",
       "                        <td id=\"T_395e9adc_acd8_11ec_847b_5e64ef8ccfc9row7_col0\" class=\"data row7 col0\" >CWtk8</td>\n",
       "                        <td id=\"T_395e9adc_acd8_11ec_847b_5e64ef8ccfc9row7_col1\" class=\"data row7 col1\" >-3.84427</td>\n",
       "                        <td id=\"T_395e9adc_acd8_11ec_847b_5e64ef8ccfc9row7_col2\" class=\"data row7 col2\" >-7.40073</td>\n",
       "                        <td id=\"T_395e9adc_acd8_11ec_847b_5e64ef8ccfc9row7_col3\" class=\"data row7 col3\" >1.9948</td>\n",
       "                        <td id=\"T_395e9adc_acd8_11ec_847b_5e64ef8ccfc9row7_col4\" class=\"data row7 col4\" >57.0856</td>\n",
       "            </tr>\n",
       "            <tr>\n",
       "                        <th id=\"T_395e9adc_acd8_11ec_847b_5e64ef8ccfc9level0_row8\" class=\"row_heading level0 row8\" >62942</th>\n",
       "                        <td id=\"T_395e9adc_acd8_11ec_847b_5e64ef8ccfc9row8_col0\" class=\"data row8 col0\" >UFlnM</td>\n",
       "                        <td id=\"T_395e9adc_acd8_11ec_847b_5e64ef8ccfc9row8_col1\" class=\"data row8 col1\" >-4.37362</td>\n",
       "                        <td id=\"T_395e9adc_acd8_11ec_847b_5e64ef8ccfc9row8_col2\" class=\"data row8 col2\" >-9.63115</td>\n",
       "                        <td id=\"T_395e9adc_acd8_11ec_847b_5e64ef8ccfc9row8_col3\" class=\"data row8 col3\" >2.00329</td>\n",
       "                        <td id=\"T_395e9adc_acd8_11ec_847b_5e64ef8ccfc9row8_col4\" class=\"data row8 col4\" >57.0856</td>\n",
       "            </tr>\n",
       "            <tr>\n",
       "                        <th id=\"T_395e9adc_acd8_11ec_847b_5e64ef8ccfc9level0_row9\" class=\"row_heading level0 row9\" >5974</th>\n",
       "                        <td id=\"T_395e9adc_acd8_11ec_847b_5e64ef8ccfc9row9_col0\" class=\"data row9 col0\" >J6KYj</td>\n",
       "                        <td id=\"T_395e9adc_acd8_11ec_847b_5e64ef8ccfc9row9_col1\" class=\"data row9 col1\" >-2.17847</td>\n",
       "                        <td id=\"T_395e9adc_acd8_11ec_847b_5e64ef8ccfc9row9_col2\" class=\"data row9 col2\" >-12.6985</td>\n",
       "                        <td id=\"T_395e9adc_acd8_11ec_847b_5e64ef8ccfc9row9_col3\" class=\"data row9 col3\" >4.99468</td>\n",
       "                        <td id=\"T_395e9adc_acd8_11ec_847b_5e64ef8ccfc9row9_col4\" class=\"data row9 col4\" >137.945</td>\n",
       "            </tr>\n",
       "            <tr>\n",
       "                        <th id=\"T_395e9adc_acd8_11ec_847b_5e64ef8ccfc9level0_row10\" class=\"row_heading level0 row10\" >99995</th>\n",
       "                        <td id=\"T_395e9adc_acd8_11ec_847b_5e64ef8ccfc9row10_col0\" class=\"data row10 col0\" >QywKC</td>\n",
       "                        <td id=\"T_395e9adc_acd8_11ec_847b_5e64ef8ccfc9row10_col1\" class=\"data row10 col1\" >9.53564</td>\n",
       "                        <td id=\"T_395e9adc_acd8_11ec_847b_5e64ef8ccfc9row10_col2\" class=\"data row10 col2\" >-6.87814</td>\n",
       "                        <td id=\"T_395e9adc_acd8_11ec_847b_5e64ef8ccfc9row10_col3\" class=\"data row10 col3\" >1.9983</td>\n",
       "                        <td id=\"T_395e9adc_acd8_11ec_847b_5e64ef8ccfc9row10_col4\" class=\"data row10 col4\" >53.9065</td>\n",
       "            </tr>\n",
       "            <tr>\n",
       "                        <th id=\"T_395e9adc_acd8_11ec_847b_5e64ef8ccfc9level0_row11\" class=\"row_heading level0 row11\" >99996</th>\n",
       "                        <td id=\"T_395e9adc_acd8_11ec_847b_5e64ef8ccfc9row11_col0\" class=\"data row11 col0\" >ptvty</td>\n",
       "                        <td id=\"T_395e9adc_acd8_11ec_847b_5e64ef8ccfc9row11_col1\" class=\"data row11 col1\" >-10.1606</td>\n",
       "                        <td id=\"T_395e9adc_acd8_11ec_847b_5e64ef8ccfc9row11_col2\" class=\"data row11 col2\" >-12.5581</td>\n",
       "                        <td id=\"T_395e9adc_acd8_11ec_847b_5e64ef8ccfc9row11_col3\" class=\"data row11 col3\" >5.00558</td>\n",
       "                        <td id=\"T_395e9adc_acd8_11ec_847b_5e64ef8ccfc9row11_col4\" class=\"data row11 col4\" >137.945</td>\n",
       "            </tr>\n",
       "            <tr>\n",
       "                        <th id=\"T_395e9adc_acd8_11ec_847b_5e64ef8ccfc9level0_row12\" class=\"row_heading level0 row12\" >99997</th>\n",
       "                        <td id=\"T_395e9adc_acd8_11ec_847b_5e64ef8ccfc9row12_col0\" class=\"data row12 col0\" >09gWa</td>\n",
       "                        <td id=\"T_395e9adc_acd8_11ec_847b_5e64ef8ccfc9row12_col1\" class=\"data row12 col1\" >-7.37889</td>\n",
       "                        <td id=\"T_395e9adc_acd8_11ec_847b_5e64ef8ccfc9row12_col2\" class=\"data row12 col2\" >-3.0841</td>\n",
       "                        <td id=\"T_395e9adc_acd8_11ec_847b_5e64ef8ccfc9row12_col3\" class=\"data row12 col3\" >4.99865</td>\n",
       "                        <td id=\"T_395e9adc_acd8_11ec_847b_5e64ef8ccfc9row12_col4\" class=\"data row12 col4\" >137.945</td>\n",
       "            </tr>\n",
       "            <tr>\n",
       "                        <th id=\"T_395e9adc_acd8_11ec_847b_5e64ef8ccfc9level0_row13\" class=\"row_heading level0 row13\" >99998</th>\n",
       "                        <td id=\"T_395e9adc_acd8_11ec_847b_5e64ef8ccfc9row13_col0\" class=\"data row13 col0\" >rqwUm</td>\n",
       "                        <td id=\"T_395e9adc_acd8_11ec_847b_5e64ef8ccfc9row13_col1\" class=\"data row13 col1\" >0.665714</td>\n",
       "                        <td id=\"T_395e9adc_acd8_11ec_847b_5e64ef8ccfc9row13_col2\" class=\"data row13 col2\" >-6.15259</td>\n",
       "                        <td id=\"T_395e9adc_acd8_11ec_847b_5e64ef8ccfc9row13_col3\" class=\"data row13 col3\" >1.00015</td>\n",
       "                        <td id=\"T_395e9adc_acd8_11ec_847b_5e64ef8ccfc9row13_col4\" class=\"data row13 col4\" >30.1324</td>\n",
       "            </tr>\n",
       "            <tr>\n",
       "                        <th id=\"T_395e9adc_acd8_11ec_847b_5e64ef8ccfc9level0_row14\" class=\"row_heading level0 row14\" >99999</th>\n",
       "                        <td id=\"T_395e9adc_acd8_11ec_847b_5e64ef8ccfc9row14_col0\" class=\"data row14 col0\" >relB0</td>\n",
       "                        <td id=\"T_395e9adc_acd8_11ec_847b_5e64ef8ccfc9row14_col1\" class=\"data row14 col1\" >-3.42614</td>\n",
       "                        <td id=\"T_395e9adc_acd8_11ec_847b_5e64ef8ccfc9row14_col2\" class=\"data row14 col2\" >-7.79427</td>\n",
       "                        <td id=\"T_395e9adc_acd8_11ec_847b_5e64ef8ccfc9row14_col3\" class=\"data row14 col3\" >-0.00329852</td>\n",
       "                        <td id=\"T_395e9adc_acd8_11ec_847b_5e64ef8ccfc9row14_col4\" class=\"data row14 col4\" >3.1791</td>\n",
       "            </tr>\n",
       "    </tbody></table>"
      ],
      "text/plain": [
       "<pandas.io.formats.style.Styler at 0x7ff42b802ad0>"
      ]
     },
     "metadata": {},
     "output_type": "display_data"
    },
    {
     "data": {
      "text/html": [
       "<div>\n",
       "<style scoped>\n",
       "    .dataframe tbody tr th:only-of-type {\n",
       "        vertical-align: middle;\n",
       "    }\n",
       "\n",
       "    .dataframe tbody tr th {\n",
       "        vertical-align: top;\n",
       "    }\n",
       "\n",
       "    .dataframe thead th {\n",
       "        text-align: right;\n",
       "    }\n",
       "</style>\n",
       "<table border=\"1\" class=\"dataframe\">\n",
       "  <thead>\n",
       "    <tr style=\"text-align: right;\">\n",
       "      <th></th>\n",
       "      <th>f0</th>\n",
       "      <th>f1</th>\n",
       "      <th>f2</th>\n",
       "      <th>product</th>\n",
       "    </tr>\n",
       "  </thead>\n",
       "  <tbody>\n",
       "    <tr>\n",
       "      <td>count</td>\n",
       "      <td>100000.000000</td>\n",
       "      <td>100000.000000</td>\n",
       "      <td>100000.000000</td>\n",
       "      <td>100000.000000</td>\n",
       "    </tr>\n",
       "    <tr>\n",
       "      <td>mean</td>\n",
       "      <td>1.141296</td>\n",
       "      <td>-4.796579</td>\n",
       "      <td>2.494541</td>\n",
       "      <td>68.825000</td>\n",
       "    </tr>\n",
       "    <tr>\n",
       "      <td>std</td>\n",
       "      <td>8.965932</td>\n",
       "      <td>5.119872</td>\n",
       "      <td>1.703572</td>\n",
       "      <td>45.944423</td>\n",
       "    </tr>\n",
       "    <tr>\n",
       "      <td>min</td>\n",
       "      <td>-31.609576</td>\n",
       "      <td>-26.358598</td>\n",
       "      <td>-0.018144</td>\n",
       "      <td>0.000000</td>\n",
       "    </tr>\n",
       "    <tr>\n",
       "      <td>25%</td>\n",
       "      <td>-6.298551</td>\n",
       "      <td>-8.267985</td>\n",
       "      <td>1.000021</td>\n",
       "      <td>26.953261</td>\n",
       "    </tr>\n",
       "    <tr>\n",
       "      <td>50%</td>\n",
       "      <td>1.153055</td>\n",
       "      <td>-4.813172</td>\n",
       "      <td>2.011479</td>\n",
       "      <td>57.085625</td>\n",
       "    </tr>\n",
       "    <tr>\n",
       "      <td>75%</td>\n",
       "      <td>8.621015</td>\n",
       "      <td>-1.332816</td>\n",
       "      <td>3.999904</td>\n",
       "      <td>107.813044</td>\n",
       "    </tr>\n",
       "    <tr>\n",
       "      <td>max</td>\n",
       "      <td>29.421755</td>\n",
       "      <td>18.734063</td>\n",
       "      <td>5.019721</td>\n",
       "      <td>137.945408</td>\n",
       "    </tr>\n",
       "  </tbody>\n",
       "</table>\n",
       "</div>"
      ],
      "text/plain": [
       "                  f0             f1             f2        product\n",
       "count  100000.000000  100000.000000  100000.000000  100000.000000\n",
       "mean        1.141296      -4.796579       2.494541      68.825000\n",
       "std         8.965932       5.119872       1.703572      45.944423\n",
       "min       -31.609576     -26.358598      -0.018144       0.000000\n",
       "25%        -6.298551      -8.267985       1.000021      26.953261\n",
       "50%         1.153055      -4.813172       2.011479      57.085625\n",
       "75%         8.621015      -1.332816       3.999904     107.813044\n",
       "max        29.421755      18.734063       5.019721     137.945408"
      ]
     },
     "metadata": {},
     "output_type": "display_data"
    },
    {
     "name": "stdout",
     "output_type": "stream",
     "text": [
      "<class 'pandas.core.frame.DataFrame'>\n",
      "RangeIndex: 100000 entries, 0 to 99999\n",
      "Data columns (total 5 columns):\n",
      "id         100000 non-null object\n",
      "f0         100000 non-null float64\n",
      "f1         100000 non-null float64\n",
      "f2         100000 non-null float64\n",
      "product    100000 non-null float64\n",
      "dtypes: float64(4), object(1)\n",
      "memory usage: 3.8+ MB\n",
      "\n"
     ]
    },
    {
     "data": {
      "text/html": [
       "<style  type=\"text/css\" >\n",
       "</style><table id=\"T_39639f00_acd8_11ec_847b_5e64ef8ccfc9\" ><caption>data_2</caption><thead>    <tr>        <th class=\"blank level0\" ></th>        <th class=\"col_heading level0 col0\" >id</th>        <th class=\"col_heading level0 col1\" >f0</th>        <th class=\"col_heading level0 col2\" >f1</th>        <th class=\"col_heading level0 col3\" >f2</th>        <th class=\"col_heading level0 col4\" >product</th>    </tr></thead><tbody>\n",
       "                <tr>\n",
       "                        <th id=\"T_39639f00_acd8_11ec_847b_5e64ef8ccfc9level0_row0\" class=\"row_heading level0 row0\" >0</th>\n",
       "                        <td id=\"T_39639f00_acd8_11ec_847b_5e64ef8ccfc9row0_col0\" class=\"data row0 col0\" >fwXo0</td>\n",
       "                        <td id=\"T_39639f00_acd8_11ec_847b_5e64ef8ccfc9row0_col1\" class=\"data row0 col1\" >-1.14699</td>\n",
       "                        <td id=\"T_39639f00_acd8_11ec_847b_5e64ef8ccfc9row0_col2\" class=\"data row0 col2\" >0.963328</td>\n",
       "                        <td id=\"T_39639f00_acd8_11ec_847b_5e64ef8ccfc9row0_col3\" class=\"data row0 col3\" >-0.828965</td>\n",
       "                        <td id=\"T_39639f00_acd8_11ec_847b_5e64ef8ccfc9row0_col4\" class=\"data row0 col4\" >27.7587</td>\n",
       "            </tr>\n",
       "            <tr>\n",
       "                        <th id=\"T_39639f00_acd8_11ec_847b_5e64ef8ccfc9level0_row1\" class=\"row_heading level0 row1\" >1</th>\n",
       "                        <td id=\"T_39639f00_acd8_11ec_847b_5e64ef8ccfc9row1_col0\" class=\"data row1 col0\" >WJtFt</td>\n",
       "                        <td id=\"T_39639f00_acd8_11ec_847b_5e64ef8ccfc9row1_col1\" class=\"data row1 col1\" >0.262778</td>\n",
       "                        <td id=\"T_39639f00_acd8_11ec_847b_5e64ef8ccfc9row1_col2\" class=\"data row1 col2\" >0.269839</td>\n",
       "                        <td id=\"T_39639f00_acd8_11ec_847b_5e64ef8ccfc9row1_col3\" class=\"data row1 col3\" >-2.53019</td>\n",
       "                        <td id=\"T_39639f00_acd8_11ec_847b_5e64ef8ccfc9row1_col4\" class=\"data row1 col4\" >56.0697</td>\n",
       "            </tr>\n",
       "            <tr>\n",
       "                        <th id=\"T_39639f00_acd8_11ec_847b_5e64ef8ccfc9level0_row2\" class=\"row_heading level0 row2\" >2</th>\n",
       "                        <td id=\"T_39639f00_acd8_11ec_847b_5e64ef8ccfc9row2_col0\" class=\"data row2 col0\" >ovLUW</td>\n",
       "                        <td id=\"T_39639f00_acd8_11ec_847b_5e64ef8ccfc9row2_col1\" class=\"data row2 col1\" >0.194587</td>\n",
       "                        <td id=\"T_39639f00_acd8_11ec_847b_5e64ef8ccfc9row2_col2\" class=\"data row2 col2\" >0.289035</td>\n",
       "                        <td id=\"T_39639f00_acd8_11ec_847b_5e64ef8ccfc9row2_col3\" class=\"data row2 col3\" >-5.58643</td>\n",
       "                        <td id=\"T_39639f00_acd8_11ec_847b_5e64ef8ccfc9row2_col4\" class=\"data row2 col4\" >62.8719</td>\n",
       "            </tr>\n",
       "            <tr>\n",
       "                        <th id=\"T_39639f00_acd8_11ec_847b_5e64ef8ccfc9level0_row3\" class=\"row_heading level0 row3\" >3</th>\n",
       "                        <td id=\"T_39639f00_acd8_11ec_847b_5e64ef8ccfc9row3_col0\" class=\"data row3 col0\" >q6cA6</td>\n",
       "                        <td id=\"T_39639f00_acd8_11ec_847b_5e64ef8ccfc9row3_col1\" class=\"data row3 col1\" >2.23606</td>\n",
       "                        <td id=\"T_39639f00_acd8_11ec_847b_5e64ef8ccfc9row3_col2\" class=\"data row3 col2\" >-0.55376</td>\n",
       "                        <td id=\"T_39639f00_acd8_11ec_847b_5e64ef8ccfc9row3_col3\" class=\"data row3 col3\" >0.930038</td>\n",
       "                        <td id=\"T_39639f00_acd8_11ec_847b_5e64ef8ccfc9row3_col4\" class=\"data row3 col4\" >114.573</td>\n",
       "            </tr>\n",
       "            <tr>\n",
       "                        <th id=\"T_39639f00_acd8_11ec_847b_5e64ef8ccfc9level0_row4\" class=\"row_heading level0 row4\" >4</th>\n",
       "                        <td id=\"T_39639f00_acd8_11ec_847b_5e64ef8ccfc9row4_col0\" class=\"data row4 col0\" >WPMUX</td>\n",
       "                        <td id=\"T_39639f00_acd8_11ec_847b_5e64ef8ccfc9row4_col1\" class=\"data row4 col1\" >-0.515993</td>\n",
       "                        <td id=\"T_39639f00_acd8_11ec_847b_5e64ef8ccfc9row4_col2\" class=\"data row4 col2\" >1.71627</td>\n",
       "                        <td id=\"T_39639f00_acd8_11ec_847b_5e64ef8ccfc9row4_col3\" class=\"data row4 col3\" >5.89901</td>\n",
       "                        <td id=\"T_39639f00_acd8_11ec_847b_5e64ef8ccfc9row4_col4\" class=\"data row4 col4\" >149.601</td>\n",
       "            </tr>\n",
       "            <tr>\n",
       "                        <th id=\"T_39639f00_acd8_11ec_847b_5e64ef8ccfc9level0_row5\" class=\"row_heading level0 row5\" >43255</th>\n",
       "                        <td id=\"T_39639f00_acd8_11ec_847b_5e64ef8ccfc9row5_col0\" class=\"data row5 col0\" >ObjmH</td>\n",
       "                        <td id=\"T_39639f00_acd8_11ec_847b_5e64ef8ccfc9row5_col1\" class=\"data row5 col1\" >-0.746891</td>\n",
       "                        <td id=\"T_39639f00_acd8_11ec_847b_5e64ef8ccfc9row5_col2\" class=\"data row5 col2\" >-2.84387</td>\n",
       "                        <td id=\"T_39639f00_acd8_11ec_847b_5e64ef8ccfc9row5_col3\" class=\"data row5 col3\" >2.46137</td>\n",
       "                        <td id=\"T_39639f00_acd8_11ec_847b_5e64ef8ccfc9row5_col4\" class=\"data row5 col4\" >138.604</td>\n",
       "            </tr>\n",
       "            <tr>\n",
       "                        <th id=\"T_39639f00_acd8_11ec_847b_5e64ef8ccfc9level0_row6\" class=\"row_heading level0 row6\" >94854</th>\n",
       "                        <td id=\"T_39639f00_acd8_11ec_847b_5e64ef8ccfc9row6_col0\" class=\"data row6 col0\" >koxeG</td>\n",
       "                        <td id=\"T_39639f00_acd8_11ec_847b_5e64ef8ccfc9row6_col1\" class=\"data row6 col1\" >1.00347</td>\n",
       "                        <td id=\"T_39639f00_acd8_11ec_847b_5e64ef8ccfc9row6_col2\" class=\"data row6 col2\" >0.949851</td>\n",
       "                        <td id=\"T_39639f00_acd8_11ec_847b_5e64ef8ccfc9row6_col3\" class=\"data row6 col3\" >6.13709</td>\n",
       "                        <td id=\"T_39639f00_acd8_11ec_847b_5e64ef8ccfc9row6_col4\" class=\"data row6 col4\" >143.726</td>\n",
       "            </tr>\n",
       "            <tr>\n",
       "                        <th id=\"T_39639f00_acd8_11ec_847b_5e64ef8ccfc9level0_row7\" class=\"row_heading level0 row7\" >29176</th>\n",
       "                        <td id=\"T_39639f00_acd8_11ec_847b_5e64ef8ccfc9row7_col0\" class=\"data row7 col0\" >U4j1O</td>\n",
       "                        <td id=\"T_39639f00_acd8_11ec_847b_5e64ef8ccfc9row7_col1\" class=\"data row7 col1\" >-3.17901</td>\n",
       "                        <td id=\"T_39639f00_acd8_11ec_847b_5e64ef8ccfc9row7_col2\" class=\"data row7 col2\" >0.0491798</td>\n",
       "                        <td id=\"T_39639f00_acd8_11ec_847b_5e64ef8ccfc9row7_col3\" class=\"data row7 col3\" >7.10036</td>\n",
       "                        <td id=\"T_39639f00_acd8_11ec_847b_5e64ef8ccfc9row7_col4\" class=\"data row7 col4\" >183.499</td>\n",
       "            </tr>\n",
       "            <tr>\n",
       "                        <th id=\"T_39639f00_acd8_11ec_847b_5e64ef8ccfc9level0_row8\" class=\"row_heading level0 row8\" >18608</th>\n",
       "                        <td id=\"T_39639f00_acd8_11ec_847b_5e64ef8ccfc9row8_col0\" class=\"data row8 col0\" >212rA</td>\n",
       "                        <td id=\"T_39639f00_acd8_11ec_847b_5e64ef8ccfc9row8_col1\" class=\"data row8 col1\" >0.869148</td>\n",
       "                        <td id=\"T_39639f00_acd8_11ec_847b_5e64ef8ccfc9row8_col2\" class=\"data row8 col2\" >-1.7019</td>\n",
       "                        <td id=\"T_39639f00_acd8_11ec_847b_5e64ef8ccfc9row8_col3\" class=\"data row8 col3\" >4.35216</td>\n",
       "                        <td id=\"T_39639f00_acd8_11ec_847b_5e64ef8ccfc9row8_col4\" class=\"data row8 col4\" >108.609</td>\n",
       "            </tr>\n",
       "            <tr>\n",
       "                        <th id=\"T_39639f00_acd8_11ec_847b_5e64ef8ccfc9level0_row9\" class=\"row_heading level0 row9\" >70492</th>\n",
       "                        <td id=\"T_39639f00_acd8_11ec_847b_5e64ef8ccfc9row9_col0\" class=\"data row9 col0\" >sNzNa</td>\n",
       "                        <td id=\"T_39639f00_acd8_11ec_847b_5e64ef8ccfc9row9_col1\" class=\"data row9 col1\" >0.776508</td>\n",
       "                        <td id=\"T_39639f00_acd8_11ec_847b_5e64ef8ccfc9row9_col2\" class=\"data row9 col2\" >3.53522</td>\n",
       "                        <td id=\"T_39639f00_acd8_11ec_847b_5e64ef8ccfc9row9_col3\" class=\"data row9 col3\" >-1.18805</td>\n",
       "                        <td id=\"T_39639f00_acd8_11ec_847b_5e64ef8ccfc9row9_col4\" class=\"data row9 col4\" >110.634</td>\n",
       "            </tr>\n",
       "            <tr>\n",
       "                        <th id=\"T_39639f00_acd8_11ec_847b_5e64ef8ccfc9level0_row10\" class=\"row_heading level0 row10\" >99995</th>\n",
       "                        <td id=\"T_39639f00_acd8_11ec_847b_5e64ef8ccfc9row10_col0\" class=\"data row10 col0\" >4GxBu</td>\n",
       "                        <td id=\"T_39639f00_acd8_11ec_847b_5e64ef8ccfc9row10_col1\" class=\"data row10 col1\" >-1.77704</td>\n",
       "                        <td id=\"T_39639f00_acd8_11ec_847b_5e64ef8ccfc9row10_col2\" class=\"data row10 col2\" >1.12522</td>\n",
       "                        <td id=\"T_39639f00_acd8_11ec_847b_5e64ef8ccfc9row10_col3\" class=\"data row10 col3\" >6.26337</td>\n",
       "                        <td id=\"T_39639f00_acd8_11ec_847b_5e64ef8ccfc9row10_col4\" class=\"data row10 col4\" >172.327</td>\n",
       "            </tr>\n",
       "            <tr>\n",
       "                        <th id=\"T_39639f00_acd8_11ec_847b_5e64ef8ccfc9level0_row11\" class=\"row_heading level0 row11\" >99996</th>\n",
       "                        <td id=\"T_39639f00_acd8_11ec_847b_5e64ef8ccfc9row11_col0\" class=\"data row11 col0\" >YKFjq</td>\n",
       "                        <td id=\"T_39639f00_acd8_11ec_847b_5e64ef8ccfc9row11_col1\" class=\"data row11 col1\" >-1.26152</td>\n",
       "                        <td id=\"T_39639f00_acd8_11ec_847b_5e64ef8ccfc9row11_col2\" class=\"data row11 col2\" >-0.894828</td>\n",
       "                        <td id=\"T_39639f00_acd8_11ec_847b_5e64ef8ccfc9row11_col3\" class=\"data row11 col3\" >2.52454</td>\n",
       "                        <td id=\"T_39639f00_acd8_11ec_847b_5e64ef8ccfc9row11_col4\" class=\"data row11 col4\" >138.749</td>\n",
       "            </tr>\n",
       "            <tr>\n",
       "                        <th id=\"T_39639f00_acd8_11ec_847b_5e64ef8ccfc9level0_row12\" class=\"row_heading level0 row12\" >99997</th>\n",
       "                        <td id=\"T_39639f00_acd8_11ec_847b_5e64ef8ccfc9row12_col0\" class=\"data row12 col0\" >tKPY3</td>\n",
       "                        <td id=\"T_39639f00_acd8_11ec_847b_5e64ef8ccfc9row12_col1\" class=\"data row12 col1\" >-1.19993</td>\n",
       "                        <td id=\"T_39639f00_acd8_11ec_847b_5e64ef8ccfc9row12_col2\" class=\"data row12 col2\" >-2.95764</td>\n",
       "                        <td id=\"T_39639f00_acd8_11ec_847b_5e64ef8ccfc9row12_col3\" class=\"data row12 col3\" >5.21941</td>\n",
       "                        <td id=\"T_39639f00_acd8_11ec_847b_5e64ef8ccfc9row12_col4\" class=\"data row12 col4\" >157.08</td>\n",
       "            </tr>\n",
       "            <tr>\n",
       "                        <th id=\"T_39639f00_acd8_11ec_847b_5e64ef8ccfc9level0_row13\" class=\"row_heading level0 row13\" >99998</th>\n",
       "                        <td id=\"T_39639f00_acd8_11ec_847b_5e64ef8ccfc9row13_col0\" class=\"data row13 col0\" >nmxp2</td>\n",
       "                        <td id=\"T_39639f00_acd8_11ec_847b_5e64ef8ccfc9row13_col1\" class=\"data row13 col1\" >-2.4199</td>\n",
       "                        <td id=\"T_39639f00_acd8_11ec_847b_5e64ef8ccfc9row13_col2\" class=\"data row13 col2\" >2.41722</td>\n",
       "                        <td id=\"T_39639f00_acd8_11ec_847b_5e64ef8ccfc9row13_col3\" class=\"data row13 col3\" >-5.54844</td>\n",
       "                        <td id=\"T_39639f00_acd8_11ec_847b_5e64ef8ccfc9row13_col4\" class=\"data row13 col4\" >51.7953</td>\n",
       "            </tr>\n",
       "            <tr>\n",
       "                        <th id=\"T_39639f00_acd8_11ec_847b_5e64ef8ccfc9level0_row14\" class=\"row_heading level0 row14\" >99999</th>\n",
       "                        <td id=\"T_39639f00_acd8_11ec_847b_5e64ef8ccfc9row14_col0\" class=\"data row14 col0\" >V9kWn</td>\n",
       "                        <td id=\"T_39639f00_acd8_11ec_847b_5e64ef8ccfc9row14_col1\" class=\"data row14 col1\" >-2.55142</td>\n",
       "                        <td id=\"T_39639f00_acd8_11ec_847b_5e64ef8ccfc9row14_col2\" class=\"data row14 col2\" >-2.02563</td>\n",
       "                        <td id=\"T_39639f00_acd8_11ec_847b_5e64ef8ccfc9row14_col3\" class=\"data row14 col3\" >6.09089</td>\n",
       "                        <td id=\"T_39639f00_acd8_11ec_847b_5e64ef8ccfc9row14_col4\" class=\"data row14 col4\" >102.776</td>\n",
       "            </tr>\n",
       "    </tbody></table>"
      ],
      "text/plain": [
       "<pandas.io.formats.style.Styler at 0x7ff42b41fb10>"
      ]
     },
     "metadata": {},
     "output_type": "display_data"
    },
    {
     "data": {
      "text/html": [
       "<div>\n",
       "<style scoped>\n",
       "    .dataframe tbody tr th:only-of-type {\n",
       "        vertical-align: middle;\n",
       "    }\n",
       "\n",
       "    .dataframe tbody tr th {\n",
       "        vertical-align: top;\n",
       "    }\n",
       "\n",
       "    .dataframe thead th {\n",
       "        text-align: right;\n",
       "    }\n",
       "</style>\n",
       "<table border=\"1\" class=\"dataframe\">\n",
       "  <thead>\n",
       "    <tr style=\"text-align: right;\">\n",
       "      <th></th>\n",
       "      <th>f0</th>\n",
       "      <th>f1</th>\n",
       "      <th>f2</th>\n",
       "      <th>product</th>\n",
       "    </tr>\n",
       "  </thead>\n",
       "  <tbody>\n",
       "    <tr>\n",
       "      <td>count</td>\n",
       "      <td>100000.000000</td>\n",
       "      <td>100000.000000</td>\n",
       "      <td>100000.000000</td>\n",
       "      <td>100000.000000</td>\n",
       "    </tr>\n",
       "    <tr>\n",
       "      <td>mean</td>\n",
       "      <td>0.002023</td>\n",
       "      <td>-0.002081</td>\n",
       "      <td>2.495128</td>\n",
       "      <td>95.000000</td>\n",
       "    </tr>\n",
       "    <tr>\n",
       "      <td>std</td>\n",
       "      <td>1.732045</td>\n",
       "      <td>1.730417</td>\n",
       "      <td>3.473445</td>\n",
       "      <td>44.749921</td>\n",
       "    </tr>\n",
       "    <tr>\n",
       "      <td>min</td>\n",
       "      <td>-8.760004</td>\n",
       "      <td>-7.084020</td>\n",
       "      <td>-11.970335</td>\n",
       "      <td>0.000000</td>\n",
       "    </tr>\n",
       "    <tr>\n",
       "      <td>25%</td>\n",
       "      <td>-1.162288</td>\n",
       "      <td>-1.174820</td>\n",
       "      <td>0.130359</td>\n",
       "      <td>59.450441</td>\n",
       "    </tr>\n",
       "    <tr>\n",
       "      <td>50%</td>\n",
       "      <td>0.009424</td>\n",
       "      <td>-0.009482</td>\n",
       "      <td>2.484236</td>\n",
       "      <td>94.925613</td>\n",
       "    </tr>\n",
       "    <tr>\n",
       "      <td>75%</td>\n",
       "      <td>1.158535</td>\n",
       "      <td>1.163678</td>\n",
       "      <td>4.858794</td>\n",
       "      <td>130.595027</td>\n",
       "    </tr>\n",
       "    <tr>\n",
       "      <td>max</td>\n",
       "      <td>7.238262</td>\n",
       "      <td>7.844801</td>\n",
       "      <td>16.739402</td>\n",
       "      <td>190.029838</td>\n",
       "    </tr>\n",
       "  </tbody>\n",
       "</table>\n",
       "</div>"
      ],
      "text/plain": [
       "                  f0             f1             f2        product\n",
       "count  100000.000000  100000.000000  100000.000000  100000.000000\n",
       "mean        0.002023      -0.002081       2.495128      95.000000\n",
       "std         1.732045       1.730417       3.473445      44.749921\n",
       "min        -8.760004      -7.084020     -11.970335       0.000000\n",
       "25%        -1.162288      -1.174820       0.130359      59.450441\n",
       "50%         0.009424      -0.009482       2.484236      94.925613\n",
       "75%         1.158535       1.163678       4.858794     130.595027\n",
       "max         7.238262       7.844801      16.739402     190.029838"
      ]
     },
     "metadata": {},
     "output_type": "display_data"
    },
    {
     "name": "stdout",
     "output_type": "stream",
     "text": [
      "<class 'pandas.core.frame.DataFrame'>\n",
      "RangeIndex: 100000 entries, 0 to 99999\n",
      "Data columns (total 5 columns):\n",
      "id         100000 non-null object\n",
      "f0         100000 non-null float64\n",
      "f1         100000 non-null float64\n",
      "f2         100000 non-null float64\n",
      "product    100000 non-null float64\n",
      "dtypes: float64(4), object(1)\n",
      "memory usage: 3.8+ MB\n",
      "\n"
     ]
    }
   ],
   "source": [
    "def total_view(df, n_rows=5, seed=None):\n",
    "    '''Возвращает первые, случайные и последние строки таблицы (по умолчанию по 5 строк)'''\n",
    "    return pd.concat([df.head(n_rows),\n",
    "                      df.sample(n_rows,random_state=seed),\n",
    "                      df.tail(n_rows)\n",
    "                     ])\n",
    "\n",
    "# список датасетов\n",
    "datasets_list = [data_0, data_1, data_2]\n",
    "\n",
    "# проименуем датасеты\n",
    "data_0.name = 'data_0'\n",
    "data_1.name = 'data_1'\n",
    "data_2.name = 'data_2'\n",
    "\n",
    "# выведем на экран результат работы total_view(), describe() и info()  по каждому датасету\n",
    "for data in datasets_list:\n",
    "    display(total_view(data).style.set_caption(data.name))\n",
    "    display(data.describe())\n",
    "    data.info()\n",
    "    print('')"
   ]
  },
  {
   "cell_type": "markdown",
   "metadata": {},
   "source": [
    "В каждом из датасетов `data_0`, `data_1` и `data_2` 5 колонок и 100000 строк. Тип данных в колонках `object` и `float64`. Согласно документации к данным:\n",
    "* `id` — уникальный идентификатор скважины;\n",
    "* `f0`, `f1`, `f2` — три признака точек;\n",
    "* `product` — объём запасов в скважине (тыс. баррелей).\n",
    "\n",
    "Пропущенные значения отсутствуют."
   ]
  },
  {
   "cell_type": "markdown",
   "metadata": {},
   "source": [
    "### Подготовка данных"
   ]
  },
  {
   "cell_type": "markdown",
   "metadata": {},
   "source": [
    " Проверим данные на дубликаты:"
   ]
  },
  {
   "cell_type": "code",
   "execution_count": 4,
   "metadata": {},
   "outputs": [
    {
     "name": "stdout",
     "output_type": "stream",
     "text": [
      "data_0 0\n",
      "data_1 0\n",
      "data_2 0\n"
     ]
    }
   ],
   "source": [
    "for data in datasets_list:\n",
    "    print(data.name, data.duplicated().sum())"
   ]
  },
  {
   "cell_type": "markdown",
   "metadata": {},
   "source": [
    "Удалим колонку `id`из всех датасетов, так как там содержатся уникальные значения, не связанные с целевым признаком:"
   ]
  },
  {
   "cell_type": "code",
   "execution_count": 5,
   "metadata": {},
   "outputs": [],
   "source": [
    "data_0 = data_0.drop('id', axis=1)\n",
    "data_1 = data_1.drop('id', axis=1)\n",
    "data_2 = data_2.drop('id', axis=1)"
   ]
  },
  {
   "cell_type": "markdown",
   "metadata": {},
   "source": [
    "**Выводы:**"
   ]
  },
  {
   "cell_type": "markdown",
   "metadata": {},
   "source": [
    "Каждый из датасетов `data_0`, `data_1` и `data_2` содержит данные о пробах нефти в одном из трех регионов (будем называть их в соответствии с номерами в названиях датасетов - регион 0, регион 1 и регион 2).\n",
    "В строках датасетов `data_0`, `data_1` и `data_2` содержатся данные о скважинах: id скважины, три показателя качества нефти и объем запасов в скважине.\n",
    "\n",
    "В колонке `product` содержится целевой признак. Среди признаков для обучения модели мы оставили колонки: `f0`, `f1`, `f2`. Колонку `id` удалили, так там содержатся уникальные значения, не связанные с целевым признаком"
   ]
  },
  {
   "cell_type": "markdown",
   "metadata": {},
   "source": [
    "## Обучение и проверка модели"
   ]
  },
  {
   "cell_type": "markdown",
   "metadata": {},
   "source": [
    "Разобьем данные на обучающую (75%) и валидационную (25%) выборки:"
   ]
  },
  {
   "cell_type": "code",
   "execution_count": 6,
   "metadata": {},
   "outputs": [
    {
     "name": "stdout",
     "output_type": "stream",
     "text": [
      "features_train_0: (75000, 3) target_train_0: (75000,) features_valid_0: (25000, 3) target_valid_0: (25000,) \n",
      " features_train_1: (75000, 3) target_train_1: (75000,) features_valid_1: (25000, 3) target_valid_1: (25000,) \n",
      " features_train_2: (75000, 3) target_train_2: (75000,) features_valid_2: (25000, 3) target_valid_2: (25000,) \n",
      "\n"
     ]
    }
   ],
   "source": [
    "features = data_0.drop('product', axis=1)\n",
    "target = data_0['product']\n",
    "features_train_0, features_valid_0, target_train_0, target_valid_0 = train_test_split(features,\n",
    "                                                                              target,\n",
    "                                                                              test_size=0.25,\n",
    "                                                                              random_state=12345)\n",
    "\n",
    "features = data_1.drop('product', axis=1)\n",
    "target = data_1['product']\n",
    "features_train_1, features_valid_1, target_train_1, target_valid_1 = train_test_split(features,\n",
    "                                                                              target,\n",
    "                                                                              test_size=0.25,\n",
    "                                                                              random_state=12345)\n",
    "\n",
    "features = data_2.drop('product', axis=1)\n",
    "target = data_2['product']\n",
    "features_train_2, features_valid_2, target_train_2, target_valid_2 = train_test_split(features,\n",
    "                                                                              target,\n",
    "                                                                              test_size=0.25,\n",
    "                                                                              random_state=12345)\n",
    "\n",
    "\n",
    "\n",
    "print('features_train_0:',features_train_0.shape,\n",
    "      'target_train_0:', target_train_0.shape,\n",
    "      'features_valid_0:', features_valid_0.shape,\n",
    "      'target_valid_0:', target_valid_0.shape, '\\n',\n",
    "      'features_train_1:',features_train_1.shape,\n",
    "      'target_train_1:', target_train_1.shape,\n",
    "      'features_valid_1:', features_valid_1.shape,\n",
    "      'target_valid_1:', target_valid_1.shape, '\\n',\n",
    "      'features_train_2:',features_train_2.shape,\n",
    "      'target_train_2:', target_train_2.shape,\n",
    "      'features_valid_2:', features_valid_2.shape,\n",
    "      'target_valid_2:', target_valid_2.shape, '\\n'\n",
    "     )"
   ]
  },
  {
   "cell_type": "markdown",
   "metadata": {},
   "source": [
    "Обучим модели и сделаем предсказания на валидационных выборках:"
   ]
  },
  {
   "cell_type": "code",
   "execution_count": 7,
   "metadata": {},
   "outputs": [],
   "source": [
    "def model_linear_regression(features_train, target_train, features_valid, target_valid):\n",
    "    '''Обучает модель линейной регрессии, выводит на экран среднее предсказанное значение, rmse\n",
    "    и возвращает предсказания.\n",
    "    '''\n",
    "    model = LinearRegression()\n",
    "    model.fit(features_train, target_train)\n",
    "    predictions = model.predict(features_valid)\n",
    "    print('mean: ', predictions.mean(), '\\n',\n",
    "          'rmse: ', mean_squared_error(target_valid, predictions) ** 0.5,\n",
    "          sep=''\n",
    "         )\n",
    "    return predictions"
   ]
  },
  {
   "cell_type": "code",
   "execution_count": 8,
   "metadata": {},
   "outputs": [
    {
     "name": "stdout",
     "output_type": "stream",
     "text": [
      "mean: 92.59256778438038\n",
      "rmse: 37.5794217150813\n"
     ]
    }
   ],
   "source": [
    "predictions_valid_0 = model_linear_regression(features_train_0, target_train_0, features_valid_0, target_valid_0)"
   ]
  },
  {
   "cell_type": "code",
   "execution_count": 9,
   "metadata": {},
   "outputs": [
    {
     "name": "stdout",
     "output_type": "stream",
     "text": [
      "mean: 68.728546895446\n",
      "rmse: 0.8930992867756161\n"
     ]
    }
   ],
   "source": [
    "predictions_valid_1 = model_linear_regression(features_train_1, target_train_1, features_valid_1, target_valid_1)"
   ]
  },
  {
   "cell_type": "code",
   "execution_count": 10,
   "metadata": {},
   "outputs": [
    {
     "name": "stdout",
     "output_type": "stream",
     "text": [
      "mean: 94.96504596800489\n",
      "rmse: 40.02970873393434\n"
     ]
    }
   ],
   "source": [
    "predictions_valid_2 = model_linear_regression(features_train_2, target_train_2, features_valid_2, target_valid_2)"
   ]
  },
  {
   "cell_type": "markdown",
   "metadata": {},
   "source": [
    "**Выводы:**"
   ]
  },
  {
   "cell_type": "markdown",
   "metadata": {},
   "source": [
    "Cредний запас предсказанного сырья в регионе 0 составил примерно 93 тыс. баррелей, в регионе 1 - 69 тыс. баррелей, в регионе 2 - 95 тыс. баррелей. При этом `model_0` ошибается в среднем примерно на 38 тыс. баррелей, `model_1` - на 1 тыс. баррелей, `model_2` - на 40 тыс. баррелей."
   ]
  },
  {
   "cell_type": "markdown",
   "metadata": {},
   "source": [
    "## Подготовка к расчёту прибыли"
   ]
  },
  {
   "cell_type": "markdown",
   "metadata": {},
   "source": [
    "Сохраним в переменные ключевые значения (бюджет на разработку, цена за 1 тыс. баррелей, количество разрабатываемых скважин), необходимые для расчетов:"
   ]
  },
  {
   "cell_type": "code",
   "execution_count": 11,
   "metadata": {},
   "outputs": [],
   "source": [
    "BUDGET = 10_000_000_000\n",
    "PRICE = 450_000\n",
    "COUNT = 200"
   ]
  },
  {
   "cell_type": "markdown",
   "metadata": {},
   "source": [
    "Рассчитаем достаточный объём сырья для безубыточной разработки новой скважины и средний запас на 200 скважин в каждом регионе:"
   ]
  },
  {
   "cell_type": "code",
   "execution_count": 12,
   "metadata": {},
   "outputs": [
    {
     "name": "stdout",
     "output_type": "stream",
     "text": [
      "Breakeven point, млн. баррелей: 22.222\n",
      "Average reserve 0, млн. баррелей: 18.5\n",
      "Average reserve 1, млн. баррелей: 13.765\n",
      "Average reserve 2, млн. баррелей: 19.0\n"
     ]
    }
   ],
   "source": [
    "print('Breakeven point, млн. баррелей: ', np.round((BUDGET/PRICE)/1000, 3), '\\n',\n",
    "      'Average reserve 0, млн. баррелей: ', np.round(data_0['product'].sum() / 500000, 3), '\\n',\n",
    "      'Average reserve 1, млн. баррелей: ', np.round(data_1['product'].sum() / 500000, 3), '\\n',\n",
    "      'Average reserve 2, млн. баррелей: ', np.round(data_2['product'].sum() / 500000, 3), sep=''\n",
    "     )"
   ]
  },
  {
   "cell_type": "markdown",
   "metadata": {},
   "source": [
    "**Выводы:**"
   ]
  },
  {
   "cell_type": "markdown",
   "metadata": {},
   "source": [
    "Достаточный объём сырья для безубыточной разработки новой скважины составляет примерно 22.222 млн. баррелей (22 222 223 баррелей). Средний запас баррелей на 200 скважин в каждом регионе ниже, чем достаточный для безубыточности. Ближе всех к безубыточности по этому показателю находится регион 2, средний запас баррелей на 200 скважин в нем составляет 19 млн. баррелей. В регионе 0 этот запас составляет 18.5 млн. баррелей, а в регионе 1 - 13.765 млн. баррелей."
   ]
  },
  {
   "cell_type": "markdown",
   "metadata": {},
   "source": [
    "## Расчёт прибыли и рисков "
   ]
  },
  {
   "cell_type": "markdown",
   "metadata": {},
   "source": [
    "Напишем функцию для расчёта прибыли по выбранным скважинам и предсказаниям модели:"
   ]
  },
  {
   "cell_type": "code",
   "execution_count": 13,
   "metadata": {},
   "outputs": [],
   "source": [
    "def profit(target, predictions, cnt=COUNT):\n",
    "    '''Возвращает прибыль, рассчитанную по выбранным скважинам'''\n",
    "    predictions_sorted = predictions.sort_values(ascending=False) \n",
    "    selected = target[predictions_sorted.index][:COUNT]\n",
    "    return (PRICE * selected.sum() - BUDGET)"
   ]
  },
  {
   "cell_type": "markdown",
   "metadata": {},
   "source": [
    "Напишем функцию, которая будет применять технику Bootstrap с 1000 выборок, чтобы найти распределение прибыли, а затем рассчитывать и выводить на экран среднюю прибыль, 95%-й доверительный интервал и риск убытков для регона:"
   ]
  },
  {
   "cell_type": "code",
   "execution_count": 14,
   "metadata": {},
   "outputs": [],
   "source": [
    "state = np.random.RandomState(12345)\n",
    "def bootstrap(target_valid, predictions_valid, sample=500, cnt=COUNT):\n",
    "    '''Рассчитывает и выводит на экран среднюю прибыль, 95%-й доверительный интервал и риск убытков для регона.'''\n",
    "    values = []\n",
    "    for i in range(1000):\n",
    "        target_subsample = target_valid.sample(sample, replace=True, random_state=state)\n",
    "        predictions_valid = pd.Series(predictions_valid, index=target_valid.index)\n",
    "        predictions_subsample = predictions_valid[target_subsample.index]\n",
    "        values.append(profit(target_subsample, predictions_subsample, cnt))\n",
    "    values = pd.Series(values)\n",
    "    risk_rate = np.round((values < 0).mean() * 100, 2)\n",
    "    print('Profit mean, млн. руб.: ', np.round(values.mean() / 1_000_000, 2), '\\n',\n",
    "          '95% confidence interval, млн. руб.: с ', np.round(values.quantile(0.025) / 1_000_000, 2), ' по ',\n",
    "          np.round(values.quantile(0.975) / 1_000_000, 2), '\\n',\n",
    "          'Risk rate: ', risk_rate, '%', sep=''\n",
    "          )"
   ]
  },
  {
   "cell_type": "markdown",
   "metadata": {},
   "source": [
    "Применим функцию `bootstrap` к валидационным данным по каждому региону:"
   ]
  },
  {
   "cell_type": "code",
   "execution_count": 15,
   "metadata": {},
   "outputs": [
    {
     "name": "stdout",
     "output_type": "stream",
     "text": [
      "Profit mean, млн. руб.: 425.94\n",
      "95% confidence interval, млн. руб.: с -102.09 по 947.98\n",
      "Risk rate: 6.0%\n"
     ]
    }
   ],
   "source": [
    "# регион 0\n",
    "bootstrap(target_valid_0, predictions_valid_0)"
   ]
  },
  {
   "cell_type": "code",
   "execution_count": 16,
   "metadata": {},
   "outputs": [
    {
     "name": "stdout",
     "output_type": "stream",
     "text": [
      "Profit mean, млн. руб.: 518.26\n",
      "95% confidence interval, млн. руб.: с 128.12 по 953.61\n",
      "Risk rate: 0.3%\n"
     ]
    }
   ],
   "source": [
    "# регион 1\n",
    "bootstrap(target_valid_1, predictions_valid_1)"
   ]
  },
  {
   "cell_type": "code",
   "execution_count": 17,
   "metadata": {},
   "outputs": [
    {
     "name": "stdout",
     "output_type": "stream",
     "text": [
      "Profit mean, млн. руб.: 420.19\n",
      "95% confidence interval, млн. руб.: с -115.85 по 989.63\n",
      "Risk rate: 6.2%\n"
     ]
    }
   ],
   "source": [
    "# регион 2\n",
    "bootstrap(target_valid_2, predictions_valid_2)"
   ]
  },
  {
   "cell_type": "markdown",
   "metadata": {},
   "source": [
    "## Выводы:"
   ]
  },
  {
   "cell_type": "markdown",
   "metadata": {},
   "source": [
    "* наименьший риск и наибольшую прибыль показывает регион 1. Риск получения убытка составляет 0.3%. С вероятностью 95% прибыль в этом регионе составит от 128.12 до 953.61 млн. руб., средняя прибыль ожидается на уровне 518.26 млн. руб. Для бурения новых скважин предлагается выбрать этот регион;\n",
    "* регионы 0 и 2 показывают меньшую среднюю прибыль (425.94 и 420.19 млн. руб. соответственно) и высокий риск получения убытков - около 6%, в доверительный интервал попадают убытки."
   ]
  },
  {
   "cell_type": "code",
   "execution_count": null,
   "metadata": {},
   "outputs": [],
   "source": []
  }
 ],
 "metadata": {
  "kernelspec": {
   "display_name": "Python 3 (ipykernel)",
   "language": "python",
   "name": "python3"
  },
  "language_info": {
   "codemirror_mode": {
    "name": "ipython",
    "version": 3
   },
   "file_extension": ".py",
   "mimetype": "text/x-python",
   "name": "python",
   "nbconvert_exporter": "python",
   "pygments_lexer": "ipython3",
   "version": "3.9.7"
  },
  "toc": {
   "base_numbering": 1,
   "nav_menu": {},
   "number_sections": true,
   "sideBar": true,
   "skip_h1_title": true,
   "title_cell": "Table of Contents",
   "title_sidebar": "Contents",
   "toc_cell": false,
   "toc_position": {},
   "toc_section_display": true,
   "toc_window_display": false
  }
 },
 "nbformat": 4,
 "nbformat_minor": 2
}
