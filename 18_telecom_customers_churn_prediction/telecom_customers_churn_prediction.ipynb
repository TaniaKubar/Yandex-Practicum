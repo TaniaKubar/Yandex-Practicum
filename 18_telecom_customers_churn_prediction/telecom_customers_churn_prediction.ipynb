{
 "cells": [
  {
   "cell_type": "markdown",
   "id": "ac680c99",
   "metadata": {
    "toc": true
   },
   "source": [
    "<h1>Table of Contents<span class=\"tocSkip\"></span></h1>\n",
    "<div class=\"toc\"><ul class=\"toc-item\"><li><span><a href=\"#Обзор-данных\" data-toc-modified-id=\"Обзор-данных-1\"><span class=\"toc-item-num\">1&nbsp;&nbsp;</span>Обзор данных</a></span></li><li><span><a href=\"#Предобработка-данных\" data-toc-modified-id=\"Предобработка-данных-2\"><span class=\"toc-item-num\">2&nbsp;&nbsp;</span>Предобработка данных</a></span></li><li><span><a href=\"#Исследовательский-анализ-данных\" data-toc-modified-id=\"Исследовательский-анализ-данных-3\"><span class=\"toc-item-num\">3&nbsp;&nbsp;</span>Исследовательский анализ данных</a></span></li><li><span><a href=\"#Обучение-моделей\" data-toc-modified-id=\"Обучение-моделей-4\"><span class=\"toc-item-num\">4&nbsp;&nbsp;</span>Обучение моделей</a></span><ul class=\"toc-item\"><li><span><a href=\"#RandomForestClassifier\" data-toc-modified-id=\"RandomForestClassifier-4.1\"><span class=\"toc-item-num\">4.1&nbsp;&nbsp;</span>RandomForestClassifier</a></span></li><li><span><a href=\"#LGBMClassifier\" data-toc-modified-id=\"LGBMClassifier-4.2\"><span class=\"toc-item-num\">4.2&nbsp;&nbsp;</span>LGBMClassifier</a></span></li><li><span><a href=\"#Полносвязная-нейронная-сеть\" data-toc-modified-id=\"Полносвязная-нейронная-сеть-4.3\"><span class=\"toc-item-num\">4.3&nbsp;&nbsp;</span>Полносвязная нейронная сеть</a></span></li></ul></li><li><span><a href=\"#Тестирование-модели\" data-toc-modified-id=\"Тестирование-модели-5\"><span class=\"toc-item-num\">5&nbsp;&nbsp;</span>Тестирование модели</a></span></li><li><span><a href=\"#Выводы\" data-toc-modified-id=\"Выводы-6\"><span class=\"toc-item-num\">6&nbsp;&nbsp;</span>Выводы</a></span></li></ul></div>"
   ]
  },
  {
   "cell_type": "markdown",
   "id": "4b8aff09",
   "metadata": {},
   "source": [
    "# Прогнозирование оттока клиентов телекоммуникационной компании"
   ]
  },
  {
   "cell_type": "markdown",
   "id": "c5664431",
   "metadata": {},
   "source": [
    "Оператор связи хочет научиться прогнозировать отток клиентов. Если выяснится, что пользователь планирует уйти, ему будут предложены промокоды и специальные условия. Команда оператора собрала персональные данные о некоторых клиентах, информацию об их тарифах и договорах.\n",
    "\n",
    "Исследование пройдет в 6 этапов:\n",
    "1. Обзор данных.\n",
    "2. Предобработка данных.\n",
    "3. Исследовательский анализ данных.\n",
    "4. Обучение моделей.\n",
    "5. Тестирование лучшей модели.\n",
    "6. Выводы."
   ]
  },
  {
   "cell_type": "markdown",
   "id": "613d672c",
   "metadata": {},
   "source": [
    "## Обзор данных"
   ]
  },
  {
   "cell_type": "markdown",
   "id": "fc1ba715",
   "metadata": {},
   "source": [
    "Импортируем библиотеки:"
   ]
  },
  {
   "cell_type": "code",
   "execution_count": 1,
   "id": "0c58002d",
   "metadata": {},
   "outputs": [],
   "source": [
    "!pip install -q phik "
   ]
  },
  {
   "cell_type": "code",
   "execution_count": 2,
   "id": "43930ce0",
   "metadata": {},
   "outputs": [],
   "source": [
    "import pandas as pd\n",
    "import numpy as np\n",
    "import math\n",
    "import matplotlib.pyplot as plt\n",
    "import seaborn as sns\n",
    "from sqlalchemy import create_engine\n",
    "from sklearn.compose import ColumnTransformer\n",
    "from sklearn.pipeline import Pipeline\n",
    "from sklearn.preprocessing import StandardScaler, OneHotEncoder\n",
    "from sklearn.ensemble import RandomForestClassifier\n",
    "from sklearn.model_selection import GridSearchCV, train_test_split\n",
    "from sklearn.metrics import roc_auc_score, accuracy_score, confusion_matrix, roc_curve\n",
    "from lightgbm import LGBMClassifier\n",
    "import torch\n",
    "from torch import nn\n",
    "from torch.utils.data import DataLoader, TensorDataset\n",
    "from tqdm import notebook\n",
    "import phik\n",
    "from phik.report import plot_correlation_matrix\n",
    "\n",
    "pd.set_option('display.max_columns', None)"
   ]
  },
  {
   "cell_type": "code",
   "execution_count": 3,
   "id": "28759ead",
   "metadata": {},
   "outputs": [
    {
     "name": "stdout",
     "output_type": "stream",
     "text": [
      "cpu\n"
     ]
    }
   ],
   "source": [
    "SEED = 42\n",
    "DEVICE = torch.device('cuda' if torch.cuda.is_available() else 'cpu')\n",
    "print(DEVICE)"
   ]
  },
  {
   "cell_type": "markdown",
   "id": "d8e21695",
   "metadata": {},
   "source": [
    "Подключение к удаленной базе данных:"
   ]
  },
  {
   "cell_type": "code",
   "execution_count": 4,
   "id": "acb84f9b",
   "metadata": {},
   "outputs": [],
   "source": [
    "db_config = {\n",
    "'user': 'praktikum_student',\n",
    "'pwd': 'Sdf4$2;d-d30pp',\n",
    "'host': 'rc1b-wcoijxj3yxfsf3fs.mdb.yandexcloud.net',\n",
    "'port': 6432,\n",
    "'db': 'data-science-final'\n",
    "} \n",
    "\n",
    "connection_string = 'postgresql://{}:{}@{}:{}/{}'.format(\n",
    "    db_config['user'],\n",
    "    db_config['pwd'],\n",
    "    db_config['host'],\n",
    "    db_config['port'],\n",
    "    db_config['db'],\n",
    ")\n",
    "\n",
    "engine = create_engine(connection_string) "
   ]
  },
  {
   "cell_type": "markdown",
   "id": "d3e899a7",
   "metadata": {},
   "source": [
    "Выведем на экран первые 5 строк каждой таблицы:"
   ]
  },
  {
   "cell_type": "code",
   "execution_count": 5,
   "id": "1a3c00a9",
   "metadata": {},
   "outputs": [
    {
     "data": {
      "text/plain": [
       "'contract'"
      ]
     },
     "metadata": {},
     "output_type": "display_data"
    },
    {
     "data": {
      "text/html": [
       "<div>\n",
       "<style scoped>\n",
       "    .dataframe tbody tr th:only-of-type {\n",
       "        vertical-align: middle;\n",
       "    }\n",
       "\n",
       "    .dataframe tbody tr th {\n",
       "        vertical-align: top;\n",
       "    }\n",
       "\n",
       "    .dataframe thead th {\n",
       "        text-align: right;\n",
       "    }\n",
       "</style>\n",
       "<table border=\"1\" class=\"dataframe\">\n",
       "  <thead>\n",
       "    <tr style=\"text-align: right;\">\n",
       "      <th></th>\n",
       "      <th>customerID</th>\n",
       "      <th>BeginDate</th>\n",
       "      <th>EndDate</th>\n",
       "      <th>Type</th>\n",
       "      <th>PaperlessBilling</th>\n",
       "      <th>PaymentMethod</th>\n",
       "      <th>MonthlyCharges</th>\n",
       "      <th>TotalCharges</th>\n",
       "    </tr>\n",
       "  </thead>\n",
       "  <tbody>\n",
       "    <tr>\n",
       "      <th>0</th>\n",
       "      <td>4472-LVYGI</td>\n",
       "      <td>2020-02-01</td>\n",
       "      <td>None</td>\n",
       "      <td>Two year</td>\n",
       "      <td>Yes</td>\n",
       "      <td>Bank transfer (automatic)</td>\n",
       "      <td>52.55</td>\n",
       "      <td>NaN</td>\n",
       "    </tr>\n",
       "    <tr>\n",
       "      <th>1</th>\n",
       "      <td>3115-CZMZD</td>\n",
       "      <td>2020-02-01</td>\n",
       "      <td>None</td>\n",
       "      <td>Two year</td>\n",
       "      <td>No</td>\n",
       "      <td>Mailed check</td>\n",
       "      <td>20.25</td>\n",
       "      <td>NaN</td>\n",
       "    </tr>\n",
       "    <tr>\n",
       "      <th>2</th>\n",
       "      <td>3668-QPYBK</td>\n",
       "      <td>2018-08-09</td>\n",
       "      <td>2019-12-01</td>\n",
       "      <td>Month-to-month</td>\n",
       "      <td>Yes</td>\n",
       "      <td>Mailed check</td>\n",
       "      <td>53.85</td>\n",
       "      <td>108.15</td>\n",
       "    </tr>\n",
       "    <tr>\n",
       "      <th>3</th>\n",
       "      <td>5709-LVOEQ</td>\n",
       "      <td>2020-02-01</td>\n",
       "      <td>None</td>\n",
       "      <td>Two year</td>\n",
       "      <td>No</td>\n",
       "      <td>Mailed check</td>\n",
       "      <td>80.85</td>\n",
       "      <td>NaN</td>\n",
       "    </tr>\n",
       "    <tr>\n",
       "      <th>4</th>\n",
       "      <td>9237-HQITU</td>\n",
       "      <td>2019-01-26</td>\n",
       "      <td>2019-11-01</td>\n",
       "      <td>Month-to-month</td>\n",
       "      <td>Yes</td>\n",
       "      <td>Electronic check</td>\n",
       "      <td>70.70</td>\n",
       "      <td>151.65</td>\n",
       "    </tr>\n",
       "  </tbody>\n",
       "</table>\n",
       "</div>"
      ],
      "text/plain": [
       "   customerID   BeginDate     EndDate            Type PaperlessBilling  \\\n",
       "0  4472-LVYGI  2020-02-01        None        Two year              Yes   \n",
       "1  3115-CZMZD  2020-02-01        None        Two year               No   \n",
       "2  3668-QPYBK  2018-08-09  2019-12-01  Month-to-month              Yes   \n",
       "3  5709-LVOEQ  2020-02-01        None        Two year               No   \n",
       "4  9237-HQITU  2019-01-26  2019-11-01  Month-to-month              Yes   \n",
       "\n",
       "               PaymentMethod  MonthlyCharges  TotalCharges  \n",
       "0  Bank transfer (automatic)           52.55           NaN  \n",
       "1               Mailed check           20.25           NaN  \n",
       "2               Mailed check           53.85        108.15  \n",
       "3               Mailed check           80.85           NaN  \n",
       "4           Electronic check           70.70        151.65  "
      ]
     },
     "metadata": {},
     "output_type": "display_data"
    },
    {
     "data": {
      "text/plain": [
       "'personal'"
      ]
     },
     "metadata": {},
     "output_type": "display_data"
    },
    {
     "data": {
      "text/html": [
       "<div>\n",
       "<style scoped>\n",
       "    .dataframe tbody tr th:only-of-type {\n",
       "        vertical-align: middle;\n",
       "    }\n",
       "\n",
       "    .dataframe tbody tr th {\n",
       "        vertical-align: top;\n",
       "    }\n",
       "\n",
       "    .dataframe thead th {\n",
       "        text-align: right;\n",
       "    }\n",
       "</style>\n",
       "<table border=\"1\" class=\"dataframe\">\n",
       "  <thead>\n",
       "    <tr style=\"text-align: right;\">\n",
       "      <th></th>\n",
       "      <th>customerID</th>\n",
       "      <th>gender</th>\n",
       "      <th>SeniorCitizen</th>\n",
       "      <th>Partner</th>\n",
       "      <th>Dependents</th>\n",
       "    </tr>\n",
       "  </thead>\n",
       "  <tbody>\n",
       "    <tr>\n",
       "      <th>0</th>\n",
       "      <td>7590-VHVEG</td>\n",
       "      <td>Female</td>\n",
       "      <td>0</td>\n",
       "      <td>Yes</td>\n",
       "      <td>No</td>\n",
       "    </tr>\n",
       "    <tr>\n",
       "      <th>1</th>\n",
       "      <td>5575-GNVDE</td>\n",
       "      <td>Male</td>\n",
       "      <td>0</td>\n",
       "      <td>No</td>\n",
       "      <td>No</td>\n",
       "    </tr>\n",
       "    <tr>\n",
       "      <th>2</th>\n",
       "      <td>3668-QPYBK</td>\n",
       "      <td>Male</td>\n",
       "      <td>0</td>\n",
       "      <td>No</td>\n",
       "      <td>No</td>\n",
       "    </tr>\n",
       "    <tr>\n",
       "      <th>3</th>\n",
       "      <td>7795-CFOCW</td>\n",
       "      <td>Male</td>\n",
       "      <td>0</td>\n",
       "      <td>No</td>\n",
       "      <td>No</td>\n",
       "    </tr>\n",
       "    <tr>\n",
       "      <th>4</th>\n",
       "      <td>9237-HQITU</td>\n",
       "      <td>Female</td>\n",
       "      <td>0</td>\n",
       "      <td>No</td>\n",
       "      <td>No</td>\n",
       "    </tr>\n",
       "  </tbody>\n",
       "</table>\n",
       "</div>"
      ],
      "text/plain": [
       "   customerID  gender  SeniorCitizen Partner Dependents\n",
       "0  7590-VHVEG  Female              0     Yes         No\n",
       "1  5575-GNVDE    Male              0      No         No\n",
       "2  3668-QPYBK    Male              0      No         No\n",
       "3  7795-CFOCW    Male              0      No         No\n",
       "4  9237-HQITU  Female              0      No         No"
      ]
     },
     "metadata": {},
     "output_type": "display_data"
    },
    {
     "data": {
      "text/plain": [
       "'internet'"
      ]
     },
     "metadata": {},
     "output_type": "display_data"
    },
    {
     "data": {
      "text/html": [
       "<div>\n",
       "<style scoped>\n",
       "    .dataframe tbody tr th:only-of-type {\n",
       "        vertical-align: middle;\n",
       "    }\n",
       "\n",
       "    .dataframe tbody tr th {\n",
       "        vertical-align: top;\n",
       "    }\n",
       "\n",
       "    .dataframe thead th {\n",
       "        text-align: right;\n",
       "    }\n",
       "</style>\n",
       "<table border=\"1\" class=\"dataframe\">\n",
       "  <thead>\n",
       "    <tr style=\"text-align: right;\">\n",
       "      <th></th>\n",
       "      <th>c1</th>\n",
       "      <th>c2</th>\n",
       "      <th>c3</th>\n",
       "      <th>c4</th>\n",
       "      <th>c5</th>\n",
       "      <th>c6</th>\n",
       "      <th>c7</th>\n",
       "      <th>c8</th>\n",
       "    </tr>\n",
       "  </thead>\n",
       "  <tbody>\n",
       "    <tr>\n",
       "      <th>0</th>\n",
       "      <td>customerID</td>\n",
       "      <td>InternetService</td>\n",
       "      <td>OnlineSecurity</td>\n",
       "      <td>OnlineBackup</td>\n",
       "      <td>DeviceProtection</td>\n",
       "      <td>TechSupport</td>\n",
       "      <td>StreamingTV</td>\n",
       "      <td>StreamingMovies</td>\n",
       "    </tr>\n",
       "    <tr>\n",
       "      <th>1</th>\n",
       "      <td>7590-VHVEG</td>\n",
       "      <td>DSL</td>\n",
       "      <td>No</td>\n",
       "      <td>Yes</td>\n",
       "      <td>No</td>\n",
       "      <td>No</td>\n",
       "      <td>No</td>\n",
       "      <td>No</td>\n",
       "    </tr>\n",
       "    <tr>\n",
       "      <th>2</th>\n",
       "      <td>5575-GNVDE</td>\n",
       "      <td>DSL</td>\n",
       "      <td>Yes</td>\n",
       "      <td>No</td>\n",
       "      <td>Yes</td>\n",
       "      <td>No</td>\n",
       "      <td>No</td>\n",
       "      <td>No</td>\n",
       "    </tr>\n",
       "    <tr>\n",
       "      <th>3</th>\n",
       "      <td>3668-QPYBK</td>\n",
       "      <td>DSL</td>\n",
       "      <td>Yes</td>\n",
       "      <td>Yes</td>\n",
       "      <td>No</td>\n",
       "      <td>No</td>\n",
       "      <td>No</td>\n",
       "      <td>No</td>\n",
       "    </tr>\n",
       "    <tr>\n",
       "      <th>4</th>\n",
       "      <td>7795-CFOCW</td>\n",
       "      <td>DSL</td>\n",
       "      <td>Yes</td>\n",
       "      <td>No</td>\n",
       "      <td>Yes</td>\n",
       "      <td>Yes</td>\n",
       "      <td>No</td>\n",
       "      <td>No</td>\n",
       "    </tr>\n",
       "  </tbody>\n",
       "</table>\n",
       "</div>"
      ],
      "text/plain": [
       "           c1               c2              c3            c4  \\\n",
       "0  customerID  InternetService  OnlineSecurity  OnlineBackup   \n",
       "1  7590-VHVEG              DSL              No           Yes   \n",
       "2  5575-GNVDE              DSL             Yes            No   \n",
       "3  3668-QPYBK              DSL             Yes           Yes   \n",
       "4  7795-CFOCW              DSL             Yes            No   \n",
       "\n",
       "                 c5           c6           c7               c8  \n",
       "0  DeviceProtection  TechSupport  StreamingTV  StreamingMovies  \n",
       "1                No           No           No               No  \n",
       "2               Yes           No           No               No  \n",
       "3                No           No           No               No  \n",
       "4               Yes          Yes           No               No  "
      ]
     },
     "metadata": {},
     "output_type": "display_data"
    },
    {
     "data": {
      "text/plain": [
       "'phone'"
      ]
     },
     "metadata": {},
     "output_type": "display_data"
    },
    {
     "data": {
      "text/html": [
       "<div>\n",
       "<style scoped>\n",
       "    .dataframe tbody tr th:only-of-type {\n",
       "        vertical-align: middle;\n",
       "    }\n",
       "\n",
       "    .dataframe tbody tr th {\n",
       "        vertical-align: top;\n",
       "    }\n",
       "\n",
       "    .dataframe thead th {\n",
       "        text-align: right;\n",
       "    }\n",
       "</style>\n",
       "<table border=\"1\" class=\"dataframe\">\n",
       "  <thead>\n",
       "    <tr style=\"text-align: right;\">\n",
       "      <th></th>\n",
       "      <th>c1</th>\n",
       "      <th>c2</th>\n",
       "    </tr>\n",
       "  </thead>\n",
       "  <tbody>\n",
       "    <tr>\n",
       "      <th>0</th>\n",
       "      <td>customerID</td>\n",
       "      <td>MultipleLines</td>\n",
       "    </tr>\n",
       "    <tr>\n",
       "      <th>1</th>\n",
       "      <td>5575-GNVDE</td>\n",
       "      <td>No</td>\n",
       "    </tr>\n",
       "    <tr>\n",
       "      <th>2</th>\n",
       "      <td>3668-QPYBK</td>\n",
       "      <td>No</td>\n",
       "    </tr>\n",
       "    <tr>\n",
       "      <th>3</th>\n",
       "      <td>9237-HQITU</td>\n",
       "      <td>No</td>\n",
       "    </tr>\n",
       "    <tr>\n",
       "      <th>4</th>\n",
       "      <td>9305-CDSKC</td>\n",
       "      <td>Yes</td>\n",
       "    </tr>\n",
       "  </tbody>\n",
       "</table>\n",
       "</div>"
      ],
      "text/plain": [
       "           c1             c2\n",
       "0  customerID  MultipleLines\n",
       "1  5575-GNVDE             No\n",
       "2  3668-QPYBK             No\n",
       "3  9237-HQITU             No\n",
       "4  9305-CDSKC            Yes"
      ]
     },
     "metadata": {},
     "output_type": "display_data"
    }
   ],
   "source": [
    "tables = ['contract', 'personal', 'internet', 'phone']\n",
    "for table in tables:\n",
    "    query = f'''\n",
    "            SELECT *\n",
    "            FROM telecom.{table}\n",
    "            LIMIT 5;\n",
    "         '''\n",
    "    display(table, pd.read_sql_query(query, con=engine))"
   ]
  },
  {
   "cell_type": "markdown",
   "id": "205ea6ae",
   "metadata": {},
   "source": [
    "Посмотрим на количество записей в таблицах:"
   ]
  },
  {
   "cell_type": "code",
   "execution_count": 6,
   "id": "aa67609d",
   "metadata": {},
   "outputs": [
    {
     "data": {
      "text/plain": [
       "'contract'"
      ]
     },
     "metadata": {},
     "output_type": "display_data"
    },
    {
     "data": {
      "text/html": [
       "<div>\n",
       "<style scoped>\n",
       "    .dataframe tbody tr th:only-of-type {\n",
       "        vertical-align: middle;\n",
       "    }\n",
       "\n",
       "    .dataframe tbody tr th {\n",
       "        vertical-align: top;\n",
       "    }\n",
       "\n",
       "    .dataframe thead th {\n",
       "        text-align: right;\n",
       "    }\n",
       "</style>\n",
       "<table border=\"1\" class=\"dataframe\">\n",
       "  <thead>\n",
       "    <tr style=\"text-align: right;\">\n",
       "      <th></th>\n",
       "      <th>count</th>\n",
       "    </tr>\n",
       "  </thead>\n",
       "  <tbody>\n",
       "    <tr>\n",
       "      <th>0</th>\n",
       "      <td>7043</td>\n",
       "    </tr>\n",
       "  </tbody>\n",
       "</table>\n",
       "</div>"
      ],
      "text/plain": [
       "   count\n",
       "0   7043"
      ]
     },
     "metadata": {},
     "output_type": "display_data"
    },
    {
     "data": {
      "text/plain": [
       "'personal'"
      ]
     },
     "metadata": {},
     "output_type": "display_data"
    },
    {
     "data": {
      "text/html": [
       "<div>\n",
       "<style scoped>\n",
       "    .dataframe tbody tr th:only-of-type {\n",
       "        vertical-align: middle;\n",
       "    }\n",
       "\n",
       "    .dataframe tbody tr th {\n",
       "        vertical-align: top;\n",
       "    }\n",
       "\n",
       "    .dataframe thead th {\n",
       "        text-align: right;\n",
       "    }\n",
       "</style>\n",
       "<table border=\"1\" class=\"dataframe\">\n",
       "  <thead>\n",
       "    <tr style=\"text-align: right;\">\n",
       "      <th></th>\n",
       "      <th>count</th>\n",
       "    </tr>\n",
       "  </thead>\n",
       "  <tbody>\n",
       "    <tr>\n",
       "      <th>0</th>\n",
       "      <td>7043</td>\n",
       "    </tr>\n",
       "  </tbody>\n",
       "</table>\n",
       "</div>"
      ],
      "text/plain": [
       "   count\n",
       "0   7043"
      ]
     },
     "metadata": {},
     "output_type": "display_data"
    },
    {
     "data": {
      "text/plain": [
       "'internet'"
      ]
     },
     "metadata": {},
     "output_type": "display_data"
    },
    {
     "data": {
      "text/html": [
       "<div>\n",
       "<style scoped>\n",
       "    .dataframe tbody tr th:only-of-type {\n",
       "        vertical-align: middle;\n",
       "    }\n",
       "\n",
       "    .dataframe tbody tr th {\n",
       "        vertical-align: top;\n",
       "    }\n",
       "\n",
       "    .dataframe thead th {\n",
       "        text-align: right;\n",
       "    }\n",
       "</style>\n",
       "<table border=\"1\" class=\"dataframe\">\n",
       "  <thead>\n",
       "    <tr style=\"text-align: right;\">\n",
       "      <th></th>\n",
       "      <th>count</th>\n",
       "    </tr>\n",
       "  </thead>\n",
       "  <tbody>\n",
       "    <tr>\n",
       "      <th>0</th>\n",
       "      <td>5518</td>\n",
       "    </tr>\n",
       "  </tbody>\n",
       "</table>\n",
       "</div>"
      ],
      "text/plain": [
       "   count\n",
       "0   5518"
      ]
     },
     "metadata": {},
     "output_type": "display_data"
    },
    {
     "data": {
      "text/plain": [
       "'phone'"
      ]
     },
     "metadata": {},
     "output_type": "display_data"
    },
    {
     "data": {
      "text/html": [
       "<div>\n",
       "<style scoped>\n",
       "    .dataframe tbody tr th:only-of-type {\n",
       "        vertical-align: middle;\n",
       "    }\n",
       "\n",
       "    .dataframe tbody tr th {\n",
       "        vertical-align: top;\n",
       "    }\n",
       "\n",
       "    .dataframe thead th {\n",
       "        text-align: right;\n",
       "    }\n",
       "</style>\n",
       "<table border=\"1\" class=\"dataframe\">\n",
       "  <thead>\n",
       "    <tr style=\"text-align: right;\">\n",
       "      <th></th>\n",
       "      <th>count</th>\n",
       "    </tr>\n",
       "  </thead>\n",
       "  <tbody>\n",
       "    <tr>\n",
       "      <th>0</th>\n",
       "      <td>6362</td>\n",
       "    </tr>\n",
       "  </tbody>\n",
       "</table>\n",
       "</div>"
      ],
      "text/plain": [
       "   count\n",
       "0   6362"
      ]
     },
     "metadata": {},
     "output_type": "display_data"
    }
   ],
   "source": [
    "tables = ['contract', 'personal', 'internet', 'phone']\n",
    "for table in tables:\n",
    "    query = f'''\n",
    "                SELECT COUNT(*)\n",
    "                FROM telecom.{table};\n",
    "             ''' \n",
    "    display(table, pd.read_sql_query(query, con=engine))"
   ]
  },
  {
   "cell_type": "markdown",
   "id": "362fe167",
   "metadata": {},
   "source": [
    "**Выводы:**\n",
    "\n",
    "В нашем распоряжении 4 таблицы, соответствующие условию задачи: \n",
    "- `contract` — содержит информацию о договоре, 7043 записи;\n",
    "- `personal` — содержит персональные данные клиента, 7043 записи;\n",
    "- `internet` — содержит информацию об интернет-услугах, 5518 записей (в т.ч. одна строка с заголовками);\n",
    "- `phone` — содержит информацию об услугах телефонии, 6362 записей (в т.ч. одна строка с заголовками).\n",
    "\n",
    "Все таблицы содержат информацию, которая может быть использовала при обучении моделей. Информация о договорах актуальна на 1 февраля 2020 года. Также у всех перечисленных таблиц есть общий ключ `customerID`.\n",
    "\n",
    "Согласно документации в таблицах имеются следующие колонки с данными:\n",
    "- **contract:**\n",
    "  - `customerID` - ID пользователя;\n",
    "  - `BeginDate` — дата начала действия договора;\n",
    "  - `EndDate` - дата окончания действия договора;\n",
    "  - `Type` - тип оплаты (раз в год или помесячно);\n",
    "  - `PaperlessBilling` - безбумажный расчётный лист;\n",
    "  - `PaymentMethod` - тип платежа;\n",
    "  - `MonthlyCharges` - расход за месяц;\n",
    "  - `TotalCharges` - общие расходы.\n",
    "- **personal:**\n",
    "  - `customerID` - ID пользователя;\n",
    "  - `gender` - пол;\n",
    "  - `SeniorCitizen` - является ли абонент пенсионером;\n",
    "  - `Partner` - есть ли у абонента супруг/супруга;\n",
    "  - `Dependents` - есть ли у абонента дети.\n",
    "- **internet:**\n",
    "  - `customerID` - ID пользователя;\n",
    "  - `InternetService` - тип подключения;\n",
    "  - `OnlineSecurity` - блокировка небезопасных сайтов;\n",
    "  - `OnlineBackup` - облачное хранилище файлов для резервного копирования данных;\n",
    "  - `DeviceProtection` - антивирус;\n",
    "  - `TechSupport` - выделенная линия технической поддержки;\n",
    "  - `StreamingTV` - стриминговое телевидение;\n",
    "  - `StreamingMovies` - каталог фильмов.\n",
    "- **phone:**\n",
    "  - `customerID` - ID пользователя;\n",
    "  - `MultipleLines` - подключение телефонного аппарата к нескольким линиям одновременно."
   ]
  },
  {
   "cell_type": "markdown",
   "id": "cf4225ef",
   "metadata": {},
   "source": [
    "## Предобработка данных"
   ]
  },
  {
   "cell_type": "markdown",
   "id": "86db08af",
   "metadata": {},
   "source": [
    "Объединим таблицы и выгрузим данные:"
   ]
  },
  {
   "cell_type": "code",
   "execution_count": 7,
   "id": "f5e957fa",
   "metadata": {},
   "outputs": [
    {
     "data": {
      "text/html": [
       "<div>\n",
       "<style scoped>\n",
       "    .dataframe tbody tr th:only-of-type {\n",
       "        vertical-align: middle;\n",
       "    }\n",
       "\n",
       "    .dataframe tbody tr th {\n",
       "        vertical-align: top;\n",
       "    }\n",
       "\n",
       "    .dataframe thead th {\n",
       "        text-align: right;\n",
       "    }\n",
       "</style>\n",
       "<table border=\"1\" class=\"dataframe\">\n",
       "  <thead>\n",
       "    <tr style=\"text-align: right;\">\n",
       "      <th></th>\n",
       "      <th>BeginDate</th>\n",
       "      <th>EndDate</th>\n",
       "      <th>Type</th>\n",
       "      <th>PaperlessBilling</th>\n",
       "      <th>PaymentMethod</th>\n",
       "      <th>MonthlyCharges</th>\n",
       "      <th>TotalCharges</th>\n",
       "      <th>gender</th>\n",
       "      <th>SeniorCitizen</th>\n",
       "      <th>Partner</th>\n",
       "      <th>Dependents</th>\n",
       "      <th>InternetService</th>\n",
       "      <th>OnlineSecurity</th>\n",
       "      <th>OnlineBackup</th>\n",
       "      <th>DeviceProtection</th>\n",
       "      <th>TechSupport</th>\n",
       "      <th>StreamingTV</th>\n",
       "      <th>StreamingMovies</th>\n",
       "      <th>MultipleLines</th>\n",
       "    </tr>\n",
       "    <tr>\n",
       "      <th>customerID</th>\n",
       "      <th></th>\n",
       "      <th></th>\n",
       "      <th></th>\n",
       "      <th></th>\n",
       "      <th></th>\n",
       "      <th></th>\n",
       "      <th></th>\n",
       "      <th></th>\n",
       "      <th></th>\n",
       "      <th></th>\n",
       "      <th></th>\n",
       "      <th></th>\n",
       "      <th></th>\n",
       "      <th></th>\n",
       "      <th></th>\n",
       "      <th></th>\n",
       "      <th></th>\n",
       "      <th></th>\n",
       "      <th></th>\n",
       "    </tr>\n",
       "  </thead>\n",
       "  <tbody>\n",
       "    <tr>\n",
       "      <th>4472-LVYGI</th>\n",
       "      <td>2020-02-01</td>\n",
       "      <td>NaT</td>\n",
       "      <td>Two year</td>\n",
       "      <td>Yes</td>\n",
       "      <td>Bank transfer (automatic)</td>\n",
       "      <td>52.55</td>\n",
       "      <td>NaN</td>\n",
       "      <td>Female</td>\n",
       "      <td>0</td>\n",
       "      <td>Yes</td>\n",
       "      <td>Yes</td>\n",
       "      <td>DSL</td>\n",
       "      <td>Yes</td>\n",
       "      <td>No</td>\n",
       "      <td>Yes</td>\n",
       "      <td>Yes</td>\n",
       "      <td>Yes</td>\n",
       "      <td>No</td>\n",
       "      <td>None</td>\n",
       "    </tr>\n",
       "    <tr>\n",
       "      <th>3115-CZMZD</th>\n",
       "      <td>2020-02-01</td>\n",
       "      <td>NaT</td>\n",
       "      <td>Two year</td>\n",
       "      <td>No</td>\n",
       "      <td>Mailed check</td>\n",
       "      <td>20.25</td>\n",
       "      <td>NaN</td>\n",
       "      <td>Male</td>\n",
       "      <td>0</td>\n",
       "      <td>No</td>\n",
       "      <td>Yes</td>\n",
       "      <td>None</td>\n",
       "      <td>None</td>\n",
       "      <td>None</td>\n",
       "      <td>None</td>\n",
       "      <td>None</td>\n",
       "      <td>None</td>\n",
       "      <td>None</td>\n",
       "      <td>No</td>\n",
       "    </tr>\n",
       "    <tr>\n",
       "      <th>3668-QPYBK</th>\n",
       "      <td>2018-08-09</td>\n",
       "      <td>2019-12-01</td>\n",
       "      <td>Month-to-month</td>\n",
       "      <td>Yes</td>\n",
       "      <td>Mailed check</td>\n",
       "      <td>53.85</td>\n",
       "      <td>108.15</td>\n",
       "      <td>Male</td>\n",
       "      <td>0</td>\n",
       "      <td>No</td>\n",
       "      <td>No</td>\n",
       "      <td>DSL</td>\n",
       "      <td>Yes</td>\n",
       "      <td>Yes</td>\n",
       "      <td>No</td>\n",
       "      <td>No</td>\n",
       "      <td>No</td>\n",
       "      <td>No</td>\n",
       "      <td>No</td>\n",
       "    </tr>\n",
       "    <tr>\n",
       "      <th>5709-LVOEQ</th>\n",
       "      <td>2020-02-01</td>\n",
       "      <td>NaT</td>\n",
       "      <td>Two year</td>\n",
       "      <td>No</td>\n",
       "      <td>Mailed check</td>\n",
       "      <td>80.85</td>\n",
       "      <td>NaN</td>\n",
       "      <td>Female</td>\n",
       "      <td>0</td>\n",
       "      <td>Yes</td>\n",
       "      <td>Yes</td>\n",
       "      <td>DSL</td>\n",
       "      <td>Yes</td>\n",
       "      <td>Yes</td>\n",
       "      <td>Yes</td>\n",
       "      <td>No</td>\n",
       "      <td>Yes</td>\n",
       "      <td>Yes</td>\n",
       "      <td>No</td>\n",
       "    </tr>\n",
       "    <tr>\n",
       "      <th>9237-HQITU</th>\n",
       "      <td>2019-01-26</td>\n",
       "      <td>2019-11-01</td>\n",
       "      <td>Month-to-month</td>\n",
       "      <td>Yes</td>\n",
       "      <td>Electronic check</td>\n",
       "      <td>70.70</td>\n",
       "      <td>151.65</td>\n",
       "      <td>Female</td>\n",
       "      <td>0</td>\n",
       "      <td>No</td>\n",
       "      <td>No</td>\n",
       "      <td>Fiber optic</td>\n",
       "      <td>No</td>\n",
       "      <td>No</td>\n",
       "      <td>No</td>\n",
       "      <td>No</td>\n",
       "      <td>No</td>\n",
       "      <td>No</td>\n",
       "      <td>No</td>\n",
       "    </tr>\n",
       "    <tr>\n",
       "      <th>1530-ZTDOZ</th>\n",
       "      <td>2019-03-04</td>\n",
       "      <td>NaT</td>\n",
       "      <td>Month-to-month</td>\n",
       "      <td>No</td>\n",
       "      <td>Bank transfer (automatic)</td>\n",
       "      <td>40.65</td>\n",
       "      <td>2070.75</td>\n",
       "      <td>Female</td>\n",
       "      <td>0</td>\n",
       "      <td>Yes</td>\n",
       "      <td>No</td>\n",
       "      <td>DSL</td>\n",
       "      <td>Yes</td>\n",
       "      <td>No</td>\n",
       "      <td>No</td>\n",
       "      <td>No</td>\n",
       "      <td>Yes</td>\n",
       "      <td>No</td>\n",
       "      <td>None</td>\n",
       "    </tr>\n",
       "    <tr>\n",
       "      <th>6894-LFHLY</th>\n",
       "      <td>2019-01-16</td>\n",
       "      <td>2019-11-01</td>\n",
       "      <td>Month-to-month</td>\n",
       "      <td>Yes</td>\n",
       "      <td>Electronic check</td>\n",
       "      <td>75.75</td>\n",
       "      <td>75.75</td>\n",
       "      <td>Male</td>\n",
       "      <td>1</td>\n",
       "      <td>No</td>\n",
       "      <td>No</td>\n",
       "      <td>Fiber optic</td>\n",
       "      <td>No</td>\n",
       "      <td>No</td>\n",
       "      <td>No</td>\n",
       "      <td>No</td>\n",
       "      <td>No</td>\n",
       "      <td>No</td>\n",
       "      <td>Yes</td>\n",
       "    </tr>\n",
       "    <tr>\n",
       "      <th>4488-PSYCG</th>\n",
       "      <td>2018-11-25</td>\n",
       "      <td>2019-10-01</td>\n",
       "      <td>Month-to-month</td>\n",
       "      <td>No</td>\n",
       "      <td>Bank transfer (automatic)</td>\n",
       "      <td>20.25</td>\n",
       "      <td>327.45</td>\n",
       "      <td>Male</td>\n",
       "      <td>0</td>\n",
       "      <td>No</td>\n",
       "      <td>No</td>\n",
       "      <td>None</td>\n",
       "      <td>None</td>\n",
       "      <td>None</td>\n",
       "      <td>None</td>\n",
       "      <td>None</td>\n",
       "      <td>None</td>\n",
       "      <td>None</td>\n",
       "      <td>No</td>\n",
       "    </tr>\n",
       "    <tr>\n",
       "      <th>8547-NSBBO</th>\n",
       "      <td>2019-05-27</td>\n",
       "      <td>NaT</td>\n",
       "      <td>Month-to-month</td>\n",
       "      <td>Yes</td>\n",
       "      <td>Mailed check</td>\n",
       "      <td>96.75</td>\n",
       "      <td>3403.40</td>\n",
       "      <td>Male</td>\n",
       "      <td>0</td>\n",
       "      <td>No</td>\n",
       "      <td>No</td>\n",
       "      <td>Fiber optic</td>\n",
       "      <td>Yes</td>\n",
       "      <td>Yes</td>\n",
       "      <td>Yes</td>\n",
       "      <td>Yes</td>\n",
       "      <td>No</td>\n",
       "      <td>No</td>\n",
       "      <td>Yes</td>\n",
       "    </tr>\n",
       "    <tr>\n",
       "      <th>3755-JBMNH</th>\n",
       "      <td>2018-12-14</td>\n",
       "      <td>2020-01-01</td>\n",
       "      <td>Month-to-month</td>\n",
       "      <td>Yes</td>\n",
       "      <td>Bank transfer (automatic)</td>\n",
       "      <td>71.80</td>\n",
       "      <td>1167.80</td>\n",
       "      <td>Male</td>\n",
       "      <td>1</td>\n",
       "      <td>Yes</td>\n",
       "      <td>No</td>\n",
       "      <td>Fiber optic</td>\n",
       "      <td>No</td>\n",
       "      <td>No</td>\n",
       "      <td>No</td>\n",
       "      <td>No</td>\n",
       "      <td>No</td>\n",
       "      <td>No</td>\n",
       "      <td>No</td>\n",
       "    </tr>\n",
       "    <tr>\n",
       "      <th>2569-WGERO</th>\n",
       "      <td>2019-01-21</td>\n",
       "      <td>NaT</td>\n",
       "      <td>Two year</td>\n",
       "      <td>Yes</td>\n",
       "      <td>Bank transfer (automatic)</td>\n",
       "      <td>21.15</td>\n",
       "      <td>1419.40</td>\n",
       "      <td>Female</td>\n",
       "      <td>0</td>\n",
       "      <td>No</td>\n",
       "      <td>No</td>\n",
       "      <td>None</td>\n",
       "      <td>None</td>\n",
       "      <td>None</td>\n",
       "      <td>None</td>\n",
       "      <td>None</td>\n",
       "      <td>None</td>\n",
       "      <td>None</td>\n",
       "      <td>No</td>\n",
       "    </tr>\n",
       "    <tr>\n",
       "      <th>6840-RESVB</th>\n",
       "      <td>2019-02-26</td>\n",
       "      <td>NaT</td>\n",
       "      <td>One year</td>\n",
       "      <td>Yes</td>\n",
       "      <td>Mailed check</td>\n",
       "      <td>84.80</td>\n",
       "      <td>1990.50</td>\n",
       "      <td>Male</td>\n",
       "      <td>0</td>\n",
       "      <td>Yes</td>\n",
       "      <td>Yes</td>\n",
       "      <td>DSL</td>\n",
       "      <td>Yes</td>\n",
       "      <td>No</td>\n",
       "      <td>Yes</td>\n",
       "      <td>Yes</td>\n",
       "      <td>Yes</td>\n",
       "      <td>Yes</td>\n",
       "      <td>Yes</td>\n",
       "    </tr>\n",
       "    <tr>\n",
       "      <th>2234-XADUH</th>\n",
       "      <td>2019-09-02</td>\n",
       "      <td>NaT</td>\n",
       "      <td>One year</td>\n",
       "      <td>Yes</td>\n",
       "      <td>Credit card (automatic)</td>\n",
       "      <td>103.20</td>\n",
       "      <td>7362.90</td>\n",
       "      <td>Female</td>\n",
       "      <td>0</td>\n",
       "      <td>Yes</td>\n",
       "      <td>Yes</td>\n",
       "      <td>Fiber optic</td>\n",
       "      <td>No</td>\n",
       "      <td>Yes</td>\n",
       "      <td>Yes</td>\n",
       "      <td>No</td>\n",
       "      <td>Yes</td>\n",
       "      <td>Yes</td>\n",
       "      <td>Yes</td>\n",
       "    </tr>\n",
       "    <tr>\n",
       "      <th>4801-JZAZL</th>\n",
       "      <td>2019-06-26</td>\n",
       "      <td>NaT</td>\n",
       "      <td>Month-to-month</td>\n",
       "      <td>Yes</td>\n",
       "      <td>Electronic check</td>\n",
       "      <td>29.60</td>\n",
       "      <td>346.45</td>\n",
       "      <td>Female</td>\n",
       "      <td>0</td>\n",
       "      <td>Yes</td>\n",
       "      <td>Yes</td>\n",
       "      <td>DSL</td>\n",
       "      <td>Yes</td>\n",
       "      <td>No</td>\n",
       "      <td>No</td>\n",
       "      <td>No</td>\n",
       "      <td>No</td>\n",
       "      <td>No</td>\n",
       "      <td>None</td>\n",
       "    </tr>\n",
       "    <tr>\n",
       "      <th>3186-AJIEK</th>\n",
       "      <td>2019-04-18</td>\n",
       "      <td>NaT</td>\n",
       "      <td>Two year</td>\n",
       "      <td>Yes</td>\n",
       "      <td>Bank transfer (automatic)</td>\n",
       "      <td>105.65</td>\n",
       "      <td>6844.50</td>\n",
       "      <td>Male</td>\n",
       "      <td>0</td>\n",
       "      <td>No</td>\n",
       "      <td>No</td>\n",
       "      <td>Fiber optic</td>\n",
       "      <td>Yes</td>\n",
       "      <td>No</td>\n",
       "      <td>Yes</td>\n",
       "      <td>Yes</td>\n",
       "      <td>Yes</td>\n",
       "      <td>Yes</td>\n",
       "      <td>No</td>\n",
       "    </tr>\n",
       "  </tbody>\n",
       "</table>\n",
       "</div>"
      ],
      "text/plain": [
       "            BeginDate    EndDate            Type PaperlessBilling  \\\n",
       "customerID                                                          \n",
       "4472-LVYGI 2020-02-01        NaT        Two year              Yes   \n",
       "3115-CZMZD 2020-02-01        NaT        Two year               No   \n",
       "3668-QPYBK 2018-08-09 2019-12-01  Month-to-month              Yes   \n",
       "5709-LVOEQ 2020-02-01        NaT        Two year               No   \n",
       "9237-HQITU 2019-01-26 2019-11-01  Month-to-month              Yes   \n",
       "1530-ZTDOZ 2019-03-04        NaT  Month-to-month               No   \n",
       "6894-LFHLY 2019-01-16 2019-11-01  Month-to-month              Yes   \n",
       "4488-PSYCG 2018-11-25 2019-10-01  Month-to-month               No   \n",
       "8547-NSBBO 2019-05-27        NaT  Month-to-month              Yes   \n",
       "3755-JBMNH 2018-12-14 2020-01-01  Month-to-month              Yes   \n",
       "2569-WGERO 2019-01-21        NaT        Two year              Yes   \n",
       "6840-RESVB 2019-02-26        NaT        One year              Yes   \n",
       "2234-XADUH 2019-09-02        NaT        One year              Yes   \n",
       "4801-JZAZL 2019-06-26        NaT  Month-to-month              Yes   \n",
       "3186-AJIEK 2019-04-18        NaT        Two year              Yes   \n",
       "\n",
       "                        PaymentMethod  MonthlyCharges  TotalCharges  gender  \\\n",
       "customerID                                                                    \n",
       "4472-LVYGI  Bank transfer (automatic)           52.55           NaN  Female   \n",
       "3115-CZMZD               Mailed check           20.25           NaN    Male   \n",
       "3668-QPYBK               Mailed check           53.85        108.15    Male   \n",
       "5709-LVOEQ               Mailed check           80.85           NaN  Female   \n",
       "9237-HQITU           Electronic check           70.70        151.65  Female   \n",
       "1530-ZTDOZ  Bank transfer (automatic)           40.65       2070.75  Female   \n",
       "6894-LFHLY           Electronic check           75.75         75.75    Male   \n",
       "4488-PSYCG  Bank transfer (automatic)           20.25        327.45    Male   \n",
       "8547-NSBBO               Mailed check           96.75       3403.40    Male   \n",
       "3755-JBMNH  Bank transfer (automatic)           71.80       1167.80    Male   \n",
       "2569-WGERO  Bank transfer (automatic)           21.15       1419.40  Female   \n",
       "6840-RESVB               Mailed check           84.80       1990.50    Male   \n",
       "2234-XADUH    Credit card (automatic)          103.20       7362.90  Female   \n",
       "4801-JZAZL           Electronic check           29.60        346.45  Female   \n",
       "3186-AJIEK  Bank transfer (automatic)          105.65       6844.50    Male   \n",
       "\n",
       "            SeniorCitizen Partner Dependents InternetService OnlineSecurity  \\\n",
       "customerID                                                                    \n",
       "4472-LVYGI              0     Yes        Yes             DSL            Yes   \n",
       "3115-CZMZD              0      No        Yes            None           None   \n",
       "3668-QPYBK              0      No         No             DSL            Yes   \n",
       "5709-LVOEQ              0     Yes        Yes             DSL            Yes   \n",
       "9237-HQITU              0      No         No     Fiber optic             No   \n",
       "1530-ZTDOZ              0     Yes         No             DSL            Yes   \n",
       "6894-LFHLY              1      No         No     Fiber optic             No   \n",
       "4488-PSYCG              0      No         No            None           None   \n",
       "8547-NSBBO              0      No         No     Fiber optic            Yes   \n",
       "3755-JBMNH              1     Yes         No     Fiber optic             No   \n",
       "2569-WGERO              0      No         No            None           None   \n",
       "6840-RESVB              0     Yes        Yes             DSL            Yes   \n",
       "2234-XADUH              0     Yes        Yes     Fiber optic             No   \n",
       "4801-JZAZL              0     Yes        Yes             DSL            Yes   \n",
       "3186-AJIEK              0      No         No     Fiber optic            Yes   \n",
       "\n",
       "           OnlineBackup DeviceProtection TechSupport StreamingTV  \\\n",
       "customerID                                                         \n",
       "4472-LVYGI           No              Yes         Yes         Yes   \n",
       "3115-CZMZD         None             None        None        None   \n",
       "3668-QPYBK          Yes               No          No          No   \n",
       "5709-LVOEQ          Yes              Yes          No         Yes   \n",
       "9237-HQITU           No               No          No          No   \n",
       "1530-ZTDOZ           No               No          No         Yes   \n",
       "6894-LFHLY           No               No          No          No   \n",
       "4488-PSYCG         None             None        None        None   \n",
       "8547-NSBBO          Yes              Yes         Yes          No   \n",
       "3755-JBMNH           No               No          No          No   \n",
       "2569-WGERO         None             None        None        None   \n",
       "6840-RESVB           No              Yes         Yes         Yes   \n",
       "2234-XADUH          Yes              Yes          No         Yes   \n",
       "4801-JZAZL           No               No          No          No   \n",
       "3186-AJIEK           No              Yes         Yes         Yes   \n",
       "\n",
       "           StreamingMovies MultipleLines  \n",
       "customerID                                \n",
       "4472-LVYGI              No          None  \n",
       "3115-CZMZD            None            No  \n",
       "3668-QPYBK              No            No  \n",
       "5709-LVOEQ             Yes            No  \n",
       "9237-HQITU              No            No  \n",
       "1530-ZTDOZ              No          None  \n",
       "6894-LFHLY              No           Yes  \n",
       "4488-PSYCG            None            No  \n",
       "8547-NSBBO              No           Yes  \n",
       "3755-JBMNH              No            No  \n",
       "2569-WGERO            None            No  \n",
       "6840-RESVB             Yes           Yes  \n",
       "2234-XADUH             Yes           Yes  \n",
       "4801-JZAZL              No          None  \n",
       "3186-AJIEK             Yes            No  "
      ]
     },
     "metadata": {},
     "output_type": "display_data"
    },
    {
     "data": {
      "text/html": [
       "<div>\n",
       "<style scoped>\n",
       "    .dataframe tbody tr th:only-of-type {\n",
       "        vertical-align: middle;\n",
       "    }\n",
       "\n",
       "    .dataframe tbody tr th {\n",
       "        vertical-align: top;\n",
       "    }\n",
       "\n",
       "    .dataframe thead th {\n",
       "        text-align: right;\n",
       "    }\n",
       "</style>\n",
       "<table border=\"1\" class=\"dataframe\">\n",
       "  <thead>\n",
       "    <tr style=\"text-align: right;\">\n",
       "      <th></th>\n",
       "      <th>count</th>\n",
       "      <th>mean</th>\n",
       "      <th>std</th>\n",
       "      <th>min</th>\n",
       "      <th>25%</th>\n",
       "      <th>50%</th>\n",
       "      <th>75%</th>\n",
       "      <th>max</th>\n",
       "    </tr>\n",
       "  </thead>\n",
       "  <tbody>\n",
       "    <tr>\n",
       "      <th>MonthlyCharges</th>\n",
       "      <td>7043.0</td>\n",
       "      <td>64.761692</td>\n",
       "      <td>30.090047</td>\n",
       "      <td>18.25</td>\n",
       "      <td>35.50</td>\n",
       "      <td>70.350</td>\n",
       "      <td>89.8500</td>\n",
       "      <td>118.75</td>\n",
       "    </tr>\n",
       "    <tr>\n",
       "      <th>TotalCharges</th>\n",
       "      <td>7032.0</td>\n",
       "      <td>2283.300441</td>\n",
       "      <td>2266.771362</td>\n",
       "      <td>18.80</td>\n",
       "      <td>401.45</td>\n",
       "      <td>1397.475</td>\n",
       "      <td>3794.7375</td>\n",
       "      <td>8684.80</td>\n",
       "    </tr>\n",
       "    <tr>\n",
       "      <th>SeniorCitizen</th>\n",
       "      <td>7043.0</td>\n",
       "      <td>0.162147</td>\n",
       "      <td>0.368612</td>\n",
       "      <td>0.00</td>\n",
       "      <td>0.00</td>\n",
       "      <td>0.000</td>\n",
       "      <td>0.0000</td>\n",
       "      <td>1.00</td>\n",
       "    </tr>\n",
       "  </tbody>\n",
       "</table>\n",
       "</div>"
      ],
      "text/plain": [
       "                 count         mean          std    min     25%       50%  \\\n",
       "MonthlyCharges  7043.0    64.761692    30.090047  18.25   35.50    70.350   \n",
       "TotalCharges    7032.0  2283.300441  2266.771362  18.80  401.45  1397.475   \n",
       "SeniorCitizen   7043.0     0.162147     0.368612   0.00    0.00     0.000   \n",
       "\n",
       "                      75%      max  \n",
       "MonthlyCharges    89.8500   118.75  \n",
       "TotalCharges    3794.7375  8684.80  \n",
       "SeniorCitizen      0.0000     1.00  "
      ]
     },
     "metadata": {},
     "output_type": "display_data"
    },
    {
     "name": "stdout",
     "output_type": "stream",
     "text": [
      "<class 'pandas.core.frame.DataFrame'>\n",
      "Index: 7043 entries, 4472-LVYGI to 3186-AJIEK\n",
      "Data columns (total 19 columns):\n",
      " #   Column            Non-Null Count  Dtype         \n",
      "---  ------            --------------  -----         \n",
      " 0   BeginDate         7043 non-null   datetime64[ns]\n",
      " 1   EndDate           1869 non-null   datetime64[ns]\n",
      " 2   Type              7043 non-null   object        \n",
      " 3   PaperlessBilling  7043 non-null   object        \n",
      " 4   PaymentMethod     7043 non-null   object        \n",
      " 5   MonthlyCharges    7043 non-null   float64       \n",
      " 6   TotalCharges      7032 non-null   float64       \n",
      " 7   gender            7043 non-null   object        \n",
      " 8   SeniorCitizen     7043 non-null   int64         \n",
      " 9   Partner           7043 non-null   object        \n",
      " 10  Dependents        7043 non-null   object        \n",
      " 11  InternetService   5517 non-null   object        \n",
      " 12  OnlineSecurity    5517 non-null   object        \n",
      " 13  OnlineBackup      5517 non-null   object        \n",
      " 14  DeviceProtection  5517 non-null   object        \n",
      " 15  TechSupport       5517 non-null   object        \n",
      " 16  StreamingTV       5517 non-null   object        \n",
      " 17  StreamingMovies   5517 non-null   object        \n",
      " 18  MultipleLines     6361 non-null   object        \n",
      "dtypes: datetime64[ns](2), float64(2), int64(1), object(14)\n",
      "memory usage: 1.1+ MB\n"
     ]
    }
   ],
   "source": [
    "query = '''\n",
    "           SELECT c.\"customerID\",\n",
    "                  \"BeginDate\",\n",
    "                  \"EndDate\",\n",
    "                  \"Type\",\n",
    "                  \"PaperlessBilling\",\n",
    "                  \"PaymentMethod\",\n",
    "                  \"MonthlyCharges\",\n",
    "                  \"TotalCharges\",\n",
    "                  gender,\n",
    "                  \"SeniorCitizen\",\n",
    "                  \"Partner\",\n",
    "                  \"Dependents\",\n",
    "                  i.c2 AS \"InternetService\",\n",
    "                  c3 AS \"OnlineSecurity\",\n",
    "                  c4 AS \"OnlineBackup\",\n",
    "                  c5 AS \"DeviceProtection\",\n",
    "                  c6 AS \"TechSupport\",\n",
    "                  c7 AS \"StreamingTV\",\n",
    "                  c8 AS \"StreamingMovies\",\n",
    "                  ph.c2 AS \"MultipleLines\"\n",
    "           FROM telecom.contract as c\n",
    "           LEFT JOIN telecom.personal AS p\n",
    "                  ON c.\"customerID\" = p.\"customerID\"\n",
    "           LEFT JOIN telecom.internet AS i\n",
    "                  ON c.\"customerID\" = i.c1\n",
    "           LEFT JOIN telecom.phone as ph\n",
    "                  ON c.\"customerID\" = ph.c1;\n",
    "        '''\n",
    "\n",
    "df = pd.read_sql_query(query,\n",
    "                        con=engine,\n",
    "                        index_col='customerID',\n",
    "                        parse_dates=['BeginDate', 'EndDate']\n",
    "                        )\n",
    "\n",
    "def total_view(df: pd.DataFrame, n_rows=5, seed=None):\n",
    "    '''Возвращает первые, случайные и последние строки таблицы (по умолчанию по 5 строк)'''\n",
    "    return display(pd.concat([\n",
    "                              df.head(n_rows),\n",
    "                              df.sample(n_rows, random_state=seed),\n",
    "                              df.tail(n_rows)\n",
    "                             ]))\n",
    "\n",
    "total_view(df)\n",
    "display(df.describe().T)\n",
    "df.info()"
   ]
  },
  {
   "cell_type": "code",
   "execution_count": 8,
   "id": "4ffaf000",
   "metadata": {},
   "outputs": [
    {
     "data": {
      "text/plain": [
       "0"
      ]
     },
     "execution_count": 8,
     "metadata": {},
     "output_type": "execute_result"
    }
   ],
   "source": [
    "df.duplicated().sum()"
   ]
  },
  {
   "cell_type": "markdown",
   "id": "4b00df61",
   "metadata": {},
   "source": [
    "- типы данных в колонках соответствуют содержащимся в них типам данных;\n",
    "- если сопоставить количество прошедших месяцев, размер расходов за месяц и общие расходы (`TotalCharges`), то видно, что данные в колонке `TotalCharges` не соответствуют действительности;\n",
    "- в `EndDate` пропущенные значения соответствуют контрактам, действующим на дату выгрузки, на основе этой информации можно выделить целевую переменную;\n",
    "- пропуски в других колонках объясняются возможностью использования услуг на выбор абонента;\n",
    "- названия колонок записаны в стиле CamelCase;\n",
    "- дубликаты отсутствуют."
   ]
  },
  {
   "cell_type": "markdown",
   "id": "c1f8cc45",
   "metadata": {},
   "source": [
    "Приведем названия колонок к змеиному стилю:"
   ]
  },
  {
   "cell_type": "code",
   "execution_count": 9,
   "id": "42d8da9d",
   "metadata": {},
   "outputs": [],
   "source": [
    "df.columns = ['begin_date', 'end_date', 'type', 'paperless_billing', 'payment_method', 'monthly_charges',\n",
    "              'total_charges', 'gender', 'senior_citizen', 'partner', 'dependents', 'internet_service',\n",
    "              'online_security', 'online_backup', 'device_protection', 'tech_support', 'streaming_tv',\n",
    "              'streaming_movies', 'multiple_lines']"
   ]
  },
  {
   "cell_type": "markdown",
   "id": "2441708b",
   "metadata": {},
   "source": [
    "Посмотрим на строки с пропусками в `total_charges`:"
   ]
  },
  {
   "cell_type": "code",
   "execution_count": 10,
   "id": "7144e02a",
   "metadata": {},
   "outputs": [
    {
     "data": {
      "text/html": [
       "<div>\n",
       "<style scoped>\n",
       "    .dataframe tbody tr th:only-of-type {\n",
       "        vertical-align: middle;\n",
       "    }\n",
       "\n",
       "    .dataframe tbody tr th {\n",
       "        vertical-align: top;\n",
       "    }\n",
       "\n",
       "    .dataframe thead th {\n",
       "        text-align: right;\n",
       "    }\n",
       "</style>\n",
       "<table border=\"1\" class=\"dataframe\">\n",
       "  <thead>\n",
       "    <tr style=\"text-align: right;\">\n",
       "      <th></th>\n",
       "      <th>begin_date</th>\n",
       "      <th>end_date</th>\n",
       "      <th>type</th>\n",
       "      <th>paperless_billing</th>\n",
       "      <th>payment_method</th>\n",
       "      <th>monthly_charges</th>\n",
       "      <th>total_charges</th>\n",
       "      <th>gender</th>\n",
       "      <th>senior_citizen</th>\n",
       "      <th>partner</th>\n",
       "      <th>dependents</th>\n",
       "      <th>internet_service</th>\n",
       "      <th>online_security</th>\n",
       "      <th>online_backup</th>\n",
       "      <th>device_protection</th>\n",
       "      <th>tech_support</th>\n",
       "      <th>streaming_tv</th>\n",
       "      <th>streaming_movies</th>\n",
       "      <th>multiple_lines</th>\n",
       "    </tr>\n",
       "    <tr>\n",
       "      <th>customerID</th>\n",
       "      <th></th>\n",
       "      <th></th>\n",
       "      <th></th>\n",
       "      <th></th>\n",
       "      <th></th>\n",
       "      <th></th>\n",
       "      <th></th>\n",
       "      <th></th>\n",
       "      <th></th>\n",
       "      <th></th>\n",
       "      <th></th>\n",
       "      <th></th>\n",
       "      <th></th>\n",
       "      <th></th>\n",
       "      <th></th>\n",
       "      <th></th>\n",
       "      <th></th>\n",
       "      <th></th>\n",
       "      <th></th>\n",
       "    </tr>\n",
       "  </thead>\n",
       "  <tbody>\n",
       "    <tr>\n",
       "      <th>4472-LVYGI</th>\n",
       "      <td>2020-02-01</td>\n",
       "      <td>NaT</td>\n",
       "      <td>Two year</td>\n",
       "      <td>Yes</td>\n",
       "      <td>Bank transfer (automatic)</td>\n",
       "      <td>52.55</td>\n",
       "      <td>NaN</td>\n",
       "      <td>Female</td>\n",
       "      <td>0</td>\n",
       "      <td>Yes</td>\n",
       "      <td>Yes</td>\n",
       "      <td>DSL</td>\n",
       "      <td>Yes</td>\n",
       "      <td>No</td>\n",
       "      <td>Yes</td>\n",
       "      <td>Yes</td>\n",
       "      <td>Yes</td>\n",
       "      <td>No</td>\n",
       "      <td>None</td>\n",
       "    </tr>\n",
       "    <tr>\n",
       "      <th>3115-CZMZD</th>\n",
       "      <td>2020-02-01</td>\n",
       "      <td>NaT</td>\n",
       "      <td>Two year</td>\n",
       "      <td>No</td>\n",
       "      <td>Mailed check</td>\n",
       "      <td>20.25</td>\n",
       "      <td>NaN</td>\n",
       "      <td>Male</td>\n",
       "      <td>0</td>\n",
       "      <td>No</td>\n",
       "      <td>Yes</td>\n",
       "      <td>None</td>\n",
       "      <td>None</td>\n",
       "      <td>None</td>\n",
       "      <td>None</td>\n",
       "      <td>None</td>\n",
       "      <td>None</td>\n",
       "      <td>None</td>\n",
       "      <td>No</td>\n",
       "    </tr>\n",
       "    <tr>\n",
       "      <th>5709-LVOEQ</th>\n",
       "      <td>2020-02-01</td>\n",
       "      <td>NaT</td>\n",
       "      <td>Two year</td>\n",
       "      <td>No</td>\n",
       "      <td>Mailed check</td>\n",
       "      <td>80.85</td>\n",
       "      <td>NaN</td>\n",
       "      <td>Female</td>\n",
       "      <td>0</td>\n",
       "      <td>Yes</td>\n",
       "      <td>Yes</td>\n",
       "      <td>DSL</td>\n",
       "      <td>Yes</td>\n",
       "      <td>Yes</td>\n",
       "      <td>Yes</td>\n",
       "      <td>No</td>\n",
       "      <td>Yes</td>\n",
       "      <td>Yes</td>\n",
       "      <td>No</td>\n",
       "    </tr>\n",
       "    <tr>\n",
       "      <th>4367-NUYAO</th>\n",
       "      <td>2020-02-01</td>\n",
       "      <td>NaT</td>\n",
       "      <td>Two year</td>\n",
       "      <td>No</td>\n",
       "      <td>Mailed check</td>\n",
       "      <td>25.75</td>\n",
       "      <td>NaN</td>\n",
       "      <td>Male</td>\n",
       "      <td>0</td>\n",
       "      <td>Yes</td>\n",
       "      <td>Yes</td>\n",
       "      <td>None</td>\n",
       "      <td>None</td>\n",
       "      <td>None</td>\n",
       "      <td>None</td>\n",
       "      <td>None</td>\n",
       "      <td>None</td>\n",
       "      <td>None</td>\n",
       "      <td>Yes</td>\n",
       "    </tr>\n",
       "    <tr>\n",
       "      <th>1371-DWPAZ</th>\n",
       "      <td>2020-02-01</td>\n",
       "      <td>NaT</td>\n",
       "      <td>Two year</td>\n",
       "      <td>No</td>\n",
       "      <td>Credit card (automatic)</td>\n",
       "      <td>56.05</td>\n",
       "      <td>NaN</td>\n",
       "      <td>Female</td>\n",
       "      <td>0</td>\n",
       "      <td>Yes</td>\n",
       "      <td>Yes</td>\n",
       "      <td>DSL</td>\n",
       "      <td>Yes</td>\n",
       "      <td>Yes</td>\n",
       "      <td>Yes</td>\n",
       "      <td>Yes</td>\n",
       "      <td>Yes</td>\n",
       "      <td>No</td>\n",
       "      <td>None</td>\n",
       "    </tr>\n",
       "    <tr>\n",
       "      <th>3213-VVOLG</th>\n",
       "      <td>2020-02-01</td>\n",
       "      <td>NaT</td>\n",
       "      <td>Two year</td>\n",
       "      <td>No</td>\n",
       "      <td>Mailed check</td>\n",
       "      <td>25.35</td>\n",
       "      <td>NaN</td>\n",
       "      <td>Male</td>\n",
       "      <td>0</td>\n",
       "      <td>Yes</td>\n",
       "      <td>Yes</td>\n",
       "      <td>None</td>\n",
       "      <td>None</td>\n",
       "      <td>None</td>\n",
       "      <td>None</td>\n",
       "      <td>None</td>\n",
       "      <td>None</td>\n",
       "      <td>None</td>\n",
       "      <td>Yes</td>\n",
       "    </tr>\n",
       "    <tr>\n",
       "      <th>2923-ARZLG</th>\n",
       "      <td>2020-02-01</td>\n",
       "      <td>NaT</td>\n",
       "      <td>One year</td>\n",
       "      <td>Yes</td>\n",
       "      <td>Mailed check</td>\n",
       "      <td>19.70</td>\n",
       "      <td>NaN</td>\n",
       "      <td>Male</td>\n",
       "      <td>0</td>\n",
       "      <td>Yes</td>\n",
       "      <td>Yes</td>\n",
       "      <td>None</td>\n",
       "      <td>None</td>\n",
       "      <td>None</td>\n",
       "      <td>None</td>\n",
       "      <td>None</td>\n",
       "      <td>None</td>\n",
       "      <td>None</td>\n",
       "      <td>No</td>\n",
       "    </tr>\n",
       "    <tr>\n",
       "      <th>2775-SEFEE</th>\n",
       "      <td>2020-02-01</td>\n",
       "      <td>NaT</td>\n",
       "      <td>Two year</td>\n",
       "      <td>Yes</td>\n",
       "      <td>Bank transfer (automatic)</td>\n",
       "      <td>61.90</td>\n",
       "      <td>NaN</td>\n",
       "      <td>Male</td>\n",
       "      <td>0</td>\n",
       "      <td>No</td>\n",
       "      <td>Yes</td>\n",
       "      <td>DSL</td>\n",
       "      <td>Yes</td>\n",
       "      <td>Yes</td>\n",
       "      <td>No</td>\n",
       "      <td>Yes</td>\n",
       "      <td>No</td>\n",
       "      <td>No</td>\n",
       "      <td>Yes</td>\n",
       "    </tr>\n",
       "    <tr>\n",
       "      <th>7644-OMVMY</th>\n",
       "      <td>2020-02-01</td>\n",
       "      <td>NaT</td>\n",
       "      <td>Two year</td>\n",
       "      <td>No</td>\n",
       "      <td>Mailed check</td>\n",
       "      <td>19.85</td>\n",
       "      <td>NaN</td>\n",
       "      <td>Male</td>\n",
       "      <td>0</td>\n",
       "      <td>Yes</td>\n",
       "      <td>Yes</td>\n",
       "      <td>None</td>\n",
       "      <td>None</td>\n",
       "      <td>None</td>\n",
       "      <td>None</td>\n",
       "      <td>None</td>\n",
       "      <td>None</td>\n",
       "      <td>None</td>\n",
       "      <td>No</td>\n",
       "    </tr>\n",
       "    <tr>\n",
       "      <th>2520-SGTTA</th>\n",
       "      <td>2020-02-01</td>\n",
       "      <td>NaT</td>\n",
       "      <td>Two year</td>\n",
       "      <td>No</td>\n",
       "      <td>Mailed check</td>\n",
       "      <td>20.00</td>\n",
       "      <td>NaN</td>\n",
       "      <td>Female</td>\n",
       "      <td>0</td>\n",
       "      <td>Yes</td>\n",
       "      <td>Yes</td>\n",
       "      <td>None</td>\n",
       "      <td>None</td>\n",
       "      <td>None</td>\n",
       "      <td>None</td>\n",
       "      <td>None</td>\n",
       "      <td>None</td>\n",
       "      <td>None</td>\n",
       "      <td>No</td>\n",
       "    </tr>\n",
       "    <tr>\n",
       "      <th>4075-WKNIU</th>\n",
       "      <td>2020-02-01</td>\n",
       "      <td>NaT</td>\n",
       "      <td>Two year</td>\n",
       "      <td>No</td>\n",
       "      <td>Mailed check</td>\n",
       "      <td>73.35</td>\n",
       "      <td>NaN</td>\n",
       "      <td>Female</td>\n",
       "      <td>0</td>\n",
       "      <td>Yes</td>\n",
       "      <td>Yes</td>\n",
       "      <td>DSL</td>\n",
       "      <td>No</td>\n",
       "      <td>Yes</td>\n",
       "      <td>Yes</td>\n",
       "      <td>Yes</td>\n",
       "      <td>Yes</td>\n",
       "      <td>No</td>\n",
       "      <td>Yes</td>\n",
       "    </tr>\n",
       "  </tbody>\n",
       "</table>\n",
       "</div>"
      ],
      "text/plain": [
       "           begin_date end_date      type paperless_billing  \\\n",
       "customerID                                                   \n",
       "4472-LVYGI 2020-02-01      NaT  Two year               Yes   \n",
       "3115-CZMZD 2020-02-01      NaT  Two year                No   \n",
       "5709-LVOEQ 2020-02-01      NaT  Two year                No   \n",
       "4367-NUYAO 2020-02-01      NaT  Two year                No   \n",
       "1371-DWPAZ 2020-02-01      NaT  Two year                No   \n",
       "3213-VVOLG 2020-02-01      NaT  Two year                No   \n",
       "2923-ARZLG 2020-02-01      NaT  One year               Yes   \n",
       "2775-SEFEE 2020-02-01      NaT  Two year               Yes   \n",
       "7644-OMVMY 2020-02-01      NaT  Two year                No   \n",
       "2520-SGTTA 2020-02-01      NaT  Two year                No   \n",
       "4075-WKNIU 2020-02-01      NaT  Two year                No   \n",
       "\n",
       "                       payment_method  monthly_charges  total_charges  gender  \\\n",
       "customerID                                                                      \n",
       "4472-LVYGI  Bank transfer (automatic)            52.55            NaN  Female   \n",
       "3115-CZMZD               Mailed check            20.25            NaN    Male   \n",
       "5709-LVOEQ               Mailed check            80.85            NaN  Female   \n",
       "4367-NUYAO               Mailed check            25.75            NaN    Male   \n",
       "1371-DWPAZ    Credit card (automatic)            56.05            NaN  Female   \n",
       "3213-VVOLG               Mailed check            25.35            NaN    Male   \n",
       "2923-ARZLG               Mailed check            19.70            NaN    Male   \n",
       "2775-SEFEE  Bank transfer (automatic)            61.90            NaN    Male   \n",
       "7644-OMVMY               Mailed check            19.85            NaN    Male   \n",
       "2520-SGTTA               Mailed check            20.00            NaN  Female   \n",
       "4075-WKNIU               Mailed check            73.35            NaN  Female   \n",
       "\n",
       "            senior_citizen partner dependents internet_service  \\\n",
       "customerID                                                       \n",
       "4472-LVYGI               0     Yes        Yes              DSL   \n",
       "3115-CZMZD               0      No        Yes             None   \n",
       "5709-LVOEQ               0     Yes        Yes              DSL   \n",
       "4367-NUYAO               0     Yes        Yes             None   \n",
       "1371-DWPAZ               0     Yes        Yes              DSL   \n",
       "3213-VVOLG               0     Yes        Yes             None   \n",
       "2923-ARZLG               0     Yes        Yes             None   \n",
       "2775-SEFEE               0      No        Yes              DSL   \n",
       "7644-OMVMY               0     Yes        Yes             None   \n",
       "2520-SGTTA               0     Yes        Yes             None   \n",
       "4075-WKNIU               0     Yes        Yes              DSL   \n",
       "\n",
       "           online_security online_backup device_protection tech_support  \\\n",
       "customerID                                                                \n",
       "4472-LVYGI             Yes            No               Yes          Yes   \n",
       "3115-CZMZD            None          None              None         None   \n",
       "5709-LVOEQ             Yes           Yes               Yes           No   \n",
       "4367-NUYAO            None          None              None         None   \n",
       "1371-DWPAZ             Yes           Yes               Yes          Yes   \n",
       "3213-VVOLG            None          None              None         None   \n",
       "2923-ARZLG            None          None              None         None   \n",
       "2775-SEFEE             Yes           Yes                No          Yes   \n",
       "7644-OMVMY            None          None              None         None   \n",
       "2520-SGTTA            None          None              None         None   \n",
       "4075-WKNIU              No           Yes               Yes          Yes   \n",
       "\n",
       "           streaming_tv streaming_movies multiple_lines  \n",
       "customerID                                               \n",
       "4472-LVYGI          Yes               No           None  \n",
       "3115-CZMZD         None             None             No  \n",
       "5709-LVOEQ          Yes              Yes             No  \n",
       "4367-NUYAO         None             None            Yes  \n",
       "1371-DWPAZ          Yes               No           None  \n",
       "3213-VVOLG         None             None            Yes  \n",
       "2923-ARZLG         None             None             No  \n",
       "2775-SEFEE           No               No            Yes  \n",
       "7644-OMVMY         None             None             No  \n",
       "2520-SGTTA         None             None             No  \n",
       "4075-WKNIU          Yes               No            Yes  "
      ]
     },
     "execution_count": 10,
     "metadata": {},
     "output_type": "execute_result"
    }
   ],
   "source": [
    "df[df['total_charges'].isna()]"
   ]
  },
  {
   "cell_type": "markdown",
   "id": "61513eed",
   "metadata": {},
   "source": [
    "Все пропуски в `total_charges` соответствуют контрактам, заключенным в дату выгрузки данных. Можно предположить, что по ним еще не поступала оплата, заполним такие пропуски нулем:"
   ]
  },
  {
   "cell_type": "code",
   "execution_count": 11,
   "id": "73ab4bae",
   "metadata": {},
   "outputs": [],
   "source": [
    "df['total_charges'] = df['total_charges'].fillna(0)"
   ]
  },
  {
   "cell_type": "markdown",
   "id": "1eec0130",
   "metadata": {},
   "source": [
    "Выделим целевую пременную на основе поля `end_date`: yаличие даты будет положительным классом, а ее отсутствие отрицательным. Посмотрим на баланс классов:"
   ]
  },
  {
   "cell_type": "code",
   "execution_count": 12,
   "id": "2f0f2fb8",
   "metadata": {},
   "outputs": [
    {
     "data": {
      "text/plain": [
       "0.0    0.73463\n",
       "1.0    0.26537\n",
       "Name: target, dtype: float64"
      ]
     },
     "execution_count": 12,
     "metadata": {},
     "output_type": "execute_result"
    }
   ],
   "source": [
    "df.loc[df['end_date'].isna(), 'target'] = 0\n",
    "df.loc[~(df['end_date'].isna()), 'target'] = 1\n",
    "df['target'].value_counts(normalize=True)"
   ]
  },
  {
   "cell_type": "markdown",
   "id": "06331a71",
   "metadata": {},
   "source": [
    "Классы не сбалансированы. Оставшиеся клиенты составляют 73.3% выборки, а ушедшие 27.7%."
   ]
  },
  {
   "cell_type": "markdown",
   "id": "13d8bdd1",
   "metadata": {},
   "source": [
    "Заполним пропущенные значения в `end_date` датой выгрузки данных:"
   ]
  },
  {
   "cell_type": "code",
   "execution_count": 13,
   "id": "00957cf5",
   "metadata": {},
   "outputs": [],
   "source": [
    "df['end_date'] = df['end_date'].fillna(np.datetime64('2020-02-01'))"
   ]
  },
  {
   "cell_type": "markdown",
   "id": "2dd25203",
   "metadata": {},
   "source": [
    "Добавим признак `services`, показывающий вид используемых услуг - интернет, телефон или обе."
   ]
  },
  {
   "cell_type": "code",
   "execution_count": 14,
   "id": "e2a7072c",
   "metadata": {},
   "outputs": [],
   "source": [
    "df.loc[(df['internet_service'].isna()) \\\n",
    "   & (~df['multiple_lines'].isna()), 'services'] = 'phone'\n",
    "df.loc[(~df['internet_service'].isna()) \\\n",
    "   & (df['multiple_lines'].isna()), 'services'] = 'internet'\n",
    "df.loc[(~df['internet_service'].isna()) \\\n",
    "   & (~df['multiple_lines'].isna()), 'services'] = 'both'"
   ]
  },
  {
   "cell_type": "markdown",
   "id": "ff17a87d",
   "metadata": {},
   "source": [
    "Посмотрим на уникальные значения в колонках с категориальными данными:"
   ]
  },
  {
   "cell_type": "code",
   "execution_count": 15,
   "id": "ddf3c450",
   "metadata": {
    "scrolled": true
   },
   "outputs": [
    {
     "name": "stdout",
     "output_type": "stream",
     "text": [
      "type:\n",
      "Month-to-month    3875\n",
      "Two year          1695\n",
      "One year          1473\n",
      "Name: type, dtype: int64\n",
      "\n",
      "paperless_billing:\n",
      "Yes    4171\n",
      "No     2872\n",
      "Name: paperless_billing, dtype: int64\n",
      "\n",
      "payment_method:\n",
      "Electronic check             2365\n",
      "Mailed check                 1612\n",
      "Bank transfer (automatic)    1544\n",
      "Credit card (automatic)      1522\n",
      "Name: payment_method, dtype: int64\n",
      "\n",
      "gender:\n",
      "Male      3555\n",
      "Female    3488\n",
      "Name: gender, dtype: int64\n",
      "\n",
      "senior_citizen:\n",
      "0    5901\n",
      "1    1142\n",
      "Name: senior_citizen, dtype: int64\n",
      "\n",
      "partner:\n",
      "No     3641\n",
      "Yes    3402\n",
      "Name: partner, dtype: int64\n",
      "\n",
      "dependents:\n",
      "No     4933\n",
      "Yes    2110\n",
      "Name: dependents, dtype: int64\n",
      "\n",
      "internet_service:\n",
      "Fiber optic    3096\n",
      "DSL            2421\n",
      "NaN            1526\n",
      "Name: internet_service, dtype: int64\n",
      "\n",
      "online_security:\n",
      "No     3498\n",
      "Yes    2019\n",
      "NaN    1526\n",
      "Name: online_security, dtype: int64\n",
      "\n",
      "online_backup:\n",
      "No     3088\n",
      "Yes    2429\n",
      "NaN    1526\n",
      "Name: online_backup, dtype: int64\n",
      "\n",
      "device_protection:\n",
      "No     3095\n",
      "Yes    2422\n",
      "NaN    1526\n",
      "Name: device_protection, dtype: int64\n",
      "\n",
      "tech_support:\n",
      "No     3473\n",
      "Yes    2044\n",
      "NaN    1526\n",
      "Name: tech_support, dtype: int64\n",
      "\n",
      "streaming_tv:\n",
      "No     2810\n",
      "Yes    2707\n",
      "NaN    1526\n",
      "Name: streaming_tv, dtype: int64\n",
      "\n",
      "streaming_movies:\n",
      "No     2785\n",
      "Yes    2732\n",
      "NaN    1526\n",
      "Name: streaming_movies, dtype: int64\n",
      "\n",
      "multiple_lines:\n",
      "No     3390\n",
      "Yes    2971\n",
      "NaN     682\n",
      "Name: multiple_lines, dtype: int64\n",
      "\n",
      "services:\n",
      "both        4835\n",
      "phone       1526\n",
      "internet     682\n",
      "Name: services, dtype: int64\n",
      "\n"
     ]
    }
   ],
   "source": [
    "cat_cols = ['type', 'paperless_billing', 'payment_method', 'gender', 'senior_citizen', 'partner',\n",
    "            'dependents', 'internet_service', 'online_security', 'online_backup', 'device_protection',\n",
    "            'tech_support', 'streaming_tv', 'streaming_movies', 'multiple_lines', 'services']\n",
    "for column in cat_cols:\n",
    "    print(f'{column}:',\n",
    "          df[column].value_counts(dropna=False),\n",
    "          sep='\\n',\n",
    "          end='\\n\\n')"
   ]
  },
  {
   "cell_type": "markdown",
   "id": "875db1b4",
   "metadata": {},
   "source": [
    "Неявные дубликаты отсутствуют, все пропуски заполним значением 'No' (кроме `multiple_lines` - 'No' в ней означает подключение только к одной линии), так как если данные отсутствовали в таблицах `internet` и `phone`, значит клиент не подключал данные услуги:"
   ]
  },
  {
   "cell_type": "code",
   "execution_count": 16,
   "id": "942cc207",
   "metadata": {},
   "outputs": [],
   "source": [
    "df['multiple_lines'] = df['multiple_lines'].fillna('No phone')\n",
    "df = df.fillna('No')"
   ]
  },
  {
   "cell_type": "markdown",
   "id": "f147ccbb",
   "metadata": {},
   "source": [
    "**Выводы:**\n",
    "- таблицы объединены по ключу `customerID` и выгружены в датафрейм;\n",
    "- пропуски в колонке `TotalCharge` заполнены нулем;\n",
    "- на основе данных из `end_date` сформирована целевая переменная;\n",
    "- пропущенные даты в `end_date` заполнены датой выгрузки данных ('2020-02-01'); \n",
    "- образовавшиеся после объединения таблиц пропуски в остальных колонках заполнены значением 'No';\n",
    "- добавлени признак `services` показывающий вид используемых услуг - интернет, телефон или обе."
   ]
  },
  {
   "cell_type": "markdown",
   "id": "cb4199ea",
   "metadata": {},
   "source": [
    "## Исследовательский анализ данных"
   ]
  },
  {
   "cell_type": "markdown",
   "id": "678f94df",
   "metadata": {},
   "source": [
    "Сравним распределения величин ежемесячных платежей и общих расходов всех действующих клиентов и тех, кто ушел:"
   ]
  },
  {
   "cell_type": "code",
   "execution_count": 17,
   "id": "aeb7a684",
   "metadata": {},
   "outputs": [
    {
     "data": {
      "image/png": "[encoded data removed]",
      "text/plain": [
       "<Figure size 864x360 with 2 Axes>"
      ]
     },
     "metadata": {
      "needs_background": "light"
     },
     "output_type": "display_data"
    }
   ],
   "source": [
    "plt.figure(figsize=(12,5))\n",
    "cnt = 1\n",
    "for column in ['monthly_charges', 'total_charges']:\n",
    "    plt.subplot(1, 2, cnt)\n",
    "    plt.xlabel('у.е.')\n",
    "    plt.ylabel('p')\n",
    "    df.loc[df['target'] == 1, column].hist(bins=30, density=True, alpha=0.5)\n",
    "    df.loc[df['target'] == 0, column].hist(bins=30, density=True, alpha=0.5)\n",
    "    plt.legend(['1', '0'], title='target')\n",
    "    if cnt == 1:\n",
    "        plt.title('Распределение величин ежемесячных платежей')\n",
    "    else:\n",
    "        plt.title('Распределение величин общих расходов')\n",
    "    cnt += 1"
   ]
  },
  {
   "cell_type": "code",
   "execution_count": 18,
   "id": "25e0c479",
   "metadata": {},
   "outputs": [
    {
     "data": {
      "text/html": [
       "<div>\n",
       "<style scoped>\n",
       "    .dataframe tbody tr th:only-of-type {\n",
       "        vertical-align: middle;\n",
       "    }\n",
       "\n",
       "    .dataframe tbody tr th {\n",
       "        vertical-align: top;\n",
       "    }\n",
       "\n",
       "    .dataframe thead th {\n",
       "        text-align: right;\n",
       "    }\n",
       "</style>\n",
       "<table border=\"1\" class=\"dataframe\">\n",
       "  <thead>\n",
       "    <tr style=\"text-align: right;\">\n",
       "      <th></th>\n",
       "      <th>loyal_clients_month</th>\n",
       "      <th>ex_clients_month</th>\n",
       "      <th>loyal_clients_total</th>\n",
       "      <th>ex_clients_total</th>\n",
       "    </tr>\n",
       "  </thead>\n",
       "  <tbody>\n",
       "    <tr>\n",
       "      <th>count</th>\n",
       "      <td>5174.00</td>\n",
       "      <td>1869.00</td>\n",
       "      <td>5174.00</td>\n",
       "      <td>1869.00</td>\n",
       "    </tr>\n",
       "    <tr>\n",
       "      <th>mean</th>\n",
       "      <td>61.27</td>\n",
       "      <td>74.44</td>\n",
       "      <td>2549.91</td>\n",
       "      <td>1531.80</td>\n",
       "    </tr>\n",
       "    <tr>\n",
       "      <th>std</th>\n",
       "      <td>31.09</td>\n",
       "      <td>24.67</td>\n",
       "      <td>2329.95</td>\n",
       "      <td>1890.82</td>\n",
       "    </tr>\n",
       "    <tr>\n",
       "      <th>min</th>\n",
       "      <td>18.25</td>\n",
       "      <td>18.85</td>\n",
       "      <td>0.00</td>\n",
       "      <td>18.85</td>\n",
       "    </tr>\n",
       "    <tr>\n",
       "      <th>25%</th>\n",
       "      <td>25.10</td>\n",
       "      <td>56.15</td>\n",
       "      <td>572.90</td>\n",
       "      <td>134.50</td>\n",
       "    </tr>\n",
       "    <tr>\n",
       "      <th>50%</th>\n",
       "      <td>64.43</td>\n",
       "      <td>79.65</td>\n",
       "      <td>1679.52</td>\n",
       "      <td>703.55</td>\n",
       "    </tr>\n",
       "    <tr>\n",
       "      <th>75%</th>\n",
       "      <td>88.40</td>\n",
       "      <td>94.20</td>\n",
       "      <td>4262.85</td>\n",
       "      <td>2331.30</td>\n",
       "    </tr>\n",
       "    <tr>\n",
       "      <th>max</th>\n",
       "      <td>118.75</td>\n",
       "      <td>118.35</td>\n",
       "      <td>8672.45</td>\n",
       "      <td>8684.80</td>\n",
       "    </tr>\n",
       "  </tbody>\n",
       "</table>\n",
       "</div>"
      ],
      "text/plain": [
       "       loyal_clients_month  ex_clients_month  loyal_clients_total  \\\n",
       "count              5174.00           1869.00              5174.00   \n",
       "mean                 61.27             74.44              2549.91   \n",
       "std                  31.09             24.67              2329.95   \n",
       "min                  18.25             18.85                 0.00   \n",
       "25%                  25.10             56.15               572.90   \n",
       "50%                  64.43             79.65              1679.52   \n",
       "75%                  88.40             94.20              4262.85   \n",
       "max                 118.75            118.35              8672.45   \n",
       "\n",
       "       ex_clients_total  \n",
       "count           1869.00  \n",
       "mean            1531.80  \n",
       "std             1890.82  \n",
       "min               18.85  \n",
       "25%              134.50  \n",
       "50%              703.55  \n",
       "75%             2331.30  \n",
       "max             8684.80  "
      ]
     },
     "metadata": {},
     "output_type": "display_data"
    }
   ],
   "source": [
    "stat = pd.concat(\n",
    "    [round(df.loc[df['target'] == 0, 'monthly_charges'].describe(), 2),\n",
    "     round(df.loc[df['target'] == 1, 'monthly_charges'].describe(), 2),\n",
    "     round(df.loc[df['target'] == 0, 'total_charges'].describe(), 2),\n",
    "     round(df.loc[df['target'] == 1, 'total_charges'].describe(), 2)],\n",
    "    axis=1)\n",
    "stat.columns = ['loyal_clients_month', 'ex_clients_month', 'loyal_clients_total', 'ex_clients_total']\n",
    "display(stat)"
   ]
  },
  {
   "cell_type": "markdown",
   "id": "6ccf031b",
   "metadata": {},
   "source": [
    "Ежемесячные расходы клиентов, которые ушли, в среднем выше (74.44 у.е.), чем расходы оставшихся (61.27 у.е.). На графике видно, что среди оставшихся клиентов большая доля клиентов в месяц в среднем платит 20 у.е., также разница в размере платежа заметна начиная с первого квартиля - 25% оставшихся клиентов платит менее 25.1 у.е., а у 25% бывших клиентов платеж составлял менее 56.15 у.е. Общие расходы у оставшихся клиентов в среднем больше (2550 у.е.), чем у ушедших (1531 у.е.)."
   ]
  },
  {
   "cell_type": "markdown",
   "id": "d123f04d",
   "metadata": {},
   "source": [
    "Сравним доли пользователей разных видов услуг по каждой группе клиентов:"
   ]
  },
  {
   "cell_type": "code",
   "execution_count": 19,
   "id": "c1293914",
   "metadata": {},
   "outputs": [
    {
     "data": {
      "image/png": "[encoded data removed]",
      "text/plain": [
       "<Figure size 288x288 with 1 Axes>"
      ]
     },
     "metadata": {},
     "output_type": "display_data"
    },
    {
     "data": {
      "image/png": "[encoded data removed]",
      "text/plain": [
       "<Figure size 288x288 with 1 Axes>"
      ]
     },
     "metadata": {},
     "output_type": "display_data"
    }
   ],
   "source": [
    "df.loc[df['target'] == 0] \\\n",
    "  .groupby('services') \\\n",
    "  .agg({'monthly_charges': 'count'}) \\\n",
    "  .plot(kind='pie', subplots=True, autopct='%1.1f%%', figsize=(4,4))\n",
    "plt.title('Распределение услуг действующих клиентов')\n",
    "plt.axis('off')\n",
    "plt.legend(loc=(1,0.5))\n",
    "\n",
    "df.loc[df['target'] == 1] \\\n",
    "  .groupby('services') \\\n",
    "  .agg({'monthly_charges': 'count'}) \\\n",
    "  .plot(kind='pie', subplots=True, autopct='%1.1f%%', figsize=(4,4))\n",
    "plt.title('Распределение услуг ушедших клиентов')\n",
    "plt.axis('off')\n",
    "plt.legend(loc=(1,0.5))\n",
    "plt.show()"
   ]
  },
  {
   "cell_type": "markdown",
   "id": "5691e534",
   "metadata": {},
   "source": [
    "Среди ушедших клиентов доля использовавших обе услуги больше (84.9%), чем среди оставшихся (62.8%). Среди оставшихся клиентов доля использовавших только телефонную связь выше (27.3%), чем среди ушедших (6%)."
   ]
  },
  {
   "cell_type": "markdown",
   "id": "0ebbb65b",
   "metadata": {},
   "source": [
    "Сравним поведение разных групп клиентов по остальным категориальным признакам:"
   ]
  },
  {
   "cell_type": "code",
   "execution_count": 20,
   "id": "8b4d2cad",
   "metadata": {},
   "outputs": [
    {
     "data": {
      "image/png": "[encoded data removed]",
      "text/plain": [
       "<Figure size 1152x1440 with 15 Axes>"
      ]
     },
     "metadata": {
      "needs_background": "light"
     },
     "output_type": "display_data"
    }
   ],
   "source": [
    "cat_cols = ['type', 'paperless_billing', 'payment_method', 'gender', 'senior_citizen', 'partner',\n",
    "            'dependents', 'internet_service', 'online_security', 'online_backup', 'device_protection',\n",
    "            'tech_support', 'streaming_tv', 'streaming_movies', 'multiple_lines']\n",
    "cnt = 1\n",
    "plt.figure(figsize=(16, 20))\n",
    "plt.subplots_adjust(hspace=0.7)\n",
    "for column in cat_cols:\n",
    "    plt.subplot(5, 3, cnt)\n",
    "    tmp = df.groupby('target')[column].value_counts(normalize=True).rename('share').reset_index()\n",
    "    sns.barplot(data=tmp, y='share', x=column, hue='target')\n",
    "    if cnt == 3:\n",
    "        plt.xticks(rotation = 20)\n",
    "    plt.title(column)\n",
    "    cnt += 1"
   ]
  },
  {
   "cell_type": "markdown",
   "id": "485c4059",
   "metadata": {},
   "source": [
    "- большинство ушедших клиентов платили за услуги помесячно, контракты на год-два заключали в основном те, кто остался;\n",
    "- ушедшие клиенты предпочитали безбумажные расчетный лист, осташиеся в своих предпочтениях разделились примерно поровну;\n",
    "- из типов платежа больше половины ушедших клиентов выбирали электонный счет;\n",
    "- пол клиента не влияет на отток;\n",
    "- доля пенсионеров среди ушедших клиентов больше, чем доля пенсионеров среди оставшихся;\n",
    "- среди ушедших клиентов доля холостых больше, а оставшиеся делятся на замужних/женатых и холостых почти поровну;\n",
    "- клиенты с детьми чаще остаются в компании, чем бездетные;\n",
    "- ушедшие клиенты использовали подключение преимущественно через оптоволоконный кабель;\n",
    "- по услугам блокировки небезопасных сайтов (online_security), антивируса (device_protection), выделенной линии технической поддержки (tech_support) и облачного хранилища файлов для резервного копирования данных (online_backup) ситуация одинаковая: ушедшие клиенты чаще их не использовали, а доля тех из них, кто пользовалася перечисленными услугами, ниже, чем доля оставшихся клиентов, использовавших эти услуги.\n",
    "- услугами стримингового телевидения (streaming_tv) и каталога фильмов (streaming_movies) среди ушедших клиентов пользовалось чуть меньше половины. Доля оставшихся клиентов, пользующаяся перечисленными услугами меньше доли ушедших;\n",
    "- среди ушедших клиентов, доля пользуюущихся подключением телефонного аппарата к нескольким линиям одновременно составляет примерно столько же, сколько не пользующихся. Доля оставшихся клиентов пользующаяся данной услугой меньше доли не пользуюущихся."
   ]
  },
  {
   "cell_type": "markdown",
   "id": "3067ddc2",
   "metadata": {},
   "source": [
    "Посмотрим, есть ли закономерности в датах оттока клиентов:"
   ]
  },
  {
   "cell_type": "code",
   "execution_count": 21,
   "id": "9972cd72",
   "metadata": {},
   "outputs": [
    {
     "data": {
      "text/html": [
       "<div>\n",
       "<style scoped>\n",
       "    .dataframe tbody tr th:only-of-type {\n",
       "        vertical-align: middle;\n",
       "    }\n",
       "\n",
       "    .dataframe tbody tr th {\n",
       "        vertical-align: top;\n",
       "    }\n",
       "\n",
       "    .dataframe thead th {\n",
       "        text-align: right;\n",
       "    }\n",
       "</style>\n",
       "<table border=\"1\" class=\"dataframe\">\n",
       "  <thead>\n",
       "    <tr style=\"text-align: right;\">\n",
       "      <th></th>\n",
       "      <th>count</th>\n",
       "    </tr>\n",
       "    <tr>\n",
       "      <th>end_date</th>\n",
       "      <th></th>\n",
       "    </tr>\n",
       "  </thead>\n",
       "  <tbody>\n",
       "    <tr>\n",
       "      <th>2019-10-01</th>\n",
       "      <td>458</td>\n",
       "    </tr>\n",
       "    <tr>\n",
       "      <th>2019-11-01</th>\n",
       "      <td>485</td>\n",
       "    </tr>\n",
       "    <tr>\n",
       "      <th>2019-12-01</th>\n",
       "      <td>466</td>\n",
       "    </tr>\n",
       "    <tr>\n",
       "      <th>2020-01-01</th>\n",
       "      <td>460</td>\n",
       "    </tr>\n",
       "  </tbody>\n",
       "</table>\n",
       "</div>"
      ],
      "text/plain": [
       "            count\n",
       "end_date         \n",
       "2019-10-01    458\n",
       "2019-11-01    485\n",
       "2019-12-01    466\n",
       "2020-01-01    460"
      ]
     },
     "execution_count": 21,
     "metadata": {},
     "output_type": "execute_result"
    }
   ],
   "source": [
    "df.loc[df['target'] == 1] \\\n",
    "  .groupby('end_date') \\\n",
    "  .agg({'begin_date': 'count'}) \\\n",
    "  .rename(columns={'begin_date': 'count'})"
   ]
  },
  {
   "cell_type": "markdown",
   "id": "60b4b8ea",
   "metadata": {},
   "source": [
    "Все ушедшие клиенты покинули компанию в период с 1 октября 2019 года по 1 января 2020 года. Возможно в этот период они нашли более выгодное предложение у конкурентов.\n",
    "\n",
    "Посмотрим как распределено количество поступления новых клиентов среди оставшихся и ушедших:"
   ]
  },
  {
   "cell_type": "code",
   "execution_count": 22,
   "id": "eeacf4ac",
   "metadata": {},
   "outputs": [
    {
     "data": {
      "image/png": "[encoded data removed]",
      "text/plain": [
       "<Figure size 432x288 with 1 Axes>"
      ]
     },
     "metadata": {
      "needs_background": "light"
     },
     "output_type": "display_data"
    }
   ],
   "source": [
    "plt.plot(df.loc[df['target'] == 0]\n",
    "  .groupby('begin_date')\n",
    "  .agg({'monthly_charges': 'count'}))\n",
    "plt.plot(df.loc[df['target'] == 1]\n",
    "  .groupby('begin_date')\n",
    "  .agg({'monthly_charges': 'count'}))\n",
    "plt.title('Динамика поступления новых клиентов среди оставшихся и ушедших')\n",
    "plt.xlabel('Дата')\n",
    "plt.ylabel('#')\n",
    "plt.legend(['0', '1'], title='target')\n",
    "plt.show()"
   ]
  },
  {
   "cell_type": "markdown",
   "id": "39ca6cf4",
   "metadata": {},
   "source": [
    "Большинство клиентов, покинувших компанию, пришли в период с октября 2018 по май 2019. Клиенты, которые остались в компании, преимущественно пришли в период с января по июль 2019 года. С июня 2019 года налюдается снижение динамики поступления новых клиентов, с сентября 2019 года перестали приходить клиенты из подгруппы покинувших компанию."
   ]
  },
  {
   "cell_type": "markdown",
   "id": "45787146",
   "metadata": {},
   "source": [
    "Проанализируем корреляцию между признаками с помощью Phik-корреляции:"
   ]
  },
  {
   "cell_type": "code",
   "execution_count": 23,
   "id": "9c3a7d81",
   "metadata": {},
   "outputs": [
    {
     "data": {
      "image/png": "[encoded data removed]",
      "text/plain": [
       "<Figure size 1152x1152 with 2 Axes>"
      ]
     },
     "metadata": {
      "needs_background": "light"
     },
     "output_type": "display_data"
    }
   ],
   "source": [
    "cols = ['type', 'paperless_billing', 'payment_method', 'monthly_charges', 'total_charges', 'gender',\n",
    "        'senior_citizen', 'partner', 'dependents', 'internet_service', 'online_security', 'online_backup',\n",
    "        'device_protection', 'tech_support', 'streaming_tv', 'streaming_movies', 'multiple_lines', 'target',\n",
    "        'services']\n",
    "phik_table = round(df[cols].phik_matrix(interval_cols=['monthly_charges', 'total_charges']), 2)\n",
    "plot_correlation_matrix(phik_table.values, \n",
    "                        x_labels=phik_table.columns, \n",
    "                        y_labels=phik_table.index, \n",
    "                        vmin=0, vmax=1, color_map=\"Blues\", \n",
    "                        title=r\"Correlation $\\phi_K$\", \n",
    "                        fontsize_factor=1.5, \n",
    "                        figsize=(16, 16))"
   ]
  },
  {
   "cell_type": "markdown",
   "id": "019f9689",
   "metadata": {},
   "source": [
    "Сильнее всего с целевой переменной коррелируют признаки `payment_method` (0.45), `monthly_charges` (0.36),  `paperless_billing` (0.3) и `total_charges` (0.28). Признак `gender` совсем не коррелирует с целевой переменной и остальными признаками. Очень сильная корреляция наблюдается между `monthly_charges` и `internet_service` (0.92). Признак `services` уберем, он сформирован из `multiple_lines` и `internet_service` и сильно коррелирует с ними."
   ]
  },
  {
   "cell_type": "markdown",
   "id": "ef89df36",
   "metadata": {},
   "source": [
    "**Выводы:**\n",
    "- ежемесячные расходы клиентов, которые ушли, в среднем больше (74.44 у.е.), чем расходы оставшихся (61.27 у.е.);\n",
    "- общие расходы у оставшихся клиентов в среднем больше (2550 у.е.), чем у ушедших (1531 у.е.).;\n",
    "- среди ушедших клиентов доля использовавших обе услуги больше (84.9%), чем среди оставшихся (62.8%);\n",
    "- большинство ушедших клиентов платили за услуги помесячно, а большинство оставшихся платили сразу за год или два;\n",
    "- ушедшие клиенты предпочитали безбумажные расчетный лист и электронный счет;\n",
    "- пол клиента не влияет на отток;\n",
    "- ушедшие клиенты использовали подключение преимущественно через оптоволоконный кабель;\n",
    "- все ушедшие клиенты покинули компанию в период с 1 октября 2019 года по 1 января 2020 года;\n",
    "- с июня 2019 года наблюдается отрицательная динамика поступления новых клиентов;\n",
    "- самая сильная взаимосвязь с целевой переменной наблюдается с признаками `payment_method` (0.45), `monthly_charges` (0.36), `paperless_billing` (0.3) и `total_charges` (0.28);\n",
    "- между целевой переменной и `gender` корреляция отсутствует, этот признак можно убрать."
   ]
  },
  {
   "cell_type": "markdown",
   "id": "898f2721",
   "metadata": {},
   "source": [
    "## Обучение моделей"
   ]
  },
  {
   "cell_type": "markdown",
   "id": "79283790",
   "metadata": {},
   "source": [
    "Подготовим данные для обучения моделей:"
   ]
  },
  {
   "cell_type": "code",
   "execution_count": 24,
   "id": "1ceaed43",
   "metadata": {},
   "outputs": [
    {
     "name": "stdout",
     "output_type": "stream",
     "text": [
      "X_train: (5634, 16)\n",
      "X_test: (1409, 16)\n",
      "y_train: (5634,)\n",
      "y_test: (1409,)\n"
     ]
    }
   ],
   "source": [
    "# разделение признаков на количественные и категориальные\n",
    "num_features = ['monthly_charges', 'total_charges']\n",
    "cat_features = ['type', 'paperless_billing', 'payment_method', 'senior_citizen', 'partner', 'dependents',\n",
    "                'internet_service', 'online_security', 'online_backup', 'device_protection', 'tech_support',\n",
    "                'streaming_tv', 'streaming_movies', 'multiple_lines']\n",
    "\n",
    "# разделение на обучающую и тестовую выборки для RandomForestClassifier и LGBMClassifier\n",
    "df_rf = df[num_features + cat_features].copy()\n",
    "df_rf[cat_features] = df_rf[cat_features].astype('category')\n",
    "X_train, X_test, y_train, y_test = train_test_split(df_rf,\n",
    "                                                    df['target'],\n",
    "                                                    stratify=df['target'],\n",
    "                                                    test_size=0.2,\n",
    "                                                    random_state=SEED)\n",
    "\n",
    "print(f'X_train: {X_train.shape}',\n",
    "      f'X_test: {X_test.shape}',\n",
    "      f'y_train: {y_train.shape}',\n",
    "      f'y_test: {y_test.shape}',\n",
    "      sep='\\n')\n",
    "\n",
    "# пайплан предобработки для RandomForestClassifier и нейронной сети\n",
    "preprocessor = ColumnTransformer(transformers=[('num', StandardScaler(), num_features),\n",
    "                                               ('cat', OneHotEncoder(drop='first'), cat_features)])"
   ]
  },
  {
   "cell_type": "code",
   "execution_count": 25,
   "id": "b87e1b94",
   "metadata": {},
   "outputs": [
    {
     "name": "stdout",
     "output_type": "stream",
     "text": [
      "X_train_net: (4225, 16)\n",
      "X_val_net: (1409, 16)\n",
      "X_test_net: (1409, 16)\n",
      "y_train_net: (4225,)\n",
      "y_val_net: (1409,)\n",
      "y_test_net: (1409,)\n"
     ]
    }
   ],
   "source": [
    "# разделение на обучающую, тестовую и валидационную выборки для нейронной сети\n",
    "X_train_net, X_test_val, y_train_net, y_test_val = train_test_split(df[num_features + cat_features],\n",
    "                                                                    df['target'],\n",
    "                                                                    stratify=df['target'],\n",
    "                                                                    test_size=0.4,\n",
    "                                                                    random_state=SEED)\n",
    "\n",
    "X_test_net, X_val_net, y_test_net, y_val_net = train_test_split(X_test_val,\n",
    "                                                                y_test_val,\n",
    "                                                                stratify=y_test_val,\n",
    "                                                                test_size=0.5,\n",
    "                                                                random_state=SEED)\n",
    "\n",
    "\n",
    "print(f'X_train_net: {X_train_net.shape}',\n",
    "      f'X_val_net: {X_test_net.shape}',\n",
    "      f'X_test_net: {X_test_net.shape}',\n",
    "      f'y_train_net: {y_train_net.shape}',\n",
    "      f'y_val_net: {y_test_net.shape}',\n",
    "      f'y_test_net: {y_test_net.shape}',\n",
    "      sep='\\n')\n",
    "\n",
    "# предобработка данных\n",
    "X_train_prep = preprocessor.fit_transform(X_train_net)\n",
    "X_val_prep = preprocessor.transform(X_val_net)\n",
    "X_test_prep = preprocessor.transform(X_test_net)\n",
    "\n",
    "# формирование загрузчиков данных\n",
    "X_train_t =  torch.FloatTensor(X_train_prep)\n",
    "y_train_t =  torch.FloatTensor(y_train_net)\n",
    "X_val_t =  torch.FloatTensor(X_val_prep)\n",
    "y_val_t =  torch.FloatTensor(y_val_net)\n",
    "X_test_t =  torch.FloatTensor(X_test_prep)\n",
    "y_test_t =  torch.FloatTensor(y_test_net)\n",
    "\n",
    "train_dataset = TensorDataset(X_train_t, y_train_t)\n",
    "val_dataset = TensorDataset(X_val_t, y_val_t)\n",
    "test_dataset = TensorDataset(X_test_t, y_test_t)\n",
    "\n",
    "train_dataloader = DataLoader(train_dataset, batch_size=129, shuffle=True)\n",
    "val_dataloader = DataLoader(val_dataset, batch_size=129)\n",
    "test_dataloader = DataLoader(test_dataset, batch_size=129)"
   ]
  },
  {
   "cell_type": "markdown",
   "id": "3b76bfc8",
   "metadata": {},
   "source": [
    "### RandomForestClassifier"
   ]
  },
  {
   "cell_type": "code",
   "execution_count": 26,
   "id": "9d0c880e",
   "metadata": {
    "scrolled": true
   },
   "outputs": [
    {
     "name": "stdout",
     "output_type": "stream",
     "text": [
      "Fitting 5 folds for each of 40 candidates, totalling 200 fits\n",
      "[CV 1/5] END classifier__criterion=gini, classifier__max_depth=5, classifier__n_estimators=120; accuracy: (test=0.749) roc_auc: (test=0.855) total time=   0.4s\n",
      "[CV 2/5] END classifier__criterion=gini, classifier__max_depth=5, classifier__n_estimators=120; accuracy: (test=0.741) roc_auc: (test=0.836) total time=   0.4s\n",
      "[CV 3/5] END classifier__criterion=gini, classifier__max_depth=5, classifier__n_estimators=120; accuracy: (test=0.750) roc_auc: (test=0.846) total time=   0.4s\n",
      "[CV 4/5] END classifier__criterion=gini, classifier__max_depth=5, classifier__n_estimators=120; accuracy: (test=0.748) roc_auc: (test=0.845) total time=   0.4s\n",
      "[CV 5/5] END classifier__criterion=gini, classifier__max_depth=5, classifier__n_estimators=120; accuracy: (test=0.734) roc_auc: (test=0.821) total time=   0.4s\n",
      "[CV 1/5] END classifier__criterion=gini, classifier__max_depth=5, classifier__n_estimators=140; accuracy: (test=0.752) roc_auc: (test=0.855) total time=   0.5s\n",
      "[CV 2/5] END classifier__criterion=gini, classifier__max_depth=5, classifier__n_estimators=140; accuracy: (test=0.742) roc_auc: (test=0.835) total time=   0.5s\n",
      "[CV 3/5] END classifier__criterion=gini, classifier__max_depth=5, classifier__n_estimators=140; accuracy: (test=0.749) roc_auc: (test=0.846) total time=   0.5s\n",
      "[CV 4/5] END classifier__criterion=gini, classifier__max_depth=5, classifier__n_estimators=140; accuracy: (test=0.745) roc_auc: (test=0.844) total time=   0.5s\n",
      "[CV 5/5] END classifier__criterion=gini, classifier__max_depth=5, classifier__n_estimators=140; accuracy: (test=0.734) roc_auc: (test=0.820) total time=   0.5s\n",
      "[CV 1/5] END classifier__criterion=gini, classifier__max_depth=5, classifier__n_estimators=160; accuracy: (test=0.752) roc_auc: (test=0.855) total time=   0.6s\n",
      "[CV 2/5] END classifier__criterion=gini, classifier__max_depth=5, classifier__n_estimators=160; accuracy: (test=0.739) roc_auc: (test=0.835) total time=   0.6s\n",
      "[CV 3/5] END classifier__criterion=gini, classifier__max_depth=5, classifier__n_estimators=160; accuracy: (test=0.747) roc_auc: (test=0.846) total time=   0.5s\n",
      "[CV 4/5] END classifier__criterion=gini, classifier__max_depth=5, classifier__n_estimators=160; accuracy: (test=0.742) roc_auc: (test=0.844) total time=   0.5s\n",
      "[CV 5/5] END classifier__criterion=gini, classifier__max_depth=5, classifier__n_estimators=160; accuracy: (test=0.735) roc_auc: (test=0.821) total time=   0.5s\n",
      "[CV 1/5] END classifier__criterion=gini, classifier__max_depth=5, classifier__n_estimators=180; accuracy: (test=0.751) roc_auc: (test=0.855) total time=   0.6s\n",
      "[CV 2/5] END classifier__criterion=gini, classifier__max_depth=5, classifier__n_estimators=180; accuracy: (test=0.741) roc_auc: (test=0.835) total time=   0.6s\n",
      "[CV 3/5] END classifier__criterion=gini, classifier__max_depth=5, classifier__n_estimators=180; accuracy: (test=0.748) roc_auc: (test=0.846) total time=   0.6s\n",
      "[CV 4/5] END classifier__criterion=gini, classifier__max_depth=5, classifier__n_estimators=180; accuracy: (test=0.741) roc_auc: (test=0.844) total time=   0.6s\n",
      "[CV 5/5] END classifier__criterion=gini, classifier__max_depth=5, classifier__n_estimators=180; accuracy: (test=0.732) roc_auc: (test=0.820) total time=   0.6s\n",
      "[CV 1/5] END classifier__criterion=gini, classifier__max_depth=6, classifier__n_estimators=120; accuracy: (test=0.757) roc_auc: (test=0.856) total time=   0.4s\n",
      "[CV 2/5] END classifier__criterion=gini, classifier__max_depth=6, classifier__n_estimators=120; accuracy: (test=0.745) roc_auc: (test=0.837) total time=   0.4s\n",
      "[CV 3/5] END classifier__criterion=gini, classifier__max_depth=6, classifier__n_estimators=120; accuracy: (test=0.752) roc_auc: (test=0.847) total time=   0.4s\n",
      "[CV 4/5] END classifier__criterion=gini, classifier__max_depth=6, classifier__n_estimators=120; accuracy: (test=0.750) roc_auc: (test=0.847) total time=   0.4s\n",
      "[CV 5/5] END classifier__criterion=gini, classifier__max_depth=6, classifier__n_estimators=120; accuracy: (test=0.746) roc_auc: (test=0.823) total time=   0.4s\n",
      "[CV 1/5] END classifier__criterion=gini, classifier__max_depth=6, classifier__n_estimators=140; accuracy: (test=0.758) roc_auc: (test=0.856) total time=   0.5s\n",
      "[CV 2/5] END classifier__criterion=gini, classifier__max_depth=6, classifier__n_estimators=140; accuracy: (test=0.746) roc_auc: (test=0.837) total time=   0.5s\n",
      "[CV 3/5] END classifier__criterion=gini, classifier__max_depth=6, classifier__n_estimators=140; accuracy: (test=0.750) roc_auc: (test=0.847) total time=   0.5s\n",
      "[CV 4/5] END classifier__criterion=gini, classifier__max_depth=6, classifier__n_estimators=140; accuracy: (test=0.752) roc_auc: (test=0.846) total time=   0.5s\n",
      "[CV 5/5] END classifier__criterion=gini, classifier__max_depth=6, classifier__n_estimators=140; accuracy: (test=0.742) roc_auc: (test=0.823) total time=   0.5s\n",
      "[CV 1/5] END classifier__criterion=gini, classifier__max_depth=6, classifier__n_estimators=160; accuracy: (test=0.756) roc_auc: (test=0.855) total time=   0.6s\n",
      "[CV 2/5] END classifier__criterion=gini, classifier__max_depth=6, classifier__n_estimators=160; accuracy: (test=0.744) roc_auc: (test=0.837) total time=   0.6s\n",
      "[CV 3/5] END classifier__criterion=gini, classifier__max_depth=6, classifier__n_estimators=160; accuracy: (test=0.752) roc_auc: (test=0.847) total time=   0.5s\n",
      "[CV 4/5] END classifier__criterion=gini, classifier__max_depth=6, classifier__n_estimators=160; accuracy: (test=0.750) roc_auc: (test=0.846) total time=   0.6s\n",
      "[CV 5/5] END classifier__criterion=gini, classifier__max_depth=6, classifier__n_estimators=160; accuracy: (test=0.743) roc_auc: (test=0.823) total time=   0.6s\n",
      "[CV 1/5] END classifier__criterion=gini, classifier__max_depth=6, classifier__n_estimators=180; accuracy: (test=0.756) roc_auc: (test=0.855) total time=   0.6s\n",
      "[CV 2/5] END classifier__criterion=gini, classifier__max_depth=6, classifier__n_estimators=180; accuracy: (test=0.744) roc_auc: (test=0.837) total time=   0.6s\n",
      "[CV 3/5] END classifier__criterion=gini, classifier__max_depth=6, classifier__n_estimators=180; accuracy: (test=0.749) roc_auc: (test=0.846) total time=   0.7s\n",
      "[CV 4/5] END classifier__criterion=gini, classifier__max_depth=6, classifier__n_estimators=180; accuracy: (test=0.750) roc_auc: (test=0.846) total time=   0.6s\n",
      "[CV 5/5] END classifier__criterion=gini, classifier__max_depth=6, classifier__n_estimators=180; accuracy: (test=0.739) roc_auc: (test=0.823) total time=   0.6s\n",
      "[CV 1/5] END classifier__criterion=gini, classifier__max_depth=7, classifier__n_estimators=120; accuracy: (test=0.759) roc_auc: (test=0.854) total time=   0.5s\n",
      "[CV 2/5] END classifier__criterion=gini, classifier__max_depth=7, classifier__n_estimators=120; accuracy: (test=0.756) roc_auc: (test=0.839) total time=   0.5s\n",
      "[CV 3/5] END classifier__criterion=gini, classifier__max_depth=7, classifier__n_estimators=120; accuracy: (test=0.753) roc_auc: (test=0.846) total time=   0.5s\n",
      "[CV 4/5] END classifier__criterion=gini, classifier__max_depth=7, classifier__n_estimators=120; accuracy: (test=0.767) roc_auc: (test=0.846) total time=   0.5s\n",
      "[CV 5/5] END classifier__criterion=gini, classifier__max_depth=7, classifier__n_estimators=120; accuracy: (test=0.754) roc_auc: (test=0.824) total time=   0.5s\n",
      "[CV 1/5] END classifier__criterion=gini, classifier__max_depth=7, classifier__n_estimators=140; accuracy: (test=0.760) roc_auc: (test=0.854) total time=   0.5s\n",
      "[CV 2/5] END classifier__criterion=gini, classifier__max_depth=7, classifier__n_estimators=140; accuracy: (test=0.755) roc_auc: (test=0.839) total time=   0.6s\n",
      "[CV 3/5] END classifier__criterion=gini, classifier__max_depth=7, classifier__n_estimators=140; accuracy: (test=0.756) roc_auc: (test=0.847) total time=   0.5s\n",
      "[CV 4/5] END classifier__criterion=gini, classifier__max_depth=7, classifier__n_estimators=140; accuracy: (test=0.763) roc_auc: (test=0.846) total time=   0.6s\n",
      "[CV 5/5] END classifier__criterion=gini, classifier__max_depth=7, classifier__n_estimators=140; accuracy: (test=0.751) roc_auc: (test=0.824) total time=   0.6s\n",
      "[CV 1/5] END classifier__criterion=gini, classifier__max_depth=7, classifier__n_estimators=160; accuracy: (test=0.761) roc_auc: (test=0.854) total time=   0.6s\n",
      "[CV 2/5] END classifier__criterion=gini, classifier__max_depth=7, classifier__n_estimators=160; accuracy: (test=0.756) roc_auc: (test=0.839) total time=   0.6s\n",
      "[CV 3/5] END classifier__criterion=gini, classifier__max_depth=7, classifier__n_estimators=160; accuracy: (test=0.756) roc_auc: (test=0.847) total time=   0.6s\n",
      "[CV 4/5] END classifier__criterion=gini, classifier__max_depth=7, classifier__n_estimators=160; accuracy: (test=0.766) roc_auc: (test=0.846) total time=   0.6s\n",
      "[CV 5/5] END classifier__criterion=gini, classifier__max_depth=7, classifier__n_estimators=160; accuracy: (test=0.750) roc_auc: (test=0.824) total time=   0.7s\n",
      "[CV 1/5] END classifier__criterion=gini, classifier__max_depth=7, classifier__n_estimators=180; accuracy: (test=0.761) roc_auc: (test=0.854) total time=   0.7s\n",
      "[CV 2/5] END classifier__criterion=gini, classifier__max_depth=7, classifier__n_estimators=180; accuracy: (test=0.756) roc_auc: (test=0.839) total time=   0.7s\n",
      "[CV 3/5] END classifier__criterion=gini, classifier__max_depth=7, classifier__n_estimators=180; accuracy: (test=0.755) roc_auc: (test=0.846) total time=   0.7s\n",
      "[CV 4/5] END classifier__criterion=gini, classifier__max_depth=7, classifier__n_estimators=180; accuracy: (test=0.762) roc_auc: (test=0.846) total time=   0.7s\n",
      "[CV 5/5] END classifier__criterion=gini, classifier__max_depth=7, classifier__n_estimators=180; accuracy: (test=0.748) roc_auc: (test=0.823) total time=   0.7s\n",
      "[CV 1/5] END classifier__criterion=gini, classifier__max_depth=8, classifier__n_estimators=120; accuracy: (test=0.763) roc_auc: (test=0.855) total time=   0.5s\n",
      "[CV 2/5] END classifier__criterion=gini, classifier__max_depth=8, classifier__n_estimators=120; accuracy: (test=0.764) roc_auc: (test=0.840) total time=   0.5s\n",
      "[CV 3/5] END classifier__criterion=gini, classifier__max_depth=8, classifier__n_estimators=120; accuracy: (test=0.763) roc_auc: (test=0.844) total time=   0.7s\n",
      "[CV 4/5] END classifier__criterion=gini, classifier__max_depth=8, classifier__n_estimators=120; accuracy: (test=0.770) roc_auc: (test=0.847) total time=   0.5s\n",
      "[CV 5/5] END classifier__criterion=gini, classifier__max_depth=8, classifier__n_estimators=120; accuracy: (test=0.761) roc_auc: (test=0.824) total time=   0.5s\n",
      "[CV 1/5] END classifier__criterion=gini, classifier__max_depth=8, classifier__n_estimators=140; accuracy: (test=0.761) roc_auc: (test=0.855) total time=   0.6s\n",
      "[CV 2/5] END classifier__criterion=gini, classifier__max_depth=8, classifier__n_estimators=140; accuracy: (test=0.762) roc_auc: (test=0.840) total time=   0.6s\n",
      "[CV 3/5] END classifier__criterion=gini, classifier__max_depth=8, classifier__n_estimators=140; accuracy: (test=0.766) roc_auc: (test=0.845) total time=   0.6s\n",
      "[CV 4/5] END classifier__criterion=gini, classifier__max_depth=8, classifier__n_estimators=140; accuracy: (test=0.768) roc_auc: (test=0.846) total time=   0.6s\n",
      "[CV 5/5] END classifier__criterion=gini, classifier__max_depth=8, classifier__n_estimators=140; accuracy: (test=0.761) roc_auc: (test=0.825) total time=   0.5s\n",
      "[CV 1/5] END classifier__criterion=gini, classifier__max_depth=8, classifier__n_estimators=160; accuracy: (test=0.762) roc_auc: (test=0.855) total time=   0.6s\n",
      "[CV 2/5] END classifier__criterion=gini, classifier__max_depth=8, classifier__n_estimators=160; accuracy: (test=0.762) roc_auc: (test=0.840) total time=   0.7s\n",
      "[CV 3/5] END classifier__criterion=gini, classifier__max_depth=8, classifier__n_estimators=160; accuracy: (test=0.767) roc_auc: (test=0.845) total time=   0.6s\n",
      "[CV 4/5] END classifier__criterion=gini, classifier__max_depth=8, classifier__n_estimators=160; accuracy: (test=0.770) roc_auc: (test=0.846) total time=   0.6s\n",
      "[CV 5/5] END classifier__criterion=gini, classifier__max_depth=8, classifier__n_estimators=160; accuracy: (test=0.760) roc_auc: (test=0.824) total time=   0.6s\n",
      "[CV 1/5] END classifier__criterion=gini, classifier__max_depth=8, classifier__n_estimators=180; accuracy: (test=0.764) roc_auc: (test=0.855) total time=   0.7s\n",
      "[CV 2/5] END classifier__criterion=gini, classifier__max_depth=8, classifier__n_estimators=180; accuracy: (test=0.765) roc_auc: (test=0.840) total time=   0.7s\n",
      "[CV 3/5] END classifier__criterion=gini, classifier__max_depth=8, classifier__n_estimators=180; accuracy: (test=0.764) roc_auc: (test=0.845) total time=   0.7s\n",
      "[CV 4/5] END classifier__criterion=gini, classifier__max_depth=8, classifier__n_estimators=180; accuracy: (test=0.767) roc_auc: (test=0.845) total time=   0.7s\n",
      "[CV 5/5] END classifier__criterion=gini, classifier__max_depth=8, classifier__n_estimators=180; accuracy: (test=0.758) roc_auc: (test=0.823) total time=   0.7s\n",
      "[CV 1/5] END classifier__criterion=gini, classifier__max_depth=9, classifier__n_estimators=120; accuracy: (test=0.770) roc_auc: (test=0.852) total time=   0.5s\n",
      "[CV 2/5] END classifier__criterion=gini, classifier__max_depth=9, classifier__n_estimators=120; accuracy: (test=0.773) roc_auc: (test=0.840) total time=   0.5s\n",
      "[CV 3/5] END classifier__criterion=gini, classifier__max_depth=9, classifier__n_estimators=120; accuracy: (test=0.771) roc_auc: (test=0.841) total time=   0.5s\n",
      "[CV 4/5] END classifier__criterion=gini, classifier__max_depth=9, classifier__n_estimators=120; accuracy: (test=0.776) roc_auc: (test=0.846) total time=   0.5s\n",
      "[CV 5/5] END classifier__criterion=gini, classifier__max_depth=9, classifier__n_estimators=120; accuracy: (test=0.763) roc_auc: (test=0.823) total time=   0.5s\n",
      "[CV 1/5] END classifier__criterion=gini, classifier__max_depth=9, classifier__n_estimators=140; accuracy: (test=0.773) roc_auc: (test=0.852) total time=   0.6s\n",
      "[CV 2/5] END classifier__criterion=gini, classifier__max_depth=9, classifier__n_estimators=140; accuracy: (test=0.771) roc_auc: (test=0.839) total time=   0.6s\n",
      "[CV 3/5] END classifier__criterion=gini, classifier__max_depth=9, classifier__n_estimators=140; accuracy: (test=0.770) roc_auc: (test=0.841) total time=   0.7s\n",
      "[CV 4/5] END classifier__criterion=gini, classifier__max_depth=9, classifier__n_estimators=140; accuracy: (test=0.776) roc_auc: (test=0.845) total time=   0.6s\n",
      "[CV 5/5] END classifier__criterion=gini, classifier__max_depth=9, classifier__n_estimators=140; accuracy: (test=0.763) roc_auc: (test=0.823) total time=   0.6s\n",
      "[CV 1/5] END classifier__criterion=gini, classifier__max_depth=9, classifier__n_estimators=160; accuracy: (test=0.774) roc_auc: (test=0.853) total time=   0.7s\n",
      "[CV 2/5] END classifier__criterion=gini, classifier__max_depth=9, classifier__n_estimators=160; accuracy: (test=0.771) roc_auc: (test=0.839) total time=   0.7s\n",
      "[CV 3/5] END classifier__criterion=gini, classifier__max_depth=9, classifier__n_estimators=160; accuracy: (test=0.768) roc_auc: (test=0.841) total time=   0.7s\n",
      "[CV 4/5] END classifier__criterion=gini, classifier__max_depth=9, classifier__n_estimators=160; accuracy: (test=0.777) roc_auc: (test=0.845) total time=   0.6s\n",
      "[CV 5/5] END classifier__criterion=gini, classifier__max_depth=9, classifier__n_estimators=160; accuracy: (test=0.764) roc_auc: (test=0.823) total time=   0.7s\n",
      "[CV 1/5] END classifier__criterion=gini, classifier__max_depth=9, classifier__n_estimators=180; accuracy: (test=0.771) roc_auc: (test=0.852) total time=   0.7s\n",
      "[CV 2/5] END classifier__criterion=gini, classifier__max_depth=9, classifier__n_estimators=180; accuracy: (test=0.768) roc_auc: (test=0.840) total time=   0.8s\n",
      "[CV 3/5] END classifier__criterion=gini, classifier__max_depth=9, classifier__n_estimators=180; accuracy: (test=0.771) roc_auc: (test=0.841) total time=   0.7s\n",
      "[CV 4/5] END classifier__criterion=gini, classifier__max_depth=9, classifier__n_estimators=180; accuracy: (test=0.776) roc_auc: (test=0.845) total time=   0.7s\n",
      "[CV 5/5] END classifier__criterion=gini, classifier__max_depth=9, classifier__n_estimators=180; accuracy: (test=0.764) roc_auc: (test=0.823) total time=   0.7s\n",
      "[CV 1/5] END classifier__criterion=entropy, classifier__max_depth=5, classifier__n_estimators=120; accuracy: (test=0.758) roc_auc: (test=0.854) total time=   0.4s\n",
      "[CV 2/5] END classifier__criterion=entropy, classifier__max_depth=5, classifier__n_estimators=120; accuracy: (test=0.740) roc_auc: (test=0.836) total time=   0.4s\n",
      "[CV 3/5] END classifier__criterion=entropy, classifier__max_depth=5, classifier__n_estimators=120; accuracy: (test=0.749) roc_auc: (test=0.845) total time=   0.4s\n",
      "[CV 4/5] END classifier__criterion=entropy, classifier__max_depth=5, classifier__n_estimators=120; accuracy: (test=0.749) roc_auc: (test=0.845) total time=   0.5s\n",
      "[CV 5/5] END classifier__criterion=entropy, classifier__max_depth=5, classifier__n_estimators=120; accuracy: (test=0.741) roc_auc: (test=0.821) total time=   0.4s\n",
      "[CV 1/5] END classifier__criterion=entropy, classifier__max_depth=5, classifier__n_estimators=140; accuracy: (test=0.758) roc_auc: (test=0.855) total time=   0.5s\n",
      "[CV 2/5] END classifier__criterion=entropy, classifier__max_depth=5, classifier__n_estimators=140; accuracy: (test=0.739) roc_auc: (test=0.836) total time=   0.5s\n",
      "[CV 3/5] END classifier__criterion=entropy, classifier__max_depth=5, classifier__n_estimators=140; accuracy: (test=0.747) roc_auc: (test=0.846) total time=   0.5s\n",
      "[CV 4/5] END classifier__criterion=entropy, classifier__max_depth=5, classifier__n_estimators=140; accuracy: (test=0.742) roc_auc: (test=0.844) total time=   0.5s\n",
      "[CV 5/5] END classifier__criterion=entropy, classifier__max_depth=5, classifier__n_estimators=140; accuracy: (test=0.736) roc_auc: (test=0.821) total time=   0.5s\n",
      "[CV 1/5] END classifier__criterion=entropy, classifier__max_depth=5, classifier__n_estimators=160; accuracy: (test=0.754) roc_auc: (test=0.855) total time=   0.5s\n",
      "[CV 2/5] END classifier__criterion=entropy, classifier__max_depth=5, classifier__n_estimators=160; accuracy: (test=0.739) roc_auc: (test=0.836) total time=   0.5s\n",
      "[CV 3/5] END classifier__criterion=entropy, classifier__max_depth=5, classifier__n_estimators=160; accuracy: (test=0.748) roc_auc: (test=0.846) total time=   0.5s\n",
      "[CV 4/5] END classifier__criterion=entropy, classifier__max_depth=5, classifier__n_estimators=160; accuracy: (test=0.740) roc_auc: (test=0.844) total time=   0.5s\n",
      "[CV 5/5] END classifier__criterion=entropy, classifier__max_depth=5, classifier__n_estimators=160; accuracy: (test=0.738) roc_auc: (test=0.821) total time=   0.5s\n",
      "[CV 1/5] END classifier__criterion=entropy, classifier__max_depth=5, classifier__n_estimators=180; accuracy: (test=0.754) roc_auc: (test=0.855) total time=   0.6s\n",
      "[CV 2/5] END classifier__criterion=entropy, classifier__max_depth=5, classifier__n_estimators=180; accuracy: (test=0.738) roc_auc: (test=0.836) total time=   0.6s\n",
      "[CV 3/5] END classifier__criterion=entropy, classifier__max_depth=5, classifier__n_estimators=180; accuracy: (test=0.748) roc_auc: (test=0.846) total time=   0.6s\n",
      "[CV 4/5] END classifier__criterion=entropy, classifier__max_depth=5, classifier__n_estimators=180; accuracy: (test=0.739) roc_auc: (test=0.843) total time=   0.6s\n",
      "[CV 5/5] END classifier__criterion=entropy, classifier__max_depth=5, classifier__n_estimators=180; accuracy: (test=0.737) roc_auc: (test=0.821) total time=   0.6s\n",
      "[CV 1/5] END classifier__criterion=entropy, classifier__max_depth=6, classifier__n_estimators=120; accuracy: (test=0.754) roc_auc: (test=0.856) total time=   0.5s\n",
      "[CV 2/5] END classifier__criterion=entropy, classifier__max_depth=6, classifier__n_estimators=120; accuracy: (test=0.743) roc_auc: (test=0.838) total time=   0.5s\n",
      "[CV 3/5] END classifier__criterion=entropy, classifier__max_depth=6, classifier__n_estimators=120; accuracy: (test=0.749) roc_auc: (test=0.846) total time=   0.5s\n",
      "[CV 4/5] END classifier__criterion=entropy, classifier__max_depth=6, classifier__n_estimators=120; accuracy: (test=0.754) roc_auc: (test=0.845) total time=   0.5s\n",
      "[CV 5/5] END classifier__criterion=entropy, classifier__max_depth=6, classifier__n_estimators=120; accuracy: (test=0.745) roc_auc: (test=0.823) total time=   0.5s\n",
      "[CV 1/5] END classifier__criterion=entropy, classifier__max_depth=6, classifier__n_estimators=140; accuracy: (test=0.758) roc_auc: (test=0.856) total time=   0.5s\n",
      "[CV 2/5] END classifier__criterion=entropy, classifier__max_depth=6, classifier__n_estimators=140; accuracy: (test=0.741) roc_auc: (test=0.837) total time=   0.5s\n",
      "[CV 3/5] END classifier__criterion=entropy, classifier__max_depth=6, classifier__n_estimators=140; accuracy: (test=0.748) roc_auc: (test=0.846) total time=   0.5s\n",
      "[CV 4/5] END classifier__criterion=entropy, classifier__max_depth=6, classifier__n_estimators=140; accuracy: (test=0.755) roc_auc: (test=0.845) total time=   0.5s\n",
      "[CV 5/5] END classifier__criterion=entropy, classifier__max_depth=6, classifier__n_estimators=140; accuracy: (test=0.745) roc_auc: (test=0.822) total time=   0.5s\n",
      "[CV 1/5] END classifier__criterion=entropy, classifier__max_depth=6, classifier__n_estimators=160; accuracy: (test=0.757) roc_auc: (test=0.856) total time=   0.6s\n",
      "[CV 2/5] END classifier__criterion=entropy, classifier__max_depth=6, classifier__n_estimators=160; accuracy: (test=0.741) roc_auc: (test=0.838) total time=   0.6s\n",
      "[CV 3/5] END classifier__criterion=entropy, classifier__max_depth=6, classifier__n_estimators=160; accuracy: (test=0.749) roc_auc: (test=0.846) total time=   0.6s\n",
      "[CV 4/5] END classifier__criterion=entropy, classifier__max_depth=6, classifier__n_estimators=160; accuracy: (test=0.749) roc_auc: (test=0.845) total time=   0.6s\n",
      "[CV 5/5] END classifier__criterion=entropy, classifier__max_depth=6, classifier__n_estimators=160; accuracy: (test=0.743) roc_auc: (test=0.822) total time=   0.6s\n",
      "[CV 1/5] END classifier__criterion=entropy, classifier__max_depth=6, classifier__n_estimators=180; accuracy: (test=0.757) roc_auc: (test=0.856) total time=   0.6s\n",
      "[CV 2/5] END classifier__criterion=entropy, classifier__max_depth=6, classifier__n_estimators=180; accuracy: (test=0.743) roc_auc: (test=0.837) total time=   0.6s\n",
      "[CV 3/5] END classifier__criterion=entropy, classifier__max_depth=6, classifier__n_estimators=180; accuracy: (test=0.752) roc_auc: (test=0.846) total time=   0.6s\n",
      "[CV 4/5] END classifier__criterion=entropy, classifier__max_depth=6, classifier__n_estimators=180; accuracy: (test=0.752) roc_auc: (test=0.845) total time=   0.7s\n",
      "[CV 5/5] END classifier__criterion=entropy, classifier__max_depth=6, classifier__n_estimators=180; accuracy: (test=0.742) roc_auc: (test=0.822) total time=   0.7s\n",
      "[CV 1/5] END classifier__criterion=entropy, classifier__max_depth=7, classifier__n_estimators=120; accuracy: (test=0.757) roc_auc: (test=0.855) total time=   0.5s\n",
      "[CV 2/5] END classifier__criterion=entropy, classifier__max_depth=7, classifier__n_estimators=120; accuracy: (test=0.753) roc_auc: (test=0.840) total time=   0.5s\n",
      "[CV 3/5] END classifier__criterion=entropy, classifier__max_depth=7, classifier__n_estimators=120; accuracy: (test=0.757) roc_auc: (test=0.846) total time=   0.5s\n",
      "[CV 4/5] END classifier__criterion=entropy, classifier__max_depth=7, classifier__n_estimators=120; accuracy: (test=0.758) roc_auc: (test=0.845) total time=   0.5s\n",
      "[CV 5/5] END classifier__criterion=entropy, classifier__max_depth=7, classifier__n_estimators=120; accuracy: (test=0.759) roc_auc: (test=0.824) total time=   0.5s\n",
      "[CV 1/5] END classifier__criterion=entropy, classifier__max_depth=7, classifier__n_estimators=140; accuracy: (test=0.755) roc_auc: (test=0.855) total time=   0.5s\n",
      "[CV 2/5] END classifier__criterion=entropy, classifier__max_depth=7, classifier__n_estimators=140; accuracy: (test=0.755) roc_auc: (test=0.840) total time=   0.5s\n",
      "[CV 3/5] END classifier__criterion=entropy, classifier__max_depth=7, classifier__n_estimators=140; accuracy: (test=0.759) roc_auc: (test=0.846) total time=   0.5s\n",
      "[CV 4/5] END classifier__criterion=entropy, classifier__max_depth=7, classifier__n_estimators=140; accuracy: (test=0.756) roc_auc: (test=0.844) total time=   0.5s\n",
      "[CV 5/5] END classifier__criterion=entropy, classifier__max_depth=7, classifier__n_estimators=140; accuracy: (test=0.757) roc_auc: (test=0.824) total time=   0.5s\n",
      "[CV 1/5] END classifier__criterion=entropy, classifier__max_depth=7, classifier__n_estimators=160; accuracy: (test=0.759) roc_auc: (test=0.855) total time=   0.6s\n",
      "[CV 2/5] END classifier__criterion=entropy, classifier__max_depth=7, classifier__n_estimators=160; accuracy: (test=0.755) roc_auc: (test=0.841) total time=   0.6s\n",
      "[CV 3/5] END classifier__criterion=entropy, classifier__max_depth=7, classifier__n_estimators=160; accuracy: (test=0.755) roc_auc: (test=0.846) total time=   0.6s\n",
      "[CV 4/5] END classifier__criterion=entropy, classifier__max_depth=7, classifier__n_estimators=160; accuracy: (test=0.756) roc_auc: (test=0.845) total time=   0.6s\n",
      "[CV 5/5] END classifier__criterion=entropy, classifier__max_depth=7, classifier__n_estimators=160; accuracy: (test=0.754) roc_auc: (test=0.824) total time=   0.6s\n",
      "[CV 1/5] END classifier__criterion=entropy, classifier__max_depth=7, classifier__n_estimators=180; accuracy: (test=0.761) roc_auc: (test=0.855) total time=   0.7s\n",
      "[CV 2/5] END classifier__criterion=entropy, classifier__max_depth=7, classifier__n_estimators=180; accuracy: (test=0.755) roc_auc: (test=0.840) total time=   0.7s\n",
      "[CV 3/5] END classifier__criterion=entropy, classifier__max_depth=7, classifier__n_estimators=180; accuracy: (test=0.756) roc_auc: (test=0.846) total time=   0.7s\n",
      "[CV 4/5] END classifier__criterion=entropy, classifier__max_depth=7, classifier__n_estimators=180; accuracy: (test=0.757) roc_auc: (test=0.844) total time=   0.7s\n",
      "[CV 5/5] END classifier__criterion=entropy, classifier__max_depth=7, classifier__n_estimators=180; accuracy: (test=0.751) roc_auc: (test=0.823) total time=   0.7s\n",
      "[CV 1/5] END classifier__criterion=entropy, classifier__max_depth=8, classifier__n_estimators=120; accuracy: (test=0.767) roc_auc: (test=0.854) total time=   0.5s\n",
      "[CV 2/5] END classifier__criterion=entropy, classifier__max_depth=8, classifier__n_estimators=120; accuracy: (test=0.767) roc_auc: (test=0.842) total time=   0.5s\n",
      "[CV 3/5] END classifier__criterion=entropy, classifier__max_depth=8, classifier__n_estimators=120; accuracy: (test=0.765) roc_auc: (test=0.845) total time=   0.5s\n",
      "[CV 4/5] END classifier__criterion=entropy, classifier__max_depth=8, classifier__n_estimators=120; accuracy: (test=0.774) roc_auc: (test=0.848) total time=   0.5s\n",
      "[CV 5/5] END classifier__criterion=entropy, classifier__max_depth=8, classifier__n_estimators=120; accuracy: (test=0.763) roc_auc: (test=0.825) total time=   0.5s\n",
      "[CV 1/5] END classifier__criterion=entropy, classifier__max_depth=8, classifier__n_estimators=140; accuracy: (test=0.764) roc_auc: (test=0.854) total time=   0.6s\n",
      "[CV 2/5] END classifier__criterion=entropy, classifier__max_depth=8, classifier__n_estimators=140; accuracy: (test=0.762) roc_auc: (test=0.842) total time=   0.6s\n",
      "[CV 3/5] END classifier__criterion=entropy, classifier__max_depth=8, classifier__n_estimators=140; accuracy: (test=0.765) roc_auc: (test=0.845) total time=   0.6s\n",
      "[CV 4/5] END classifier__criterion=entropy, classifier__max_depth=8, classifier__n_estimators=140; accuracy: (test=0.769) roc_auc: (test=0.848) total time=   0.6s\n",
      "[CV 5/5] END classifier__criterion=entropy, classifier__max_depth=8, classifier__n_estimators=140; accuracy: (test=0.760) roc_auc: (test=0.824) total time=   0.6s\n",
      "[CV 1/5] END classifier__criterion=entropy, classifier__max_depth=8, classifier__n_estimators=160; accuracy: (test=0.768) roc_auc: (test=0.855) total time=   0.7s\n",
      "[CV 2/5] END classifier__criterion=entropy, classifier__max_depth=8, classifier__n_estimators=160; accuracy: (test=0.760) roc_auc: (test=0.843) total time=   0.7s\n",
      "[CV 3/5] END classifier__criterion=entropy, classifier__max_depth=8, classifier__n_estimators=160; accuracy: (test=0.763) roc_auc: (test=0.845) total time=   0.7s\n",
      "[CV 4/5] END classifier__criterion=entropy, classifier__max_depth=8, classifier__n_estimators=160; accuracy: (test=0.768) roc_auc: (test=0.847) total time=   0.7s\n",
      "[CV 5/5] END classifier__criterion=entropy, classifier__max_depth=8, classifier__n_estimators=160; accuracy: (test=0.760) roc_auc: (test=0.823) total time=   0.7s\n",
      "[CV 1/5] END classifier__criterion=entropy, classifier__max_depth=8, classifier__n_estimators=180; accuracy: (test=0.768) roc_auc: (test=0.854) total time=   0.7s\n",
      "[CV 2/5] END classifier__criterion=entropy, classifier__max_depth=8, classifier__n_estimators=180; accuracy: (test=0.760) roc_auc: (test=0.843) total time=   0.8s\n",
      "[CV 3/5] END classifier__criterion=entropy, classifier__max_depth=8, classifier__n_estimators=180; accuracy: (test=0.764) roc_auc: (test=0.845) total time=   0.7s\n",
      "[CV 4/5] END classifier__criterion=entropy, classifier__max_depth=8, classifier__n_estimators=180; accuracy: (test=0.769) roc_auc: (test=0.847) total time=   0.7s\n",
      "[CV 5/5] END classifier__criterion=entropy, classifier__max_depth=8, classifier__n_estimators=180; accuracy: (test=0.758) roc_auc: (test=0.822) total time=   0.7s\n",
      "[CV 1/5] END classifier__criterion=entropy, classifier__max_depth=9, classifier__n_estimators=120; accuracy: (test=0.771) roc_auc: (test=0.853) total time=   0.5s\n",
      "[CV 2/5] END classifier__criterion=entropy, classifier__max_depth=9, classifier__n_estimators=120; accuracy: (test=0.770) roc_auc: (test=0.842) total time=   0.5s\n",
      "[CV 3/5] END classifier__criterion=entropy, classifier__max_depth=9, classifier__n_estimators=120; accuracy: (test=0.768) roc_auc: (test=0.843) total time=   0.5s\n",
      "[CV 4/5] END classifier__criterion=entropy, classifier__max_depth=9, classifier__n_estimators=120; accuracy: (test=0.777) roc_auc: (test=0.844) total time=   0.6s\n",
      "[CV 5/5] END classifier__criterion=entropy, classifier__max_depth=9, classifier__n_estimators=120; accuracy: (test=0.759) roc_auc: (test=0.824) total time=   0.5s\n",
      "[CV 1/5] END classifier__criterion=entropy, classifier__max_depth=9, classifier__n_estimators=140; accuracy: (test=0.769) roc_auc: (test=0.853) total time=   0.6s\n",
      "[CV 2/5] END classifier__criterion=entropy, classifier__max_depth=9, classifier__n_estimators=140; accuracy: (test=0.768) roc_auc: (test=0.842) total time=   0.6s\n",
      "[CV 3/5] END classifier__criterion=entropy, classifier__max_depth=9, classifier__n_estimators=140; accuracy: (test=0.765) roc_auc: (test=0.842) total time=   0.6s\n",
      "[CV 4/5] END classifier__criterion=entropy, classifier__max_depth=9, classifier__n_estimators=140; accuracy: (test=0.775) roc_auc: (test=0.844) total time=   0.6s\n",
      "[CV 5/5] END classifier__criterion=entropy, classifier__max_depth=9, classifier__n_estimators=140; accuracy: (test=0.762) roc_auc: (test=0.824) total time=   0.7s\n",
      "[CV 1/5] END classifier__criterion=entropy, classifier__max_depth=9, classifier__n_estimators=160; accuracy: (test=0.770) roc_auc: (test=0.853) total time=   0.7s\n",
      "[CV 2/5] END classifier__criterion=entropy, classifier__max_depth=9, classifier__n_estimators=160; accuracy: (test=0.768) roc_auc: (test=0.841) total time=   0.7s\n",
      "[CV 3/5] END classifier__criterion=entropy, classifier__max_depth=9, classifier__n_estimators=160; accuracy: (test=0.769) roc_auc: (test=0.842) total time=   0.8s\n",
      "[CV 4/5] END classifier__criterion=entropy, classifier__max_depth=9, classifier__n_estimators=160; accuracy: (test=0.769) roc_auc: (test=0.844) total time=   0.7s\n",
      "[CV 5/5] END classifier__criterion=entropy, classifier__max_depth=9, classifier__n_estimators=160; accuracy: (test=0.761) roc_auc: (test=0.823) total time=   0.7s\n",
      "[CV 1/5] END classifier__criterion=entropy, classifier__max_depth=9, classifier__n_estimators=180; accuracy: (test=0.768) roc_auc: (test=0.853) total time=   0.8s\n",
      "[CV 2/5] END classifier__criterion=entropy, classifier__max_depth=9, classifier__n_estimators=180; accuracy: (test=0.770) roc_auc: (test=0.841) total time=   0.8s\n",
      "[CV 3/5] END classifier__criterion=entropy, classifier__max_depth=9, classifier__n_estimators=180; accuracy: (test=0.768) roc_auc: (test=0.843) total time=   0.8s\n",
      "[CV 4/5] END classifier__criterion=entropy, classifier__max_depth=9, classifier__n_estimators=180; accuracy: (test=0.770) roc_auc: (test=0.844) total time=   0.8s\n",
      "[CV 5/5] END classifier__criterion=entropy, classifier__max_depth=9, classifier__n_estimators=180; accuracy: (test=0.761) roc_auc: (test=0.822) total time=   0.8s\n",
      "ROC-AUC: 0.8428\n",
      "Accuracy: 0.7669\n",
      "Наилучшие параметры:\n",
      "criterion: entropy\n",
      "max_depth: 8\n",
      "n_estinators: 120\n"
     ]
    }
   ],
   "source": [
    "pipe = Pipeline([('preprocessor', preprocessor),\n",
    "                 ('classifier', RandomForestClassifier(class_weight='balanced', random_state=SEED))])\n",
    "\n",
    "param_grid = {'classifier__n_estimators': [120, 140, 160, 180],\n",
    "              'classifier__max_depth': [5, 6, 7, 8, 9],\n",
    "              'classifier__criterion': ['gini', 'entropy']}\n",
    "\n",
    "grid_rf = GridSearchCV(pipe,\n",
    "                       param_grid=param_grid,\n",
    "                       cv=5,\n",
    "                       scoring=['roc_auc', 'accuracy'],\n",
    "                       refit='roc_auc',\n",
    "                       verbose=3)\n",
    "grid_rf.fit(X_train, y_train)\n",
    "\n",
    "print(f'ROC-AUC: {round(grid_rf.best_score_, 4)}',\n",
    "      f'Accuracy: {round(grid_rf.cv_results_[\"mean_test_accuracy\"][grid_rf.best_index_], 4)}',\n",
    "      'Наилучшие параметры:',\n",
    "      f'criterion: {grid_rf.best_params_[\"classifier__criterion\"]}',\n",
    "      f'max_depth: {grid_rf.best_params_[\"classifier__max_depth\"]}',\n",
    "      f'n_estinators: {grid_rf.best_params_[\"classifier__n_estimators\"]}',\n",
    "      sep='\\n')"
   ]
  },
  {
   "cell_type": "markdown",
   "id": "7e1d5b1b",
   "metadata": {},
   "source": [
    "Модель случайного леса достигла метрики ROC-AUC 0.8428 с наилучшими параметрами: критерий entropy, глубина 8, количество оценщиков 120. Accuracy модели составила 0.7669."
   ]
  },
  {
   "cell_type": "markdown",
   "id": "9d1b2836",
   "metadata": {},
   "source": [
    "### LGBMClassifier"
   ]
  },
  {
   "cell_type": "code",
   "execution_count": 27,
   "id": "0219a37e",
   "metadata": {
    "scrolled": true
   },
   "outputs": [
    {
     "name": "stdout",
     "output_type": "stream",
     "text": [
      "Fitting 5 folds for each of 12 candidates, totalling 60 fits\n",
      "[CV 1/5] END max_depth=4, n_estimators=40; accuracy: (test=0.755) roc_auc: (test=0.853) total time=  39.8s\n",
      "[CV 2/5] END max_depth=4, n_estimators=40; accuracy: (test=0.755) roc_auc: (test=0.844) total time=  45.1s\n",
      "[CV 3/5] END max_depth=4, n_estimators=40; accuracy: (test=0.751) roc_auc: (test=0.843) total time=   3.5s\n",
      "[CV 4/5] END max_depth=4, n_estimators=40; accuracy: (test=0.752) roc_auc: (test=0.847) total time=   0.4s\n",
      "[CV 5/5] END max_depth=4, n_estimators=40; accuracy: (test=0.739) roc_auc: (test=0.820) total time=   0.6s\n",
      "[CV 1/5] END max_depth=4, n_estimators=50; accuracy: (test=0.760) roc_auc: (test=0.852) total time=   0.7s\n",
      "[CV 2/5] END max_depth=4, n_estimators=50; accuracy: (test=0.753) roc_auc: (test=0.843) total time=   0.9s\n",
      "[CV 3/5] END max_depth=4, n_estimators=50; accuracy: (test=0.755) roc_auc: (test=0.843) total time=   0.6s\n",
      "[CV 4/5] END max_depth=4, n_estimators=50; accuracy: (test=0.751) roc_auc: (test=0.847) total time=   0.5s\n",
      "[CV 5/5] END max_depth=4, n_estimators=50; accuracy: (test=0.742) roc_auc: (test=0.820) total time=   0.5s\n",
      "[CV 1/5] END max_depth=4, n_estimators=60; accuracy: (test=0.759) roc_auc: (test=0.851) total time=   0.9s\n",
      "[CV 2/5] END max_depth=4, n_estimators=60; accuracy: (test=0.750) roc_auc: (test=0.842) total time=   0.6s\n",
      "[CV 3/5] END max_depth=4, n_estimators=60; accuracy: (test=0.759) roc_auc: (test=0.843) total time=   0.6s\n",
      "[CV 4/5] END max_depth=4, n_estimators=60; accuracy: (test=0.748) roc_auc: (test=0.845) total time=   0.5s\n",
      "[CV 5/5] END max_depth=4, n_estimators=60; accuracy: (test=0.742) roc_auc: (test=0.820) total time=   0.6s\n",
      "[CV 1/5] END max_depth=5, n_estimators=40; accuracy: (test=0.764) roc_auc: (test=0.849) total time=   0.6s\n",
      "[CV 2/5] END max_depth=5, n_estimators=40; accuracy: (test=0.755) roc_auc: (test=0.845) total time=   0.6s\n",
      "[CV 3/5] END max_depth=5, n_estimators=40; accuracy: (test=0.755) roc_auc: (test=0.840) total time=   0.6s\n",
      "[CV 4/5] END max_depth=5, n_estimators=40; accuracy: (test=0.756) roc_auc: (test=0.844) total time=   0.7s\n",
      "[CV 5/5] END max_depth=5, n_estimators=40; accuracy: (test=0.747) roc_auc: (test=0.822) total time=   0.6s\n",
      "[CV 1/5] END max_depth=5, n_estimators=50; accuracy: (test=0.768) roc_auc: (test=0.847) total time=   0.7s\n",
      "[CV 2/5] END max_depth=5, n_estimators=50; accuracy: (test=0.757) roc_auc: (test=0.844) total time=   1.0s\n",
      "[CV 3/5] END max_depth=5, n_estimators=50; accuracy: (test=0.758) roc_auc: (test=0.839) total time=   0.9s\n",
      "[CV 4/5] END max_depth=5, n_estimators=50; accuracy: (test=0.754) roc_auc: (test=0.842) total time=   0.6s\n",
      "[CV 5/5] END max_depth=5, n_estimators=50; accuracy: (test=0.745) roc_auc: (test=0.822) total time=   0.7s\n",
      "[CV 1/5] END max_depth=5, n_estimators=60; accuracy: (test=0.765) roc_auc: (test=0.846) total time=   0.8s\n",
      "[CV 2/5] END max_depth=5, n_estimators=60; accuracy: (test=0.757) roc_auc: (test=0.843) total time=   0.6s\n",
      "[CV 3/5] END max_depth=5, n_estimators=60; accuracy: (test=0.758) roc_auc: (test=0.838) total time=   0.8s\n",
      "[CV 4/5] END max_depth=5, n_estimators=60; accuracy: (test=0.754) roc_auc: (test=0.839) total time=   0.8s\n",
      "[CV 5/5] END max_depth=5, n_estimators=60; accuracy: (test=0.748) roc_auc: (test=0.821) total time=   0.7s\n",
      "[CV 1/5] END max_depth=6, n_estimators=40; accuracy: (test=0.762) roc_auc: (test=0.846) total time=   0.6s\n",
      "[CV 2/5] END max_depth=6, n_estimators=40; accuracy: (test=0.758) roc_auc: (test=0.844) total time=   0.7s\n",
      "[CV 3/5] END max_depth=6, n_estimators=40; accuracy: (test=0.753) roc_auc: (test=0.833) total time=   0.9s\n",
      "[CV 4/5] END max_depth=6, n_estimators=40; accuracy: (test=0.755) roc_auc: (test=0.845) total time=   0.8s\n",
      "[CV 5/5] END max_depth=6, n_estimators=40; accuracy: (test=0.748) roc_auc: (test=0.819) total time=   0.6s\n",
      "[CV 1/5] END max_depth=6, n_estimators=50; accuracy: (test=0.760) roc_auc: (test=0.844) total time=   0.6s\n",
      "[CV 2/5] END max_depth=6, n_estimators=50; accuracy: (test=0.760) roc_auc: (test=0.844) total time=   0.7s\n",
      "[CV 3/5] END max_depth=6, n_estimators=50; accuracy: (test=0.757) roc_auc: (test=0.832) total time=   0.7s\n",
      "[CV 4/5] END max_depth=6, n_estimators=50; accuracy: (test=0.760) roc_auc: (test=0.843) total time=   0.7s\n",
      "[CV 5/5] END max_depth=6, n_estimators=50; accuracy: (test=0.744) roc_auc: (test=0.817) total time=   0.8s\n",
      "[CV 1/5] END max_depth=6, n_estimators=60; accuracy: (test=0.765) roc_auc: (test=0.842) total time=   0.7s\n",
      "[CV 2/5] END max_depth=6, n_estimators=60; accuracy: (test=0.754) roc_auc: (test=0.843) total time=   0.9s\n",
      "[CV 3/5] END max_depth=6, n_estimators=60; accuracy: (test=0.761) roc_auc: (test=0.830) total time=   0.8s\n",
      "[CV 4/5] END max_depth=6, n_estimators=60; accuracy: (test=0.760) roc_auc: (test=0.842) total time=   0.8s\n",
      "[CV 5/5] END max_depth=6, n_estimators=60; accuracy: (test=0.739) roc_auc: (test=0.816) total time=   0.8s\n",
      "[CV 1/5] END max_depth=7, n_estimators=40; accuracy: (test=0.768) roc_auc: (test=0.846) total time=   0.7s\n",
      "[CV 2/5] END max_depth=7, n_estimators=40; accuracy: (test=0.752) roc_auc: (test=0.845) total time=   1.1s\n",
      "[CV 3/5] END max_depth=7, n_estimators=40; accuracy: (test=0.753) roc_auc: (test=0.830) total time=   0.7s\n",
      "[CV 4/5] END max_depth=7, n_estimators=40; accuracy: (test=0.754) roc_auc: (test=0.843) total time=   1.7s\n",
      "[CV 5/5] END max_depth=7, n_estimators=40; accuracy: (test=0.745) roc_auc: (test=0.819) total time=   0.6s\n",
      "[CV 1/5] END max_depth=7, n_estimators=50; accuracy: (test=0.764) roc_auc: (test=0.844) total time=   0.6s\n",
      "[CV 2/5] END max_depth=7, n_estimators=50; accuracy: (test=0.754) roc_auc: (test=0.843) total time=   0.8s\n",
      "[CV 3/5] END max_depth=7, n_estimators=50; accuracy: (test=0.758) roc_auc: (test=0.830) total time=   0.7s\n",
      "[CV 4/5] END max_depth=7, n_estimators=50; accuracy: (test=0.760) roc_auc: (test=0.841) total time=   0.8s\n",
      "[CV 5/5] END max_depth=7, n_estimators=50; accuracy: (test=0.746) roc_auc: (test=0.817) total time=   0.9s\n",
      "[CV 1/5] END max_depth=7, n_estimators=60; accuracy: (test=0.764) roc_auc: (test=0.842) total time=   0.9s\n",
      "[CV 2/5] END max_depth=7, n_estimators=60; accuracy: (test=0.752) roc_auc: (test=0.842) total time=   1.2s\n",
      "[CV 3/5] END max_depth=7, n_estimators=60; accuracy: (test=0.754) roc_auc: (test=0.828) total time=   1.5s\n",
      "[CV 4/5] END max_depth=7, n_estimators=60; accuracy: (test=0.765) roc_auc: (test=0.839) total time=   0.8s\n",
      "[CV 5/5] END max_depth=7, n_estimators=60; accuracy: (test=0.742) roc_auc: (test=0.816) total time=   0.9s\n",
      "ROC-AUC: 0.8414\n",
      "Accuracy: 0.7504\n",
      "Наилучшие параметры:\n",
      "max_depth: 4\n",
      "n_estimators: 40\n"
     ]
    }
   ],
   "source": [
    "model_lgbm = LGBMClassifier(random_state=SEED, metric='auc', class_weight='balanced')\n",
    "param_grid = {'max_depth': [4, 5, 6, 7],\n",
    "              'n_estimators': [40, 50, 60]}\n",
    "grid_lgbm = GridSearchCV(model_lgbm,\n",
    "                         param_grid=param_grid,\n",
    "                         cv=5,\n",
    "                         scoring=['roc_auc', 'accuracy'],\n",
    "                         refit='roc_auc',\n",
    "                         verbose=3,\n",
    "                         n_jobs=-1)\n",
    "grid_lgbm.fit(X_train, y_train)\n",
    "\n",
    "print(f'ROC-AUC: {round(grid_lgbm.best_score_, 4)}',\n",
    "      f'Accuracy: {round(grid_lgbm.cv_results_[\"mean_test_accuracy\"][grid_lgbm.best_index_], 4)}',\n",
    "      'Наилучшие параметры:',\n",
    "      f'max_depth: {grid_lgbm.best_params_[\"max_depth\"]}',\n",
    "      f'n_estimators: {grid_lgbm.best_params_[\"n_estimators\"]}',\n",
    "      sep='\\n')"
   ]
  },
  {
   "cell_type": "markdown",
   "id": "edd9017c",
   "metadata": {},
   "source": [
    "Модель LGBMClassifier достигла метрики ROC-AUC 0.8414 с наилучшими параметрами: глубина 4, количество оценщиков 40. Accuracy модели составила 0.7504."
   ]
  },
  {
   "cell_type": "markdown",
   "id": "83a56b9b",
   "metadata": {},
   "source": [
    "### Полносвязная нейронная сеть"
   ]
  },
  {
   "cell_type": "code",
   "execution_count": 28,
   "id": "7e543101",
   "metadata": {},
   "outputs": [],
   "source": [
    "class Net(nn.Module):\n",
    "    \n",
    "    def __init__(self,\n",
    "                 n_in_neurons,\n",
    "                 n_hidden_neurons_1,\n",
    "                 n_hidden_neurons_2,\n",
    "                 n_out_neurons):\n",
    "        super().__init__()\n",
    "        self.fc1 = nn.Linear(n_in_neurons, n_hidden_neurons_1)\n",
    "        self.act1 = nn.Tanh()\n",
    "        self.fc2 = nn.Linear(n_hidden_neurons_1, n_hidden_neurons_2)\n",
    "        self.bn = nn.BatchNorm1d(n_hidden_neurons_2)\n",
    "        self.act2 = nn.ReLU()\n",
    "        self.fc3 = nn.Linear(n_hidden_neurons_2, n_out_neurons)\n",
    "        self.act3 = nn.Sigmoid()\n",
    "\n",
    "        \n",
    "        nn.init.kaiming_normal_(self.fc1.weight, nonlinearity='relu')\n",
    "        nn.init.normal_(self.fc1.bias, mean=0, std=0.5)\n",
    "        nn.init.kaiming_normal_(self.fc2.weight, nonlinearity='relu')\n",
    "        nn.init.normal_(self.fc2.bias, mean=0, std=0.5)\n",
    "        nn.init.kaiming_normal_(self.fc3.weight, nonlinearity='relu')\n",
    "        nn.init.normal_(self.fc3.bias, mean=0, std=0.5)\n",
    "\n",
    "        \n",
    "    def forward(self, x):\n",
    "        x = self.act1(self.fc1(x))\n",
    "        x = self.act2(self.bn(self.fc2(x)))\n",
    "        x = self.act3(self.fc3(x))\n",
    "\n",
    "        return x"
   ]
  },
  {
   "cell_type": "code",
   "execution_count": 29,
   "id": "efb3b672",
   "metadata": {},
   "outputs": [
    {
     "data": {
      "application/vnd.jupyter.widget-view+json": {
       "model_id": "6593ebf5f1f84c4594a8d946aa649047",
       "version_major": 2,
       "version_minor": 0
      },
      "text/plain": [
       "  0%|          | 0/75 [00:00<?, ?it/s]"
      ]
     },
     "metadata": {},
     "output_type": "display_data"
    },
    {
     "name": "stdout",
     "output_type": "stream",
     "text": [
      "epoch 10\n",
      "loss: 0.451421\n",
      "roc_auc: 0.814869\n",
      "loss_val: 0.457242\n",
      "roc_auc_val: 0.810682\n",
      "epoch 20\n",
      "loss: 0.426048\n",
      "roc_auc: 0.838729\n",
      "loss_val: 0.438493\n",
      "roc_auc_val: 0.828448\n",
      "epoch 30\n",
      "loss: 0.417593\n",
      "roc_auc: 0.845739\n",
      "loss_val: 0.433597\n",
      "roc_auc_val: 0.832416\n",
      "epoch 40\n",
      "loss: 0.414428\n",
      "roc_auc: 0.848358\n",
      "loss_val: 0.431523\n",
      "roc_auc_val: 0.836078\n",
      "epoch 50\n",
      "loss: 0.409669\n",
      "roc_auc: 0.852061\n",
      "loss_val: 0.429573\n",
      "roc_auc_val: 0.838375\n",
      "epoch 60\n",
      "loss: 0.409842\n",
      "roc_auc: 0.852422\n",
      "loss_val: 0.428995\n",
      "roc_auc_val: 0.838995\n",
      "epoch 70\n",
      "loss: 0.405328\n",
      "roc_auc: 0.856853\n",
      "loss_val: 0.428205\n",
      "roc_auc_val: 0.839152\n",
      "epoch 75\n",
      "loss: 0.403044\n",
      "roc_auc: 0.855579\n",
      "loss_val: 0.427068\n",
      "roc_auc_val: 0.840648\n"
     ]
    }
   ],
   "source": [
    "torch.manual_seed(SEED)\n",
    "np.random.seed(SEED)\n",
    "\n",
    "best_epoch = None\n",
    "best_roc_auc = 0\n",
    "roc_auc_train = 0\n",
    "accuracy = 0\n",
    "\n",
    "\n",
    "net = Net(X_train_t.shape[1], X_train_t.shape[1] // 2, X_train_t.shape[1] // 4, 1).to(DEVICE)\n",
    "loss = nn.BCELoss()\n",
    "optimizer = torch.optim.Adam(net.parameters(), lr=0.001)\n",
    "scheduler = torch.optim.lr_scheduler.ReduceLROnPlateau(optimizer, 'min', threshold=0.001)\n",
    "\n",
    "loss_tr = []\n",
    "loss_val = []\n",
    "roc_auc_tr = []\n",
    "roc_auc_val = []\n",
    "\n",
    "for epoch in notebook.tqdm(range(1, 76)):\n",
    "    if epoch % 10 == 0 or epoch == 75:\n",
    "        print('epoch', epoch)\n",
    "    net.train()\n",
    "    avg_loss = 0\n",
    "    avg_loss_val = 0\n",
    "    avg_roc_auc = 0\n",
    "    avg_roc_auc_val = 0\n",
    "    avg_accuracy = 0\n",
    "    \n",
    "    for X_batch, Y_batch in train_dataloader:\n",
    "        X_batch = X_batch.to(DEVICE)\n",
    "        Y_batch = Y_batch.to(DEVICE)\n",
    "        optimizer.zero_grad()\n",
    "        outp = net(X_batch).flatten(start_dim=-2)\n",
    "        loss_value = loss(outp, Y_batch)\n",
    "        loss_value.backward()\n",
    "        optimizer.step()\n",
    "        avg_loss += loss_value / len(train_dataloader)\n",
    "        avg_roc_auc += roc_auc_score(Y_batch.cpu().numpy(),\n",
    "                                     outp.cpu().detach().numpy()) / len(train_dataloader)\n",
    "    \n",
    "    scheduler.step(avg_loss)\n",
    "    loss_tr.append(avg_loss.cpu().detach())\n",
    "    roc_auc_tr.append(avg_roc_auc)\n",
    "    \n",
    "    if epoch % 10 == 0 or epoch == 75:\n",
    "        print('loss: %f' % avg_loss)\n",
    "        print('roc_auc: %f' % avg_roc_auc)\n",
    "            \n",
    "    net.eval() \n",
    "    with torch.no_grad():\n",
    "        for X_batch, Y_batch in val_dataloader:\n",
    "            X_batch = X_batch.to(DEVICE)\n",
    "            Y_batch = Y_batch.to(DEVICE)\n",
    "            preds_val = net(X_batch).flatten(start_dim=-2)\n",
    "            loss_value = loss(preds_val, Y_batch)\n",
    "            avg_loss_val += loss_value / len(val_dataloader)\n",
    "            avg_roc_auc_val += roc_auc_score(Y_batch.cpu().numpy(),\n",
    "                                             preds_val.cpu().detach().numpy()) / len(val_dataloader)\n",
    "            avg_accuracy += accuracy_score(Y_batch.cpu().numpy(),\n",
    "                                           np.round(preds_val.cpu().detach().numpy())) / len(val_dataloader)\n",
    "\n",
    "        loss_val.append(avg_loss_val.cpu().detach())\n",
    "        roc_auc_val.append(avg_roc_auc_val)\n",
    "            \n",
    "        if epoch % 10 == 0 or epoch == 75:\n",
    "            print('loss_val: %f' % avg_loss_val)\n",
    "            print('roc_auc_val: %f' % avg_roc_auc_val)\n",
    "        if avg_roc_auc_val > best_roc_auc:\n",
    "            best_roc_auc = avg_roc_auc_val\n",
    "            best_epoch = epoch\n",
    "            roc_auc_train = avg_roc_auc\n",
    "            accuracy = avg_accuracy\n",
    "\n",
    "    torch.cuda.empty_cache()"
   ]
  },
  {
   "cell_type": "markdown",
   "id": "25470ec2",
   "metadata": {},
   "source": [
    "Посмотрим как обучалась сеть:"
   ]
  },
  {
   "cell_type": "code",
   "execution_count": 30,
   "id": "045dd606",
   "metadata": {},
   "outputs": [
    {
     "data": {
      "image/png": "[encoded data removed]",
      "text/plain": [
       "<Figure size 576x288 with 1 Axes>"
      ]
     },
     "metadata": {
      "needs_background": "light"
     },
     "output_type": "display_data"
    },
    {
     "data": {
      "image/png": "[encoded data removed]",
      "text/plain": [
       "<Figure size 576x288 with 1 Axes>"
      ]
     },
     "metadata": {
      "needs_background": "light"
     },
     "output_type": "display_data"
    }
   ],
   "source": [
    "plt.figure(figsize=(8, 4))\n",
    "plt.plot(loss_tr, label=\"loss_train\")\n",
    "plt.plot(loss_val, label=\"loss_val\")\n",
    "plt.legend()\n",
    "plt.title('Обучение сети')\n",
    "plt.xlabel('Эпохи')\n",
    "plt.ylabel('loss')\n",
    "\n",
    "plt.figure(figsize=(8, 4))\n",
    "plt.plot(roc_auc_tr, label=\"roc_auc_train\")\n",
    "plt.plot(roc_auc_val, label=\"roc_auc_val\")\n",
    "plt.legend()\n",
    "plt.xlabel('Эпохи')\n",
    "plt.ylabel('roc_auc')\n",
    "plt.show()"
   ]
  },
  {
   "cell_type": "code",
   "execution_count": 31,
   "id": "dea622c5",
   "metadata": {},
   "outputs": [
    {
     "name": "stdout",
     "output_type": "stream",
     "text": [
      "epoch: 75\n",
      "RMSE train: 0.8556\n",
      "RMSE val: 0.8406\n",
      "Accuracy val: 0.7878\n"
     ]
    }
   ],
   "source": [
    "print(f'epoch: {best_epoch}', \n",
    "      f'RMSE train: {round(roc_auc_train, 4)}',\n",
    "      f'RMSE val: {round(best_roc_auc, 4)}',\n",
    "      f'Accuracy val: {round(accuracy, 4)}',\n",
    "      sep='\\n')"
   ]
  },
  {
   "cell_type": "markdown",
   "id": "ecef8ba1",
   "metadata": {},
   "source": [
    "Нейронная сеть с двумя скрытыми слоями, гиперболическим тангенсом после первого линейного слоя, нормализацией и функцией активации ReLU после второго линейного слоя достигла метрики RMSE 0.8406 за 75 эпох обучения. Accuracy модели составила 0.7878."
   ]
  },
  {
   "cell_type": "markdown",
   "id": "a1154fbc",
   "metadata": {},
   "source": [
    "Объединим полученные результаты в таблицу:"
   ]
  },
  {
   "cell_type": "code",
   "execution_count": 32,
   "id": "1c5381be",
   "metadata": {},
   "outputs": [
    {
     "data": {
      "text/html": [
       "<div>\n",
       "<style scoped>\n",
       "    .dataframe tbody tr th:only-of-type {\n",
       "        vertical-align: middle;\n",
       "    }\n",
       "\n",
       "    .dataframe tbody tr th {\n",
       "        vertical-align: top;\n",
       "    }\n",
       "\n",
       "    .dataframe thead th {\n",
       "        text-align: right;\n",
       "    }\n",
       "</style>\n",
       "<table border=\"1\" class=\"dataframe\">\n",
       "  <thead>\n",
       "    <tr style=\"text-align: right;\">\n",
       "      <th></th>\n",
       "      <th>ROC-AUC</th>\n",
       "      <th>Accuracy</th>\n",
       "    </tr>\n",
       "  </thead>\n",
       "  <tbody>\n",
       "    <tr>\n",
       "      <th>RandomForestClassifier</th>\n",
       "      <td>0.8428</td>\n",
       "      <td>0.7669</td>\n",
       "    </tr>\n",
       "    <tr>\n",
       "      <th>LGBMClassifier</th>\n",
       "      <td>0.8414</td>\n",
       "      <td>0.7504</td>\n",
       "    </tr>\n",
       "    <tr>\n",
       "      <th>Net</th>\n",
       "      <td>0.8406</td>\n",
       "      <td>0.7878</td>\n",
       "    </tr>\n",
       "  </tbody>\n",
       "</table>\n",
       "</div>"
      ],
      "text/plain": [
       "                        ROC-AUC  Accuracy\n",
       "RandomForestClassifier   0.8428    0.7669\n",
       "LGBMClassifier           0.8414    0.7504\n",
       "Net                      0.8406    0.7878"
      ]
     },
     "execution_count": 32,
     "metadata": {},
     "output_type": "execute_result"
    }
   ],
   "source": [
    "result = pd.DataFrame({'ROC-AUC': [round(grid_rf.best_score_, 4),\n",
    "                                   round(grid_lgbm.best_score_, 4),\n",
    "                                   round(best_roc_auc, 4)],\n",
    "                       'Accuracy':[round(grid_rf.cv_results_[\"mean_test_accuracy\"][grid_rf.best_index_], 4),\n",
    "                                   round(grid_lgbm.cv_results_[\"mean_test_accuracy\"][grid_lgbm.best_index_], 4),\n",
    "                                   round(accuracy, 4)]},\n",
    "                      index=['RandomForestClassifier', 'LGBMClassifier', 'Net'])\n",
    "result"
   ]
  },
  {
   "cell_type": "markdown",
   "id": "823541bd",
   "metadata": {},
   "source": [
    "**Выводы:**\n",
    "- бустинг и случайный лес показали лучшие результаты по метрике ROC-AUC, чем нейронная сеть. Скорее всего это произошло из-за преобладающих категориальных признаков. Accuracy нейронной сети (0.7878) выше, чем у бустинга (0.7504) и случайного леса (0.7669), из-за несбалансированных классов это значение не вполне отражает качество модели;\n",
    "- наибольшее значение метрики ROC-AUC получилось с моделью RandomForestClassifier (0.8428) с параметрами критерий entropy, глубина 8, количество оценщиков 120. Accuracy модели составила 0.7669."
   ]
  },
  {
   "cell_type": "markdown",
   "id": "69ed2c01",
   "metadata": {},
   "source": [
    "## Тестирование модели"
   ]
  },
  {
   "cell_type": "markdown",
   "id": "6ddab5a4",
   "metadata": {},
   "source": [
    "Протестируем наилучшую модель RandomForestClassifier:"
   ]
  },
  {
   "cell_type": "code",
   "execution_count": 33,
   "id": "111919a6",
   "metadata": {},
   "outputs": [
    {
     "name": "stdout",
     "output_type": "stream",
     "text": [
      "ROC-AUC test: 0.85\n"
     ]
    }
   ],
   "source": [
    "preds = grid_rf.predict_proba(X_test)[:, 1]\n",
    "print(f'ROC-AUC test: {round(roc_auc_score(y_test, preds), 4)}')"
   ]
  },
  {
   "cell_type": "markdown",
   "id": "0e341eda",
   "metadata": {},
   "source": [
    "Выведем на график матрицу ошибок и построим ROC-кривую:"
   ]
  },
  {
   "cell_type": "code",
   "execution_count": 34,
   "id": "a68e3cb5",
   "metadata": {},
   "outputs": [
    {
     "name": "stdout",
     "output_type": "stream",
     "text": [
      "0.0    1035\n",
      "1.0     374\n",
      "Name: target, dtype: int64\n"
     ]
    },
    {
     "data": {
      "image/png": "[encoded data removed]",
      "text/plain": [
       "<Figure size 432x288 with 2 Axes>"
      ]
     },
     "metadata": {
      "needs_background": "light"
     },
     "output_type": "display_data"
    },
    {
     "data": {
      "image/png": "[encoded data removed]",
      "text/plain": [
       "<Figure size 432x288 with 1 Axes>"
      ]
     },
     "metadata": {
      "needs_background": "light"
     },
     "output_type": "display_data"
    }
   ],
   "source": [
    "print(y_test.value_counts())\n",
    "\n",
    "sns.heatmap(confusion_matrix(y_test, grid_rf.predict(X_test)),\n",
    "            cmap='YlGnBu',\n",
    "            square=True, \n",
    "            linewidths=0.1,\n",
    "            annot=True,\n",
    "            fmt='d').set_title('Матрица ошибок')\n",
    "plt.ylabel('Реальность')\n",
    "plt.xlabel('Прогноз')\n",
    "\n",
    "fpr, tpr, thresholds = roc_curve(y_test, preds)\n",
    "plt.figure()\n",
    "plt.plot([0, 1], [0, 1], linestyle='--')\n",
    "plt.plot(fpr, tpr)\n",
    "plt.xlim([0.0, 1.0])\n",
    "plt.ylim([0.0, 1.0])\n",
    "plt.xlabel('False Positive Rate')\n",
    "plt.ylabel('True Positive Rate')\n",
    "plt.title('ROC-кривая')\n",
    "plt.show()"
   ]
  },
  {
   "cell_type": "markdown",
   "id": "e0042b92",
   "metadata": {},
   "source": [
    "Модель хорошо предсказывает ушедших клиентов (ошибка примерно в 22% случаев) и немного хуже оставшихся (ошибка примерно в 24.8% случаев). Метрика ROC-AUC на тестовой выборке составила 0.85.\n",
    "\n",
    "Посмотрик какие признаки модель считает наиболее важными:"
   ]
  },
  {
   "cell_type": "code",
   "execution_count": 35,
   "id": "369e31b1",
   "metadata": {},
   "outputs": [
    {
     "data": {
      "image/png": "[encoded data removed]",
      "text/plain": [
       "<Figure size 504x504 with 1 Axes>"
      ]
     },
     "metadata": {
      "needs_background": "light"
     },
     "output_type": "display_data"
    }
   ],
   "source": [
    "cols = num_features + grid_rf.best_estimator_ \\\n",
    "                             .named_steps['preprocessor'] \\\n",
    "                             .transformers_[1][1] \\\n",
    "                             .get_feature_names(cat_features) \\\n",
    "                             .tolist()\n",
    "feature_importances = grid_rf.best_estimator_['classifier'].feature_importances_\n",
    "\n",
    "pd.DataFrame(data=feature_importances,\n",
    "             index=cols,\n",
    "             columns=['feature_importances']) \\\n",
    "  .sort_values('feature_importances') \\\n",
    "  .plot(kind='barh',\n",
    "        title='Feature importances',\n",
    "        legend=False,\n",
    "        grid=True,\n",
    "        figsize=(7, 7))\n",
    "plt.show()"
   ]
  },
  {
   "cell_type": "markdown",
   "id": "23f6b5c6",
   "metadata": {},
   "source": [
    "Самые важные признаки это общие расходы и тип оплаты (раз в один-два года или помесячно). Также заметное влияние оказывают тип платежа, тип подключения и расходы за месяц. Рассмотрим подробнее общие расходы и тип оплаты:"
   ]
  },
  {
   "cell_type": "code",
   "execution_count": 36,
   "id": "ec8597f0",
   "metadata": {},
   "outputs": [
    {
     "data": {
      "image/png": "[encoded data removed]",
      "text/plain": [
       "<Figure size 504x504 with 1 Axes>"
      ]
     },
     "metadata": {
      "needs_background": "light"
     },
     "output_type": "display_data"
    },
    {
     "data": {
      "text/html": [
       "<div>\n",
       "<style scoped>\n",
       "    .dataframe tbody tr th:only-of-type {\n",
       "        vertical-align: middle;\n",
       "    }\n",
       "\n",
       "    .dataframe tbody tr th {\n",
       "        vertical-align: top;\n",
       "    }\n",
       "\n",
       "    .dataframe thead th {\n",
       "        text-align: right;\n",
       "    }\n",
       "</style>\n",
       "<table border=\"1\" class=\"dataframe\">\n",
       "  <thead>\n",
       "    <tr style=\"text-align: right;\">\n",
       "      <th></th>\n",
       "      <th>loyal_clients_total</th>\n",
       "      <th>ex_clients_total</th>\n",
       "    </tr>\n",
       "  </thead>\n",
       "  <tbody>\n",
       "    <tr>\n",
       "      <th>count</th>\n",
       "      <td>5174.00</td>\n",
       "      <td>1869.00</td>\n",
       "    </tr>\n",
       "    <tr>\n",
       "      <th>mean</th>\n",
       "      <td>2549.91</td>\n",
       "      <td>1531.80</td>\n",
       "    </tr>\n",
       "    <tr>\n",
       "      <th>std</th>\n",
       "      <td>2329.95</td>\n",
       "      <td>1890.82</td>\n",
       "    </tr>\n",
       "    <tr>\n",
       "      <th>min</th>\n",
       "      <td>0.00</td>\n",
       "      <td>18.85</td>\n",
       "    </tr>\n",
       "    <tr>\n",
       "      <th>25%</th>\n",
       "      <td>572.90</td>\n",
       "      <td>134.50</td>\n",
       "    </tr>\n",
       "    <tr>\n",
       "      <th>50%</th>\n",
       "      <td>1679.52</td>\n",
       "      <td>703.55</td>\n",
       "    </tr>\n",
       "    <tr>\n",
       "      <th>75%</th>\n",
       "      <td>4262.85</td>\n",
       "      <td>2331.30</td>\n",
       "    </tr>\n",
       "    <tr>\n",
       "      <th>max</th>\n",
       "      <td>8672.45</td>\n",
       "      <td>8684.80</td>\n",
       "    </tr>\n",
       "  </tbody>\n",
       "</table>\n",
       "</div>"
      ],
      "text/plain": [
       "       loyal_clients_total  ex_clients_total\n",
       "count              5174.00           1869.00\n",
       "mean               2549.91           1531.80\n",
       "std                2329.95           1890.82\n",
       "min                   0.00             18.85\n",
       "25%                 572.90            134.50\n",
       "50%                1679.52            703.55\n",
       "75%                4262.85           2331.30\n",
       "max                8672.45           8684.80"
      ]
     },
     "metadata": {},
     "output_type": "display_data"
    }
   ],
   "source": [
    "plt.figure(figsize=(7, 7))\n",
    "plt.xlabel('у.е.')\n",
    "plt.ylabel('p')\n",
    "df.loc[df['target'] == 1, 'total_charges'].hist(bins=30, density=True, alpha=0.5)\n",
    "df.loc[df['target'] == 0, 'total_charges'].hist(bins=30, density=True, alpha=0.5)\n",
    "plt.legend(['1', '0'], title='target')\n",
    "plt.title('Распределение величин общих расходов')\n",
    "plt.show()\n",
    "\n",
    "display(stat[['loyal_clients_total', 'ex_clients_total']])"
   ]
  },
  {
   "cell_type": "markdown",
   "id": "cad1a410",
   "metadata": {},
   "source": [
    "Общие расходы оставшихся клиентов (2550 у.е.) превышают расходы ушедших (1531 у.е.). Максимальные значения общих расходов между группами практически совпадает, но по первому, второму и третьему квартилям видно значительное превышение суммы общих расходов оставшихся клиентов над ушедшими."
   ]
  },
  {
   "cell_type": "code",
   "execution_count": 37,
   "id": "dcbfa496",
   "metadata": {},
   "outputs": [
    {
     "data": {
      "image/png": "[encoded data removed]",
      "text/plain": [
       "<Figure size 504x504 with 1 Axes>"
      ]
     },
     "metadata": {
      "needs_background": "light"
     },
     "output_type": "display_data"
    }
   ],
   "source": [
    "plt.figure(figsize=(7, 7))\n",
    "tmp = df.groupby('target')['type'].value_counts(normalize=True).rename('share').reset_index()\n",
    "sns.barplot(data=tmp, y='share', x='type', hue='target')\n",
    "plt.title('Тип оплаты')\n",
    "plt.xlabel('')\n",
    "plt.show()"
   ]
  },
  {
   "cell_type": "markdown",
   "id": "679c529e",
   "metadata": {},
   "source": [
    "На графике видно, что около 90% ушедших клиентов платили помесячно. Около 42% оставшихся клиентов платили помесячно, а остальные 58% платили на год-два вперед. "
   ]
  },
  {
   "cell_type": "markdown",
   "id": "2df1d91c",
   "metadata": {},
   "source": [
    "## Выводы"
   ]
  },
  {
   "cell_type": "markdown",
   "id": "775babd3",
   "metadata": {},
   "source": [
    "- наилучшей моделью по метрике ROC-AUC стала модель случайного леса с параметрами критерий entropy, глубина 8, количество оценщиков 120. Метрика ROC-AUC на тестовой выборке составила 0.85;\n",
    "- самые важные признаки - общие расходы, тип оплаты (раз в один-два года или помесячно), тип платежа, тип подключения и расходы за месяц;\n",
    "- так как основной отток клиентов произошел в ограниченный период времени - 1 октября 2019 года по 1 января 2020 года, следует проанализировать существовавшую тогда ценовую политику компании и ее конкурентов, чтобы понять причину оттока;\n",
    "- также, с целью предотвращения дальнейшего оттока и привлечения новых клиентов следует разработать систему мотивации пользователей на заключение контрактов с оплатой на год-два вперед."
   ]
  }
 ],
 "metadata": {
  "ExecuteTimeLog": [
   {
    "duration": 28,
    "start_time": "2023-02-02T20:25:10.782Z"
   },
   {
    "duration": 18,
    "start_time": "2023-02-02T20:25:18.038Z"
   },
   {
    "duration": 13,
    "start_time": "2023-02-02T20:30:36.178Z"
   },
   {
    "duration": 2333,
    "start_time": "2023-02-03T11:55:56.737Z"
   },
   {
    "duration": 0,
    "start_time": "2023-02-03T11:55:59.072Z"
   },
   {
    "duration": 0,
    "start_time": "2023-02-03T11:55:59.074Z"
   },
   {
    "duration": 0,
    "start_time": "2023-02-03T11:55:59.075Z"
   },
   {
    "duration": 0,
    "start_time": "2023-02-03T11:55:59.076Z"
   },
   {
    "duration": 0,
    "start_time": "2023-02-03T11:55:59.076Z"
   },
   {
    "duration": 0,
    "start_time": "2023-02-03T11:55:59.077Z"
   },
   {
    "duration": 0,
    "start_time": "2023-02-03T11:55:59.078Z"
   },
   {
    "duration": 0,
    "start_time": "2023-02-03T11:55:59.079Z"
   },
   {
    "duration": 0,
    "start_time": "2023-02-03T11:55:59.080Z"
   },
   {
    "duration": 0,
    "start_time": "2023-02-03T11:55:59.081Z"
   },
   {
    "duration": 0,
    "start_time": "2023-02-03T11:55:59.082Z"
   },
   {
    "duration": 0,
    "start_time": "2023-02-03T11:55:59.083Z"
   },
   {
    "duration": 0,
    "start_time": "2023-02-03T11:55:59.084Z"
   },
   {
    "duration": 0,
    "start_time": "2023-02-03T11:55:59.085Z"
   },
   {
    "duration": 0,
    "start_time": "2023-02-03T11:55:59.086Z"
   },
   {
    "duration": 0,
    "start_time": "2023-02-03T11:55:59.086Z"
   },
   {
    "duration": 0,
    "start_time": "2023-02-03T11:55:59.110Z"
   },
   {
    "duration": 0,
    "start_time": "2023-02-03T11:55:59.111Z"
   },
   {
    "duration": 0,
    "start_time": "2023-02-03T11:55:59.112Z"
   },
   {
    "duration": 0,
    "start_time": "2023-02-03T11:55:59.113Z"
   },
   {
    "duration": 0,
    "start_time": "2023-02-03T11:55:59.114Z"
   },
   {
    "duration": 0,
    "start_time": "2023-02-03T11:55:59.115Z"
   },
   {
    "duration": 0,
    "start_time": "2023-02-03T11:55:59.117Z"
   },
   {
    "duration": 0,
    "start_time": "2023-02-03T11:55:59.118Z"
   },
   {
    "duration": 0,
    "start_time": "2023-02-03T11:55:59.119Z"
   },
   {
    "duration": 0,
    "start_time": "2023-02-03T11:55:59.120Z"
   },
   {
    "duration": 0,
    "start_time": "2023-02-03T11:55:59.121Z"
   },
   {
    "duration": 0,
    "start_time": "2023-02-03T11:55:59.122Z"
   },
   {
    "duration": 0,
    "start_time": "2023-02-03T11:55:59.123Z"
   },
   {
    "duration": 0,
    "start_time": "2023-02-03T11:55:59.124Z"
   },
   {
    "duration": 0,
    "start_time": "2023-02-03T11:55:59.125Z"
   },
   {
    "duration": 0,
    "start_time": "2023-02-03T11:55:59.127Z"
   },
   {
    "duration": 0,
    "start_time": "2023-02-03T11:55:59.128Z"
   },
   {
    "duration": 0,
    "start_time": "2023-02-03T11:55:59.129Z"
   },
   {
    "duration": 0,
    "start_time": "2023-02-03T11:55:59.130Z"
   },
   {
    "duration": 3146,
    "start_time": "2023-02-03T11:56:50.875Z"
   },
   {
    "duration": 22,
    "start_time": "2023-02-03T11:56:54.993Z"
   },
   {
    "duration": 2147,
    "start_time": "2023-02-03T11:57:00.328Z"
   },
   {
    "duration": 2000,
    "start_time": "2023-02-03T11:57:02.478Z"
   },
   {
    "duration": 4,
    "start_time": "2023-02-03T11:57:04.479Z"
   },
   {
    "duration": 5122,
    "start_time": "2023-02-03T11:57:04.485Z"
   },
   {
    "duration": 80,
    "start_time": "2023-02-03T11:57:09.608Z"
   },
   {
    "duration": 28,
    "start_time": "2023-02-03T11:57:09.689Z"
   },
   {
    "duration": 129,
    "start_time": "2023-02-03T11:57:09.719Z"
   },
   {
    "duration": 18,
    "start_time": "2023-02-03T11:57:09.849Z"
   },
   {
    "duration": 3,
    "start_time": "2023-02-03T11:57:09.869Z"
   },
   {
    "duration": 36,
    "start_time": "2023-02-03T11:57:09.874Z"
   },
   {
    "duration": 4,
    "start_time": "2023-02-03T11:57:09.911Z"
   },
   {
    "duration": 12,
    "start_time": "2023-02-03T11:57:09.916Z"
   },
   {
    "duration": 3,
    "start_time": "2023-02-03T11:57:09.930Z"
   },
   {
    "duration": 12,
    "start_time": "2023-02-03T11:57:09.934Z"
   },
   {
    "duration": 40,
    "start_time": "2023-02-03T11:57:09.947Z"
   },
   {
    "duration": 32,
    "start_time": "2023-02-03T11:57:09.989Z"
   },
   {
    "duration": 523,
    "start_time": "2023-02-03T11:57:10.022Z"
   },
   {
    "duration": 22,
    "start_time": "2023-02-03T11:57:10.546Z"
   },
   {
    "duration": 217,
    "start_time": "2023-02-03T11:57:10.570Z"
   },
   {
    "duration": 1713,
    "start_time": "2023-02-03T11:57:10.789Z"
   },
   {
    "duration": 11,
    "start_time": "2023-02-03T11:57:12.504Z"
   },
   {
    "duration": 366,
    "start_time": "2023-02-03T11:57:12.516Z"
   },
   {
    "duration": 3833,
    "start_time": "2023-02-03T11:57:12.883Z"
   },
   {
    "duration": 52,
    "start_time": "2023-02-03T11:57:16.718Z"
   },
   {
    "duration": 112,
    "start_time": "2023-02-03T11:57:16.773Z"
   },
   {
    "duration": 125808,
    "start_time": "2023-02-03T11:57:16.887Z"
   },
   {
    "duration": 27278,
    "start_time": "2023-02-03T11:59:22.697Z"
   },
   {
    "duration": 0,
    "start_time": "2023-02-03T11:59:49.978Z"
   },
   {
    "duration": 0,
    "start_time": "2023-02-03T11:59:49.979Z"
   },
   {
    "duration": 0,
    "start_time": "2023-02-03T11:59:49.980Z"
   },
   {
    "duration": 0,
    "start_time": "2023-02-03T11:59:49.981Z"
   },
   {
    "duration": 0,
    "start_time": "2023-02-03T11:59:49.982Z"
   },
   {
    "duration": 0,
    "start_time": "2023-02-03T11:59:49.983Z"
   },
   {
    "duration": 0,
    "start_time": "2023-02-03T11:59:49.984Z"
   },
   {
    "duration": 0,
    "start_time": "2023-02-03T11:59:49.986Z"
   },
   {
    "duration": 0,
    "start_time": "2023-02-03T11:59:49.987Z"
   },
   {
    "duration": 0,
    "start_time": "2023-02-03T11:59:49.988Z"
   },
   {
    "duration": 118107,
    "start_time": "2023-02-03T11:59:55.470Z"
   },
   {
    "duration": 2065,
    "start_time": "2023-02-03T12:02:42.349Z"
   },
   {
    "duration": 1951,
    "start_time": "2023-02-03T12:02:44.416Z"
   },
   {
    "duration": 4,
    "start_time": "2023-02-03T12:02:46.369Z"
   },
   {
    "duration": 4886,
    "start_time": "2023-02-03T12:02:46.374Z"
   },
   {
    "duration": 82,
    "start_time": "2023-02-03T12:02:51.262Z"
   },
   {
    "duration": 28,
    "start_time": "2023-02-03T12:02:51.345Z"
   },
   {
    "duration": 145,
    "start_time": "2023-02-03T12:02:51.374Z"
   },
   {
    "duration": 20,
    "start_time": "2023-02-03T12:02:51.520Z"
   },
   {
    "duration": 3,
    "start_time": "2023-02-03T12:02:51.541Z"
   },
   {
    "duration": 32,
    "start_time": "2023-02-03T12:02:51.547Z"
   },
   {
    "duration": 11,
    "start_time": "2023-02-03T12:02:51.581Z"
   },
   {
    "duration": 19,
    "start_time": "2023-02-03T12:02:51.594Z"
   },
   {
    "duration": 5,
    "start_time": "2023-02-03T12:02:51.614Z"
   },
   {
    "duration": 24,
    "start_time": "2023-02-03T12:02:51.620Z"
   },
   {
    "duration": 36,
    "start_time": "2023-02-03T12:02:51.645Z"
   },
   {
    "duration": 31,
    "start_time": "2023-02-03T12:02:51.683Z"
   },
   {
    "duration": 550,
    "start_time": "2023-02-03T12:02:51.715Z"
   },
   {
    "duration": 23,
    "start_time": "2023-02-03T12:02:52.267Z"
   },
   {
    "duration": 234,
    "start_time": "2023-02-03T12:02:52.292Z"
   },
   {
    "duration": 1788,
    "start_time": "2023-02-03T12:02:52.528Z"
   },
   {
    "duration": 11,
    "start_time": "2023-02-03T12:02:54.318Z"
   },
   {
    "duration": 383,
    "start_time": "2023-02-03T12:02:54.331Z"
   },
   {
    "duration": 3836,
    "start_time": "2023-02-03T12:02:54.716Z"
   },
   {
    "duration": 58,
    "start_time": "2023-02-03T12:02:58.553Z"
   },
   {
    "duration": 97,
    "start_time": "2023-02-03T12:02:58.613Z"
   },
   {
    "duration": 116795,
    "start_time": "2023-02-03T12:02:58.711Z"
   },
   {
    "duration": 107180,
    "start_time": "2023-02-03T12:04:55.509Z"
   },
   {
    "duration": 0,
    "start_time": "2023-02-03T12:06:42.692Z"
   },
   {
    "duration": 0,
    "start_time": "2023-02-03T12:06:42.692Z"
   },
   {
    "duration": 0,
    "start_time": "2023-02-03T12:06:42.694Z"
   },
   {
    "duration": 0,
    "start_time": "2023-02-03T12:06:42.695Z"
   },
   {
    "duration": 0,
    "start_time": "2023-02-03T12:06:42.710Z"
   },
   {
    "duration": 0,
    "start_time": "2023-02-03T12:06:42.711Z"
   },
   {
    "duration": 0,
    "start_time": "2023-02-03T12:06:42.713Z"
   },
   {
    "duration": 0,
    "start_time": "2023-02-03T12:06:42.714Z"
   },
   {
    "duration": 0,
    "start_time": "2023-02-03T12:06:42.715Z"
   },
   {
    "duration": 0,
    "start_time": "2023-02-03T12:06:42.716Z"
   },
   {
    "duration": 41763,
    "start_time": "2023-02-03T12:06:49.064Z"
   },
   {
    "duration": 2267,
    "start_time": "2023-02-03T12:07:41.372Z"
   },
   {
    "duration": 2113,
    "start_time": "2023-02-03T12:07:43.644Z"
   },
   {
    "duration": 5,
    "start_time": "2023-02-03T12:07:45.759Z"
   },
   {
    "duration": 4998,
    "start_time": "2023-02-03T12:07:45.766Z"
   },
   {
    "duration": 81,
    "start_time": "2023-02-03T12:07:50.766Z"
   },
   {
    "duration": 37,
    "start_time": "2023-02-03T12:07:50.850Z"
   },
   {
    "duration": 147,
    "start_time": "2023-02-03T12:07:50.889Z"
   },
   {
    "duration": 25,
    "start_time": "2023-02-03T12:07:51.038Z"
   },
   {
    "duration": 9,
    "start_time": "2023-02-03T12:07:51.065Z"
   },
   {
    "duration": 47,
    "start_time": "2023-02-03T12:07:51.076Z"
   },
   {
    "duration": 22,
    "start_time": "2023-02-03T12:07:51.125Z"
   },
   {
    "duration": 14,
    "start_time": "2023-02-03T12:07:51.149Z"
   },
   {
    "duration": 17,
    "start_time": "2023-02-03T12:07:51.165Z"
   },
   {
    "duration": 36,
    "start_time": "2023-02-03T12:07:51.183Z"
   },
   {
    "duration": 45,
    "start_time": "2023-02-03T12:07:51.221Z"
   },
   {
    "duration": 42,
    "start_time": "2023-02-03T12:07:51.268Z"
   },
   {
    "duration": 543,
    "start_time": "2023-02-03T12:07:51.313Z"
   },
   {
    "duration": 23,
    "start_time": "2023-02-03T12:07:51.857Z"
   },
   {
    "duration": 247,
    "start_time": "2023-02-03T12:07:51.882Z"
   },
   {
    "duration": 1832,
    "start_time": "2023-02-03T12:07:52.132Z"
   },
   {
    "duration": 12,
    "start_time": "2023-02-03T12:07:53.966Z"
   },
   {
    "duration": 386,
    "start_time": "2023-02-03T12:07:53.980Z"
   },
   {
    "duration": 3883,
    "start_time": "2023-02-03T12:07:54.368Z"
   },
   {
    "duration": 61,
    "start_time": "2023-02-03T12:07:58.252Z"
   },
   {
    "duration": 98,
    "start_time": "2023-02-03T12:07:58.315Z"
   },
   {
    "duration": 117613,
    "start_time": "2023-02-03T12:07:58.414Z"
   },
   {
    "duration": 77192,
    "start_time": "2023-02-03T12:09:56.028Z"
   },
   {
    "duration": 0,
    "start_time": "2023-02-03T12:11:13.222Z"
   },
   {
    "duration": 0,
    "start_time": "2023-02-03T12:11:13.223Z"
   },
   {
    "duration": 0,
    "start_time": "2023-02-03T12:11:13.224Z"
   },
   {
    "duration": 0,
    "start_time": "2023-02-03T12:11:13.225Z"
   },
   {
    "duration": 0,
    "start_time": "2023-02-03T12:11:13.226Z"
   },
   {
    "duration": 0,
    "start_time": "2023-02-03T12:11:13.227Z"
   },
   {
    "duration": 0,
    "start_time": "2023-02-03T12:11:13.228Z"
   },
   {
    "duration": 0,
    "start_time": "2023-02-03T12:11:13.229Z"
   },
   {
    "duration": 0,
    "start_time": "2023-02-03T12:11:13.229Z"
   },
   {
    "duration": 0,
    "start_time": "2023-02-03T12:11:13.230Z"
   },
   {
    "duration": 78626,
    "start_time": "2023-02-03T12:14:29.593Z"
   },
   {
    "duration": 7,
    "start_time": "2023-02-03T12:16:05.580Z"
   },
   {
    "duration": 46065,
    "start_time": "2023-02-03T12:16:06.054Z"
   },
   {
    "duration": 339,
    "start_time": "2023-02-03T12:16:52.121Z"
   },
   {
    "duration": 4,
    "start_time": "2023-02-03T12:16:52.461Z"
   },
   {
    "duration": 12,
    "start_time": "2023-02-03T12:16:52.467Z"
   },
   {
    "duration": 44,
    "start_time": "2023-02-03T12:18:39.008Z"
   },
   {
    "duration": 406,
    "start_time": "2023-02-03T12:18:44.273Z"
   },
   {
    "duration": 266,
    "start_time": "2023-02-03T12:18:46.859Z"
   },
   {
    "duration": 238,
    "start_time": "2023-02-03T12:19:25.313Z"
   },
   {
    "duration": 237,
    "start_time": "2023-02-03T12:19:25.941Z"
   },
   {
    "duration": 2164,
    "start_time": "2023-02-03T12:21:11.590Z"
   },
   {
    "duration": 2034,
    "start_time": "2023-02-03T12:21:13.756Z"
   },
   {
    "duration": 3,
    "start_time": "2023-02-03T12:21:15.792Z"
   },
   {
    "duration": 4691,
    "start_time": "2023-02-03T12:21:15.797Z"
   },
   {
    "duration": 85,
    "start_time": "2023-02-03T12:21:20.490Z"
   },
   {
    "duration": 29,
    "start_time": "2023-02-03T12:21:20.576Z"
   },
   {
    "duration": 132,
    "start_time": "2023-02-03T12:21:20.607Z"
   },
   {
    "duration": 19,
    "start_time": "2023-02-03T12:21:20.741Z"
   },
   {
    "duration": 4,
    "start_time": "2023-02-03T12:21:20.761Z"
   },
   {
    "duration": 24,
    "start_time": "2023-02-03T12:21:20.767Z"
   },
   {
    "duration": 5,
    "start_time": "2023-02-03T12:21:20.811Z"
   },
   {
    "duration": 20,
    "start_time": "2023-02-03T12:21:20.817Z"
   },
   {
    "duration": 8,
    "start_time": "2023-02-03T12:21:20.839Z"
   },
   {
    "duration": 18,
    "start_time": "2023-02-03T12:21:20.848Z"
   },
   {
    "duration": 53,
    "start_time": "2023-02-03T12:21:20.868Z"
   },
   {
    "duration": 14,
    "start_time": "2023-02-03T12:21:20.923Z"
   },
   {
    "duration": 555,
    "start_time": "2023-02-03T12:21:20.939Z"
   },
   {
    "duration": 28,
    "start_time": "2023-02-03T12:21:21.495Z"
   },
   {
    "duration": 216,
    "start_time": "2023-02-03T12:21:21.525Z"
   },
   {
    "duration": 1739,
    "start_time": "2023-02-03T12:21:21.742Z"
   },
   {
    "duration": 14,
    "start_time": "2023-02-03T12:21:23.483Z"
   },
   {
    "duration": 386,
    "start_time": "2023-02-03T12:21:23.500Z"
   },
   {
    "duration": 3847,
    "start_time": "2023-02-03T12:21:23.888Z"
   },
   {
    "duration": 45,
    "start_time": "2023-02-03T12:21:27.737Z"
   },
   {
    "duration": 96,
    "start_time": "2023-02-03T12:21:27.784Z"
   },
   {
    "duration": 117687,
    "start_time": "2023-02-03T12:21:27.910Z"
   },
   {
    "duration": 131914,
    "start_time": "2023-02-03T12:23:25.599Z"
   },
   {
    "duration": 6,
    "start_time": "2023-02-03T12:25:37.516Z"
   },
   {
    "duration": 43207,
    "start_time": "2023-02-03T12:25:37.524Z"
   },
   {
    "duration": 309,
    "start_time": "2023-02-03T12:26:20.810Z"
   },
   {
    "duration": 4,
    "start_time": "2023-02-03T12:26:21.120Z"
   },
   {
    "duration": 37,
    "start_time": "2023-02-03T12:26:21.125Z"
   },
   {
    "duration": 86,
    "start_time": "2023-02-03T12:26:21.163Z"
   },
   {
    "duration": 420,
    "start_time": "2023-02-03T12:26:21.251Z"
   },
   {
    "duration": 253,
    "start_time": "2023-02-03T12:26:21.673Z"
   },
   {
    "duration": 254,
    "start_time": "2023-02-03T12:26:21.928Z"
   },
   {
    "duration": 263,
    "start_time": "2023-02-03T12:26:22.184Z"
   }
  ],
  "kernelspec": {
   "display_name": "Python 3 (ipykernel)",
   "language": "python",
   "name": "python3"
  },
  "language_info": {
   "codemirror_mode": {
    "name": "ipython",
    "version": 3
   },
   "file_extension": ".py",
   "mimetype": "text/x-python",
   "name": "python",
   "nbconvert_exporter": "python",
   "pygments_lexer": "ipython3",
   "version": "3.9.15"
  },
  "toc": {
   "base_numbering": 1,
   "nav_menu": {},
   "number_sections": true,
   "sideBar": true,
   "skip_h1_title": true,
   "title_cell": "Table of Contents",
   "title_sidebar": "Contents",
   "toc_cell": true,
   "toc_position": {
    "height": "calc(100% - 180px)",
    "left": "10px",
    "top": "150px",
    "width": "165px"
   },
   "toc_section_display": true,
   "toc_window_display": false
  }
 },
 "nbformat": 4,
 "nbformat_minor": 5
}
