{
 "cells": [
  {
   "cell_type": "markdown",
   "id": "d0661e6d",
   "metadata": {},
   "source": [
    "# Рекомендация тарифов\n",
    "\n",
    "Оператор мобильной связи «Мегалайн» хочет построить систему, способную проанализировать поведение клиентов и предложить пользователям новый тариф: «Смарт» или «Ультра». Нужно построить модель для задачи классификации (с максимально большим значением accuracy, не менее 0.75), которая выберет подходящий тариф.\n",
    "\n",
    "В нашем распоряжении данные о поведении клиентов, которые уже перешли на эти тарифы.\n",
    "\n",
    "**Цель исследования** — построение модели для задачи классификации с наиболее точным значением accuracy\n",
    "\n",
    "**Ход исследования:**\n",
    "\n",
    "Для построения модели предоставлен датасет `users_behavior.csv`. Предобработка данных не требуется. \n",
    "\n",
    "Исследование пройдёт в шесть этапов:\n",
    " 1. Обзор данных\n",
    " 2. Подготовка выборок\n",
    " 3. Построение моделей\n",
    " 4. Выбор наилучшей модели\n",
    " 5. Проверка моделей на вменяемость\n",
    " 6. Выводы"
   ]
  },
  {
   "cell_type": "markdown",
   "id": "423d3c24",
   "metadata": {
    "toc": true
   },
   "source": [
    "<h1>Содержание<span class=\"tocSkip\"></span></h1>\n",
    "<div class=\"toc\"><ul class=\"toc-item\"><li><span><a href=\"#Обзор-данных\" data-toc-modified-id=\"Обзор-данных-1\"><span class=\"toc-item-num\">1&nbsp;&nbsp;</span>Обзор данных</a></span></li><li><span><a href=\"#Подготовка-выборок\" data-toc-modified-id=\"Подготовка-выборок-2\"><span class=\"toc-item-num\">2&nbsp;&nbsp;</span>Подготовка выборок</a></span></li><li><span><a href=\"#Построение-моделей\" data-toc-modified-id=\"Построение-моделей-3\"><span class=\"toc-item-num\">3&nbsp;&nbsp;</span>Построение моделей</a></span><ul class=\"toc-item\"><li><span><a href=\"#Дерево-решений\" data-toc-modified-id=\"Дерево-решений-3.1\"><span class=\"toc-item-num\">3.1&nbsp;&nbsp;</span>Дерево решений</a></span></li><li><span><a href=\"#Случайный-лес\" data-toc-modified-id=\"Случайный-лес-3.2\"><span class=\"toc-item-num\">3.2&nbsp;&nbsp;</span>Случайный лес</a></span></li><li><span><a href=\"#Логистическая-регрессия\" data-toc-modified-id=\"Логистическая-регрессия-3.3\"><span class=\"toc-item-num\">3.3&nbsp;&nbsp;</span>Логистическая регрессия</a></span></li><li><span><a href=\"#Выбор-наилучшей-модели\" data-toc-modified-id=\"Выбор-наилучшей-модели-3.4\"><span class=\"toc-item-num\">3.4&nbsp;&nbsp;</span>Выбор наилучшей модели</a></span></li><li><span><a href=\"#Выводы\" data-toc-modified-id=\"Выводы-3.5\"><span class=\"toc-item-num\">3.5&nbsp;&nbsp;</span>Выводы</a></span></li></ul></li></ul></div>"
   ]
  },
  {
   "cell_type": "markdown",
   "id": "5908a090",
   "metadata": {},
   "source": [
    "## Обзор данных\n",
    "\n",
    "Имопртируем бибилиотеки:"
   ]
  },
  {
   "cell_type": "code",
   "execution_count": 1,
   "id": "86580d6e",
   "metadata": {},
   "outputs": [],
   "source": [
    "import pandas as pd\n",
    "from sklearn.model_selection import train_test_split, GridSearchCV, cross_val_score\n",
    "from sklearn.tree import DecisionTreeClassifier\n",
    "from sklearn.ensemble import RandomForestClassifier\n",
    "from sklearn.linear_model import LogisticRegression\n",
    "\n",
    "SEED = 42"
   ]
  },
  {
   "cell_type": "markdown",
   "id": "97e86bea",
   "metadata": {},
   "source": [
    "Считаем датасет и сохраним в переменную:"
   ]
  },
  {
   "cell_type": "code",
   "execution_count": 2,
   "id": "d93a75d1",
   "metadata": {},
   "outputs": [],
   "source": [
    "try:\n",
    "    df = pd.read_csv('/datasets/users_behavior.csv')\n",
    "except:\n",
    "    df = pd.read_csv('users_behavior.csv')"
   ]
  },
  {
   "cell_type": "markdown",
   "id": "5cb50af1",
   "metadata": {},
   "source": [
    "Выведем на экран первые, последние и случайные пять строк датасета и общую информацию:"
   ]
  },
  {
   "cell_type": "code",
   "execution_count": 3,
   "id": "4e0913cd",
   "metadata": {},
   "outputs": [
    {
     "name": "stdout",
     "output_type": "stream",
     "text": [
      "<class 'pandas.core.frame.DataFrame'>\n",
      "RangeIndex: 3214 entries, 0 to 3213\n",
      "Data columns (total 5 columns):\n",
      "calls       3214 non-null float64\n",
      "minutes     3214 non-null float64\n",
      "messages    3214 non-null float64\n",
      "mb_used     3214 non-null float64\n",
      "is_ultra    3214 non-null int64\n",
      "dtypes: float64(4), int64(1)\n",
      "memory usage: 125.7 KB\n"
     ]
    },
    {
     "data": {
      "text/html": [
       "<div>\n",
       "<style scoped>\n",
       "    .dataframe tbody tr th:only-of-type {\n",
       "        vertical-align: middle;\n",
       "    }\n",
       "\n",
       "    .dataframe tbody tr th {\n",
       "        vertical-align: top;\n",
       "    }\n",
       "\n",
       "    .dataframe thead th {\n",
       "        text-align: right;\n",
       "    }\n",
       "</style>\n",
       "<table border=\"1\" class=\"dataframe\">\n",
       "  <thead>\n",
       "    <tr style=\"text-align: right;\">\n",
       "      <th></th>\n",
       "      <th>calls</th>\n",
       "      <th>minutes</th>\n",
       "      <th>messages</th>\n",
       "      <th>mb_used</th>\n",
       "      <th>is_ultra</th>\n",
       "    </tr>\n",
       "  </thead>\n",
       "  <tbody>\n",
       "    <tr>\n",
       "      <td>0</td>\n",
       "      <td>40.0</td>\n",
       "      <td>311.90</td>\n",
       "      <td>83.0</td>\n",
       "      <td>19915.42</td>\n",
       "      <td>0</td>\n",
       "    </tr>\n",
       "    <tr>\n",
       "      <td>1</td>\n",
       "      <td>85.0</td>\n",
       "      <td>516.75</td>\n",
       "      <td>56.0</td>\n",
       "      <td>22696.96</td>\n",
       "      <td>0</td>\n",
       "    </tr>\n",
       "    <tr>\n",
       "      <td>2</td>\n",
       "      <td>77.0</td>\n",
       "      <td>467.66</td>\n",
       "      <td>86.0</td>\n",
       "      <td>21060.45</td>\n",
       "      <td>0</td>\n",
       "    </tr>\n",
       "    <tr>\n",
       "      <td>3</td>\n",
       "      <td>106.0</td>\n",
       "      <td>745.53</td>\n",
       "      <td>81.0</td>\n",
       "      <td>8437.39</td>\n",
       "      <td>1</td>\n",
       "    </tr>\n",
       "    <tr>\n",
       "      <td>4</td>\n",
       "      <td>66.0</td>\n",
       "      <td>418.74</td>\n",
       "      <td>1.0</td>\n",
       "      <td>14502.75</td>\n",
       "      <td>0</td>\n",
       "    </tr>\n",
       "    <tr>\n",
       "      <td>506</td>\n",
       "      <td>46.0</td>\n",
       "      <td>338.60</td>\n",
       "      <td>35.0</td>\n",
       "      <td>11428.54</td>\n",
       "      <td>0</td>\n",
       "    </tr>\n",
       "    <tr>\n",
       "      <td>2513</td>\n",
       "      <td>39.0</td>\n",
       "      <td>242.71</td>\n",
       "      <td>0.0</td>\n",
       "      <td>20480.11</td>\n",
       "      <td>0</td>\n",
       "    </tr>\n",
       "    <tr>\n",
       "      <td>354</td>\n",
       "      <td>39.0</td>\n",
       "      <td>258.02</td>\n",
       "      <td>0.0</td>\n",
       "      <td>19998.80</td>\n",
       "      <td>0</td>\n",
       "    </tr>\n",
       "    <tr>\n",
       "      <td>1080</td>\n",
       "      <td>36.0</td>\n",
       "      <td>230.99</td>\n",
       "      <td>19.0</td>\n",
       "      <td>23525.07</td>\n",
       "      <td>1</td>\n",
       "    </tr>\n",
       "    <tr>\n",
       "      <td>2389</td>\n",
       "      <td>35.0</td>\n",
       "      <td>205.35</td>\n",
       "      <td>52.0</td>\n",
       "      <td>35177.94</td>\n",
       "      <td>1</td>\n",
       "    </tr>\n",
       "    <tr>\n",
       "      <td>3209</td>\n",
       "      <td>122.0</td>\n",
       "      <td>910.98</td>\n",
       "      <td>20.0</td>\n",
       "      <td>35124.90</td>\n",
       "      <td>1</td>\n",
       "    </tr>\n",
       "    <tr>\n",
       "      <td>3210</td>\n",
       "      <td>25.0</td>\n",
       "      <td>190.36</td>\n",
       "      <td>0.0</td>\n",
       "      <td>3275.61</td>\n",
       "      <td>0</td>\n",
       "    </tr>\n",
       "    <tr>\n",
       "      <td>3211</td>\n",
       "      <td>97.0</td>\n",
       "      <td>634.44</td>\n",
       "      <td>70.0</td>\n",
       "      <td>13974.06</td>\n",
       "      <td>0</td>\n",
       "    </tr>\n",
       "    <tr>\n",
       "      <td>3212</td>\n",
       "      <td>64.0</td>\n",
       "      <td>462.32</td>\n",
       "      <td>90.0</td>\n",
       "      <td>31239.78</td>\n",
       "      <td>0</td>\n",
       "    </tr>\n",
       "    <tr>\n",
       "      <td>3213</td>\n",
       "      <td>80.0</td>\n",
       "      <td>566.09</td>\n",
       "      <td>6.0</td>\n",
       "      <td>29480.52</td>\n",
       "      <td>1</td>\n",
       "    </tr>\n",
       "  </tbody>\n",
       "</table>\n",
       "</div>"
      ],
      "text/plain": [
       "      calls  minutes  messages   mb_used  is_ultra\n",
       "0      40.0   311.90      83.0  19915.42         0\n",
       "1      85.0   516.75      56.0  22696.96         0\n",
       "2      77.0   467.66      86.0  21060.45         0\n",
       "3     106.0   745.53      81.0   8437.39         1\n",
       "4      66.0   418.74       1.0  14502.75         0\n",
       "506    46.0   338.60      35.0  11428.54         0\n",
       "2513   39.0   242.71       0.0  20480.11         0\n",
       "354    39.0   258.02       0.0  19998.80         0\n",
       "1080   36.0   230.99      19.0  23525.07         1\n",
       "2389   35.0   205.35      52.0  35177.94         1\n",
       "3209  122.0   910.98      20.0  35124.90         1\n",
       "3210   25.0   190.36       0.0   3275.61         0\n",
       "3211   97.0   634.44      70.0  13974.06         0\n",
       "3212   64.0   462.32      90.0  31239.78         0\n",
       "3213   80.0   566.09       6.0  29480.52         1"
      ]
     },
     "metadata": {},
     "output_type": "display_data"
    },
    {
     "data": {
      "text/plain": [
       "None"
      ]
     },
     "metadata": {},
     "output_type": "display_data"
    },
    {
     "data": {
      "text/html": [
       "<div>\n",
       "<style scoped>\n",
       "    .dataframe tbody tr th:only-of-type {\n",
       "        vertical-align: middle;\n",
       "    }\n",
       "\n",
       "    .dataframe tbody tr th {\n",
       "        vertical-align: top;\n",
       "    }\n",
       "\n",
       "    .dataframe thead th {\n",
       "        text-align: right;\n",
       "    }\n",
       "</style>\n",
       "<table border=\"1\" class=\"dataframe\">\n",
       "  <thead>\n",
       "    <tr style=\"text-align: right;\">\n",
       "      <th></th>\n",
       "      <th>calls</th>\n",
       "      <th>minutes</th>\n",
       "      <th>messages</th>\n",
       "      <th>mb_used</th>\n",
       "      <th>is_ultra</th>\n",
       "    </tr>\n",
       "  </thead>\n",
       "  <tbody>\n",
       "    <tr>\n",
       "      <td>count</td>\n",
       "      <td>3214.000000</td>\n",
       "      <td>3214.000000</td>\n",
       "      <td>3214.000000</td>\n",
       "      <td>3214.000000</td>\n",
       "      <td>3214.000000</td>\n",
       "    </tr>\n",
       "    <tr>\n",
       "      <td>mean</td>\n",
       "      <td>63.038892</td>\n",
       "      <td>438.208787</td>\n",
       "      <td>38.281269</td>\n",
       "      <td>17207.673836</td>\n",
       "      <td>0.306472</td>\n",
       "    </tr>\n",
       "    <tr>\n",
       "      <td>std</td>\n",
       "      <td>33.236368</td>\n",
       "      <td>234.569872</td>\n",
       "      <td>36.148326</td>\n",
       "      <td>7570.968246</td>\n",
       "      <td>0.461100</td>\n",
       "    </tr>\n",
       "    <tr>\n",
       "      <td>min</td>\n",
       "      <td>0.000000</td>\n",
       "      <td>0.000000</td>\n",
       "      <td>0.000000</td>\n",
       "      <td>0.000000</td>\n",
       "      <td>0.000000</td>\n",
       "    </tr>\n",
       "    <tr>\n",
       "      <td>25%</td>\n",
       "      <td>40.000000</td>\n",
       "      <td>274.575000</td>\n",
       "      <td>9.000000</td>\n",
       "      <td>12491.902500</td>\n",
       "      <td>0.000000</td>\n",
       "    </tr>\n",
       "    <tr>\n",
       "      <td>50%</td>\n",
       "      <td>62.000000</td>\n",
       "      <td>430.600000</td>\n",
       "      <td>30.000000</td>\n",
       "      <td>16943.235000</td>\n",
       "      <td>0.000000</td>\n",
       "    </tr>\n",
       "    <tr>\n",
       "      <td>75%</td>\n",
       "      <td>82.000000</td>\n",
       "      <td>571.927500</td>\n",
       "      <td>57.000000</td>\n",
       "      <td>21424.700000</td>\n",
       "      <td>1.000000</td>\n",
       "    </tr>\n",
       "    <tr>\n",
       "      <td>max</td>\n",
       "      <td>244.000000</td>\n",
       "      <td>1632.060000</td>\n",
       "      <td>224.000000</td>\n",
       "      <td>49745.730000</td>\n",
       "      <td>1.000000</td>\n",
       "    </tr>\n",
       "  </tbody>\n",
       "</table>\n",
       "</div>"
      ],
      "text/plain": [
       "             calls      minutes     messages       mb_used     is_ultra\n",
       "count  3214.000000  3214.000000  3214.000000   3214.000000  3214.000000\n",
       "mean     63.038892   438.208787    38.281269  17207.673836     0.306472\n",
       "std      33.236368   234.569872    36.148326   7570.968246     0.461100\n",
       "min       0.000000     0.000000     0.000000      0.000000     0.000000\n",
       "25%      40.000000   274.575000     9.000000  12491.902500     0.000000\n",
       "50%      62.000000   430.600000    30.000000  16943.235000     0.000000\n",
       "75%      82.000000   571.927500    57.000000  21424.700000     1.000000\n",
       "max     244.000000  1632.060000   224.000000  49745.730000     1.000000"
      ]
     },
     "metadata": {},
     "output_type": "display_data"
    }
   ],
   "source": [
    "display(pd.concat([df.head(), df.sample(5, random_state=SEED), df.tail()]),\n",
    "        df.info(),\n",
    "        df.describe())"
   ]
  },
  {
   "cell_type": "markdown",
   "id": "befe0293",
   "metadata": {},
   "source": [
    "В датасете `users_behavior.csv` 5 колонок и 3214 строк. Тип данных в колонках `float64` и `int64`.\n",
    "Согласно документации к данным:\n",
    "* `сalls` — количество звонков;\n",
    "* `minutes` — суммарная длительность звонков в минутах;\n",
    "* `messages` — количество sms-сообщений;\n",
    "* `mb_used` — израсходованный интернет-трафик в Мб;\n",
    "* `is_ultra` — каким тарифом пользовался в течение месяца («Ультра» — 1, «Смарт» — 0)\n",
    "\n",
    "Пропущенные значения отсутствуют."
   ]
  },
  {
   "cell_type": "markdown",
   "id": "e8ddfa48",
   "metadata": {},
   "source": [
    "**Выводы**\n",
    "\n",
    "В каждой строке датасета `users_behavior.csv`содержится информация о поведении уникального пользователя за месяц: количество звонков, суммарная длительность звонков в минутах, количество sms-сообщений, израсходованный интернет-трафик в Мб и тариф.\n",
    "\n",
    "Пропущенные значения отсутствуют. Средние, медианные, максимальные и минимальные значения выглядят правдоподобно, выбивающихся значений нет. Предобработка данных не требуется. Можно приступать к исследованию."
   ]
  },
  {
   "cell_type": "markdown",
   "id": "93585cdf",
   "metadata": {},
   "source": [
    "## Подготовка выборок"
   ]
  },
  {
   "cell_type": "markdown",
   "id": "d7d4514c",
   "metadata": {},
   "source": [
    "Проверим баланс классов:"
   ]
  },
  {
   "cell_type": "code",
   "execution_count": 4,
   "id": "f3c36109",
   "metadata": {},
   "outputs": [
    {
     "data": {
      "text/plain": [
       "0    0.693528\n",
       "1    0.306472\n",
       "Name: is_ultra, dtype: float64"
      ]
     },
     "execution_count": 4,
     "metadata": {},
     "output_type": "execute_result"
    }
   ],
   "source": [
    "df['is_ultra'].value_counts(normalize=True)"
   ]
  },
  {
   "cell_type": "markdown",
   "id": "62d2e48e",
   "metadata": {},
   "source": [
    "Классы не сбалансированы.\n",
    "\n",
    "В колонке `is_ultra` находится целевой признак, сохраним его в переменную `target`. Разделим исходные данные на обучающую, валидационную и тестовую выборки:"
   ]
  },
  {
   "cell_type": "code",
   "execution_count": 5,
   "id": "ce95a75a",
   "metadata": {},
   "outputs": [
    {
     "name": "stdout",
     "output_type": "stream",
     "text": [
      "features_train: (1928, 4) \n",
      " target_train: (1928,) \n",
      " features_valid: (643, 4) \n",
      " target_valid: (643,) \n",
      " features_test: (643, 4) \n",
      " target_test: (643,)\n"
     ]
    }
   ],
   "source": [
    "features = df.drop('is_ultra', axis=1)\n",
    "target = df['is_ultra']\n",
    "features_train, features_valid_test, target_train, target_valid_test = train_test_split(features,\n",
    "                                                                                        target,\n",
    "                                                                                        test_size=0.4,\n",
    "                                                                                        random_state=SEED)\n",
    "features_valid, features_test, target_valid, target_test = train_test_split(features_valid_test,\n",
    "                                                                            target_valid_test,\n",
    "                                                                            test_size=0.5,\n",
    "                                                                            random_state=SEED)\n",
    "print('features_train:',features_train.shape, '\\n',\n",
    "      'target_train:', target_train.shape, '\\n',\n",
    "      'features_valid:', features_valid.shape, '\\n',\n",
    "      'target_valid:', target_valid.shape, '\\n',\n",
    "      'features_test:', features_test.shape, '\\n',\n",
    "      'target_test:', target_test.shape)"
   ]
  },
  {
   "cell_type": "markdown",
   "id": "33ce563a",
   "metadata": {},
   "source": [
    "Данные разделены на выборки следующим образом: обучающая - 60%, валидационная - 20%, тестовая - 20%."
   ]
  },
  {
   "cell_type": "markdown",
   "id": "7015b930",
   "metadata": {},
   "source": [
    "## Построение моделей\n",
    "### Дерево решений\n",
    "Построим модель классификации с помощью алгоритма дерева решений. Рассмотрим модели с гиперпараметром `max_depth` от 1 до 9:"
   ]
  },
  {
   "cell_type": "code",
   "execution_count": 6,
   "id": "18f048b2",
   "metadata": {},
   "outputs": [
    {
     "name": "stdout",
     "output_type": "stream",
     "text": [
      "Max depth: 7\n",
      "Accuracy: 0.778\n"
     ]
    }
   ],
   "source": [
    "parameters = {'max_depth': range(1, 10)}\n",
    "model_tree = DecisionTreeClassifier(random_state=SEED, class_weight='balanced')\n",
    "grid = GridSearchCV(model_tree, parameters, cv=5, scoring='accuracy')\n",
    "grid.fit(features_train, target_train)\n",
    "                                   \n",
    "model_tree = grid.best_estimator_\n",
    "print(f'Max depth: {grid.best_params_[\"max_depth\"]}',\n",
    "      f'Accuracy: {round(grid.best_score_, 3)}',\n",
    "      sep='\\n')"
   ]
  },
  {
   "cell_type": "markdown",
   "id": "9a02cc3f",
   "metadata": {},
   "source": [
    "### Случайный лес\n",
    "Построим модель классификации с помощью алгоритма случайного леса. Рассмотрим модели с гиперпараметрами `n_estimators` от 30 до 80 с шагом 10 и `max_depth` от 3 до 9:"
   ]
  },
  {
   "cell_type": "code",
   "execution_count": 7,
   "id": "a8142619",
   "metadata": {},
   "outputs": [
    {
     "name": "stdout",
     "output_type": "stream",
     "text": [
      "Max depth: 8\n",
      "N estimators: 70\n",
      "Accuracy: 0.806\n"
     ]
    }
   ],
   "source": [
    "parameters = {'max_depth': range(3, 10),\n",
    "              'n_estimators': range(30, 81, 10)}\n",
    "model_rf = RandomForestClassifier(random_state=SEED, class_weight='balanced')\n",
    "grid = GridSearchCV(model_rf, parameters, cv=5, scoring='accuracy')\n",
    "grid.fit(features_train, target_train)\n",
    "                                   \n",
    "model_rf = grid.best_estimator_\n",
    "print(f'Max depth: {grid.best_params_[\"max_depth\"]}',\n",
    "      f'N estimators: {grid.best_params_[\"n_estimators\"]}',\n",
    "      f'Accuracy: {round(grid.best_score_, 3)}',\n",
    "      sep='\\n')"
   ]
  },
  {
   "cell_type": "markdown",
   "id": "d973c55d",
   "metadata": {},
   "source": [
    "### Логистическая регрессия\n",
    "Построим модель классификации с помощью алгоритма логистической регрессии:"
   ]
  },
  {
   "cell_type": "code",
   "execution_count": 8,
   "id": "541083e0",
   "metadata": {},
   "outputs": [
    {
     "name": "stdout",
     "output_type": "stream",
     "text": [
      "Accuracy: 0.628\n"
     ]
    }
   ],
   "source": [
    "model_lr = LogisticRegression(random_state=SEED, solver='liblinear', class_weight='balanced')\n",
    "model_lr.fit(features_train, target_train)\n",
    "scores = cross_val_score(model_lr, features_train, target_train, cv=5, scoring='accuracy')\n",
    "final_score = scores.mean()\n",
    "print(f'Accuracy: {round(final_score, 3)}')"
   ]
  },
  {
   "cell_type": "markdown",
   "id": "6a1b0a39",
   "metadata": {},
   "source": [
    "**Выводы**\n",
    "\n",
    "- Самое качественное дерево решений с глубиной 7. Accuracy составляет примерно 0.778.\n",
    "- Самый качественный лес с гиперпараметрами: глубина 8 узлов, количество деревьев 70. Accuracy составляет примерно 0.806.\n",
    "- Accuracy логистической регрессии составляет примерно 0.628."
   ]
  },
  {
   "cell_type": "markdown",
   "id": "154d345d",
   "metadata": {},
   "source": [
    "### Выбор наилучшей модели\n",
    "Сравним accuracy моделей на тестовой выборке:"
   ]
  },
  {
   "cell_type": "code",
   "execution_count": 9,
   "id": "0374448d",
   "metadata": {},
   "outputs": [
    {
     "name": "stdout",
     "output_type": "stream",
     "text": [
      "Decision tree accuracy: 0.804\n",
      "Random forest accuracy: 0.804\n",
      "Logistic regression accuracy: 0.603\n"
     ]
    }
   ],
   "source": [
    "print(f'Decision tree accuracy: {round(model_tree.score(features_test, target_test), 3)}',\n",
    "      f'Random forest accuracy: {round(model_rf.score(features_test, target_test), 3)}',\n",
    "      f'Logistic regression accuracy: {round(model_lr.score(features_test, target_test), 3)}',\n",
    "      sep='\\n')"
   ]
  },
  {
   "cell_type": "markdown",
   "id": "5e3aab16",
   "metadata": {},
   "source": [
    "На тестовой выборке наилучший результат показали модели решающего дерева и случайного леса. Accuracy составила примерно 0.804."
   ]
  },
  {
   "cell_type": "markdown",
   "id": "d371e620",
   "metadata": {},
   "source": [
    "### Выводы"
   ]
  },
  {
   "cell_type": "markdown",
   "id": "fba607c1",
   "metadata": {},
   "source": [
    "При построении моделей разными алгоритмами самые лучшие результаты показали модели со следующими гиперпараметрами:\n",
    "- Самое качественное дерево решений с глубиной 7. Accuracy составляет примерно 0.778.\n",
    "- Самый качественный лес с гиперпараметрами: глубина 8, количество деревьев 70. Accuracy составляет примерно 0.806.\n",
    "- Accuracy логистической регрессии составляет примерно 0.628.\n",
    "\n",
    "На тестовой выборке наилучший результат показали модели решающего дерева и случайного леса. Accuracy составила примерно 0.804.\n",
    "Для подбора подходящего тарифа лучше всего подойдет модель случайного леса с гиперпараметрами глубина 8 узлов, количество деревьев 70 или решающее дерево с глубиной 7."
   ]
  }
 ],
 "metadata": {
  "kernelspec": {
   "display_name": "Python 3",
   "language": "python",
   "name": "python3"
  },
  "language_info": {
   "codemirror_mode": {
    "name": "ipython",
    "version": 3
   },
   "file_extension": ".py",
   "mimetype": "text/x-python",
   "name": "python",
   "nbconvert_exporter": "python",
   "pygments_lexer": "ipython3",
   "version": "3.7.12"
  },
  "toc": {
   "base_numbering": 1,
   "nav_menu": {},
   "number_sections": true,
   "sideBar": true,
   "skip_h1_title": true,
   "title_cell": "Содержание",
   "title_sidebar": "Contents",
   "toc_cell": true,
   "toc_position": {
    "height": "calc(100% - 180px)",
    "left": "10px",
    "top": "150px",
    "width": "216.59375px"
   },
   "toc_section_display": true,
   "toc_window_display": false
  }
 },
 "nbformat": 4,
 "nbformat_minor": 5
}
