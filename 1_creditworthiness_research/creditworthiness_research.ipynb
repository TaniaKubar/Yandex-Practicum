{
 "cells": [
  {
   "cell_type": "markdown",
   "id": "4593e8d9",
   "metadata": {
    "toc": true
   },
   "source": [
    "<h1>Table of Contents<span class=\"tocSkip\"></span></h1>\n",
    "<div class=\"toc\"><ul class=\"toc-item\"><li><span><a href=\"#Обзор-данных-\" data-toc-modified-id=\"Обзор-данных--1\"><span class=\"toc-item-num\">1&nbsp;&nbsp;</span>Обзор данных <a id=\"start\" rel=\"nofollow\"></a></a></span></li><li><span><a href=\"#Предобработка-данных\" data-toc-modified-id=\"Предобработка-данных-2\"><span class=\"toc-item-num\">2&nbsp;&nbsp;</span>Предобработка данных<a id=\"preprocessing\" rel=\"nofollow\"></a></a></span><ul class=\"toc-item\"><li><span><a href=\"#Стиль-заголовков\" data-toc-modified-id=\"Стиль-заголовков-2.1\"><span class=\"toc-item-num\">2.1&nbsp;&nbsp;</span>Стиль заголовков<a id=\"headings\" rel=\"nofollow\"></a></a></span></li><li><span><a href=\"#Пропуски-в-данных\" data-toc-modified-id=\"Пропуски-в-данных-2.2\"><span class=\"toc-item-num\">2.2&nbsp;&nbsp;</span>Пропуски в данных<a id=\"null\" rel=\"nofollow\"></a></a></span></li><li><span><a href=\"#Исправление-данных\" data-toc-modified-id=\"Исправление-данных-2.3\"><span class=\"toc-item-num\">2.3&nbsp;&nbsp;</span>Исправление данных<a id=\"correction\" rel=\"nofollow\"></a></a></span></li><li><span><a href=\"#Дубликаты\" data-toc-modified-id=\"Дубликаты-2.4\"><span class=\"toc-item-num\">2.4&nbsp;&nbsp;</span>Дубликаты<a id=\"duplicates\" rel=\"nofollow\"></a></a></span></li></ul></li><li><span><a href=\"#Проверка-гипотез\" data-toc-modified-id=\"Проверка-гипотез-3\"><span class=\"toc-item-num\">3&nbsp;&nbsp;</span>Проверка гипотез<a id=\"hypotheses\" rel=\"nofollow\"></a></a></span><ul class=\"toc-item\"><li><span><a href=\"#Зависимость-кредитоспособности-заёмщика-от-наличия-у-него-детей\" data-toc-modified-id=\"Зависимость-кредитоспособности-заёмщика-от-наличия-у-него-детей-3.1\"><span class=\"toc-item-num\">3.1&nbsp;&nbsp;</span>Зависимость кредитоспособности заёмщика от наличия у него детей<a id=\"children\" rel=\"nofollow\"></a></a></span></li><li><span><a href=\"#Зависимость-кредитоспособности-заёмщика-от-его-семейного-положения\" data-toc-modified-id=\"Зависимость-кредитоспособности-заёмщика-от-его-семейного-положения-3.2\"><span class=\"toc-item-num\">3.2&nbsp;&nbsp;</span>Зависимость кредитоспособности заёмщика от его семейного положения<a id=\"family\" rel=\"nofollow\"></a></a></span></li><li><span><a href=\"#Зависимость-кредитоспособности-заёмщика-от-его-уровня-дохода\" data-toc-modified-id=\"Зависимость-кредитоспособности-заёмщика-от-его-уровня-дохода-3.3\"><span class=\"toc-item-num\">3.3&nbsp;&nbsp;</span>Зависимость кредитоспособности заёмщика от его уровня дохода<a id=\"income\" rel=\"nofollow\"></a></a></span></li><li><span><a href=\"#Зависимость-кредитоспособности-заёмщика-от-целей-кредита\" data-toc-modified-id=\"Зависимость-кредитоспособности-заёмщика-от-целей-кредита-3.4\"><span class=\"toc-item-num\">3.4&nbsp;&nbsp;</span>Зависимость кредитоспособности заёмщика от целей кредита<a id=\"purposes\" rel=\"nofollow\"></a></a></span></li></ul></li><li><span><a href=\"#Итоги-исследования\" data-toc-modified-id=\"Итоги-исследования-4\"><span class=\"toc-item-num\">4&nbsp;&nbsp;</span>Итоги исследования<a id=\"conclusion\" rel=\"nofollow\"></a></a></span></li></ul></div>"
   ]
  },
  {
   "cell_type": "markdown",
   "id": "86219fc9",
   "metadata": {},
   "source": [
    "# Исследование надежности заёмщиков"
   ]
  },
  {
   "cell_type": "markdown",
   "id": "d040f474",
   "metadata": {},
   "source": [
    "Проект для кредитного отдела банка. Нужно разобраться, влияет ли семейное положение, количество детей, уровень дохода клиента и цели кредита на факт его погашения в срок. Входные данные от банка — статистика о платёжеспособности клиентов.\n",
    "Результаты исследования будут учтены при построении модели кредитного скоринга — специальной системы, которая оценивает способность потенциального заёмщика вернуть кредит банку.\n",
    "\n",
    "**Цель исследования** — проверить четыре гипотезы:\n",
    "1. Кредитоспособность заёмщика зависит от наличия у него детей.\n",
    "2. Кредитоспособность заёмщика зависит от его семейного положения. \n",
    "3. Кредитоспособность заёмщика зависит от его уровня дохода.\n",
    "4. Разные цели кредита влияют на его возрат в срок.\n",
    "\n",
    "**Ход исследования**\n",
    "\n",
    "Данные для проведения исследования находятся в файле `data.csv`. О качестве данных ничего не известно. Поэтому перед проверкой гипотез понадобится обзор данных. \n",
    "\n",
    "Затем необходимо проверить данные на ошибки и оценить их влияние на исследование и исправить их.\n",
    "\n",
    "Таким образом, исследование пройдёт в три этапа:\n",
    " 1. Обзор данных.\n",
    " 2. Предобработка данных.\n",
    " 3. Проверка гипотез."
   ]
  },
  {
   "cell_type": "markdown",
   "id": "43ae2c9a",
   "metadata": {},
   "source": [
    "## Обзор данных <a id='start'></a>"
   ]
  },
  {
   "cell_type": "markdown",
   "id": "20f6a119",
   "metadata": {},
   "source": [
    "Импортируем библиотеку `pandas` и необходимые на этапе лемматизации модули:"
   ]
  },
  {
   "cell_type": "code",
   "execution_count": 1,
   "id": "63308d6b",
   "metadata": {},
   "outputs": [],
   "source": [
    "import pandas as pd\n",
    "from pymystem3 import Mystem\n",
    "from collections import Counter\n",
    "\n",
    "pd.options.mode.chained_assignment = None"
   ]
  },
  {
   "cell_type": "markdown",
   "id": "fcb3de1e",
   "metadata": {},
   "source": [
    "Прочитаем файл `data.csv` и сохраним его в переменной `df`:"
   ]
  },
  {
   "cell_type": "code",
   "execution_count": 2,
   "id": "5afd2ea4",
   "metadata": {},
   "outputs": [],
   "source": [
    "try:\n",
    "    df = pd.read_csv('/datasets/data.csv')\n",
    "except:\n",
    "    df = pd.read_csv('data.csv')"
   ]
  },
  {
   "cell_type": "markdown",
   "id": "c1337a5e",
   "metadata": {},
   "source": [
    "Выведем на экран первые, последние и случайные пять строк таблицы, а также общую информацию. Создадим для этого собственную функцию:"
   ]
  },
  {
   "cell_type": "code",
   "execution_count": 3,
   "id": "ffb66523",
   "metadata": {
    "scrolled": true
   },
   "outputs": [
    {
     "data": {
      "text/html": [
       "<div>\n",
       "<style scoped>\n",
       "    .dataframe tbody tr th:only-of-type {\n",
       "        vertical-align: middle;\n",
       "    }\n",
       "\n",
       "    .dataframe tbody tr th {\n",
       "        vertical-align: top;\n",
       "    }\n",
       "\n",
       "    .dataframe thead th {\n",
       "        text-align: right;\n",
       "    }\n",
       "</style>\n",
       "<table border=\"1\" class=\"dataframe\">\n",
       "  <thead>\n",
       "    <tr style=\"text-align: right;\">\n",
       "      <th></th>\n",
       "      <th>children</th>\n",
       "      <th>days_employed</th>\n",
       "      <th>dob_years</th>\n",
       "      <th>education</th>\n",
       "      <th>education_id</th>\n",
       "      <th>family_status</th>\n",
       "      <th>family_status_id</th>\n",
       "      <th>gender</th>\n",
       "      <th>income_type</th>\n",
       "      <th>debt</th>\n",
       "      <th>total_income</th>\n",
       "      <th>purpose</th>\n",
       "    </tr>\n",
       "  </thead>\n",
       "  <tbody>\n",
       "    <tr>\n",
       "      <td>0</td>\n",
       "      <td>1</td>\n",
       "      <td>-8437.673028</td>\n",
       "      <td>42</td>\n",
       "      <td>высшее</td>\n",
       "      <td>0</td>\n",
       "      <td>женат / замужем</td>\n",
       "      <td>0</td>\n",
       "      <td>F</td>\n",
       "      <td>сотрудник</td>\n",
       "      <td>0</td>\n",
       "      <td>253875.639453</td>\n",
       "      <td>покупка жилья</td>\n",
       "    </tr>\n",
       "    <tr>\n",
       "      <td>1</td>\n",
       "      <td>1</td>\n",
       "      <td>-4024.803754</td>\n",
       "      <td>36</td>\n",
       "      <td>среднее</td>\n",
       "      <td>1</td>\n",
       "      <td>женат / замужем</td>\n",
       "      <td>0</td>\n",
       "      <td>F</td>\n",
       "      <td>сотрудник</td>\n",
       "      <td>0</td>\n",
       "      <td>112080.014102</td>\n",
       "      <td>приобретение автомобиля</td>\n",
       "    </tr>\n",
       "    <tr>\n",
       "      <td>2</td>\n",
       "      <td>0</td>\n",
       "      <td>-5623.422610</td>\n",
       "      <td>33</td>\n",
       "      <td>Среднее</td>\n",
       "      <td>1</td>\n",
       "      <td>женат / замужем</td>\n",
       "      <td>0</td>\n",
       "      <td>M</td>\n",
       "      <td>сотрудник</td>\n",
       "      <td>0</td>\n",
       "      <td>145885.952297</td>\n",
       "      <td>покупка жилья</td>\n",
       "    </tr>\n",
       "    <tr>\n",
       "      <td>3</td>\n",
       "      <td>3</td>\n",
       "      <td>-4124.747207</td>\n",
       "      <td>32</td>\n",
       "      <td>среднее</td>\n",
       "      <td>1</td>\n",
       "      <td>женат / замужем</td>\n",
       "      <td>0</td>\n",
       "      <td>M</td>\n",
       "      <td>сотрудник</td>\n",
       "      <td>0</td>\n",
       "      <td>267628.550329</td>\n",
       "      <td>дополнительное образование</td>\n",
       "    </tr>\n",
       "    <tr>\n",
       "      <td>4</td>\n",
       "      <td>0</td>\n",
       "      <td>340266.072047</td>\n",
       "      <td>53</td>\n",
       "      <td>среднее</td>\n",
       "      <td>1</td>\n",
       "      <td>гражданский брак</td>\n",
       "      <td>1</td>\n",
       "      <td>F</td>\n",
       "      <td>пенсионер</td>\n",
       "      <td>0</td>\n",
       "      <td>158616.077870</td>\n",
       "      <td>сыграть свадьбу</td>\n",
       "    </tr>\n",
       "    <tr>\n",
       "      <td>21064</td>\n",
       "      <td>0</td>\n",
       "      <td>400655.639661</td>\n",
       "      <td>55</td>\n",
       "      <td>НАЧАЛЬНОЕ</td>\n",
       "      <td>3</td>\n",
       "      <td>женат / замужем</td>\n",
       "      <td>0</td>\n",
       "      <td>F</td>\n",
       "      <td>пенсионер</td>\n",
       "      <td>0</td>\n",
       "      <td>58574.645855</td>\n",
       "      <td>на покупку подержанного автомобиля</td>\n",
       "    </tr>\n",
       "    <tr>\n",
       "      <td>7337</td>\n",
       "      <td>0</td>\n",
       "      <td>-1177.701260</td>\n",
       "      <td>24</td>\n",
       "      <td>высшее</td>\n",
       "      <td>0</td>\n",
       "      <td>Не женат / не замужем</td>\n",
       "      <td>4</td>\n",
       "      <td>M</td>\n",
       "      <td>компаньон</td>\n",
       "      <td>0</td>\n",
       "      <td>508851.036785</td>\n",
       "      <td>покупка коммерческой недвижимости</td>\n",
       "    </tr>\n",
       "    <tr>\n",
       "      <td>1993</td>\n",
       "      <td>0</td>\n",
       "      <td>-3154.255254</td>\n",
       "      <td>41</td>\n",
       "      <td>среднее</td>\n",
       "      <td>1</td>\n",
       "      <td>женат / замужем</td>\n",
       "      <td>0</td>\n",
       "      <td>M</td>\n",
       "      <td>компаньон</td>\n",
       "      <td>0</td>\n",
       "      <td>431674.440313</td>\n",
       "      <td>покупка жилья для сдачи</td>\n",
       "    </tr>\n",
       "    <tr>\n",
       "      <td>16360</td>\n",
       "      <td>0</td>\n",
       "      <td>NaN</td>\n",
       "      <td>47</td>\n",
       "      <td>среднее</td>\n",
       "      <td>1</td>\n",
       "      <td>гражданский брак</td>\n",
       "      <td>1</td>\n",
       "      <td>F</td>\n",
       "      <td>сотрудник</td>\n",
       "      <td>0</td>\n",
       "      <td>NaN</td>\n",
       "      <td>на проведение свадьбы</td>\n",
       "    </tr>\n",
       "    <tr>\n",
       "      <td>4242</td>\n",
       "      <td>0</td>\n",
       "      <td>-2918.295327</td>\n",
       "      <td>32</td>\n",
       "      <td>высшее</td>\n",
       "      <td>0</td>\n",
       "      <td>женат / замужем</td>\n",
       "      <td>0</td>\n",
       "      <td>M</td>\n",
       "      <td>сотрудник</td>\n",
       "      <td>0</td>\n",
       "      <td>288560.977885</td>\n",
       "      <td>покупка жилой недвижимости</td>\n",
       "    </tr>\n",
       "    <tr>\n",
       "      <td>21520</td>\n",
       "      <td>1</td>\n",
       "      <td>-4529.316663</td>\n",
       "      <td>43</td>\n",
       "      <td>среднее</td>\n",
       "      <td>1</td>\n",
       "      <td>гражданский брак</td>\n",
       "      <td>1</td>\n",
       "      <td>F</td>\n",
       "      <td>компаньон</td>\n",
       "      <td>0</td>\n",
       "      <td>224791.862382</td>\n",
       "      <td>операции с жильем</td>\n",
       "    </tr>\n",
       "    <tr>\n",
       "      <td>21521</td>\n",
       "      <td>0</td>\n",
       "      <td>343937.404131</td>\n",
       "      <td>67</td>\n",
       "      <td>среднее</td>\n",
       "      <td>1</td>\n",
       "      <td>женат / замужем</td>\n",
       "      <td>0</td>\n",
       "      <td>F</td>\n",
       "      <td>пенсионер</td>\n",
       "      <td>0</td>\n",
       "      <td>155999.806512</td>\n",
       "      <td>сделка с автомобилем</td>\n",
       "    </tr>\n",
       "    <tr>\n",
       "      <td>21522</td>\n",
       "      <td>1</td>\n",
       "      <td>-2113.346888</td>\n",
       "      <td>38</td>\n",
       "      <td>среднее</td>\n",
       "      <td>1</td>\n",
       "      <td>гражданский брак</td>\n",
       "      <td>1</td>\n",
       "      <td>M</td>\n",
       "      <td>сотрудник</td>\n",
       "      <td>1</td>\n",
       "      <td>89672.561153</td>\n",
       "      <td>недвижимость</td>\n",
       "    </tr>\n",
       "    <tr>\n",
       "      <td>21523</td>\n",
       "      <td>3</td>\n",
       "      <td>-3112.481705</td>\n",
       "      <td>38</td>\n",
       "      <td>среднее</td>\n",
       "      <td>1</td>\n",
       "      <td>женат / замужем</td>\n",
       "      <td>0</td>\n",
       "      <td>M</td>\n",
       "      <td>сотрудник</td>\n",
       "      <td>1</td>\n",
       "      <td>244093.050500</td>\n",
       "      <td>на покупку своего автомобиля</td>\n",
       "    </tr>\n",
       "    <tr>\n",
       "      <td>21524</td>\n",
       "      <td>2</td>\n",
       "      <td>-1984.507589</td>\n",
       "      <td>40</td>\n",
       "      <td>среднее</td>\n",
       "      <td>1</td>\n",
       "      <td>женат / замужем</td>\n",
       "      <td>0</td>\n",
       "      <td>F</td>\n",
       "      <td>сотрудник</td>\n",
       "      <td>0</td>\n",
       "      <td>82047.418899</td>\n",
       "      <td>на покупку автомобиля</td>\n",
       "    </tr>\n",
       "  </tbody>\n",
       "</table>\n",
       "</div>"
      ],
      "text/plain": [
       "       children  days_employed  dob_years  education  education_id  \\\n",
       "0             1   -8437.673028         42     высшее             0   \n",
       "1             1   -4024.803754         36    среднее             1   \n",
       "2             0   -5623.422610         33    Среднее             1   \n",
       "3             3   -4124.747207         32    среднее             1   \n",
       "4             0  340266.072047         53    среднее             1   \n",
       "21064         0  400655.639661         55  НАЧАЛЬНОЕ             3   \n",
       "7337          0   -1177.701260         24     высшее             0   \n",
       "1993          0   -3154.255254         41    среднее             1   \n",
       "16360         0            NaN         47    среднее             1   \n",
       "4242          0   -2918.295327         32     высшее             0   \n",
       "21520         1   -4529.316663         43    среднее             1   \n",
       "21521         0  343937.404131         67    среднее             1   \n",
       "21522         1   -2113.346888         38    среднее             1   \n",
       "21523         3   -3112.481705         38    среднее             1   \n",
       "21524         2   -1984.507589         40    среднее             1   \n",
       "\n",
       "               family_status  family_status_id gender income_type  debt  \\\n",
       "0            женат / замужем                 0      F   сотрудник     0   \n",
       "1            женат / замужем                 0      F   сотрудник     0   \n",
       "2            женат / замужем                 0      M   сотрудник     0   \n",
       "3            женат / замужем                 0      M   сотрудник     0   \n",
       "4           гражданский брак                 1      F   пенсионер     0   \n",
       "21064        женат / замужем                 0      F   пенсионер     0   \n",
       "7337   Не женат / не замужем                 4      M   компаньон     0   \n",
       "1993         женат / замужем                 0      M   компаньон     0   \n",
       "16360       гражданский брак                 1      F   сотрудник     0   \n",
       "4242         женат / замужем                 0      M   сотрудник     0   \n",
       "21520       гражданский брак                 1      F   компаньон     0   \n",
       "21521        женат / замужем                 0      F   пенсионер     0   \n",
       "21522       гражданский брак                 1      M   сотрудник     1   \n",
       "21523        женат / замужем                 0      M   сотрудник     1   \n",
       "21524        женат / замужем                 0      F   сотрудник     0   \n",
       "\n",
       "        total_income                             purpose  \n",
       "0      253875.639453                       покупка жилья  \n",
       "1      112080.014102             приобретение автомобиля  \n",
       "2      145885.952297                       покупка жилья  \n",
       "3      267628.550329          дополнительное образование  \n",
       "4      158616.077870                     сыграть свадьбу  \n",
       "21064   58574.645855  на покупку подержанного автомобиля  \n",
       "7337   508851.036785   покупка коммерческой недвижимости  \n",
       "1993   431674.440313             покупка жилья для сдачи  \n",
       "16360            NaN               на проведение свадьбы  \n",
       "4242   288560.977885          покупка жилой недвижимости  \n",
       "21520  224791.862382                   операции с жильем  \n",
       "21521  155999.806512                сделка с автомобилем  \n",
       "21522   89672.561153                        недвижимость  \n",
       "21523  244093.050500        на покупку своего автомобиля  \n",
       "21524   82047.418899               на покупку автомобиля  "
      ]
     },
     "metadata": {},
     "output_type": "display_data"
    },
    {
     "data": {
      "text/html": [
       "<div>\n",
       "<style scoped>\n",
       "    .dataframe tbody tr th:only-of-type {\n",
       "        vertical-align: middle;\n",
       "    }\n",
       "\n",
       "    .dataframe tbody tr th {\n",
       "        vertical-align: top;\n",
       "    }\n",
       "\n",
       "    .dataframe thead th {\n",
       "        text-align: right;\n",
       "    }\n",
       "</style>\n",
       "<table border=\"1\" class=\"dataframe\">\n",
       "  <thead>\n",
       "    <tr style=\"text-align: right;\">\n",
       "      <th></th>\n",
       "      <th>count</th>\n",
       "      <th>mean</th>\n",
       "      <th>std</th>\n",
       "      <th>min</th>\n",
       "      <th>25%</th>\n",
       "      <th>50%</th>\n",
       "      <th>75%</th>\n",
       "      <th>max</th>\n",
       "    </tr>\n",
       "  </thead>\n",
       "  <tbody>\n",
       "    <tr>\n",
       "      <td>children</td>\n",
       "      <td>21525.0</td>\n",
       "      <td>0.538908</td>\n",
       "      <td>1.381587</td>\n",
       "      <td>-1.000000</td>\n",
       "      <td>0.000000</td>\n",
       "      <td>0.000000</td>\n",
       "      <td>1.000000</td>\n",
       "      <td>2.000000e+01</td>\n",
       "    </tr>\n",
       "    <tr>\n",
       "      <td>days_employed</td>\n",
       "      <td>19351.0</td>\n",
       "      <td>63046.497661</td>\n",
       "      <td>140827.311974</td>\n",
       "      <td>-18388.949901</td>\n",
       "      <td>-2747.423625</td>\n",
       "      <td>-1203.369529</td>\n",
       "      <td>-291.095954</td>\n",
       "      <td>4.017554e+05</td>\n",
       "    </tr>\n",
       "    <tr>\n",
       "      <td>dob_years</td>\n",
       "      <td>21525.0</td>\n",
       "      <td>43.293380</td>\n",
       "      <td>12.574584</td>\n",
       "      <td>0.000000</td>\n",
       "      <td>33.000000</td>\n",
       "      <td>42.000000</td>\n",
       "      <td>53.000000</td>\n",
       "      <td>7.500000e+01</td>\n",
       "    </tr>\n",
       "    <tr>\n",
       "      <td>education_id</td>\n",
       "      <td>21525.0</td>\n",
       "      <td>0.817236</td>\n",
       "      <td>0.548138</td>\n",
       "      <td>0.000000</td>\n",
       "      <td>1.000000</td>\n",
       "      <td>1.000000</td>\n",
       "      <td>1.000000</td>\n",
       "      <td>4.000000e+00</td>\n",
       "    </tr>\n",
       "    <tr>\n",
       "      <td>family_status_id</td>\n",
       "      <td>21525.0</td>\n",
       "      <td>0.972544</td>\n",
       "      <td>1.420324</td>\n",
       "      <td>0.000000</td>\n",
       "      <td>0.000000</td>\n",
       "      <td>0.000000</td>\n",
       "      <td>1.000000</td>\n",
       "      <td>4.000000e+00</td>\n",
       "    </tr>\n",
       "    <tr>\n",
       "      <td>debt</td>\n",
       "      <td>21525.0</td>\n",
       "      <td>0.080883</td>\n",
       "      <td>0.272661</td>\n",
       "      <td>0.000000</td>\n",
       "      <td>0.000000</td>\n",
       "      <td>0.000000</td>\n",
       "      <td>0.000000</td>\n",
       "      <td>1.000000e+00</td>\n",
       "    </tr>\n",
       "    <tr>\n",
       "      <td>total_income</td>\n",
       "      <td>19351.0</td>\n",
       "      <td>167422.302208</td>\n",
       "      <td>102971.566448</td>\n",
       "      <td>20667.263793</td>\n",
       "      <td>103053.152913</td>\n",
       "      <td>145017.937533</td>\n",
       "      <td>203435.067663</td>\n",
       "      <td>2.265604e+06</td>\n",
       "    </tr>\n",
       "  </tbody>\n",
       "</table>\n",
       "</div>"
      ],
      "text/plain": [
       "                    count           mean            std           min  \\\n",
       "children          21525.0       0.538908       1.381587     -1.000000   \n",
       "days_employed     19351.0   63046.497661  140827.311974 -18388.949901   \n",
       "dob_years         21525.0      43.293380      12.574584      0.000000   \n",
       "education_id      21525.0       0.817236       0.548138      0.000000   \n",
       "family_status_id  21525.0       0.972544       1.420324      0.000000   \n",
       "debt              21525.0       0.080883       0.272661      0.000000   \n",
       "total_income      19351.0  167422.302208  102971.566448  20667.263793   \n",
       "\n",
       "                            25%            50%            75%           max  \n",
       "children               0.000000       0.000000       1.000000  2.000000e+01  \n",
       "days_employed      -2747.423625   -1203.369529    -291.095954  4.017554e+05  \n",
       "dob_years             33.000000      42.000000      53.000000  7.500000e+01  \n",
       "education_id           1.000000       1.000000       1.000000  4.000000e+00  \n",
       "family_status_id       0.000000       0.000000       1.000000  4.000000e+00  \n",
       "debt                   0.000000       0.000000       0.000000  1.000000e+00  \n",
       "total_income      103053.152913  145017.937533  203435.067663  2.265604e+06  "
      ]
     },
     "metadata": {},
     "output_type": "display_data"
    },
    {
     "name": "stdout",
     "output_type": "stream",
     "text": [
      "<class 'pandas.core.frame.DataFrame'>\n",
      "RangeIndex: 21525 entries, 0 to 21524\n",
      "Data columns (total 12 columns):\n",
      "children            21525 non-null int64\n",
      "days_employed       19351 non-null float64\n",
      "dob_years           21525 non-null int64\n",
      "education           21525 non-null object\n",
      "education_id        21525 non-null int64\n",
      "family_status       21525 non-null object\n",
      "family_status_id    21525 non-null int64\n",
      "gender              21525 non-null object\n",
      "income_type         21525 non-null object\n",
      "debt                21525 non-null int64\n",
      "total_income        19351 non-null float64\n",
      "purpose             21525 non-null object\n",
      "dtypes: float64(2), int64(5), object(5)\n",
      "memory usage: 2.0+ MB\n"
     ]
    }
   ],
   "source": [
    "def total_view(df: pd.DataFrame, n_rows=5, seed=None):\n",
    "    '''Возвращает первые, случайные и последние строки таблицы (по умолчанию по 5 строк)'''\n",
    "    return display(pd.concat([\n",
    "                              df.head(n_rows),\n",
    "                              df.sample(n_rows, random_state=seed),\n",
    "                              df.tail(n_rows)\n",
    "                             ]))\n",
    "\n",
    "total_view(df)\n",
    "display(df.describe().T)\n",
    "df.info()"
   ]
  },
  {
   "cell_type": "markdown",
   "id": "8cf84a9c",
   "metadata": {},
   "source": [
    "В датасете 12 колонок и 21525 строк. Тип данных в столбцах — `object`, `int64` и `float64`.\n",
    "\n",
    "Согласно документации к данным:\n",
    "* `children` — количество детей в семье;\n",
    "* `days_employed` — общий трудовой стаж в днях;  \n",
    "* `dob_years` — возраст клиента в годах;\n",
    "* `education` — уровень образования клиента;\n",
    "* `education_id` — идентификатор уровня образования;\n",
    "* `family_status` — семейное положение;\n",
    "* `family_status_id` — идентификатор семейного положения;\n",
    "* `gender` — пол клиента;\n",
    "* `income_type` — тип занятости;\n",
    "* `debt` — имел ли задолженность по возврату кредитов;\n",
    "* `total_income` — ежемесячный доход;\n",
    "* `purpose` — цель получения кредита.\n",
    "\n",
    "Названия колонок записаны в змеином регистре, без пробелов. Из названий понятно какие данные хранятся в столбцах, за исключением `income_type`, что переводится как 'тип дохода', а не 'тип занятости', а также `total_income` - общий доход, а не ежемесячный. Исходя из документации, подходящими названиями для этих столбцов будут `employment_type` и `month_income`.\n",
    "\n",
    "Количество значений в столбцах `days_employed` и `total_income` равны между собой и меньше количества строк в таблице. Значит, в данных есть пропущенные значения и, возможно, они взаимосвязаны.\n",
    "\n",
    "В столбце `children` обнаружены артефакты -1 и 20, `days_employed` встречаются данные с отрицательными и слишком большими значениями, в `dob_years` встречаются нулевые значения, в `education` - с разным регистом, у значений в `days_employed` и `total_income` слишком много знаков после плавающей точки, а в `purpose` использованы слова, имеющие общий корень или основу, но в разных формах."
   ]
  },
  {
   "cell_type": "markdown",
   "id": "147a4f81",
   "metadata": {},
   "source": [
    "**Выводы**\n",
    "\n",
    "В каждой строке таблицы — данные о клиенте банка. Колонки описывают личные данные клиентов - количество детей, трудовой стаж, возраст, образование, семейное положение, пол, тип занятости, кредитную историю, ежемесячный доход, а также цель получения кредита.\n",
    "\n",
    "Предварительно можно утверждать, что, данных для проверки гипотез достаточно. Но прежде чем приступать к проверке, необходимо устранить следующие проблемы в данных:\n",
    "* Переименовать колонки `income_type` и `total_income`;\n",
    "* Заменить вещественный тип данных на целочисленный;\n",
    "* Привести строки к нижнему регистру;\n",
    "* Лемматизировать строки в столбце `purpose`;\n",
    "* Проверить уникальные значения в столбцах с категориальными данными, а также найти и обработать 'артефакты' - значения, не отражающие действительность;\n",
    "* Устранить пропуски и дубликаты."
   ]
  },
  {
   "cell_type": "markdown",
   "id": "1cc6e52c",
   "metadata": {},
   "source": [
    "## Предобработка данных<a id='preprocessing'></a>"
   ]
  },
  {
   "cell_type": "markdown",
   "id": "d497a639",
   "metadata": {},
   "source": [
    "### Стиль заголовков<a id='headings'></a>\n",
    "Выведем на экран названия столбцов:"
   ]
  },
  {
   "cell_type": "code",
   "execution_count": 4,
   "id": "b71f57fe",
   "metadata": {},
   "outputs": [
    {
     "data": {
      "text/plain": [
       "Index(['children', 'days_employed', 'dob_years', 'education', 'education_id',\n",
       "       'family_status', 'family_status_id', 'gender', 'income_type', 'debt',\n",
       "       'total_income', 'purpose'],\n",
       "      dtype='object')"
      ]
     },
     "execution_count": 4,
     "metadata": {},
     "output_type": "execute_result"
    }
   ],
   "source": [
    "df.columns"
   ]
  },
  {
   "cell_type": "markdown",
   "id": "fef4ea07",
   "metadata": {},
   "source": [
    "Названия столбцов записаны без нарушения стиля, за исключением столбцов `income_type` и `total_income`. Переименуем их в `employment_type` и `month_income` соответственно:"
   ]
  },
  {
   "cell_type": "code",
   "execution_count": 5,
   "id": "46adb6c9",
   "metadata": {},
   "outputs": [
    {
     "data": {
      "text/plain": [
       "Index(['children', 'days_employed', 'dob_years', 'education', 'education_id',\n",
       "       'family_status', 'family_status_id', 'gender', 'employment_type',\n",
       "       'debt', 'month_income', 'purpose'],\n",
       "      dtype='object')"
      ]
     },
     "execution_count": 5,
     "metadata": {},
     "output_type": "execute_result"
    }
   ],
   "source": [
    "df = df.rename(columns={'income_type':'employment_type', 'total_income':'month_income'})\n",
    "df.columns"
   ]
  },
  {
   "cell_type": "markdown",
   "id": "968dbf93",
   "metadata": {},
   "source": [
    " ### Пропуски в данных<a id='null'></a>"
   ]
  },
  {
   "cell_type": "markdown",
   "id": "5d49de94",
   "metadata": {},
   "source": [
    "На этапе обзора данных в столбцах `days_employed` и `month_income` обнаружены пропущенные значения, количество пропусков в указанных столбцах одинаковое. Проверим это явление на взаимосвязь:"
   ]
  },
  {
   "cell_type": "code",
   "execution_count": 6,
   "id": "623d830b",
   "metadata": {},
   "outputs": [
    {
     "name": "stdout",
     "output_type": "stream",
     "text": [
      "Пропуски в 'days_employed': 2174\n",
      "Пропуски в'month_income': 2174\n",
      "Пропуски в обоих колонках одновременно: 2174\n"
     ]
    }
   ],
   "source": [
    "print(f\"Пропуски в 'days_employed': {df['days_employed'].isna().sum()}\",\n",
    "      f\"Пропуски в'month_income': {df['month_income'].isna().sum()}\",\n",
    "      f\"Пропуски в обоих колонках одновременно: {df[df['days_employed'].isna()]['month_income'].isna().sum()}\",\n",
    "      sep='\\n')\n"
   ]
  },
  {
   "cell_type": "markdown",
   "id": "b4fe25d6",
   "metadata": {},
   "source": [
    "Количество строчек таблицы, где в столбцах `days_employed` и `total_income` одновременно пропущены значения, совпадает с общим количеством пропусков в каждом из указанных столбцов. Проверим какой тип занятости у клиентов с пропущенными значениями:"
   ]
  },
  {
   "cell_type": "code",
   "execution_count": 7,
   "id": "9eda0426",
   "metadata": {},
   "outputs": [
    {
     "data": {
      "text/plain": [
       "array(['пенсионер', 'госслужащий', 'компаньон', 'сотрудник',\n",
       "       'предприниматель'], dtype=object)"
      ]
     },
     "execution_count": 7,
     "metadata": {},
     "output_type": "execute_result"
    }
   ],
   "source": [
    "df[df['month_income'].isna()]['employment_type'].unique()"
   ]
  },
  {
   "cell_type": "markdown",
   "id": "50099cbd",
   "metadata": {},
   "source": [
    "Среди выбранных клиентов нет безработных и студентов. Все полученные виды деятельности предполагают наличие дохода и трудового стажа. Пропуски могли возникнуть в результате ошибки выгрузки данных или клиенты сами решили не указывать эти данные. Заполним пропуски в колонке `month_income` медианными значениями. Медиану будем считать по каждому типу занятости отдельно, чтобы минимизировать искажение данных."
   ]
  },
  {
   "cell_type": "code",
   "execution_count": 8,
   "id": "82474338",
   "metadata": {},
   "outputs": [],
   "source": [
    "employment_group = df.groupby('employment_type')\n",
    "df['month_income'] = employment_group['month_income'].apply(lambda x: x.fillna(x.median()))"
   ]
  },
  {
   "cell_type": "markdown",
   "id": "439bec34",
   "metadata": {},
   "source": [
    "Проверим что с пропусками в `month_income` теперь и остались ли пропуски в `days_employed`:"
   ]
  },
  {
   "cell_type": "code",
   "execution_count": 9,
   "id": "66b99385",
   "metadata": {},
   "outputs": [
    {
     "data": {
      "text/plain": [
       "children               0\n",
       "days_employed       2174\n",
       "dob_years              0\n",
       "education              0\n",
       "education_id           0\n",
       "family_status          0\n",
       "family_status_id       0\n",
       "gender                 0\n",
       "employment_type        0\n",
       "debt                   0\n",
       "month_income           0\n",
       "purpose                0\n",
       "dtype: int64"
      ]
     },
     "execution_count": 9,
     "metadata": {},
     "output_type": "execute_result"
    }
   ],
   "source": [
    "df.isna().sum()"
   ]
  },
  {
   "cell_type": "markdown",
   "id": "d5e1dcda",
   "metadata": {},
   "source": [
    "Пропущенный трудовой стаж заполним нереальными большими значениями, которые потом обработаются вместе с остальными:"
   ]
  },
  {
   "cell_type": "code",
   "execution_count": 10,
   "id": "36f8bbc2",
   "metadata": {},
   "outputs": [],
   "source": [
    "df['days_employed'] = df['days_employed'].fillna(99000)"
   ]
  },
  {
   "cell_type": "markdown",
   "id": "7632e3e3",
   "metadata": {},
   "source": [
    "Убедимся, что в таблице не осталось пропусков:"
   ]
  },
  {
   "cell_type": "code",
   "execution_count": 11,
   "id": "329e6fed",
   "metadata": {},
   "outputs": [
    {
     "data": {
      "text/plain": [
       "children            0\n",
       "days_employed       0\n",
       "dob_years           0\n",
       "education           0\n",
       "education_id        0\n",
       "family_status       0\n",
       "family_status_id    0\n",
       "gender              0\n",
       "employment_type     0\n",
       "debt                0\n",
       "month_income        0\n",
       "purpose             0\n",
       "dtype: int64"
      ]
     },
     "execution_count": 11,
     "metadata": {},
     "output_type": "execute_result"
    }
   ],
   "source": [
    "df.isna().sum()"
   ]
  },
  {
   "cell_type": "markdown",
   "id": "cfd12095",
   "metadata": {},
   "source": [
    "### Исправление данных<a id='correction'></a>"
   ]
  },
  {
   "cell_type": "markdown",
   "id": "c21641b6",
   "metadata": {},
   "source": [
    "Перед устранением дубликатов необходимо привести данные в столбцах к общему виду и устранить неявные дубликаты, так как отличия в регистре, ошибки в словах и артефакты повлияют на результат поиска дубликатов. Начнем по порядку с колонки `children`. Здесь содержатся количественные данные, но уникальных значений должно быть не много, поэтому подойдет метод `unique()`:"
   ]
  },
  {
   "cell_type": "code",
   "execution_count": 12,
   "id": "69e84d00",
   "metadata": {},
   "outputs": [
    {
     "data": {
      "text/plain": [
       "array([ 1,  0,  3,  2, -1,  4, 20,  5])"
      ]
     },
     "execution_count": 12,
     "metadata": {},
     "output_type": "execute_result"
    }
   ],
   "source": [
    "df['children'].unique()"
   ]
  },
  {
   "cell_type": "markdown",
   "id": "f299c0e9",
   "metadata": {},
   "source": [
    "Среди уникальных значений встречаются отрицательное и слишком большое, чтобы быть правдой, числа. Такие ошибки могли возникнуть при выгрузке данных или вследствие опечатки. Сделаем значения положительными и исправим все значения 20 на 2:"
   ]
  },
  {
   "cell_type": "code",
   "execution_count": 13,
   "id": "953b5740",
   "metadata": {},
   "outputs": [],
   "source": [
    "df['children'] = df['children'].abs()\n",
    "df.loc[(df['children'] == 20), 'children'] = 2"
   ]
  },
  {
   "cell_type": "markdown",
   "id": "e77c1c50",
   "metadata": {},
   "source": [
    "Проверим уникальные значения после внесенных изменений:"
   ]
  },
  {
   "cell_type": "code",
   "execution_count": 14,
   "id": "6dfbe39d",
   "metadata": {},
   "outputs": [
    {
     "data": {
      "text/plain": [
       "array([1, 0, 3, 2, 4, 5])"
      ]
     },
     "execution_count": 14,
     "metadata": {},
     "output_type": "execute_result"
    }
   ],
   "source": [
    "df['children'].unique()"
   ]
  },
  {
   "cell_type": "markdown",
   "id": "a269207a",
   "metadata": {},
   "source": [
    "В столбце `days_employed` встречаются отрицательные значения, большая дробная часть и нереальное количество дней трудового стажа по отношению к возрасту клиента. Сделаем значения столбца `days_employed` положительными, заменим тип данных на int и проверим результат, выведя на экран первые 10 значений:"
   ]
  },
  {
   "cell_type": "code",
   "execution_count": 15,
   "id": "02538266",
   "metadata": {},
   "outputs": [
    {
     "data": {
      "text/plain": [
       "0      8437\n",
       "1      4024\n",
       "2      5623\n",
       "3      4124\n",
       "4    340266\n",
       "5       926\n",
       "6      2879\n",
       "7       152\n",
       "8      6929\n",
       "9      2188\n",
       "Name: days_employed, dtype: int64"
      ]
     },
     "execution_count": 15,
     "metadata": {},
     "output_type": "execute_result"
    }
   ],
   "source": [
    "df['days_employed'] = df['days_employed'].abs()\n",
    "df['days_employed'] = df['days_employed'].astype('int')\n",
    "df['days_employed'][:10]"
   ]
  },
  {
   "cell_type": "markdown",
   "id": "1afdbcc9",
   "metadata": {},
   "source": [
    "Перед тем, как исправить нереальные по размеру значения в столбце `days_employed`, нужно проверить значения в `dob_years`. Так как количество лет ограничено, подойдет метод `unique()`:"
   ]
  },
  {
   "cell_type": "code",
   "execution_count": 16,
   "id": "2209a2e4",
   "metadata": {},
   "outputs": [
    {
     "data": {
      "text/plain": [
       "array([42, 36, 33, 32, 53, 27, 43, 50, 35, 41, 40, 65, 54, 56, 26, 48, 24,\n",
       "       21, 57, 67, 28, 63, 62, 47, 34, 68, 25, 31, 30, 20, 49, 37, 45, 61,\n",
       "       64, 44, 52, 46, 23, 38, 39, 51,  0, 59, 29, 60, 55, 58, 71, 22, 73,\n",
       "       66, 69, 19, 72, 70, 74, 75])"
      ]
     },
     "execution_count": 16,
     "metadata": {},
     "output_type": "execute_result"
    }
   ],
   "source": [
    "df['dob_years'].unique()"
   ]
  },
  {
   "cell_type": "markdown",
   "id": "d6b5f58c",
   "metadata": {},
   "source": [
    "Посчитаем нулевые значения в `dob_years`:"
   ]
  },
  {
   "cell_type": "code",
   "execution_count": 17,
   "id": "8c67f22f",
   "metadata": {},
   "outputs": [
    {
     "data": {
      "text/plain": [
       "101"
      ]
     },
     "execution_count": 17,
     "metadata": {},
     "output_type": "execute_result"
    }
   ],
   "source": [
    "df[df['dob_years'] == 0]['dob_years'].count()"
   ]
  },
  {
   "cell_type": "markdown",
   "id": "36ec789a",
   "metadata": {},
   "source": [
    "Данные могли пропасть при выгрузке, а также клиент мог не указать свой возраст. Рассчитаем медианный возраст:"
   ]
  },
  {
   "cell_type": "code",
   "execution_count": 18,
   "id": "7d5a95f3",
   "metadata": {},
   "outputs": [
    {
     "data": {
      "text/plain": [
       "43.0"
      ]
     },
     "execution_count": 18,
     "metadata": {},
     "output_type": "execute_result"
    }
   ],
   "source": [
    "df[df['dob_years'] != 0]['dob_years'].median()"
   ]
  },
  {
   "cell_type": "markdown",
   "id": "2f0f75a1",
   "metadata": {},
   "source": [
    "Учитывая, что во многих профессиях пенсионный возраст может наступить раньше 30 лет, рассчитанное значение выглядит подходящим для всех имеющихся в столбце `employment_type` категорий. Заменим нулевые значения на медианное и проверим уникальные значения в `dob_years`:"
   ]
  },
  {
   "cell_type": "code",
   "execution_count": 19,
   "id": "4c1bca6e",
   "metadata": {},
   "outputs": [
    {
     "data": {
      "text/plain": [
       "array([42, 36, 33, 32, 53, 27, 43, 50, 35, 41, 40, 65, 54, 56, 26, 48, 24,\n",
       "       21, 57, 67, 28, 63, 62, 47, 34, 68, 25, 31, 30, 20, 49, 37, 45, 61,\n",
       "       64, 44, 52, 46, 23, 38, 39, 51, 59, 29, 60, 55, 58, 71, 22, 73, 66,\n",
       "       69, 19, 72, 70, 74, 75])"
      ]
     },
     "execution_count": 19,
     "metadata": {},
     "output_type": "execute_result"
    }
   ],
   "source": [
    "df.loc[(df['dob_years'] == 0), 'dob_years'] = 43\n",
    "df['dob_years'].unique()"
   ]
  },
  {
   "cell_type": "markdown",
   "id": "a9860d3a",
   "metadata": {},
   "source": [
    "Теперь можно изменить нереальные значения из `days_employed`. Заменим значения, которые превышают возраст клиента, уменьшенный на 14 лет (официальное трудоустройство можно оформить с 14 лет) на значения, его не превышающие. Проверим результат, посчитав количество нереальных значений:"
   ]
  },
  {
   "cell_type": "code",
   "execution_count": 20,
   "id": "d5e08ac4",
   "metadata": {},
   "outputs": [
    {
     "data": {
      "text/plain": [
       "0"
      ]
     },
     "execution_count": 20,
     "metadata": {},
     "output_type": "execute_result"
    }
   ],
   "source": [
    "df.loc[(df['days_employed']/365) > (df['dob_years'] - 14), 'days_employed'] = (df['dob_years'] - 14)*365\n",
    "df[(df['days_employed']/365) > (df['dob_years'] - 14)]['days_employed'].count()"
   ]
  },
  {
   "cell_type": "markdown",
   "id": "05f3e74c",
   "metadata": {},
   "source": [
    "Посмотрим уникальные значения столбца `education`:"
   ]
  },
  {
   "cell_type": "code",
   "execution_count": 21,
   "id": "984f990f",
   "metadata": {},
   "outputs": [
    {
     "data": {
      "text/plain": [
       "array(['высшее', 'среднее', 'Среднее', 'СРЕДНЕЕ', 'ВЫСШЕЕ',\n",
       "       'неоконченное высшее', 'начальное', 'Высшее',\n",
       "       'НЕОКОНЧЕННОЕ ВЫСШЕЕ', 'Неоконченное высшее', 'НАЧАЛЬНОЕ',\n",
       "       'Начальное', 'Ученая степень', 'УЧЕНАЯ СТЕПЕНЬ', 'ученая степень'],\n",
       "      dtype=object)"
      ]
     },
     "execution_count": 21,
     "metadata": {},
     "output_type": "execute_result"
    }
   ],
   "source": [
    "df['education'].unique()"
   ]
  },
  {
   "cell_type": "markdown",
   "id": "2dc83dfc",
   "metadata": {},
   "source": [
    "Среди уникальных значений встречаются 'высшее', 'среднее', 'неоконченное высшее', 'начальное' и 'ученая степень', написанные с разным регистром. Приведем все значения к нижнему регистру и проверим уникальные значения:"
   ]
  },
  {
   "cell_type": "code",
   "execution_count": 22,
   "id": "725ad946",
   "metadata": {},
   "outputs": [
    {
     "data": {
      "text/plain": [
       "array(['высшее', 'среднее', 'неоконченное высшее', 'начальное',\n",
       "       'ученая степень'], dtype=object)"
      ]
     },
     "execution_count": 22,
     "metadata": {},
     "output_type": "execute_result"
    }
   ],
   "source": [
    "df['education'] = df['education'].str.lower()\n",
    "df['education'].unique()"
   ]
  },
  {
   "cell_type": "markdown",
   "id": "d52782d9",
   "metadata": {},
   "source": [
    "Сравним количество категорий в `education` и `education_id`. Выведем на экран уникальные значения столбца `education_id`:"
   ]
  },
  {
   "cell_type": "code",
   "execution_count": 23,
   "id": "34141be5",
   "metadata": {},
   "outputs": [
    {
     "data": {
      "text/plain": [
       "array([0, 1, 2, 3, 4])"
      ]
     },
     "execution_count": 23,
     "metadata": {},
     "output_type": "execute_result"
    }
   ],
   "source": [
    "df['education_id'].unique()"
   ]
  },
  {
   "cell_type": "markdown",
   "id": "9c5c26c2",
   "metadata": {},
   "source": [
    "Количество категорий совпадает. Проверим не присвоен ли один и тот же номер разным видам образования:"
   ]
  },
  {
   "cell_type": "code",
   "execution_count": 24,
   "id": "371ad9d7",
   "metadata": {},
   "outputs": [
    {
     "data": {
      "text/html": [
       "<div>\n",
       "<style scoped>\n",
       "    .dataframe tbody tr th:only-of-type {\n",
       "        vertical-align: middle;\n",
       "    }\n",
       "\n",
       "    .dataframe tbody tr th {\n",
       "        vertical-align: top;\n",
       "    }\n",
       "\n",
       "    .dataframe thead th {\n",
       "        text-align: right;\n",
       "    }\n",
       "</style>\n",
       "<table border=\"1\" class=\"dataframe\">\n",
       "  <thead>\n",
       "    <tr style=\"text-align: right;\">\n",
       "      <th></th>\n",
       "      <th>education</th>\n",
       "      <th>education_id</th>\n",
       "    </tr>\n",
       "  </thead>\n",
       "  <tbody>\n",
       "    <tr>\n",
       "      <td>0</td>\n",
       "      <td>высшее</td>\n",
       "      <td>0</td>\n",
       "    </tr>\n",
       "    <tr>\n",
       "      <td>1</td>\n",
       "      <td>среднее</td>\n",
       "      <td>1</td>\n",
       "    </tr>\n",
       "    <tr>\n",
       "      <td>2</td>\n",
       "      <td>неоконченное высшее</td>\n",
       "      <td>2</td>\n",
       "    </tr>\n",
       "    <tr>\n",
       "      <td>3</td>\n",
       "      <td>начальное</td>\n",
       "      <td>3</td>\n",
       "    </tr>\n",
       "    <tr>\n",
       "      <td>4</td>\n",
       "      <td>ученая степень</td>\n",
       "      <td>4</td>\n",
       "    </tr>\n",
       "  </tbody>\n",
       "</table>\n",
       "</div>"
      ],
      "text/plain": [
       "             education  education_id\n",
       "0               высшее             0\n",
       "1              среднее             1\n",
       "2  неоконченное высшее             2\n",
       "3            начальное             3\n",
       "4       ученая степень             4"
      ]
     },
     "execution_count": 24,
     "metadata": {},
     "output_type": "execute_result"
    }
   ],
   "source": [
    "df[['education', 'education_id']].drop_duplicates().reset_index(drop=True)"
   ]
  },
  {
   "cell_type": "markdown",
   "id": "e973a08a",
   "metadata": {},
   "source": [
    "Все верно."
   ]
  },
  {
   "cell_type": "markdown",
   "id": "61dd3abd",
   "metadata": {},
   "source": [
    "Посмотрим уникальные значения в `family_status` и `family_status_ id`:"
   ]
  },
  {
   "cell_type": "code",
   "execution_count": 25,
   "id": "eeae21ae",
   "metadata": {},
   "outputs": [
    {
     "name": "stdout",
     "output_type": "stream",
     "text": [
      "['женат / замужем' 'гражданский брак' 'вдовец / вдова' 'в разводе'\n",
      " 'Не женат / не замужем']\n",
      "[0 1 2 3 4]\n"
     ]
    }
   ],
   "source": [
    "print(df['family_status'].unique(),\n",
    "      df['family_status_id'].unique(),\n",
    "      sep='\\n')"
   ]
  },
  {
   "cell_type": "markdown",
   "id": "afc4b5ad",
   "metadata": {},
   "source": [
    "Артефактных значений нет, количество категорий совпадает. Можно привести значения в `family_status` к нижнему регистру:"
   ]
  },
  {
   "cell_type": "code",
   "execution_count": 26,
   "id": "e35a32ee",
   "metadata": {},
   "outputs": [],
   "source": [
    "df['family_status'] = df['family_status'].str.lower()"
   ]
  },
  {
   "cell_type": "markdown",
   "id": "6e10132d",
   "metadata": {},
   "source": [
    "Проверим не присвоен ли один и тот же номер разным семейным статусам:"
   ]
  },
  {
   "cell_type": "code",
   "execution_count": 27,
   "id": "63e6755c",
   "metadata": {},
   "outputs": [
    {
     "data": {
      "text/html": [
       "<div>\n",
       "<style scoped>\n",
       "    .dataframe tbody tr th:only-of-type {\n",
       "        vertical-align: middle;\n",
       "    }\n",
       "\n",
       "    .dataframe tbody tr th {\n",
       "        vertical-align: top;\n",
       "    }\n",
       "\n",
       "    .dataframe thead th {\n",
       "        text-align: right;\n",
       "    }\n",
       "</style>\n",
       "<table border=\"1\" class=\"dataframe\">\n",
       "  <thead>\n",
       "    <tr style=\"text-align: right;\">\n",
       "      <th></th>\n",
       "      <th>family_status</th>\n",
       "      <th>family_status_id</th>\n",
       "    </tr>\n",
       "  </thead>\n",
       "  <tbody>\n",
       "    <tr>\n",
       "      <td>0</td>\n",
       "      <td>женат / замужем</td>\n",
       "      <td>0</td>\n",
       "    </tr>\n",
       "    <tr>\n",
       "      <td>1</td>\n",
       "      <td>гражданский брак</td>\n",
       "      <td>1</td>\n",
       "    </tr>\n",
       "    <tr>\n",
       "      <td>2</td>\n",
       "      <td>вдовец / вдова</td>\n",
       "      <td>2</td>\n",
       "    </tr>\n",
       "    <tr>\n",
       "      <td>3</td>\n",
       "      <td>в разводе</td>\n",
       "      <td>3</td>\n",
       "    </tr>\n",
       "    <tr>\n",
       "      <td>4</td>\n",
       "      <td>не женат / не замужем</td>\n",
       "      <td>4</td>\n",
       "    </tr>\n",
       "  </tbody>\n",
       "</table>\n",
       "</div>"
      ],
      "text/plain": [
       "           family_status  family_status_id\n",
       "0        женат / замужем                 0\n",
       "1       гражданский брак                 1\n",
       "2         вдовец / вдова                 2\n",
       "3              в разводе                 3\n",
       "4  не женат / не замужем                 4"
      ]
     },
     "execution_count": 27,
     "metadata": {},
     "output_type": "execute_result"
    }
   ],
   "source": [
    "df[['family_status', 'family_status_id']].drop_duplicates().reset_index(drop=True)"
   ]
  },
  {
   "cell_type": "markdown",
   "id": "7dd4d533",
   "metadata": {},
   "source": [
    "Все верно."
   ]
  },
  {
   "cell_type": "markdown",
   "id": "e79377de",
   "metadata": {},
   "source": [
    "Проверим уникальные значения столбца `gender`:"
   ]
  },
  {
   "cell_type": "code",
   "execution_count": 28,
   "id": "a88d5d22",
   "metadata": {},
   "outputs": [
    {
     "data": {
      "text/plain": [
       "array(['F', 'M', 'XNA'], dtype=object)"
      ]
     },
     "execution_count": 28,
     "metadata": {},
     "output_type": "execute_result"
    }
   ],
   "source": [
    "df['gender'].unique()"
   ]
  },
  {
   "cell_type": "markdown",
   "id": "8cc2b0e4",
   "metadata": {},
   "source": [
    "Значение 'XNA' ошибочно. Проверим как часто оно встречается в датафрейме и оценим насколько повлияет на результаты анализа, если строчка окажется дубликатом:"
   ]
  },
  {
   "cell_type": "code",
   "execution_count": 29,
   "id": "dad417c6",
   "metadata": {},
   "outputs": [
    {
     "name": "stdout",
     "output_type": "stream",
     "text": [
      "Количество строк с 'XNA': 1\n",
      "Процент доходов клиентов с 'XNA': 0.01%\n"
     ]
    }
   ],
   "source": [
    "xna_count = df[df['gender'] == 'XNA']['gender'].count()\n",
    "xna_month_income = df[df['gender'] == 'XNA']['month_income'].sum()\n",
    "month_income_sum = df['month_income'].sum()\n",
    "print(f'Количество строк с \\'XNA\\': {xna_count}')\n",
    "print(f'Процент доходов клиентов с \\'XNA\\': {xna_month_income/month_income_sum:.2%}')"
   ]
  },
  {
   "cell_type": "markdown",
   "id": "0ffa59f1",
   "metadata": {},
   "source": [
    "Значение 'XNA' встречается в датафрейме один раз и сумма дохода этого клиента незначительна по отношению к сумме ежемесячного дохода всех клиентов. Заменим его на значение 'M':"
   ]
  },
  {
   "cell_type": "code",
   "execution_count": 30,
   "id": "74994048",
   "metadata": {},
   "outputs": [],
   "source": [
    "df.loc[(df['gender'] == 'XNA'), 'gender'] = 'M'"
   ]
  },
  {
   "cell_type": "markdown",
   "id": "c661a055",
   "metadata": {},
   "source": [
    "Проверим уникальные значения столбца `employment_type`:"
   ]
  },
  {
   "cell_type": "code",
   "execution_count": 31,
   "id": "1c854b5d",
   "metadata": {},
   "outputs": [
    {
     "data": {
      "text/plain": [
       "array(['сотрудник', 'пенсионер', 'компаньон', 'госслужащий',\n",
       "       'безработный', 'предприниматель', 'студент', 'в декрете'],\n",
       "      dtype=object)"
      ]
     },
     "execution_count": 31,
     "metadata": {},
     "output_type": "execute_result"
    }
   ],
   "source": [
    "df['employment_type'].unique()"
   ]
  },
  {
   "cell_type": "markdown",
   "id": "898e100e",
   "metadata": {},
   "source": [
    "Необычных значений и повторов не выявлено.\n",
    "\n",
    "В столбце `debt` должны быть только значения 1 и 0. Проверим с помощью метода `unique()`:"
   ]
  },
  {
   "cell_type": "code",
   "execution_count": 32,
   "id": "fdd039f9",
   "metadata": {},
   "outputs": [
    {
     "data": {
      "text/plain": [
       "array([0, 1])"
      ]
     },
     "execution_count": 32,
     "metadata": {},
     "output_type": "execute_result"
    }
   ],
   "source": [
    "df['debt'].unique()"
   ]
  },
  {
   "cell_type": "markdown",
   "id": "df78ae94",
   "metadata": {},
   "source": [
    "В столбце `month_income`заменим тип данных на int:"
   ]
  },
  {
   "cell_type": "code",
   "execution_count": 33,
   "id": "39694388",
   "metadata": {},
   "outputs": [
    {
     "data": {
      "text/plain": [
       "0    253875\n",
       "1    112080\n",
       "2    145885\n",
       "3    267628\n",
       "4    158616\n",
       "5    255763\n",
       "6    240525\n",
       "7    135823\n",
       "8     95856\n",
       "9    144425\n",
       "Name: month_income, dtype: int64"
      ]
     },
     "execution_count": 33,
     "metadata": {},
     "output_type": "execute_result"
    }
   ],
   "source": [
    "df['month_income'] = df['month_income'].astype('int')\n",
    "df['month_income'][:10]"
   ]
  },
  {
   "cell_type": "code",
   "execution_count": 34,
   "id": "48c7c375",
   "metadata": {},
   "outputs": [
    {
     "data": {
      "text/plain": [
       "20667"
      ]
     },
     "execution_count": 34,
     "metadata": {},
     "output_type": "execute_result"
    }
   ],
   "source": [
    "df['month_income'].min()"
   ]
  },
  {
   "cell_type": "code",
   "execution_count": 35,
   "id": "8f0e8af8",
   "metadata": {},
   "outputs": [
    {
     "data": {
      "text/plain": [
       "2265604"
      ]
     },
     "execution_count": 35,
     "metadata": {},
     "output_type": "execute_result"
    }
   ],
   "source": [
    "df['month_income'].max()"
   ]
  },
  {
   "cell_type": "markdown",
   "id": "d5f8b98a",
   "metadata": {},
   "source": [
    "Отрицательных значений нет, минимальное значение не вызывает вопросов, максимальное тоже вполне может существовать, если встречается не слишком часто. Рассчитаем долю клиентов с доходом выше 500 тысяч рублей:"
   ]
  },
  {
   "cell_type": "code",
   "execution_count": 36,
   "id": "7d35bc15",
   "metadata": {},
   "outputs": [
    {
     "name": "stdout",
     "output_type": "stream",
     "text": [
      "Процент клиентов с высоким доходом: 1.03%\n"
     ]
    }
   ],
   "source": [
    "high_income_rate = (df[df['month_income'] >= 500000]['month_income'].count()) / 21525\n",
    "print(f'Процент клиентов с высоким доходом: {high_income_rate:.2%}')"
   ]
  },
  {
   "cell_type": "markdown",
   "id": "e19c5875",
   "metadata": {},
   "source": [
    "1,03 % не много, оставим эти строки."
   ]
  },
  {
   "cell_type": "markdown",
   "id": "0d390b79",
   "metadata": {},
   "source": [
    "Посмотрим уникальные значения столбца `purpose`:"
   ]
  },
  {
   "cell_type": "code",
   "execution_count": 37,
   "id": "a7d0de49",
   "metadata": {},
   "outputs": [
    {
     "data": {
      "text/plain": [
       "array(['покупка жилья', 'приобретение автомобиля',\n",
       "       'дополнительное образование', 'сыграть свадьбу',\n",
       "       'операции с жильем', 'образование', 'на проведение свадьбы',\n",
       "       'покупка жилья для семьи', 'покупка недвижимости',\n",
       "       'покупка коммерческой недвижимости', 'покупка жилой недвижимости',\n",
       "       'строительство собственной недвижимости', 'недвижимость',\n",
       "       'строительство недвижимости', 'на покупку подержанного автомобиля',\n",
       "       'на покупку своего автомобиля',\n",
       "       'операции с коммерческой недвижимостью',\n",
       "       'строительство жилой недвижимости', 'жилье',\n",
       "       'операции со своей недвижимостью', 'автомобили',\n",
       "       'заняться образованием', 'сделка с подержанным автомобилем',\n",
       "       'получение образования', 'автомобиль', 'свадьба',\n",
       "       'получение дополнительного образования', 'покупка своего жилья',\n",
       "       'операции с недвижимостью', 'получение высшего образования',\n",
       "       'свой автомобиль', 'сделка с автомобилем',\n",
       "       'профильное образование', 'высшее образование',\n",
       "       'покупка жилья для сдачи', 'на покупку автомобиля', 'ремонт жилью',\n",
       "       'заняться высшим образованием'], dtype=object)"
      ]
     },
     "execution_count": 37,
     "metadata": {},
     "output_type": "execute_result"
    }
   ],
   "source": [
    "df['purpose'].unique()"
   ]
  },
  {
   "cell_type": "markdown",
   "id": "585827fe",
   "metadata": {},
   "source": [
    "Среди уникальных значий много неявных дубликатов. Очевидно, что цели формулировали и вводили сами клиенты, отсюда многообразие одинаковых по смыслу но разных по форме словосочетаний. Данные, содержащиеся в столбце нужны для проверки гипотезы о влиянии разных целей кредита на его возврат в срок. Необходимо будет провести категоризацию данных. Для этого выделим леммы, сохраним их в новый список и посчитаем с помощью специального контейнера `Counter()` из модуля `collections`:"
   ]
  },
  {
   "cell_type": "code",
   "execution_count": 38,
   "id": "0c899437",
   "metadata": {},
   "outputs": [
    {
     "data": {
      "text/plain": [
       "['покупка',\n",
       " ' ',\n",
       " 'жилье',\n",
       " ' ',\n",
       " 'приобретение',\n",
       " ' ',\n",
       " 'автомобиль',\n",
       " ' ',\n",
       " 'покупка',\n",
       " ' ']"
      ]
     },
     "execution_count": 38,
     "metadata": {},
     "output_type": "execute_result"
    }
   ],
   "source": [
    "text = ' '.join(df['purpose'])\n",
    "m = Mystem()\n",
    "lemmas_flat = m.lemmatize(text)\n",
    "lemmas_flat[:10]"
   ]
  },
  {
   "cell_type": "code",
   "execution_count": 39,
   "id": "1160ce93",
   "metadata": {},
   "outputs": [
    {
     "data": {
      "text/plain": [
       "[(' ', 55201),\n",
       " ('недвижимость', 6367),\n",
       " ('покупка', 5912),\n",
       " ('жилье', 4473),\n",
       " ('автомобиль', 4315),\n",
       " ('образование', 4022),\n",
       " ('с', 2924),\n",
       " ('операция', 2610),\n",
       " ('свадьба', 2348),\n",
       " ('свой', 2235),\n",
       " ('на', 2233),\n",
       " ('строительство', 1881),\n",
       " ('высокий', 1375),\n",
       " ('получение', 1316),\n",
       " ('коммерческий', 1315),\n",
       " ('для', 1294),\n",
       " ('жилой', 1233),\n",
       " ('сделка', 944),\n",
       " ('дополнительный', 909),\n",
       " ('заниматься', 908),\n",
       " ('подержать', 858),\n",
       " ('проведение', 777),\n",
       " ('сыграть', 774),\n",
       " ('сдача', 653),\n",
       " ('семья', 641),\n",
       " ('собственный', 635),\n",
       " ('со', 630),\n",
       " ('ремонт', 612),\n",
       " ('приобретение', 462),\n",
       " ('профильный', 436),\n",
       " ('подержанный', 110),\n",
       " ('\\n', 1)]"
      ]
     },
     "execution_count": 39,
     "metadata": {},
     "output_type": "execute_result"
    }
   ],
   "source": [
    "lemmas_count = Counter(lemmas_flat).most_common()\n",
    "lemmas_count"
   ]
  },
  {
   "cell_type": "markdown",
   "id": "1516772c",
   "metadata": {},
   "source": [
    "Самые часто встречающиеся по смыслу цели: недвижимость, жилье, жилой, автомобиль, образование, свадьба, ремонт. Объединим 'недвижимость', 'жилье', 'жилой' и 'ремонт' в категорию 'недвижимость'. Также будут категории 'автомобиль', 'образование', 'свадьба'. 'ремонт' не будем выделять в отдельную категорию, так как количество клиентов с такой целью менее 3%. Остальные леммы по смыслу являются частью словосочетаний с указанными выше. \n",
    "\n",
    "Заменим значения в колонке `purpose` на выделенные категории:"
   ]
  },
  {
   "cell_type": "code",
   "execution_count": 40,
   "id": "1a3fdbfc",
   "metadata": {},
   "outputs": [],
   "source": [
    "def purpose_categories(variants, word):\n",
    "    \"\"\" Функция для перезаписи значений в столбце df['purpose'] на выбранное в соответствии с категорией.\n",
    "        \n",
    "    Принимает в качестве аргументов список значений для проверки и значение, которое перезапишется в ячейку, \n",
    "    если будет найдено значение из списка для проверки.\n",
    "    \n",
    "    \"\"\"\n",
    "    for variant in variants:\n",
    "        for index in range(len(df)):\n",
    "            if variant in df.loc[index, 'purpose']:\n",
    "                df.loc[index, 'purpose'] = word\n",
    "\n",
    "# создание списков значений для проверки\n",
    "realty = ['недвиж', 'жил']\n",
    "car = ['автомоб']\n",
    "education = ['образов']\n",
    "wedding = ['свадьб']\n",
    "\n",
    "variants = [realty, car, education, wedding]\n",
    "words = ['недвижимость', 'автомобиль', 'образование', 'свадьба']\n",
    "\n",
    "# применение функции\n",
    "for variant, word in zip(variants, words):\n",
    "    purpose_categories(variant, word)"
   ]
  },
  {
   "cell_type": "markdown",
   "id": "e1285737",
   "metadata": {},
   "source": [
    "Проверим уникальные значения колонке `purpose`:"
   ]
  },
  {
   "cell_type": "code",
   "execution_count": 41,
   "id": "345ae4e1",
   "metadata": {},
   "outputs": [
    {
     "data": {
      "text/plain": [
       "array(['недвижимость', 'автомобиль', 'образование', 'свадьба'],\n",
       "      dtype=object)"
      ]
     },
     "execution_count": 41,
     "metadata": {},
     "output_type": "execute_result"
    }
   ],
   "source": [
    "df['purpose'].unique()"
   ]
  },
  {
   "cell_type": "markdown",
   "id": "c641606b",
   "metadata": {},
   "source": [
    "### Дубликаты<a id='duplicates'></a>\n",
    "\n",
    "Теперь посчитаем явные дубликаты:"
   ]
  },
  {
   "cell_type": "code",
   "execution_count": 42,
   "id": "91955d87",
   "metadata": {},
   "outputs": [
    {
     "data": {
      "text/plain": [
       "408"
      ]
     },
     "execution_count": 42,
     "metadata": {},
     "output_type": "execute_result"
    }
   ],
   "source": [
    "df.duplicated().sum()"
   ]
  },
  {
   "cell_type": "markdown",
   "id": "a1859cb4",
   "metadata": {},
   "source": [
    "Удалим дубликаты:"
   ]
  },
  {
   "cell_type": "code",
   "execution_count": 43,
   "id": "0c53c9cd",
   "metadata": {},
   "outputs": [
    {
     "data": {
      "text/plain": [
       "0"
      ]
     },
     "execution_count": 43,
     "metadata": {},
     "output_type": "execute_result"
    }
   ],
   "source": [
    "df = df.drop_duplicates()\n",
    "df.duplicated().sum()"
   ]
  },
  {
   "cell_type": "code",
   "execution_count": 44,
   "id": "94139f95",
   "metadata": {},
   "outputs": [
    {
     "data": {
      "text/html": [
       "<div>\n",
       "<style scoped>\n",
       "    .dataframe tbody tr th:only-of-type {\n",
       "        vertical-align: middle;\n",
       "    }\n",
       "\n",
       "    .dataframe tbody tr th {\n",
       "        vertical-align: top;\n",
       "    }\n",
       "\n",
       "    .dataframe thead th {\n",
       "        text-align: right;\n",
       "    }\n",
       "</style>\n",
       "<table border=\"1\" class=\"dataframe\">\n",
       "  <thead>\n",
       "    <tr style=\"text-align: right;\">\n",
       "      <th></th>\n",
       "      <th>children</th>\n",
       "      <th>days_employed</th>\n",
       "      <th>dob_years</th>\n",
       "      <th>education</th>\n",
       "      <th>education_id</th>\n",
       "      <th>family_status</th>\n",
       "      <th>family_status_id</th>\n",
       "      <th>gender</th>\n",
       "      <th>employment_type</th>\n",
       "      <th>debt</th>\n",
       "      <th>month_income</th>\n",
       "      <th>purpose</th>\n",
       "    </tr>\n",
       "  </thead>\n",
       "  <tbody>\n",
       "    <tr>\n",
       "      <td>0</td>\n",
       "      <td>1</td>\n",
       "      <td>8437</td>\n",
       "      <td>42</td>\n",
       "      <td>высшее</td>\n",
       "      <td>0</td>\n",
       "      <td>женат / замужем</td>\n",
       "      <td>0</td>\n",
       "      <td>F</td>\n",
       "      <td>сотрудник</td>\n",
       "      <td>0</td>\n",
       "      <td>253875</td>\n",
       "      <td>недвижимость</td>\n",
       "    </tr>\n",
       "    <tr>\n",
       "      <td>1</td>\n",
       "      <td>1</td>\n",
       "      <td>4024</td>\n",
       "      <td>36</td>\n",
       "      <td>среднее</td>\n",
       "      <td>1</td>\n",
       "      <td>женат / замужем</td>\n",
       "      <td>0</td>\n",
       "      <td>F</td>\n",
       "      <td>сотрудник</td>\n",
       "      <td>0</td>\n",
       "      <td>112080</td>\n",
       "      <td>автомобиль</td>\n",
       "    </tr>\n",
       "    <tr>\n",
       "      <td>2</td>\n",
       "      <td>0</td>\n",
       "      <td>5623</td>\n",
       "      <td>33</td>\n",
       "      <td>среднее</td>\n",
       "      <td>1</td>\n",
       "      <td>женат / замужем</td>\n",
       "      <td>0</td>\n",
       "      <td>M</td>\n",
       "      <td>сотрудник</td>\n",
       "      <td>0</td>\n",
       "      <td>145885</td>\n",
       "      <td>недвижимость</td>\n",
       "    </tr>\n",
       "    <tr>\n",
       "      <td>3</td>\n",
       "      <td>3</td>\n",
       "      <td>4124</td>\n",
       "      <td>32</td>\n",
       "      <td>среднее</td>\n",
       "      <td>1</td>\n",
       "      <td>женат / замужем</td>\n",
       "      <td>0</td>\n",
       "      <td>M</td>\n",
       "      <td>сотрудник</td>\n",
       "      <td>0</td>\n",
       "      <td>267628</td>\n",
       "      <td>образование</td>\n",
       "    </tr>\n",
       "    <tr>\n",
       "      <td>4</td>\n",
       "      <td>0</td>\n",
       "      <td>14235</td>\n",
       "      <td>53</td>\n",
       "      <td>среднее</td>\n",
       "      <td>1</td>\n",
       "      <td>гражданский брак</td>\n",
       "      <td>1</td>\n",
       "      <td>F</td>\n",
       "      <td>пенсионер</td>\n",
       "      <td>0</td>\n",
       "      <td>158616</td>\n",
       "      <td>свадьба</td>\n",
       "    </tr>\n",
       "    <tr>\n",
       "      <td>7554</td>\n",
       "      <td>0</td>\n",
       "      <td>16060</td>\n",
       "      <td>58</td>\n",
       "      <td>среднее</td>\n",
       "      <td>1</td>\n",
       "      <td>женат / замужем</td>\n",
       "      <td>0</td>\n",
       "      <td>F</td>\n",
       "      <td>пенсионер</td>\n",
       "      <td>0</td>\n",
       "      <td>76648</td>\n",
       "      <td>недвижимость</td>\n",
       "    </tr>\n",
       "    <tr>\n",
       "      <td>5005</td>\n",
       "      <td>2</td>\n",
       "      <td>758</td>\n",
       "      <td>41</td>\n",
       "      <td>среднее</td>\n",
       "      <td>1</td>\n",
       "      <td>не женат / не замужем</td>\n",
       "      <td>4</td>\n",
       "      <td>M</td>\n",
       "      <td>компаньон</td>\n",
       "      <td>0</td>\n",
       "      <td>267083</td>\n",
       "      <td>автомобиль</td>\n",
       "    </tr>\n",
       "    <tr>\n",
       "      <td>10679</td>\n",
       "      <td>0</td>\n",
       "      <td>2329</td>\n",
       "      <td>51</td>\n",
       "      <td>среднее</td>\n",
       "      <td>1</td>\n",
       "      <td>женат / замужем</td>\n",
       "      <td>0</td>\n",
       "      <td>F</td>\n",
       "      <td>компаньон</td>\n",
       "      <td>0</td>\n",
       "      <td>176247</td>\n",
       "      <td>недвижимость</td>\n",
       "    </tr>\n",
       "    <tr>\n",
       "      <td>4722</td>\n",
       "      <td>0</td>\n",
       "      <td>2147</td>\n",
       "      <td>44</td>\n",
       "      <td>среднее</td>\n",
       "      <td>1</td>\n",
       "      <td>в разводе</td>\n",
       "      <td>3</td>\n",
       "      <td>M</td>\n",
       "      <td>компаньон</td>\n",
       "      <td>0</td>\n",
       "      <td>388633</td>\n",
       "      <td>недвижимость</td>\n",
       "    </tr>\n",
       "    <tr>\n",
       "      <td>20537</td>\n",
       "      <td>0</td>\n",
       "      <td>14600</td>\n",
       "      <td>54</td>\n",
       "      <td>высшее</td>\n",
       "      <td>0</td>\n",
       "      <td>не женат / не замужем</td>\n",
       "      <td>4</td>\n",
       "      <td>F</td>\n",
       "      <td>пенсионер</td>\n",
       "      <td>0</td>\n",
       "      <td>437510</td>\n",
       "      <td>недвижимость</td>\n",
       "    </tr>\n",
       "    <tr>\n",
       "      <td>21520</td>\n",
       "      <td>1</td>\n",
       "      <td>4529</td>\n",
       "      <td>43</td>\n",
       "      <td>среднее</td>\n",
       "      <td>1</td>\n",
       "      <td>гражданский брак</td>\n",
       "      <td>1</td>\n",
       "      <td>F</td>\n",
       "      <td>компаньон</td>\n",
       "      <td>0</td>\n",
       "      <td>224791</td>\n",
       "      <td>недвижимость</td>\n",
       "    </tr>\n",
       "    <tr>\n",
       "      <td>21521</td>\n",
       "      <td>0</td>\n",
       "      <td>19345</td>\n",
       "      <td>67</td>\n",
       "      <td>среднее</td>\n",
       "      <td>1</td>\n",
       "      <td>женат / замужем</td>\n",
       "      <td>0</td>\n",
       "      <td>F</td>\n",
       "      <td>пенсионер</td>\n",
       "      <td>0</td>\n",
       "      <td>155999</td>\n",
       "      <td>автомобиль</td>\n",
       "    </tr>\n",
       "    <tr>\n",
       "      <td>21522</td>\n",
       "      <td>1</td>\n",
       "      <td>2113</td>\n",
       "      <td>38</td>\n",
       "      <td>среднее</td>\n",
       "      <td>1</td>\n",
       "      <td>гражданский брак</td>\n",
       "      <td>1</td>\n",
       "      <td>M</td>\n",
       "      <td>сотрудник</td>\n",
       "      <td>1</td>\n",
       "      <td>89672</td>\n",
       "      <td>недвижимость</td>\n",
       "    </tr>\n",
       "    <tr>\n",
       "      <td>21523</td>\n",
       "      <td>3</td>\n",
       "      <td>3112</td>\n",
       "      <td>38</td>\n",
       "      <td>среднее</td>\n",
       "      <td>1</td>\n",
       "      <td>женат / замужем</td>\n",
       "      <td>0</td>\n",
       "      <td>M</td>\n",
       "      <td>сотрудник</td>\n",
       "      <td>1</td>\n",
       "      <td>244093</td>\n",
       "      <td>автомобиль</td>\n",
       "    </tr>\n",
       "    <tr>\n",
       "      <td>21524</td>\n",
       "      <td>2</td>\n",
       "      <td>1984</td>\n",
       "      <td>40</td>\n",
       "      <td>среднее</td>\n",
       "      <td>1</td>\n",
       "      <td>женат / замужем</td>\n",
       "      <td>0</td>\n",
       "      <td>F</td>\n",
       "      <td>сотрудник</td>\n",
       "      <td>0</td>\n",
       "      <td>82047</td>\n",
       "      <td>автомобиль</td>\n",
       "    </tr>\n",
       "  </tbody>\n",
       "</table>\n",
       "</div>"
      ],
      "text/plain": [
       "       children  days_employed  dob_years education  education_id  \\\n",
       "0             1           8437         42    высшее             0   \n",
       "1             1           4024         36   среднее             1   \n",
       "2             0           5623         33   среднее             1   \n",
       "3             3           4124         32   среднее             1   \n",
       "4             0          14235         53   среднее             1   \n",
       "7554          0          16060         58   среднее             1   \n",
       "5005          2            758         41   среднее             1   \n",
       "10679         0           2329         51   среднее             1   \n",
       "4722          0           2147         44   среднее             1   \n",
       "20537         0          14600         54    высшее             0   \n",
       "21520         1           4529         43   среднее             1   \n",
       "21521         0          19345         67   среднее             1   \n",
       "21522         1           2113         38   среднее             1   \n",
       "21523         3           3112         38   среднее             1   \n",
       "21524         2           1984         40   среднее             1   \n",
       "\n",
       "               family_status  family_status_id gender employment_type  debt  \\\n",
       "0            женат / замужем                 0      F       сотрудник     0   \n",
       "1            женат / замужем                 0      F       сотрудник     0   \n",
       "2            женат / замужем                 0      M       сотрудник     0   \n",
       "3            женат / замужем                 0      M       сотрудник     0   \n",
       "4           гражданский брак                 1      F       пенсионер     0   \n",
       "7554         женат / замужем                 0      F       пенсионер     0   \n",
       "5005   не женат / не замужем                 4      M       компаньон     0   \n",
       "10679        женат / замужем                 0      F       компаньон     0   \n",
       "4722               в разводе                 3      M       компаньон     0   \n",
       "20537  не женат / не замужем                 4      F       пенсионер     0   \n",
       "21520       гражданский брак                 1      F       компаньон     0   \n",
       "21521        женат / замужем                 0      F       пенсионер     0   \n",
       "21522       гражданский брак                 1      M       сотрудник     1   \n",
       "21523        женат / замужем                 0      M       сотрудник     1   \n",
       "21524        женат / замужем                 0      F       сотрудник     0   \n",
       "\n",
       "       month_income       purpose  \n",
       "0            253875  недвижимость  \n",
       "1            112080    автомобиль  \n",
       "2            145885  недвижимость  \n",
       "3            267628   образование  \n",
       "4            158616       свадьба  \n",
       "7554          76648  недвижимость  \n",
       "5005         267083    автомобиль  \n",
       "10679        176247  недвижимость  \n",
       "4722         388633  недвижимость  \n",
       "20537        437510  недвижимость  \n",
       "21520        224791  недвижимость  \n",
       "21521        155999    автомобиль  \n",
       "21522         89672  недвижимость  \n",
       "21523        244093    автомобиль  \n",
       "21524         82047    автомобиль  "
      ]
     },
     "metadata": {},
     "output_type": "display_data"
    }
   ],
   "source": [
    "total_view(df)"
   ]
  },
  {
   "cell_type": "markdown",
   "id": "6d04f0ee",
   "metadata": {},
   "source": [
    "**Выводы**\n",
    "\n",
    "Предобработка обнаружила следующие проблемы в данных:\n",
    "\n",
    "- нарушения в стиле заголовков,\n",
    "- пропущенные значения,\n",
    "- разный регистр в строках,\n",
    "- вещественный тип данных с большим количеством знаков после плавающей точки,\n",
    "- артефакты (нереальные значения),\n",
    "- дубликаты — явные (были удалены вместе с пропущенными значениями) и неявные.\n",
    "\n",
    "На данном этапе были исправлены заголовки, проанализированы и удалены пропуски, строки приведены к нижнему регистру, вещественный тип данных изменен на целочисленный, найдены и исправлены артефакты, проведена лемматизация и категоризация колонки `purpose`."
   ]
  },
  {
   "cell_type": "markdown",
   "id": "5b0cf6fd",
   "metadata": {},
   "source": [
    "## Проверка гипотез<a id='hypotheses'></a>"
   ]
  },
  {
   "cell_type": "markdown",
   "id": "d44cef2c",
   "metadata": {},
   "source": [
    "### Зависимость кредитоспособности заёмщика от наличия у него детей<a id='children'></a>"
   ]
  },
  {
   "cell_type": "markdown",
   "id": "c8b8d6d7",
   "metadata": {},
   "source": [
    "Оценим количество клиентов с разным количеством детей:"
   ]
  },
  {
   "cell_type": "code",
   "execution_count": 45,
   "id": "aff6f7ab",
   "metadata": {},
   "outputs": [
    {
     "data": {
      "text/plain": [
       "0    13827\n",
       "1     4797\n",
       "2     2115\n",
       "3      329\n",
       "4       40\n",
       "5        9\n",
       "Name: children, dtype: int64"
      ]
     },
     "execution_count": 45,
     "metadata": {},
     "output_type": "execute_result"
    }
   ],
   "source": [
    "df['children'].value_counts()"
   ]
  },
  {
   "cell_type": "markdown",
   "id": "c720b298",
   "metadata": {},
   "source": [
    "Количество клиентов с тремя, четырьми и пятью детьми незначительное. Объединим их в одну категорию вместе с клиентами с двумя детьми. Сформируем категории:\n",
    "* 'бездетные' - клиенты, у которых нет детей;\n",
    "* 'один ребенок' - клиенты, у которых один ребенок;\n",
    "* 'два и более детей' - клиенты, у которых больше одного ребенка."
   ]
  },
  {
   "cell_type": "code",
   "execution_count": 46,
   "id": "7e39b110",
   "metadata": {},
   "outputs": [],
   "source": [
    "def children_category(child):\n",
    "    ''' Возвращает название категории по значению количества детей child, используя правила:\n",
    "    \n",
    "    'бездетные', если child = 0;\n",
    "    'один ребенок', если child = 1;\n",
    "    'два и более детей' во всех остальных случаях.\n",
    "    \n",
    "    '''\n",
    "    if child == 0:\n",
    "        return 'бездетные'\n",
    "    if child == 1:\n",
    "        return 'один ребенок'\n",
    "    return 'два и более детей'"
   ]
  },
  {
   "cell_type": "markdown",
   "id": "ccf2e228",
   "metadata": {},
   "source": [
    "Запишем результат работы функции в колонку `children_categories`:"
   ]
  },
  {
   "cell_type": "code",
   "execution_count": 47,
   "id": "4ad3992d",
   "metadata": {},
   "outputs": [
    {
     "data": {
      "text/html": [
       "<div>\n",
       "<style scoped>\n",
       "    .dataframe tbody tr th:only-of-type {\n",
       "        vertical-align: middle;\n",
       "    }\n",
       "\n",
       "    .dataframe tbody tr th {\n",
       "        vertical-align: top;\n",
       "    }\n",
       "\n",
       "    .dataframe thead th {\n",
       "        text-align: right;\n",
       "    }\n",
       "</style>\n",
       "<table border=\"1\" class=\"dataframe\">\n",
       "  <thead>\n",
       "    <tr style=\"text-align: right;\">\n",
       "      <th></th>\n",
       "      <th>children</th>\n",
       "      <th>days_employed</th>\n",
       "      <th>dob_years</th>\n",
       "      <th>education</th>\n",
       "      <th>education_id</th>\n",
       "      <th>family_status</th>\n",
       "      <th>family_status_id</th>\n",
       "      <th>gender</th>\n",
       "      <th>employment_type</th>\n",
       "      <th>debt</th>\n",
       "      <th>month_income</th>\n",
       "      <th>purpose</th>\n",
       "      <th>children_categories</th>\n",
       "    </tr>\n",
       "  </thead>\n",
       "  <tbody>\n",
       "    <tr>\n",
       "      <td>0</td>\n",
       "      <td>1</td>\n",
       "      <td>8437</td>\n",
       "      <td>42</td>\n",
       "      <td>высшее</td>\n",
       "      <td>0</td>\n",
       "      <td>женат / замужем</td>\n",
       "      <td>0</td>\n",
       "      <td>F</td>\n",
       "      <td>сотрудник</td>\n",
       "      <td>0</td>\n",
       "      <td>253875</td>\n",
       "      <td>недвижимость</td>\n",
       "      <td>один ребенок</td>\n",
       "    </tr>\n",
       "    <tr>\n",
       "      <td>1</td>\n",
       "      <td>1</td>\n",
       "      <td>4024</td>\n",
       "      <td>36</td>\n",
       "      <td>среднее</td>\n",
       "      <td>1</td>\n",
       "      <td>женат / замужем</td>\n",
       "      <td>0</td>\n",
       "      <td>F</td>\n",
       "      <td>сотрудник</td>\n",
       "      <td>0</td>\n",
       "      <td>112080</td>\n",
       "      <td>автомобиль</td>\n",
       "      <td>один ребенок</td>\n",
       "    </tr>\n",
       "    <tr>\n",
       "      <td>2</td>\n",
       "      <td>0</td>\n",
       "      <td>5623</td>\n",
       "      <td>33</td>\n",
       "      <td>среднее</td>\n",
       "      <td>1</td>\n",
       "      <td>женат / замужем</td>\n",
       "      <td>0</td>\n",
       "      <td>M</td>\n",
       "      <td>сотрудник</td>\n",
       "      <td>0</td>\n",
       "      <td>145885</td>\n",
       "      <td>недвижимость</td>\n",
       "      <td>бездетные</td>\n",
       "    </tr>\n",
       "    <tr>\n",
       "      <td>3</td>\n",
       "      <td>3</td>\n",
       "      <td>4124</td>\n",
       "      <td>32</td>\n",
       "      <td>среднее</td>\n",
       "      <td>1</td>\n",
       "      <td>женат / замужем</td>\n",
       "      <td>0</td>\n",
       "      <td>M</td>\n",
       "      <td>сотрудник</td>\n",
       "      <td>0</td>\n",
       "      <td>267628</td>\n",
       "      <td>образование</td>\n",
       "      <td>два и более детей</td>\n",
       "    </tr>\n",
       "    <tr>\n",
       "      <td>4</td>\n",
       "      <td>0</td>\n",
       "      <td>14235</td>\n",
       "      <td>53</td>\n",
       "      <td>среднее</td>\n",
       "      <td>1</td>\n",
       "      <td>гражданский брак</td>\n",
       "      <td>1</td>\n",
       "      <td>F</td>\n",
       "      <td>пенсионер</td>\n",
       "      <td>0</td>\n",
       "      <td>158616</td>\n",
       "      <td>свадьба</td>\n",
       "      <td>бездетные</td>\n",
       "    </tr>\n",
       "  </tbody>\n",
       "</table>\n",
       "</div>"
      ],
      "text/plain": [
       "   children  days_employed  dob_years education  education_id  \\\n",
       "0         1           8437         42    высшее             0   \n",
       "1         1           4024         36   среднее             1   \n",
       "2         0           5623         33   среднее             1   \n",
       "3         3           4124         32   среднее             1   \n",
       "4         0          14235         53   среднее             1   \n",
       "\n",
       "      family_status  family_status_id gender employment_type  debt  \\\n",
       "0   женат / замужем                 0      F       сотрудник     0   \n",
       "1   женат / замужем                 0      F       сотрудник     0   \n",
       "2   женат / замужем                 0      M       сотрудник     0   \n",
       "3   женат / замужем                 0      M       сотрудник     0   \n",
       "4  гражданский брак                 1      F       пенсионер     0   \n",
       "\n",
       "   month_income       purpose children_categories  \n",
       "0        253875  недвижимость        один ребенок  \n",
       "1        112080    автомобиль        один ребенок  \n",
       "2        145885  недвижимость           бездетные  \n",
       "3        267628   образование   два и более детей  \n",
       "4        158616       свадьба           бездетные  "
      ]
     },
     "execution_count": 47,
     "metadata": {},
     "output_type": "execute_result"
    }
   ],
   "source": [
    "df['children_categories'] = df['children'].apply(children_category)\n",
    "df.head()"
   ]
  },
  {
   "cell_type": "markdown",
   "id": "bbbd4e9a",
   "metadata": {},
   "source": [
    "Присвоим категории клиентам в зависимости от имевшихся просроченных обязательств по возврату кредитов. Здесь всего две категории:\n",
    "* 'debt' - если клиент имел задолженность по возврату кредитов;\n",
    "* 'no_debt' - если клиент не имел задолженность по возврату кредитов."
   ]
  },
  {
   "cell_type": "code",
   "execution_count": 48,
   "id": "6a331fff",
   "metadata": {},
   "outputs": [],
   "source": [
    "def debt_category(debt):\n",
    "    ''' Возвращает название категории по значению просроченных задолженностей debt, используя правила:\n",
    "    \n",
    "    'debt', если debt = 1;\n",
    "    'no_debt' в остальных случаях.\n",
    "    \n",
    "    '''\n",
    "    if debt == 1:\n",
    "        return 'debt'\n",
    "    return 'no_debt'"
   ]
  },
  {
   "cell_type": "markdown",
   "id": "278ce962",
   "metadata": {},
   "source": [
    "Запишем результат работы функции в колонку `debt_categories`:"
   ]
  },
  {
   "cell_type": "code",
   "execution_count": 49,
   "id": "f2b2d727",
   "metadata": {},
   "outputs": [
    {
     "data": {
      "text/html": [
       "<div>\n",
       "<style scoped>\n",
       "    .dataframe tbody tr th:only-of-type {\n",
       "        vertical-align: middle;\n",
       "    }\n",
       "\n",
       "    .dataframe tbody tr th {\n",
       "        vertical-align: top;\n",
       "    }\n",
       "\n",
       "    .dataframe thead th {\n",
       "        text-align: right;\n",
       "    }\n",
       "</style>\n",
       "<table border=\"1\" class=\"dataframe\">\n",
       "  <thead>\n",
       "    <tr style=\"text-align: right;\">\n",
       "      <th></th>\n",
       "      <th>children</th>\n",
       "      <th>days_employed</th>\n",
       "      <th>dob_years</th>\n",
       "      <th>education</th>\n",
       "      <th>education_id</th>\n",
       "      <th>family_status</th>\n",
       "      <th>family_status_id</th>\n",
       "      <th>gender</th>\n",
       "      <th>employment_type</th>\n",
       "      <th>debt</th>\n",
       "      <th>month_income</th>\n",
       "      <th>purpose</th>\n",
       "      <th>children_categories</th>\n",
       "      <th>debt_categories</th>\n",
       "    </tr>\n",
       "  </thead>\n",
       "  <tbody>\n",
       "    <tr>\n",
       "      <td>0</td>\n",
       "      <td>1</td>\n",
       "      <td>8437</td>\n",
       "      <td>42</td>\n",
       "      <td>высшее</td>\n",
       "      <td>0</td>\n",
       "      <td>женат / замужем</td>\n",
       "      <td>0</td>\n",
       "      <td>F</td>\n",
       "      <td>сотрудник</td>\n",
       "      <td>0</td>\n",
       "      <td>253875</td>\n",
       "      <td>недвижимость</td>\n",
       "      <td>один ребенок</td>\n",
       "      <td>no_debt</td>\n",
       "    </tr>\n",
       "    <tr>\n",
       "      <td>1</td>\n",
       "      <td>1</td>\n",
       "      <td>4024</td>\n",
       "      <td>36</td>\n",
       "      <td>среднее</td>\n",
       "      <td>1</td>\n",
       "      <td>женат / замужем</td>\n",
       "      <td>0</td>\n",
       "      <td>F</td>\n",
       "      <td>сотрудник</td>\n",
       "      <td>0</td>\n",
       "      <td>112080</td>\n",
       "      <td>автомобиль</td>\n",
       "      <td>один ребенок</td>\n",
       "      <td>no_debt</td>\n",
       "    </tr>\n",
       "    <tr>\n",
       "      <td>2</td>\n",
       "      <td>0</td>\n",
       "      <td>5623</td>\n",
       "      <td>33</td>\n",
       "      <td>среднее</td>\n",
       "      <td>1</td>\n",
       "      <td>женат / замужем</td>\n",
       "      <td>0</td>\n",
       "      <td>M</td>\n",
       "      <td>сотрудник</td>\n",
       "      <td>0</td>\n",
       "      <td>145885</td>\n",
       "      <td>недвижимость</td>\n",
       "      <td>бездетные</td>\n",
       "      <td>no_debt</td>\n",
       "    </tr>\n",
       "    <tr>\n",
       "      <td>3</td>\n",
       "      <td>3</td>\n",
       "      <td>4124</td>\n",
       "      <td>32</td>\n",
       "      <td>среднее</td>\n",
       "      <td>1</td>\n",
       "      <td>женат / замужем</td>\n",
       "      <td>0</td>\n",
       "      <td>M</td>\n",
       "      <td>сотрудник</td>\n",
       "      <td>0</td>\n",
       "      <td>267628</td>\n",
       "      <td>образование</td>\n",
       "      <td>два и более детей</td>\n",
       "      <td>no_debt</td>\n",
       "    </tr>\n",
       "    <tr>\n",
       "      <td>4</td>\n",
       "      <td>0</td>\n",
       "      <td>14235</td>\n",
       "      <td>53</td>\n",
       "      <td>среднее</td>\n",
       "      <td>1</td>\n",
       "      <td>гражданский брак</td>\n",
       "      <td>1</td>\n",
       "      <td>F</td>\n",
       "      <td>пенсионер</td>\n",
       "      <td>0</td>\n",
       "      <td>158616</td>\n",
       "      <td>свадьба</td>\n",
       "      <td>бездетные</td>\n",
       "      <td>no_debt</td>\n",
       "    </tr>\n",
       "  </tbody>\n",
       "</table>\n",
       "</div>"
      ],
      "text/plain": [
       "   children  days_employed  dob_years education  education_id  \\\n",
       "0         1           8437         42    высшее             0   \n",
       "1         1           4024         36   среднее             1   \n",
       "2         0           5623         33   среднее             1   \n",
       "3         3           4124         32   среднее             1   \n",
       "4         0          14235         53   среднее             1   \n",
       "\n",
       "      family_status  family_status_id gender employment_type  debt  \\\n",
       "0   женат / замужем                 0      F       сотрудник     0   \n",
       "1   женат / замужем                 0      F       сотрудник     0   \n",
       "2   женат / замужем                 0      M       сотрудник     0   \n",
       "3   женат / замужем                 0      M       сотрудник     0   \n",
       "4  гражданский брак                 1      F       пенсионер     0   \n",
       "\n",
       "   month_income       purpose children_categories debt_categories  \n",
       "0        253875  недвижимость        один ребенок         no_debt  \n",
       "1        112080    автомобиль        один ребенок         no_debt  \n",
       "2        145885  недвижимость           бездетные         no_debt  \n",
       "3        267628   образование   два и более детей         no_debt  \n",
       "4        158616       свадьба           бездетные         no_debt  "
      ]
     },
     "execution_count": 49,
     "metadata": {},
     "output_type": "execute_result"
    }
   ],
   "source": [
    "df['debt_categories'] = df['debt'].apply(debt_category)\n",
    "df.head()"
   ]
  },
  {
   "cell_type": "markdown",
   "id": "11b7cd61",
   "metadata": {},
   "source": [
    "Создадим сводную таблицу с количеством клиентов по категориям в зависимости от наличия у клиентов детей и имевшихся просроченных обязательств по кредитам:"
   ]
  },
  {
   "cell_type": "code",
   "execution_count": 50,
   "id": "5d48b2e2",
   "metadata": {},
   "outputs": [
    {
     "data": {
      "text/html": [
       "<div>\n",
       "<style scoped>\n",
       "    .dataframe tbody tr th:only-of-type {\n",
       "        vertical-align: middle;\n",
       "    }\n",
       "\n",
       "    .dataframe tbody tr th {\n",
       "        vertical-align: top;\n",
       "    }\n",
       "\n",
       "    .dataframe thead th {\n",
       "        text-align: right;\n",
       "    }\n",
       "</style>\n",
       "<table border=\"1\" class=\"dataframe\">\n",
       "  <thead>\n",
       "    <tr style=\"text-align: right;\">\n",
       "      <th>debt_categories</th>\n",
       "      <th>debt</th>\n",
       "      <th>no_debt</th>\n",
       "    </tr>\n",
       "    <tr>\n",
       "      <th>children_categories</th>\n",
       "      <th></th>\n",
       "      <th></th>\n",
       "    </tr>\n",
       "  </thead>\n",
       "  <tbody>\n",
       "    <tr>\n",
       "      <td>бездетные</td>\n",
       "      <td>1061</td>\n",
       "      <td>12766</td>\n",
       "    </tr>\n",
       "    <tr>\n",
       "      <td>два и более детей</td>\n",
       "      <td>233</td>\n",
       "      <td>2260</td>\n",
       "    </tr>\n",
       "    <tr>\n",
       "      <td>один ребенок</td>\n",
       "      <td>445</td>\n",
       "      <td>4352</td>\n",
       "    </tr>\n",
       "  </tbody>\n",
       "</table>\n",
       "</div>"
      ],
      "text/plain": [
       "debt_categories      debt  no_debt\n",
       "children_categories               \n",
       "бездетные            1061    12766\n",
       "два и более детей     233     2260\n",
       "один ребенок          445     4352"
      ]
     },
     "execution_count": 50,
     "metadata": {},
     "output_type": "execute_result"
    }
   ],
   "source": [
    "df_pivot_children = df.pivot_table(index='children_categories',\n",
    "                                   columns='debt_categories', \n",
    "                                   values='debt',\n",
    "                                   aggfunc='count')\n",
    "df_pivot_children"
   ]
  },
  {
   "cell_type": "markdown",
   "id": "8d9016f9",
   "metadata": {},
   "source": [
    "Добавим в сводную таблицу столбец `children_categories_total` с суммой всех клиентов в разрезе категорий по наличию детей:"
   ]
  },
  {
   "cell_type": "code",
   "execution_count": 51,
   "id": "b14f3865",
   "metadata": {},
   "outputs": [
    {
     "data": {
      "text/html": [
       "<div>\n",
       "<style scoped>\n",
       "    .dataframe tbody tr th:only-of-type {\n",
       "        vertical-align: middle;\n",
       "    }\n",
       "\n",
       "    .dataframe tbody tr th {\n",
       "        vertical-align: top;\n",
       "    }\n",
       "\n",
       "    .dataframe thead th {\n",
       "        text-align: right;\n",
       "    }\n",
       "</style>\n",
       "<table border=\"1\" class=\"dataframe\">\n",
       "  <thead>\n",
       "    <tr style=\"text-align: right;\">\n",
       "      <th>debt_categories</th>\n",
       "      <th>debt</th>\n",
       "      <th>no_debt</th>\n",
       "      <th>children_categories_total</th>\n",
       "    </tr>\n",
       "    <tr>\n",
       "      <th>children_categories</th>\n",
       "      <th></th>\n",
       "      <th></th>\n",
       "      <th></th>\n",
       "    </tr>\n",
       "  </thead>\n",
       "  <tbody>\n",
       "    <tr>\n",
       "      <td>бездетные</td>\n",
       "      <td>1061</td>\n",
       "      <td>12766</td>\n",
       "      <td>13827</td>\n",
       "    </tr>\n",
       "    <tr>\n",
       "      <td>два и более детей</td>\n",
       "      <td>233</td>\n",
       "      <td>2260</td>\n",
       "      <td>2493</td>\n",
       "    </tr>\n",
       "    <tr>\n",
       "      <td>один ребенок</td>\n",
       "      <td>445</td>\n",
       "      <td>4352</td>\n",
       "      <td>4797</td>\n",
       "    </tr>\n",
       "  </tbody>\n",
       "</table>\n",
       "</div>"
      ],
      "text/plain": [
       "debt_categories      debt  no_debt  children_categories_total\n",
       "children_categories                                          \n",
       "бездетные            1061    12766                      13827\n",
       "два и более детей     233     2260                       2493\n",
       "один ребенок          445     4352                       4797"
      ]
     },
     "execution_count": 51,
     "metadata": {},
     "output_type": "execute_result"
    }
   ],
   "source": [
    "df_pivot_children['children_categories_total'] = df_pivot_children['debt'] + df_pivot_children['no_debt']\n",
    "df_pivot_children"
   ]
  },
  {
   "cell_type": "markdown",
   "id": "f8e2c687",
   "metadata": {},
   "source": [
    "Найдем процент клиентов с имевшейся задолженностью по возврату кредитов в каждой категории по наличию детей и запишем результат в колонку `debt_children_categories_share`:"
   ]
  },
  {
   "cell_type": "code",
   "execution_count": 52,
   "id": "10f12d22",
   "metadata": {},
   "outputs": [
    {
     "data": {
      "text/html": [
       "<div>\n",
       "<style scoped>\n",
       "    .dataframe tbody tr th:only-of-type {\n",
       "        vertical-align: middle;\n",
       "    }\n",
       "\n",
       "    .dataframe tbody tr th {\n",
       "        vertical-align: top;\n",
       "    }\n",
       "\n",
       "    .dataframe thead th {\n",
       "        text-align: right;\n",
       "    }\n",
       "</style>\n",
       "<table border=\"1\" class=\"dataframe\">\n",
       "  <thead>\n",
       "    <tr style=\"text-align: right;\">\n",
       "      <th>debt_categories</th>\n",
       "      <th>debt</th>\n",
       "      <th>no_debt</th>\n",
       "      <th>children_categories_total</th>\n",
       "      <th>debt_children_categories_share</th>\n",
       "    </tr>\n",
       "    <tr>\n",
       "      <th>children_categories</th>\n",
       "      <th></th>\n",
       "      <th></th>\n",
       "      <th></th>\n",
       "      <th></th>\n",
       "    </tr>\n",
       "  </thead>\n",
       "  <tbody>\n",
       "    <tr>\n",
       "      <td>бездетные</td>\n",
       "      <td>1061</td>\n",
       "      <td>12766</td>\n",
       "      <td>13827</td>\n",
       "      <td>7.673393</td>\n",
       "    </tr>\n",
       "    <tr>\n",
       "      <td>два и более детей</td>\n",
       "      <td>233</td>\n",
       "      <td>2260</td>\n",
       "      <td>2493</td>\n",
       "      <td>9.346169</td>\n",
       "    </tr>\n",
       "    <tr>\n",
       "      <td>один ребенок</td>\n",
       "      <td>445</td>\n",
       "      <td>4352</td>\n",
       "      <td>4797</td>\n",
       "      <td>9.276631</td>\n",
       "    </tr>\n",
       "  </tbody>\n",
       "</table>\n",
       "</div>"
      ],
      "text/plain": [
       "debt_categories      debt  no_debt  children_categories_total  \\\n",
       "children_categories                                             \n",
       "бездетные            1061    12766                      13827   \n",
       "два и более детей     233     2260                       2493   \n",
       "один ребенок          445     4352                       4797   \n",
       "\n",
       "debt_categories      debt_children_categories_share  \n",
       "children_categories                                  \n",
       "бездетные                                  7.673393  \n",
       "два и более детей                          9.346169  \n",
       "один ребенок                               9.276631  "
      ]
     },
     "execution_count": 52,
     "metadata": {},
     "output_type": "execute_result"
    }
   ],
   "source": [
    "df_pivot_children['debt_children_categories_share'] = (df_pivot_children['debt'] / \n",
    "                                                       df_pivot_children['children_categories_total']) * 100\n",
    "df_pivot_children"
   ]
  },
  {
   "cell_type": "markdown",
   "id": "5774fd23",
   "metadata": {},
   "source": [
    "**Выводы**\n",
    "\n",
    "Среди бездетных заемщиков процент допускающих просрочки по кредитам ниже остальных категорий и составляет 7,67 %. Заемщики в категориях с одним ребенком и с двумя и более детьми не возвращают кредиты в срок чаще, в 9,28% и 9,35% случаев соответсвенно.\n",
    "\n",
    "В целом просроченную задолженность имеет менее 10% клиентов из выборки. А наличие ребенка в семье увеличивает риск невозврата кредита в срок примерно на 1,6%."
   ]
  },
  {
   "cell_type": "markdown",
   "id": "4e063438",
   "metadata": {},
   "source": [
    "### Зависимость кредитоспособности заёмщика от его семейного положения<a id='family'></a>"
   ]
  },
  {
   "cell_type": "markdown",
   "id": "3021adc1",
   "metadata": {},
   "source": [
    "Посчитаем количество клиентов в категориях с разным семейным статусом:"
   ]
  },
  {
   "cell_type": "code",
   "execution_count": 53,
   "id": "4b9fb251",
   "metadata": {},
   "outputs": [
    {
     "data": {
      "text/plain": [
       "женат / замужем          12074\n",
       "гражданский брак          4123\n",
       "не женат / не замужем     2784\n",
       "в разводе                 1193\n",
       "вдовец / вдова             943\n",
       "Name: family_status, dtype: int64"
      ]
     },
     "execution_count": 53,
     "metadata": {},
     "output_type": "execute_result"
    }
   ],
   "source": [
    "df['family_status'].value_counts()"
   ]
  },
  {
   "cell_type": "markdown",
   "id": "2dd9f211",
   "metadata": {},
   "source": [
    "Вдовцов и разведенных в выборке гораздо меньше, чем женатых. Для банка было бы информативнее объединить клиентов по семейному статусу исходя из норм закона, устаналивающих вид собственности - совместная у официально зарегистрировавших брак, долевая у всех остальных. Таким образом в категорию 'женатые' войдут клиенты, указавшие семейный статус 'женат / замужем', а в 'холостые' все остальные. Создадим функцию:"
   ]
  },
  {
   "cell_type": "code",
   "execution_count": 54,
   "id": "2b6c8281",
   "metadata": {},
   "outputs": [],
   "source": [
    "def family_categories(number):\n",
    "    '''Возвращает название категории по номеру из 'family_status_id', используя правила:\n",
    "    \n",
    "    'женатые', если number = 0;\n",
    "    'холостые' в остальных случаях.\n",
    "    \n",
    "    '''\n",
    "    if number == 0:\n",
    "        return 'женатые'\n",
    "    return 'холостые'"
   ]
  },
  {
   "cell_type": "markdown",
   "id": "8d3c1e1c",
   "metadata": {},
   "source": [
    "Запишем результат работы функции в новый столбец `family_categories`:"
   ]
  },
  {
   "cell_type": "code",
   "execution_count": 55,
   "id": "170b9908",
   "metadata": {},
   "outputs": [
    {
     "data": {
      "text/html": [
       "<div>\n",
       "<style scoped>\n",
       "    .dataframe tbody tr th:only-of-type {\n",
       "        vertical-align: middle;\n",
       "    }\n",
       "\n",
       "    .dataframe tbody tr th {\n",
       "        vertical-align: top;\n",
       "    }\n",
       "\n",
       "    .dataframe thead th {\n",
       "        text-align: right;\n",
       "    }\n",
       "</style>\n",
       "<table border=\"1\" class=\"dataframe\">\n",
       "  <thead>\n",
       "    <tr style=\"text-align: right;\">\n",
       "      <th></th>\n",
       "      <th>children</th>\n",
       "      <th>days_employed</th>\n",
       "      <th>dob_years</th>\n",
       "      <th>education</th>\n",
       "      <th>education_id</th>\n",
       "      <th>family_status</th>\n",
       "      <th>family_status_id</th>\n",
       "      <th>gender</th>\n",
       "      <th>employment_type</th>\n",
       "      <th>debt</th>\n",
       "      <th>month_income</th>\n",
       "      <th>purpose</th>\n",
       "      <th>children_categories</th>\n",
       "      <th>debt_categories</th>\n",
       "      <th>family_categories</th>\n",
       "    </tr>\n",
       "  </thead>\n",
       "  <tbody>\n",
       "    <tr>\n",
       "      <td>0</td>\n",
       "      <td>1</td>\n",
       "      <td>8437</td>\n",
       "      <td>42</td>\n",
       "      <td>высшее</td>\n",
       "      <td>0</td>\n",
       "      <td>женат / замужем</td>\n",
       "      <td>0</td>\n",
       "      <td>F</td>\n",
       "      <td>сотрудник</td>\n",
       "      <td>0</td>\n",
       "      <td>253875</td>\n",
       "      <td>недвижимость</td>\n",
       "      <td>один ребенок</td>\n",
       "      <td>no_debt</td>\n",
       "      <td>женатые</td>\n",
       "    </tr>\n",
       "    <tr>\n",
       "      <td>1</td>\n",
       "      <td>1</td>\n",
       "      <td>4024</td>\n",
       "      <td>36</td>\n",
       "      <td>среднее</td>\n",
       "      <td>1</td>\n",
       "      <td>женат / замужем</td>\n",
       "      <td>0</td>\n",
       "      <td>F</td>\n",
       "      <td>сотрудник</td>\n",
       "      <td>0</td>\n",
       "      <td>112080</td>\n",
       "      <td>автомобиль</td>\n",
       "      <td>один ребенок</td>\n",
       "      <td>no_debt</td>\n",
       "      <td>женатые</td>\n",
       "    </tr>\n",
       "    <tr>\n",
       "      <td>2</td>\n",
       "      <td>0</td>\n",
       "      <td>5623</td>\n",
       "      <td>33</td>\n",
       "      <td>среднее</td>\n",
       "      <td>1</td>\n",
       "      <td>женат / замужем</td>\n",
       "      <td>0</td>\n",
       "      <td>M</td>\n",
       "      <td>сотрудник</td>\n",
       "      <td>0</td>\n",
       "      <td>145885</td>\n",
       "      <td>недвижимость</td>\n",
       "      <td>бездетные</td>\n",
       "      <td>no_debt</td>\n",
       "      <td>женатые</td>\n",
       "    </tr>\n",
       "    <tr>\n",
       "      <td>3</td>\n",
       "      <td>3</td>\n",
       "      <td>4124</td>\n",
       "      <td>32</td>\n",
       "      <td>среднее</td>\n",
       "      <td>1</td>\n",
       "      <td>женат / замужем</td>\n",
       "      <td>0</td>\n",
       "      <td>M</td>\n",
       "      <td>сотрудник</td>\n",
       "      <td>0</td>\n",
       "      <td>267628</td>\n",
       "      <td>образование</td>\n",
       "      <td>два и более детей</td>\n",
       "      <td>no_debt</td>\n",
       "      <td>женатые</td>\n",
       "    </tr>\n",
       "    <tr>\n",
       "      <td>4</td>\n",
       "      <td>0</td>\n",
       "      <td>14235</td>\n",
       "      <td>53</td>\n",
       "      <td>среднее</td>\n",
       "      <td>1</td>\n",
       "      <td>гражданский брак</td>\n",
       "      <td>1</td>\n",
       "      <td>F</td>\n",
       "      <td>пенсионер</td>\n",
       "      <td>0</td>\n",
       "      <td>158616</td>\n",
       "      <td>свадьба</td>\n",
       "      <td>бездетные</td>\n",
       "      <td>no_debt</td>\n",
       "      <td>холостые</td>\n",
       "    </tr>\n",
       "  </tbody>\n",
       "</table>\n",
       "</div>"
      ],
      "text/plain": [
       "   children  days_employed  dob_years education  education_id  \\\n",
       "0         1           8437         42    высшее             0   \n",
       "1         1           4024         36   среднее             1   \n",
       "2         0           5623         33   среднее             1   \n",
       "3         3           4124         32   среднее             1   \n",
       "4         0          14235         53   среднее             1   \n",
       "\n",
       "      family_status  family_status_id gender employment_type  debt  \\\n",
       "0   женат / замужем                 0      F       сотрудник     0   \n",
       "1   женат / замужем                 0      F       сотрудник     0   \n",
       "2   женат / замужем                 0      M       сотрудник     0   \n",
       "3   женат / замужем                 0      M       сотрудник     0   \n",
       "4  гражданский брак                 1      F       пенсионер     0   \n",
       "\n",
       "   month_income       purpose children_categories debt_categories  \\\n",
       "0        253875  недвижимость        один ребенок         no_debt   \n",
       "1        112080    автомобиль        один ребенок         no_debt   \n",
       "2        145885  недвижимость           бездетные         no_debt   \n",
       "3        267628   образование   два и более детей         no_debt   \n",
       "4        158616       свадьба           бездетные         no_debt   \n",
       "\n",
       "  family_categories  \n",
       "0           женатые  \n",
       "1           женатые  \n",
       "2           женатые  \n",
       "3           женатые  \n",
       "4          холостые  "
      ]
     },
     "execution_count": 55,
     "metadata": {},
     "output_type": "execute_result"
    }
   ],
   "source": [
    "df['family_categories'] = df['family_status_id'].apply(family_categories)\n",
    "df.head()"
   ]
  },
  {
   "cell_type": "markdown",
   "id": "96689178",
   "metadata": {},
   "source": [
    "Создадим сводную таблицу с количеством клиентов по категориям в зависимости от семейного положения и имевшихся у них просроченных обязательств по кредитам: "
   ]
  },
  {
   "cell_type": "code",
   "execution_count": 56,
   "id": "ea81767a",
   "metadata": {},
   "outputs": [
    {
     "data": {
      "text/html": [
       "<div>\n",
       "<style scoped>\n",
       "    .dataframe tbody tr th:only-of-type {\n",
       "        vertical-align: middle;\n",
       "    }\n",
       "\n",
       "    .dataframe tbody tr th {\n",
       "        vertical-align: top;\n",
       "    }\n",
       "\n",
       "    .dataframe thead th {\n",
       "        text-align: right;\n",
       "    }\n",
       "</style>\n",
       "<table border=\"1\" class=\"dataframe\">\n",
       "  <thead>\n",
       "    <tr style=\"text-align: right;\">\n",
       "      <th>debt_categories</th>\n",
       "      <th>debt</th>\n",
       "      <th>no_debt</th>\n",
       "    </tr>\n",
       "    <tr>\n",
       "      <th>family_categories</th>\n",
       "      <th></th>\n",
       "      <th></th>\n",
       "    </tr>\n",
       "  </thead>\n",
       "  <tbody>\n",
       "    <tr>\n",
       "      <td>женатые</td>\n",
       "      <td>929</td>\n",
       "      <td>11145</td>\n",
       "    </tr>\n",
       "    <tr>\n",
       "      <td>холостые</td>\n",
       "      <td>810</td>\n",
       "      <td>8233</td>\n",
       "    </tr>\n",
       "  </tbody>\n",
       "</table>\n",
       "</div>"
      ],
      "text/plain": [
       "debt_categories    debt  no_debt\n",
       "family_categories               \n",
       "женатые             929    11145\n",
       "холостые            810     8233"
      ]
     },
     "execution_count": 56,
     "metadata": {},
     "output_type": "execute_result"
    }
   ],
   "source": [
    "df_pivot_family = df.pivot_table(index='family_categories',\n",
    "                                 columns='debt_categories', \n",
    "                                 values='debt',\n",
    "                                 aggfunc='count')\n",
    "df_pivot_family"
   ]
  },
  {
   "cell_type": "markdown",
   "id": "d47da31b",
   "metadata": {},
   "source": [
    "Добавим в сводную таблицу колонку `family_categories_total` с суммой всех клиентов в разрезе категорий по семейному положению: "
   ]
  },
  {
   "cell_type": "code",
   "execution_count": 57,
   "id": "00dbf3e3",
   "metadata": {},
   "outputs": [
    {
     "data": {
      "text/html": [
       "<div>\n",
       "<style scoped>\n",
       "    .dataframe tbody tr th:only-of-type {\n",
       "        vertical-align: middle;\n",
       "    }\n",
       "\n",
       "    .dataframe tbody tr th {\n",
       "        vertical-align: top;\n",
       "    }\n",
       "\n",
       "    .dataframe thead th {\n",
       "        text-align: right;\n",
       "    }\n",
       "</style>\n",
       "<table border=\"1\" class=\"dataframe\">\n",
       "  <thead>\n",
       "    <tr style=\"text-align: right;\">\n",
       "      <th>debt_categories</th>\n",
       "      <th>debt</th>\n",
       "      <th>no_debt</th>\n",
       "      <th>family_categories_total</th>\n",
       "    </tr>\n",
       "    <tr>\n",
       "      <th>family_categories</th>\n",
       "      <th></th>\n",
       "      <th></th>\n",
       "      <th></th>\n",
       "    </tr>\n",
       "  </thead>\n",
       "  <tbody>\n",
       "    <tr>\n",
       "      <td>женатые</td>\n",
       "      <td>929</td>\n",
       "      <td>11145</td>\n",
       "      <td>12074</td>\n",
       "    </tr>\n",
       "    <tr>\n",
       "      <td>холостые</td>\n",
       "      <td>810</td>\n",
       "      <td>8233</td>\n",
       "      <td>9043</td>\n",
       "    </tr>\n",
       "  </tbody>\n",
       "</table>\n",
       "</div>"
      ],
      "text/plain": [
       "debt_categories    debt  no_debt  family_categories_total\n",
       "family_categories                                        \n",
       "женатые             929    11145                    12074\n",
       "холостые            810     8233                     9043"
      ]
     },
     "execution_count": 57,
     "metadata": {},
     "output_type": "execute_result"
    }
   ],
   "source": [
    "df_pivot_family['family_categories_total'] = df_pivot_family['debt'] + df_pivot_family['no_debt']\n",
    "df_pivot_family"
   ]
  },
  {
   "cell_type": "markdown",
   "id": "004890d5",
   "metadata": {},
   "source": [
    "Найдем процент клиентов с имевшейся задолженностью по возврату кредитов в каждой категории и запишем в колонку `debt_family_categories_share`:"
   ]
  },
  {
   "cell_type": "code",
   "execution_count": 58,
   "id": "20e28534",
   "metadata": {},
   "outputs": [
    {
     "data": {
      "text/html": [
       "<div>\n",
       "<style scoped>\n",
       "    .dataframe tbody tr th:only-of-type {\n",
       "        vertical-align: middle;\n",
       "    }\n",
       "\n",
       "    .dataframe tbody tr th {\n",
       "        vertical-align: top;\n",
       "    }\n",
       "\n",
       "    .dataframe thead th {\n",
       "        text-align: right;\n",
       "    }\n",
       "</style>\n",
       "<table border=\"1\" class=\"dataframe\">\n",
       "  <thead>\n",
       "    <tr style=\"text-align: right;\">\n",
       "      <th>debt_categories</th>\n",
       "      <th>debt</th>\n",
       "      <th>no_debt</th>\n",
       "      <th>family_categories_total</th>\n",
       "      <th>debt_family_categories_share</th>\n",
       "    </tr>\n",
       "    <tr>\n",
       "      <th>family_categories</th>\n",
       "      <th></th>\n",
       "      <th></th>\n",
       "      <th></th>\n",
       "      <th></th>\n",
       "    </tr>\n",
       "  </thead>\n",
       "  <tbody>\n",
       "    <tr>\n",
       "      <td>женатые</td>\n",
       "      <td>929</td>\n",
       "      <td>11145</td>\n",
       "      <td>12074</td>\n",
       "      <td>7.694219</td>\n",
       "    </tr>\n",
       "    <tr>\n",
       "      <td>холостые</td>\n",
       "      <td>810</td>\n",
       "      <td>8233</td>\n",
       "      <td>9043</td>\n",
       "      <td>8.957204</td>\n",
       "    </tr>\n",
       "  </tbody>\n",
       "</table>\n",
       "</div>"
      ],
      "text/plain": [
       "debt_categories    debt  no_debt  family_categories_total  \\\n",
       "family_categories                                           \n",
       "женатые             929    11145                    12074   \n",
       "холостые            810     8233                     9043   \n",
       "\n",
       "debt_categories    debt_family_categories_share  \n",
       "family_categories                                \n",
       "женатые                                7.694219  \n",
       "холостые                               8.957204  "
      ]
     },
     "execution_count": 58,
     "metadata": {},
     "output_type": "execute_result"
    }
   ],
   "source": [
    "df_pivot_family['debt_family_categories_share'] = (df_pivot_family['debt'] / \n",
    "                                                   df_pivot_family['family_categories_total']) * 100\n",
    "df_pivot_family"
   ]
  },
  {
   "cell_type": "markdown",
   "id": "a4b6fe41",
   "metadata": {},
   "source": [
    "**Выводы**\n",
    "\n",
    "Женатые клиенты допускают просрочку в 7,69% случаев, а холостяки в 8,96%. \n",
    "\n",
    "В целом просроченную задолженность имеет менее 9% клиентов из выборки. Риск возникновения просроченной задолженности у холостяков выше на 1,27%."
   ]
  },
  {
   "cell_type": "markdown",
   "id": "4d523fda",
   "metadata": {},
   "source": [
    "### Зависимость кредитоспособности заёмщика от его уровня дохода<a id='income'></a>"
   ]
  },
  {
   "cell_type": "markdown",
   "id": "3708ee94",
   "metadata": {},
   "source": [
    "Существует много мнений и способов деления населения на классы по уровню дохода. Воспользуемся научно обоснованным, с учетом мирового опыта, определением Всероссийского центра уровня жизни с использованием прожиточного минимума (далее - ПМ): \n",
    "* 'нищие' - доход до 1 ПМ;\n",
    "* 'бедные' - доход от 1 до 3 ПМ;\n",
    "* 'выше бедности' - доход от 3 до 7 ПМ;\n",
    "* 'средний класс' - доход от 7 до 11 ПМ;\n",
    "* 'богатые' - доход более 11 ПМ.\n",
    "\n",
    "ПМ в России в 2021 году значительно отличается от принятого в Москве (11 653 руб. и 18 029 руб. соответственно). Чтобы определиться какое значение ПМ выбрать, проанализируем имеющиеся данные. Минимальное (20 667) и максимальное (2 265 604) значения мы проверили на этапе предобработки, категория 'нищие' не попадает в выборку при любом ПМ. Найдем медианное и среднее арифметическое значения:"
   ]
  },
  {
   "cell_type": "code",
   "execution_count": 59,
   "id": "c89cb388",
   "metadata": {},
   "outputs": [
    {
     "data": {
      "text/plain": [
       "142594.0"
      ]
     },
     "execution_count": 59,
     "metadata": {},
     "output_type": "execute_result"
    }
   ],
   "source": [
    "df['month_income'].median()"
   ]
  },
  {
   "cell_type": "code",
   "execution_count": 60,
   "id": "b8631018",
   "metadata": {},
   "outputs": [
    {
     "data": {
      "text/plain": [
       "165724"
      ]
     },
     "execution_count": 60,
     "metadata": {},
     "output_type": "execute_result"
    }
   ],
   "source": [
    "int(df['month_income'].mean())"
   ]
  },
  {
   "cell_type": "markdown",
   "id": "c8f89543",
   "metadata": {},
   "source": [
    "По данным Росстата в Москве средняя зарплата в 2021 году составляет 67 000 руб., а медианная 55 000 руб., а в среднем по России еще меньше. И медианный и средний уровень дохода в выборке выше, чем по Москве. Примем за основу московский прожиточный минимум и создадим функцию:"
   ]
  },
  {
   "cell_type": "code",
   "execution_count": 61,
   "id": "da0d92ca",
   "metadata": {},
   "outputs": [],
   "source": [
    "living_wage = 18029\n",
    "\n",
    "def income_categories(income):\n",
    "    '''Возвращает название категории в зависимости от уровня дохода в 'month_income', используя правила:\n",
    "    \n",
    "    'бедные', если income < living_wage * 3;\n",
    "    'выше бедности', если living_wage * 3 <= income < living_wage * 7;\n",
    "    'средний класс',если living_wage * 7 <= income < living_wage * 11;\n",
    "    'богатые' во всех остальных случаях.\n",
    "    \n",
    "    '''\n",
    "    if income < (living_wage * 3):\n",
    "        return 'бедные'\n",
    "    if (living_wage * 3) <= income < (living_wage * 7):\n",
    "        return 'выше бедности'\n",
    "    if (living_wage * 7) <= income < (living_wage * 11):\n",
    "        return 'средний класс'\n",
    "    return 'богатые'"
   ]
  },
  {
   "cell_type": "markdown",
   "id": "cf22d55c",
   "metadata": {},
   "source": [
    "Запишем результат работы функции в новый столбец `income_categories`:"
   ]
  },
  {
   "cell_type": "code",
   "execution_count": 62,
   "id": "b5dd9296",
   "metadata": {},
   "outputs": [
    {
     "data": {
      "text/html": [
       "<div>\n",
       "<style scoped>\n",
       "    .dataframe tbody tr th:only-of-type {\n",
       "        vertical-align: middle;\n",
       "    }\n",
       "\n",
       "    .dataframe tbody tr th {\n",
       "        vertical-align: top;\n",
       "    }\n",
       "\n",
       "    .dataframe thead th {\n",
       "        text-align: right;\n",
       "    }\n",
       "</style>\n",
       "<table border=\"1\" class=\"dataframe\">\n",
       "  <thead>\n",
       "    <tr style=\"text-align: right;\">\n",
       "      <th></th>\n",
       "      <th>children</th>\n",
       "      <th>days_employed</th>\n",
       "      <th>dob_years</th>\n",
       "      <th>education</th>\n",
       "      <th>education_id</th>\n",
       "      <th>family_status</th>\n",
       "      <th>family_status_id</th>\n",
       "      <th>gender</th>\n",
       "      <th>employment_type</th>\n",
       "      <th>debt</th>\n",
       "      <th>month_income</th>\n",
       "      <th>purpose</th>\n",
       "      <th>children_categories</th>\n",
       "      <th>debt_categories</th>\n",
       "      <th>family_categories</th>\n",
       "      <th>income_categories</th>\n",
       "    </tr>\n",
       "  </thead>\n",
       "  <tbody>\n",
       "    <tr>\n",
       "      <td>0</td>\n",
       "      <td>1</td>\n",
       "      <td>8437</td>\n",
       "      <td>42</td>\n",
       "      <td>высшее</td>\n",
       "      <td>0</td>\n",
       "      <td>женат / замужем</td>\n",
       "      <td>0</td>\n",
       "      <td>F</td>\n",
       "      <td>сотрудник</td>\n",
       "      <td>0</td>\n",
       "      <td>253875</td>\n",
       "      <td>недвижимость</td>\n",
       "      <td>один ребенок</td>\n",
       "      <td>no_debt</td>\n",
       "      <td>женатые</td>\n",
       "      <td>богатые</td>\n",
       "    </tr>\n",
       "    <tr>\n",
       "      <td>1</td>\n",
       "      <td>1</td>\n",
       "      <td>4024</td>\n",
       "      <td>36</td>\n",
       "      <td>среднее</td>\n",
       "      <td>1</td>\n",
       "      <td>женат / замужем</td>\n",
       "      <td>0</td>\n",
       "      <td>F</td>\n",
       "      <td>сотрудник</td>\n",
       "      <td>0</td>\n",
       "      <td>112080</td>\n",
       "      <td>автомобиль</td>\n",
       "      <td>один ребенок</td>\n",
       "      <td>no_debt</td>\n",
       "      <td>женатые</td>\n",
       "      <td>выше бедности</td>\n",
       "    </tr>\n",
       "    <tr>\n",
       "      <td>2</td>\n",
       "      <td>0</td>\n",
       "      <td>5623</td>\n",
       "      <td>33</td>\n",
       "      <td>среднее</td>\n",
       "      <td>1</td>\n",
       "      <td>женат / замужем</td>\n",
       "      <td>0</td>\n",
       "      <td>M</td>\n",
       "      <td>сотрудник</td>\n",
       "      <td>0</td>\n",
       "      <td>145885</td>\n",
       "      <td>недвижимость</td>\n",
       "      <td>бездетные</td>\n",
       "      <td>no_debt</td>\n",
       "      <td>женатые</td>\n",
       "      <td>средний класс</td>\n",
       "    </tr>\n",
       "    <tr>\n",
       "      <td>3</td>\n",
       "      <td>3</td>\n",
       "      <td>4124</td>\n",
       "      <td>32</td>\n",
       "      <td>среднее</td>\n",
       "      <td>1</td>\n",
       "      <td>женат / замужем</td>\n",
       "      <td>0</td>\n",
       "      <td>M</td>\n",
       "      <td>сотрудник</td>\n",
       "      <td>0</td>\n",
       "      <td>267628</td>\n",
       "      <td>образование</td>\n",
       "      <td>два и более детей</td>\n",
       "      <td>no_debt</td>\n",
       "      <td>женатые</td>\n",
       "      <td>богатые</td>\n",
       "    </tr>\n",
       "    <tr>\n",
       "      <td>4</td>\n",
       "      <td>0</td>\n",
       "      <td>14235</td>\n",
       "      <td>53</td>\n",
       "      <td>среднее</td>\n",
       "      <td>1</td>\n",
       "      <td>гражданский брак</td>\n",
       "      <td>1</td>\n",
       "      <td>F</td>\n",
       "      <td>пенсионер</td>\n",
       "      <td>0</td>\n",
       "      <td>158616</td>\n",
       "      <td>свадьба</td>\n",
       "      <td>бездетные</td>\n",
       "      <td>no_debt</td>\n",
       "      <td>холостые</td>\n",
       "      <td>средний класс</td>\n",
       "    </tr>\n",
       "  </tbody>\n",
       "</table>\n",
       "</div>"
      ],
      "text/plain": [
       "   children  days_employed  dob_years education  education_id  \\\n",
       "0         1           8437         42    высшее             0   \n",
       "1         1           4024         36   среднее             1   \n",
       "2         0           5623         33   среднее             1   \n",
       "3         3           4124         32   среднее             1   \n",
       "4         0          14235         53   среднее             1   \n",
       "\n",
       "      family_status  family_status_id gender employment_type  debt  \\\n",
       "0   женат / замужем                 0      F       сотрудник     0   \n",
       "1   женат / замужем                 0      F       сотрудник     0   \n",
       "2   женат / замужем                 0      M       сотрудник     0   \n",
       "3   женат / замужем                 0      M       сотрудник     0   \n",
       "4  гражданский брак                 1      F       пенсионер     0   \n",
       "\n",
       "   month_income       purpose children_categories debt_categories  \\\n",
       "0        253875  недвижимость        один ребенок         no_debt   \n",
       "1        112080    автомобиль        один ребенок         no_debt   \n",
       "2        145885  недвижимость           бездетные         no_debt   \n",
       "3        267628   образование   два и более детей         no_debt   \n",
       "4        158616       свадьба           бездетные         no_debt   \n",
       "\n",
       "  family_categories income_categories  \n",
       "0           женатые           богатые  \n",
       "1           женатые     выше бедности  \n",
       "2           женатые     средний класс  \n",
       "3           женатые           богатые  \n",
       "4          холостые     средний класс  "
      ]
     },
     "execution_count": 62,
     "metadata": {},
     "output_type": "execute_result"
    }
   ],
   "source": [
    "df['income_categories'] = df['month_income'].apply(income_categories)\n",
    "df.head()"
   ]
  },
  {
   "cell_type": "markdown",
   "id": "1a5f9d3a",
   "metadata": {},
   "source": [
    "Создадим сводную таблицу с количеством клиентов по категориям в зависимости от уровня дохода и имевшихся у них просроченных обязательств по кредитам:"
   ]
  },
  {
   "cell_type": "code",
   "execution_count": 63,
   "id": "c38d9d25",
   "metadata": {},
   "outputs": [
    {
     "data": {
      "text/html": [
       "<div>\n",
       "<style scoped>\n",
       "    .dataframe tbody tr th:only-of-type {\n",
       "        vertical-align: middle;\n",
       "    }\n",
       "\n",
       "    .dataframe tbody tr th {\n",
       "        vertical-align: top;\n",
       "    }\n",
       "\n",
       "    .dataframe thead th {\n",
       "        text-align: right;\n",
       "    }\n",
       "</style>\n",
       "<table border=\"1\" class=\"dataframe\">\n",
       "  <thead>\n",
       "    <tr style=\"text-align: right;\">\n",
       "      <th>debt_categories</th>\n",
       "      <th>debt</th>\n",
       "      <th>no_debt</th>\n",
       "    </tr>\n",
       "    <tr>\n",
       "      <th>income_categories</th>\n",
       "      <th></th>\n",
       "      <th></th>\n",
       "    </tr>\n",
       "  </thead>\n",
       "  <tbody>\n",
       "    <tr>\n",
       "      <td>бедные</td>\n",
       "      <td>34</td>\n",
       "      <td>496</td>\n",
       "    </tr>\n",
       "    <tr>\n",
       "      <td>богатые</td>\n",
       "      <td>365</td>\n",
       "      <td>4812</td>\n",
       "    </tr>\n",
       "    <tr>\n",
       "      <td>выше бедности</td>\n",
       "      <td>622</td>\n",
       "      <td>6632</td>\n",
       "    </tr>\n",
       "    <tr>\n",
       "      <td>средний класс</td>\n",
       "      <td>718</td>\n",
       "      <td>7438</td>\n",
       "    </tr>\n",
       "  </tbody>\n",
       "</table>\n",
       "</div>"
      ],
      "text/plain": [
       "debt_categories    debt  no_debt\n",
       "income_categories               \n",
       "бедные               34      496\n",
       "богатые             365     4812\n",
       "выше бедности       622     6632\n",
       "средний класс       718     7438"
      ]
     },
     "execution_count": 63,
     "metadata": {},
     "output_type": "execute_result"
    }
   ],
   "source": [
    "df_pivot_income = df.pivot_table(index='income_categories',\n",
    "                                 columns='debt_categories', \n",
    "                                 values='debt',\n",
    "                                 aggfunc='count')\n",
    "df_pivot_income"
   ]
  },
  {
   "cell_type": "markdown",
   "id": "68d5962d",
   "metadata": {},
   "source": [
    "Добавим в сводную таблицу колонку `income_categories_total` с суммой всех клиентов в разрезе категорий по уровню дохода:"
   ]
  },
  {
   "cell_type": "code",
   "execution_count": 64,
   "id": "734a93da",
   "metadata": {},
   "outputs": [
    {
     "data": {
      "text/html": [
       "<div>\n",
       "<style scoped>\n",
       "    .dataframe tbody tr th:only-of-type {\n",
       "        vertical-align: middle;\n",
       "    }\n",
       "\n",
       "    .dataframe tbody tr th {\n",
       "        vertical-align: top;\n",
       "    }\n",
       "\n",
       "    .dataframe thead th {\n",
       "        text-align: right;\n",
       "    }\n",
       "</style>\n",
       "<table border=\"1\" class=\"dataframe\">\n",
       "  <thead>\n",
       "    <tr style=\"text-align: right;\">\n",
       "      <th>debt_categories</th>\n",
       "      <th>debt</th>\n",
       "      <th>no_debt</th>\n",
       "      <th>income_categories_total</th>\n",
       "    </tr>\n",
       "    <tr>\n",
       "      <th>income_categories</th>\n",
       "      <th></th>\n",
       "      <th></th>\n",
       "      <th></th>\n",
       "    </tr>\n",
       "  </thead>\n",
       "  <tbody>\n",
       "    <tr>\n",
       "      <td>бедные</td>\n",
       "      <td>34</td>\n",
       "      <td>496</td>\n",
       "      <td>530</td>\n",
       "    </tr>\n",
       "    <tr>\n",
       "      <td>богатые</td>\n",
       "      <td>365</td>\n",
       "      <td>4812</td>\n",
       "      <td>5177</td>\n",
       "    </tr>\n",
       "    <tr>\n",
       "      <td>выше бедности</td>\n",
       "      <td>622</td>\n",
       "      <td>6632</td>\n",
       "      <td>7254</td>\n",
       "    </tr>\n",
       "    <tr>\n",
       "      <td>средний класс</td>\n",
       "      <td>718</td>\n",
       "      <td>7438</td>\n",
       "      <td>8156</td>\n",
       "    </tr>\n",
       "  </tbody>\n",
       "</table>\n",
       "</div>"
      ],
      "text/plain": [
       "debt_categories    debt  no_debt  income_categories_total\n",
       "income_categories                                        \n",
       "бедные               34      496                      530\n",
       "богатые             365     4812                     5177\n",
       "выше бедности       622     6632                     7254\n",
       "средний класс       718     7438                     8156"
      ]
     },
     "execution_count": 64,
     "metadata": {},
     "output_type": "execute_result"
    }
   ],
   "source": [
    "df_pivot_income['income_categories_total'] = df_pivot_income['debt'] + df_pivot_income['no_debt']\n",
    "df_pivot_income"
   ]
  },
  {
   "cell_type": "markdown",
   "id": "0fc72901",
   "metadata": {},
   "source": [
    "Найдем процент клиентов с имевшейся задолженностью по возврату кредитов в каждой категории и запишем результат в колонку `debt_income_categories_share`:"
   ]
  },
  {
   "cell_type": "code",
   "execution_count": 65,
   "id": "696f4775",
   "metadata": {},
   "outputs": [
    {
     "data": {
      "text/html": [
       "<div>\n",
       "<style scoped>\n",
       "    .dataframe tbody tr th:only-of-type {\n",
       "        vertical-align: middle;\n",
       "    }\n",
       "\n",
       "    .dataframe tbody tr th {\n",
       "        vertical-align: top;\n",
       "    }\n",
       "\n",
       "    .dataframe thead th {\n",
       "        text-align: right;\n",
       "    }\n",
       "</style>\n",
       "<table border=\"1\" class=\"dataframe\">\n",
       "  <thead>\n",
       "    <tr style=\"text-align: right;\">\n",
       "      <th>debt_categories</th>\n",
       "      <th>debt</th>\n",
       "      <th>no_debt</th>\n",
       "      <th>income_categories_total</th>\n",
       "      <th>debt_income_categories_share</th>\n",
       "    </tr>\n",
       "    <tr>\n",
       "      <th>income_categories</th>\n",
       "      <th></th>\n",
       "      <th></th>\n",
       "      <th></th>\n",
       "      <th></th>\n",
       "    </tr>\n",
       "  </thead>\n",
       "  <tbody>\n",
       "    <tr>\n",
       "      <td>бедные</td>\n",
       "      <td>34</td>\n",
       "      <td>496</td>\n",
       "      <td>530</td>\n",
       "      <td>6.415094</td>\n",
       "    </tr>\n",
       "    <tr>\n",
       "      <td>богатые</td>\n",
       "      <td>365</td>\n",
       "      <td>4812</td>\n",
       "      <td>5177</td>\n",
       "      <td>7.050415</td>\n",
       "    </tr>\n",
       "    <tr>\n",
       "      <td>выше бедности</td>\n",
       "      <td>622</td>\n",
       "      <td>6632</td>\n",
       "      <td>7254</td>\n",
       "      <td>8.574580</td>\n",
       "    </tr>\n",
       "    <tr>\n",
       "      <td>средний класс</td>\n",
       "      <td>718</td>\n",
       "      <td>7438</td>\n",
       "      <td>8156</td>\n",
       "      <td>8.803335</td>\n",
       "    </tr>\n",
       "  </tbody>\n",
       "</table>\n",
       "</div>"
      ],
      "text/plain": [
       "debt_categories    debt  no_debt  income_categories_total  \\\n",
       "income_categories                                           \n",
       "бедные               34      496                      530   \n",
       "богатые             365     4812                     5177   \n",
       "выше бедности       622     6632                     7254   \n",
       "средний класс       718     7438                     8156   \n",
       "\n",
       "debt_categories    debt_income_categories_share  \n",
       "income_categories                                \n",
       "бедные                                 6.415094  \n",
       "богатые                                7.050415  \n",
       "выше бедности                          8.574580  \n",
       "средний класс                          8.803335  "
      ]
     },
     "execution_count": 65,
     "metadata": {},
     "output_type": "execute_result"
    }
   ],
   "source": [
    "df_pivot_income['debt_income_categories_share'] = (df_pivot_income['debt'] / \n",
    "                                                   df_pivot_income['income_categories_total']) * 100\n",
    "df_pivot_income"
   ]
  },
  {
   "cell_type": "markdown",
   "id": "188011d0",
   "metadata": {},
   "source": [
    "**Выводы**\n",
    "\n",
    "Реже всех совершают просрочки по кредитам клиенты из категории 'бедные', среди них 6,42% нарушителей. Риск возникновения просроченной задолженности у клиентов, относящихся к категориям 'средний класс' и 'выше бедности', самый высокий - 8,80% и 8,57% соответственно. 'Богатые' клиенты не возвращают кредиты в срок в 7,05% случаев."
   ]
  },
  {
   "cell_type": "markdown",
   "id": "20b0bc1b",
   "metadata": {},
   "source": [
    "### Зависимость кредитоспособности заёмщика от целей кредита<a id='purposes'></a>"
   ]
  },
  {
   "cell_type": "markdown",
   "id": "d3864bc5",
   "metadata": {},
   "source": [
    "Цели кредитов были категоризированы на этапе предобработки: 'недвижимость', 'автомобиль', 'образование' и 'свадьба'. Создадим сводную таблицу с количеством клиентов по категориям в зависимости от целей кредита и имевшихся у них просроченных обязательств:"
   ]
  },
  {
   "cell_type": "code",
   "execution_count": 66,
   "id": "337142a6",
   "metadata": {},
   "outputs": [
    {
     "data": {
      "text/html": [
       "<div>\n",
       "<style scoped>\n",
       "    .dataframe tbody tr th:only-of-type {\n",
       "        vertical-align: middle;\n",
       "    }\n",
       "\n",
       "    .dataframe tbody tr th {\n",
       "        vertical-align: top;\n",
       "    }\n",
       "\n",
       "    .dataframe thead th {\n",
       "        text-align: right;\n",
       "    }\n",
       "</style>\n",
       "<table border=\"1\" class=\"dataframe\">\n",
       "  <thead>\n",
       "    <tr style=\"text-align: right;\">\n",
       "      <th>debt_categories</th>\n",
       "      <th>debt</th>\n",
       "      <th>no_debt</th>\n",
       "    </tr>\n",
       "    <tr>\n",
       "      <th>purpose</th>\n",
       "      <th></th>\n",
       "      <th></th>\n",
       "    </tr>\n",
       "  </thead>\n",
       "  <tbody>\n",
       "    <tr>\n",
       "      <td>автомобиль</td>\n",
       "      <td>402</td>\n",
       "      <td>3870</td>\n",
       "    </tr>\n",
       "    <tr>\n",
       "      <td>недвижимость</td>\n",
       "      <td>781</td>\n",
       "      <td>9794</td>\n",
       "    </tr>\n",
       "    <tr>\n",
       "      <td>образование</td>\n",
       "      <td>370</td>\n",
       "      <td>3594</td>\n",
       "    </tr>\n",
       "    <tr>\n",
       "      <td>свадьба</td>\n",
       "      <td>186</td>\n",
       "      <td>2120</td>\n",
       "    </tr>\n",
       "  </tbody>\n",
       "</table>\n",
       "</div>"
      ],
      "text/plain": [
       "debt_categories  debt  no_debt\n",
       "purpose                       \n",
       "автомобиль        402     3870\n",
       "недвижимость      781     9794\n",
       "образование       370     3594\n",
       "свадьба           186     2120"
      ]
     },
     "execution_count": 66,
     "metadata": {},
     "output_type": "execute_result"
    }
   ],
   "source": [
    "df_pivot_purpose = df.pivot_table(index='purpose',\n",
    "                                  columns='debt_categories', \n",
    "                                  values='debt',\n",
    "                                  aggfunc='count')\n",
    "df_pivot_purpose"
   ]
  },
  {
   "cell_type": "markdown",
   "id": "42df1509",
   "metadata": {},
   "source": [
    "Добавим в сводную таблицу колонку `purpose_categories_total` с суммой всех клиентов в разрезе категорий по целям кредита:"
   ]
  },
  {
   "cell_type": "code",
   "execution_count": 67,
   "id": "3ae7f1bd",
   "metadata": {},
   "outputs": [
    {
     "data": {
      "text/html": [
       "<div>\n",
       "<style scoped>\n",
       "    .dataframe tbody tr th:only-of-type {\n",
       "        vertical-align: middle;\n",
       "    }\n",
       "\n",
       "    .dataframe tbody tr th {\n",
       "        vertical-align: top;\n",
       "    }\n",
       "\n",
       "    .dataframe thead th {\n",
       "        text-align: right;\n",
       "    }\n",
       "</style>\n",
       "<table border=\"1\" class=\"dataframe\">\n",
       "  <thead>\n",
       "    <tr style=\"text-align: right;\">\n",
       "      <th>debt_categories</th>\n",
       "      <th>debt</th>\n",
       "      <th>no_debt</th>\n",
       "      <th>purpose_categories_total</th>\n",
       "    </tr>\n",
       "    <tr>\n",
       "      <th>purpose</th>\n",
       "      <th></th>\n",
       "      <th></th>\n",
       "      <th></th>\n",
       "    </tr>\n",
       "  </thead>\n",
       "  <tbody>\n",
       "    <tr>\n",
       "      <td>автомобиль</td>\n",
       "      <td>402</td>\n",
       "      <td>3870</td>\n",
       "      <td>4272</td>\n",
       "    </tr>\n",
       "    <tr>\n",
       "      <td>недвижимость</td>\n",
       "      <td>781</td>\n",
       "      <td>9794</td>\n",
       "      <td>10575</td>\n",
       "    </tr>\n",
       "    <tr>\n",
       "      <td>образование</td>\n",
       "      <td>370</td>\n",
       "      <td>3594</td>\n",
       "      <td>3964</td>\n",
       "    </tr>\n",
       "    <tr>\n",
       "      <td>свадьба</td>\n",
       "      <td>186</td>\n",
       "      <td>2120</td>\n",
       "      <td>2306</td>\n",
       "    </tr>\n",
       "  </tbody>\n",
       "</table>\n",
       "</div>"
      ],
      "text/plain": [
       "debt_categories  debt  no_debt  purpose_categories_total\n",
       "purpose                                                 \n",
       "автомобиль        402     3870                      4272\n",
       "недвижимость      781     9794                     10575\n",
       "образование       370     3594                      3964\n",
       "свадьба           186     2120                      2306"
      ]
     },
     "execution_count": 67,
     "metadata": {},
     "output_type": "execute_result"
    }
   ],
   "source": [
    "df_pivot_purpose['purpose_categories_total'] = df_pivot_purpose['debt'] + df_pivot_purpose['no_debt']\n",
    "df_pivot_purpose"
   ]
  },
  {
   "cell_type": "markdown",
   "id": "445ef1ef",
   "metadata": {},
   "source": [
    "Найдем процент клиентов с имевшейся задолженностью по возврату кредитов в каждой категории и запишем результат в колонку `debt_purpose_categories_share`:"
   ]
  },
  {
   "cell_type": "code",
   "execution_count": 68,
   "id": "0b0739d8",
   "metadata": {},
   "outputs": [
    {
     "data": {
      "text/html": [
       "<div>\n",
       "<style scoped>\n",
       "    .dataframe tbody tr th:only-of-type {\n",
       "        vertical-align: middle;\n",
       "    }\n",
       "\n",
       "    .dataframe tbody tr th {\n",
       "        vertical-align: top;\n",
       "    }\n",
       "\n",
       "    .dataframe thead th {\n",
       "        text-align: right;\n",
       "    }\n",
       "</style>\n",
       "<table border=\"1\" class=\"dataframe\">\n",
       "  <thead>\n",
       "    <tr style=\"text-align: right;\">\n",
       "      <th>debt_categories</th>\n",
       "      <th>debt</th>\n",
       "      <th>no_debt</th>\n",
       "      <th>purpose_categories_total</th>\n",
       "      <th>debt_purpose_categories_share</th>\n",
       "    </tr>\n",
       "    <tr>\n",
       "      <th>purpose</th>\n",
       "      <th></th>\n",
       "      <th></th>\n",
       "      <th></th>\n",
       "      <th></th>\n",
       "    </tr>\n",
       "  </thead>\n",
       "  <tbody>\n",
       "    <tr>\n",
       "      <td>автомобиль</td>\n",
       "      <td>402</td>\n",
       "      <td>3870</td>\n",
       "      <td>4272</td>\n",
       "      <td>9.410112</td>\n",
       "    </tr>\n",
       "    <tr>\n",
       "      <td>недвижимость</td>\n",
       "      <td>781</td>\n",
       "      <td>9794</td>\n",
       "      <td>10575</td>\n",
       "      <td>7.385343</td>\n",
       "    </tr>\n",
       "    <tr>\n",
       "      <td>образование</td>\n",
       "      <td>370</td>\n",
       "      <td>3594</td>\n",
       "      <td>3964</td>\n",
       "      <td>9.334006</td>\n",
       "    </tr>\n",
       "    <tr>\n",
       "      <td>свадьба</td>\n",
       "      <td>186</td>\n",
       "      <td>2120</td>\n",
       "      <td>2306</td>\n",
       "      <td>8.065915</td>\n",
       "    </tr>\n",
       "  </tbody>\n",
       "</table>\n",
       "</div>"
      ],
      "text/plain": [
       "debt_categories  debt  no_debt  purpose_categories_total  \\\n",
       "purpose                                                    \n",
       "автомобиль        402     3870                      4272   \n",
       "недвижимость      781     9794                     10575   \n",
       "образование       370     3594                      3964   \n",
       "свадьба           186     2120                      2306   \n",
       "\n",
       "debt_categories  debt_purpose_categories_share  \n",
       "purpose                                         \n",
       "автомобиль                            9.410112  \n",
       "недвижимость                          7.385343  \n",
       "образование                           9.334006  \n",
       "свадьба                               8.065915  "
      ]
     },
     "execution_count": 68,
     "metadata": {},
     "output_type": "execute_result"
    }
   ],
   "source": [
    "df_pivot_purpose['debt_purpose_categories_share'] = (df_pivot_purpose['debt'] / \n",
    "                                                     df_pivot_purpose['purpose_categories_total']) * 100\n",
    "df_pivot_purpose"
   ]
  },
  {
   "cell_type": "markdown",
   "id": "21a9f747",
   "metadata": {},
   "source": [
    "**Выводы**\n",
    "\n",
    "Задержка по возврату кредитов на автомобиль и образование происходит чаще - в 9,41% и 9,33% случаев соответственно. Риск возникновения просрочек по кредитам на операции с недвижимостью и на свадьбу ниже и составляет 7,39% и 8,07% соответственно."
   ]
  },
  {
   "cell_type": "markdown",
   "id": "69798b3b",
   "metadata": {},
   "source": [
    "## Итоги исследования<a id='conclusion'></a>"
   ]
  },
  {
   "cell_type": "markdown",
   "id": "6a8f638c",
   "metadata": {},
   "source": [
    "В ходе исследования были проверены четыре гипотезы и установлено:\n",
    "\n",
    "1. Наличие ребенка в семье влияет на кредитоспособность клиента. Клиенты с детьми допускают просроченную заложенность чаще, чем бездетные. Так, клиенты с одним ребенком и с двумя и более детьми не возвращают кредиты в срок в 9,28% и 9,35% случаев соответсвенно, а бездетные в 7,67% случаев.\n",
    "\n",
    "Первая гипотеза полностью подтвердилась.\n",
    "\n",
    "2. Семейное положение влияет на кредитоспособность клиента. Холостые клиенты допускают просроченную задолженность чаще - в 8,96% случаев, а женатые в 7,69% случаев.\n",
    "\n",
    "Вторая гипотеза полностью подтвердилась.\n",
    "\n",
    "3. Уровень дохода клиента влияет на возврат кредита в срок. Чаще всего допускают просроченную задолженность клиенты из категорий 'средний класс' (8,80%) и 'выше бедности' (8,57%), реже всего - 'бедные' (6,42%).\n",
    "\n",
    "Третья гипотеза полностью подтвердилась.\n",
    "\n",
    "4. Цель кредита влияет на его возврат в срок. Кредиты на автомобиль и образование возвращают в срок реже, чем кредиты на свадьбу и по операциям с недвижимостью. Так, задержка по возврату кредитов на автомобиль и образование происходит в 9,41% и 9,33% случаев соответственно, а по кредитам на операции с недвижимостью и на свадьбу - в 7,39% и 8,07%.\n",
    "\n",
    "Четвертая гипотеза полностью подтвердилась."
   ]
  }
 ],
 "metadata": {
  "kernelspec": {
   "display_name": "Python 3 (ipykernel)",
   "language": "python",
   "name": "python3"
  },
  "language_info": {
   "codemirror_mode": {
    "name": "ipython",
    "version": 3
   },
   "file_extension": ".py",
   "mimetype": "text/x-python",
   "name": "python",
   "nbconvert_exporter": "python",
   "pygments_lexer": "ipython3",
   "version": "3.9.7"
  },
  "toc": {
   "base_numbering": 1,
   "nav_menu": {},
   "number_sections": true,
   "sideBar": true,
   "skip_h1_title": true,
   "title_cell": "Table of Contents",
   "title_sidebar": "Contents",
   "toc_cell": true,
   "toc_position": {},
   "toc_section_display": true,
   "toc_window_display": false
  }
 },
 "nbformat": 4,
 "nbformat_minor": 5
}
